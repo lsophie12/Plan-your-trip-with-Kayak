{
 "cells": [
  {
   "cell_type": "markdown",
   "metadata": {},
   "source": [
    "# Projet : Plan your trip with Kayak"
   ]
  },
  {
   "cell_type": "markdown",
   "metadata": {},
   "source": [
    "<img src=\"img/kayak.png\" width=\"900\">"
   ]
  },
  {
   "cell_type": "markdown",
   "metadata": {},
   "source": [
    "L'équipe marketing a besoin d'aide pour un nouveau projet. Après avoir effectué des recherches auprès des utilisateurs, l'équipe a découvert que 70 % de leurs utilisateurs qui planifient un voyage aimeraient avoir plus d'informations sur la destination vers laquelle ils se rendent.\n",
    "\n",
    "L'équipe marketing de Kayak souhaite donc créer une application qui recommandera aux gens où planifier leurs prochaines vacances. L'application devrait être basée sur des données réelles concernant la météo et les hôtels de la région.\n",
    " \n",
    "L'application devrait alors être en mesure de recommander les meilleures destinations et hôtels en fonction des variables ci-dessus à tout moment.\n",
    "\n",
    "Comme le projet vient juste de démarrer, l'équipe ne dispose d'aucune donnée pouvant être utilisée pour créer cette application. Par conséquent, voici les tâches à réaliser :\n",
    "\n",
    "- Extraire les données des destinations\n",
    "- Obtenir des données météorologiques pour chaque destination\n",
    "- Obtenir des informations sur les hôtels de chaque destination\n",
    "- Stocker toutes les informations ci-dessus dans un data lake\n",
    "- Extraire, transformer et charger les données nettoyées du data lake vers un data warehouse\n",
    "- Deux cartes avec un Top 5 des destinations et un Top 20 des hôtels de la région"
   ]
  },
  {
   "cell_type": "markdown",
   "metadata": {},
   "source": [
    "### Import des bibliothèques"
   ]
  },
  {
   "cell_type": "code",
   "execution_count": 3,
   "metadata": {},
   "outputs": [],
   "source": [
    "import pandas as pd\n",
    "import requests\n",
    "import plotly_express as px\n",
    "import plotly.graph_objects as go\n",
    "import boto3\n",
    "from sqlalchemy import create_engine, text\n",
    "from keys import API_key, aws_access_key_id, aws_secret_access_key, PASSWORD"
   ]
  },
  {
   "cell_type": "markdown",
   "metadata": {},
   "source": [
    "L'équipe marketing souhaite d'abord se concentrer sur les meilleures destinations à visiter en France.  \n",
    "Selon One Week In.com, voici les 35 meilleures destinations à visiter en France :"
   ]
  },
  {
   "cell_type": "code",
   "execution_count": 6,
   "metadata": {},
   "outputs": [],
   "source": [
    "destinations = [\"Mont Saint Michel\",\n",
    "                    \"St Malo\",\n",
    "                    \"Bayeux\",\n",
    "                    \"Le Havre\",\n",
    "                    \"Rouen\",\n",
    "                    \"Paris\",\n",
    "                    \"Amiens\",\n",
    "                    \"Lille\",\n",
    "                    \"Strasbourg\",\n",
    "                    \"Chateau du Haut Koenigsbourg\",\n",
    "                    \"Colmar\",\n",
    "                    \"Eguisheim\",\n",
    "                    \"Besancon\",\n",
    "                    \"Dijon\",\n",
    "                    \"Annecy\",\n",
    "                    \"Grenoble\",\n",
    "                    \"Lyon\",\n",
    "                    \"Gorges du Verdon\",\n",
    "                    \"Bormes les Mimosas\",\n",
    "                    \"Cassis\",\n",
    "                    \"Marseille\",\n",
    "                    \"Aix en Provence\",\n",
    "                    \"Avignon\",\n",
    "                    \"Uzes\",\n",
    "                    \"Nimes\",\n",
    "                    \"Aigues Mortes\",\n",
    "                    \"Saintes Maries de la mer\",\n",
    "                    \"Collioure\",\n",
    "                    \"Carcassonne\",\n",
    "                    \"Ariege\",\n",
    "                    \"Toulouse\",\n",
    "                    \"Montauban\",\n",
    "                    \"Biarritz\",\n",
    "                    \"Bayonne\",\n",
    "                    \"La Rochelle\"]"
   ]
  },
  {
   "cell_type": "markdown",
   "metadata": {},
   "source": [
    "## Coordonnées GPS des destinations avec l'API Nominatim\n"
   ]
  },
  {
   "cell_type": "code",
   "execution_count": null,
   "metadata": {},
   "outputs": [
    {
     "data": {
      "text/html": [
       "<div>\n",
       "<style scoped>\n",
       "    .dataframe tbody tr th:only-of-type {\n",
       "        vertical-align: middle;\n",
       "    }\n",
       "\n",
       "    .dataframe tbody tr th {\n",
       "        vertical-align: top;\n",
       "    }\n",
       "\n",
       "    .dataframe thead th {\n",
       "        text-align: right;\n",
       "    }\n",
       "</style>\n",
       "<table border=\"1\" class=\"dataframe\">\n",
       "  <thead>\n",
       "    <tr style=\"text-align: right;\">\n",
       "      <th></th>\n",
       "      <th>Id</th>\n",
       "      <th>Destination</th>\n",
       "      <th>Latitude</th>\n",
       "      <th>Longitude</th>\n",
       "    </tr>\n",
       "  </thead>\n",
       "  <tbody>\n",
       "    <tr>\n",
       "      <th>0</th>\n",
       "      <td>0</td>\n",
       "      <td>Mont Saint Michel</td>\n",
       "      <td>48.635954</td>\n",
       "      <td>-1.511460</td>\n",
       "    </tr>\n",
       "    <tr>\n",
       "      <th>1</th>\n",
       "      <td>1</td>\n",
       "      <td>St Malo</td>\n",
       "      <td>48.649518</td>\n",
       "      <td>-2.026041</td>\n",
       "    </tr>\n",
       "    <tr>\n",
       "      <th>2</th>\n",
       "      <td>2</td>\n",
       "      <td>Bayeux</td>\n",
       "      <td>49.276462</td>\n",
       "      <td>-0.702474</td>\n",
       "    </tr>\n",
       "    <tr>\n",
       "      <th>3</th>\n",
       "      <td>3</td>\n",
       "      <td>Le Havre</td>\n",
       "      <td>49.493898</td>\n",
       "      <td>0.107973</td>\n",
       "    </tr>\n",
       "    <tr>\n",
       "      <th>4</th>\n",
       "      <td>4</td>\n",
       "      <td>Rouen</td>\n",
       "      <td>49.440459</td>\n",
       "      <td>1.093966</td>\n",
       "    </tr>\n",
       "    <tr>\n",
       "      <th>5</th>\n",
       "      <td>5</td>\n",
       "      <td>Paris</td>\n",
       "      <td>48.853495</td>\n",
       "      <td>2.348391</td>\n",
       "    </tr>\n",
       "    <tr>\n",
       "      <th>6</th>\n",
       "      <td>6</td>\n",
       "      <td>Amiens</td>\n",
       "      <td>49.894171</td>\n",
       "      <td>2.295695</td>\n",
       "    </tr>\n",
       "    <tr>\n",
       "      <th>7</th>\n",
       "      <td>7</td>\n",
       "      <td>Lille</td>\n",
       "      <td>50.636565</td>\n",
       "      <td>3.063528</td>\n",
       "    </tr>\n",
       "    <tr>\n",
       "      <th>8</th>\n",
       "      <td>8</td>\n",
       "      <td>Strasbourg</td>\n",
       "      <td>48.584614</td>\n",
       "      <td>7.750713</td>\n",
       "    </tr>\n",
       "    <tr>\n",
       "      <th>9</th>\n",
       "      <td>9</td>\n",
       "      <td>Chateau du Haut Koenigsbourg</td>\n",
       "      <td>48.249411</td>\n",
       "      <td>7.344320</td>\n",
       "    </tr>\n",
       "    <tr>\n",
       "      <th>10</th>\n",
       "      <td>10</td>\n",
       "      <td>Colmar</td>\n",
       "      <td>48.077752</td>\n",
       "      <td>7.357964</td>\n",
       "    </tr>\n",
       "    <tr>\n",
       "      <th>11</th>\n",
       "      <td>11</td>\n",
       "      <td>Eguisheim</td>\n",
       "      <td>48.044797</td>\n",
       "      <td>7.307962</td>\n",
       "    </tr>\n",
       "    <tr>\n",
       "      <th>12</th>\n",
       "      <td>12</td>\n",
       "      <td>Besancon</td>\n",
       "      <td>47.238022</td>\n",
       "      <td>6.024362</td>\n",
       "    </tr>\n",
       "    <tr>\n",
       "      <th>13</th>\n",
       "      <td>13</td>\n",
       "      <td>Dijon</td>\n",
       "      <td>47.321581</td>\n",
       "      <td>5.041470</td>\n",
       "    </tr>\n",
       "    <tr>\n",
       "      <th>14</th>\n",
       "      <td>14</td>\n",
       "      <td>Annecy</td>\n",
       "      <td>45.899235</td>\n",
       "      <td>6.128885</td>\n",
       "    </tr>\n",
       "    <tr>\n",
       "      <th>15</th>\n",
       "      <td>15</td>\n",
       "      <td>Grenoble</td>\n",
       "      <td>45.187560</td>\n",
       "      <td>5.735782</td>\n",
       "    </tr>\n",
       "    <tr>\n",
       "      <th>16</th>\n",
       "      <td>16</td>\n",
       "      <td>Lyon</td>\n",
       "      <td>45.757814</td>\n",
       "      <td>4.832011</td>\n",
       "    </tr>\n",
       "    <tr>\n",
       "      <th>17</th>\n",
       "      <td>17</td>\n",
       "      <td>Gorges du Verdon</td>\n",
       "      <td>43.749656</td>\n",
       "      <td>6.328562</td>\n",
       "    </tr>\n",
       "    <tr>\n",
       "      <th>18</th>\n",
       "      <td>18</td>\n",
       "      <td>Bormes les Mimosas</td>\n",
       "      <td>43.150697</td>\n",
       "      <td>6.341928</td>\n",
       "    </tr>\n",
       "    <tr>\n",
       "      <th>19</th>\n",
       "      <td>19</td>\n",
       "      <td>Cassis</td>\n",
       "      <td>43.214036</td>\n",
       "      <td>5.539632</td>\n",
       "    </tr>\n",
       "    <tr>\n",
       "      <th>20</th>\n",
       "      <td>20</td>\n",
       "      <td>Marseille</td>\n",
       "      <td>43.296174</td>\n",
       "      <td>5.369953</td>\n",
       "    </tr>\n",
       "    <tr>\n",
       "      <th>21</th>\n",
       "      <td>21</td>\n",
       "      <td>Aix en Provence</td>\n",
       "      <td>43.529842</td>\n",
       "      <td>5.447474</td>\n",
       "    </tr>\n",
       "    <tr>\n",
       "      <th>22</th>\n",
       "      <td>22</td>\n",
       "      <td>Avignon</td>\n",
       "      <td>43.949249</td>\n",
       "      <td>4.805901</td>\n",
       "    </tr>\n",
       "    <tr>\n",
       "      <th>23</th>\n",
       "      <td>23</td>\n",
       "      <td>Uzes</td>\n",
       "      <td>44.012128</td>\n",
       "      <td>4.419672</td>\n",
       "    </tr>\n",
       "    <tr>\n",
       "      <th>24</th>\n",
       "      <td>24</td>\n",
       "      <td>Nimes</td>\n",
       "      <td>43.837425</td>\n",
       "      <td>4.360069</td>\n",
       "    </tr>\n",
       "    <tr>\n",
       "      <th>25</th>\n",
       "      <td>25</td>\n",
       "      <td>Aigues Mortes</td>\n",
       "      <td>43.566152</td>\n",
       "      <td>4.191540</td>\n",
       "    </tr>\n",
       "    <tr>\n",
       "      <th>26</th>\n",
       "      <td>26</td>\n",
       "      <td>Saintes Maries de la mer</td>\n",
       "      <td>43.451592</td>\n",
       "      <td>4.427720</td>\n",
       "    </tr>\n",
       "    <tr>\n",
       "      <th>27</th>\n",
       "      <td>27</td>\n",
       "      <td>Collioure</td>\n",
       "      <td>42.525050</td>\n",
       "      <td>3.083155</td>\n",
       "    </tr>\n",
       "    <tr>\n",
       "      <th>28</th>\n",
       "      <td>28</td>\n",
       "      <td>Carcassonne</td>\n",
       "      <td>43.213036</td>\n",
       "      <td>2.349107</td>\n",
       "    </tr>\n",
       "    <tr>\n",
       "      <th>29</th>\n",
       "      <td>29</td>\n",
       "      <td>Ariege</td>\n",
       "      <td>42.945537</td>\n",
       "      <td>1.406554</td>\n",
       "    </tr>\n",
       "    <tr>\n",
       "      <th>30</th>\n",
       "      <td>30</td>\n",
       "      <td>Toulouse</td>\n",
       "      <td>43.604462</td>\n",
       "      <td>1.444247</td>\n",
       "    </tr>\n",
       "    <tr>\n",
       "      <th>31</th>\n",
       "      <td>31</td>\n",
       "      <td>Montauban</td>\n",
       "      <td>44.017584</td>\n",
       "      <td>1.354999</td>\n",
       "    </tr>\n",
       "    <tr>\n",
       "      <th>32</th>\n",
       "      <td>32</td>\n",
       "      <td>Biarritz</td>\n",
       "      <td>43.483252</td>\n",
       "      <td>-1.559278</td>\n",
       "    </tr>\n",
       "    <tr>\n",
       "      <th>33</th>\n",
       "      <td>33</td>\n",
       "      <td>Bayonne</td>\n",
       "      <td>43.494514</td>\n",
       "      <td>-1.473666</td>\n",
       "    </tr>\n",
       "    <tr>\n",
       "      <th>34</th>\n",
       "      <td>34</td>\n",
       "      <td>La Rochelle</td>\n",
       "      <td>46.159732</td>\n",
       "      <td>-1.151595</td>\n",
       "    </tr>\n",
       "  </tbody>\n",
       "</table>\n",
       "</div>"
      ],
      "text/plain": [
       "    Id                   Destination   Latitude  Longitude\n",
       "0    0             Mont Saint Michel  48.635954  -1.511460\n",
       "1    1                       St Malo  48.649518  -2.026041\n",
       "2    2                        Bayeux  49.276462  -0.702474\n",
       "3    3                      Le Havre  49.493898   0.107973\n",
       "4    4                         Rouen  49.440459   1.093966\n",
       "5    5                         Paris  48.853495   2.348391\n",
       "6    6                        Amiens  49.894171   2.295695\n",
       "7    7                         Lille  50.636565   3.063528\n",
       "8    8                    Strasbourg  48.584614   7.750713\n",
       "9    9  Chateau du Haut Koenigsbourg  48.249411   7.344320\n",
       "10  10                        Colmar  48.077752   7.357964\n",
       "11  11                     Eguisheim  48.044797   7.307962\n",
       "12  12                      Besancon  47.238022   6.024362\n",
       "13  13                         Dijon  47.321581   5.041470\n",
       "14  14                        Annecy  45.899235   6.128885\n",
       "15  15                      Grenoble  45.187560   5.735782\n",
       "16  16                          Lyon  45.757814   4.832011\n",
       "17  17              Gorges du Verdon  43.749656   6.328562\n",
       "18  18            Bormes les Mimosas  43.150697   6.341928\n",
       "19  19                        Cassis  43.214036   5.539632\n",
       "20  20                     Marseille  43.296174   5.369953\n",
       "21  21               Aix en Provence  43.529842   5.447474\n",
       "22  22                       Avignon  43.949249   4.805901\n",
       "23  23                          Uzes  44.012128   4.419672\n",
       "24  24                         Nimes  43.837425   4.360069\n",
       "25  25                 Aigues Mortes  43.566152   4.191540\n",
       "26  26      Saintes Maries de la mer  43.451592   4.427720\n",
       "27  27                     Collioure  42.525050   3.083155\n",
       "28  28                   Carcassonne  43.213036   2.349107\n",
       "29  29                        Ariege  42.945537   1.406554\n",
       "30  30                      Toulouse  43.604462   1.444247\n",
       "31  31                     Montauban  44.017584   1.354999\n",
       "32  32                      Biarritz  43.483252  -1.559278\n",
       "33  33                       Bayonne  43.494514  -1.473666\n",
       "34  34                   La Rochelle  46.159732  -1.151595"
      ]
     },
     "execution_count": 11,
     "metadata": {},
     "output_type": "execute_result"
    }
   ],
   "source": [
    "# URL de l'API Nominatim\n",
    "url = \"https://nominatim.openstreetmap.org/search\"\n",
    "\n",
    "# En-têtes de la requête\n",
    "headers = {\n",
    "    'User-Agent': 'Chrome/130.0'\n",
    "}\n",
    "\n",
    "# Liste pour stocker les données\n",
    "data_list = []\n",
    "\n",
    "# Boucle sur chaque destination\n",
    "for destination in destinations:\n",
    "    params = {\n",
    "        \"q\": destination,  \n",
    "        \"format\": \"json\",  \n",
    "        'countrycodes': 'FR', \n",
    "        \"limit\": 1  \n",
    "    }\n",
    "\n",
    "    # Requête vers l'API\n",
    "    response = requests.get(url, params=params, headers=headers) \n",
    "\n",
    "    if response.status_code == 200:\n",
    "        data = response.json()  \n",
    "        if data: \n",
    "            lat = float(data[0][\"lat\"])\n",
    "            lon = float(data[0][\"lon\"])\n",
    "            data_list.append({\"Destination\":destination, \"Latitude\": lat, \"Longitude\": lon})\n",
    "        else:\n",
    "            print(f\"Aucun résultat trouvé pour {destination}\")\n",
    "    else:\n",
    "        print(f\"Erreur {response.status_code} pour {destination}\")\n",
    "\n",
    "# Création d'un DataFrame \n",
    "df = pd.DataFrame(data_list).reset_index(names=\"Id\")\n",
    "df\n"
   ]
  },
  {
   "cell_type": "markdown",
   "metadata": {},
   "source": [
    "##  Météo du jour et des 7 suivants avec OpenWeatherMap"
   ]
  },
  {
   "cell_type": "code",
   "execution_count": 12,
   "metadata": {},
   "outputs": [
    {
     "data": {
      "text/html": [
       "<div>\n",
       "<style scoped>\n",
       "    .dataframe tbody tr th:only-of-type {\n",
       "        vertical-align: middle;\n",
       "    }\n",
       "\n",
       "    .dataframe tbody tr th {\n",
       "        vertical-align: top;\n",
       "    }\n",
       "\n",
       "    .dataframe thead th {\n",
       "        text-align: right;\n",
       "    }\n",
       "</style>\n",
       "<table border=\"1\" class=\"dataframe\">\n",
       "  <thead>\n",
       "    <tr style=\"text-align: right;\">\n",
       "      <th></th>\n",
       "      <th>Id</th>\n",
       "      <th>Destination</th>\n",
       "      <th>Latitude</th>\n",
       "      <th>Longitude</th>\n",
       "      <th>Temp_J0</th>\n",
       "      <th>Rain_J0</th>\n",
       "      <th>Temp_J1</th>\n",
       "      <th>Rain_J1</th>\n",
       "      <th>Temp_J2</th>\n",
       "      <th>Rain_J2</th>\n",
       "      <th>Temp_J3</th>\n",
       "      <th>Rain_J3</th>\n",
       "      <th>Temp_J4</th>\n",
       "      <th>Rain_J4</th>\n",
       "      <th>Temp_J5</th>\n",
       "      <th>Rain_J5</th>\n",
       "      <th>Temp_J6</th>\n",
       "      <th>Rain_J6</th>\n",
       "      <th>Temp_J7</th>\n",
       "      <th>Rain_J7</th>\n",
       "    </tr>\n",
       "  </thead>\n",
       "  <tbody>\n",
       "    <tr>\n",
       "      <th>0</th>\n",
       "      <td>0</td>\n",
       "      <td>Mont Saint Michel</td>\n",
       "      <td>48.635954</td>\n",
       "      <td>-1.511460</td>\n",
       "      <td>8.78</td>\n",
       "      <td>0.00</td>\n",
       "      <td>9.03</td>\n",
       "      <td>0.00</td>\n",
       "      <td>10.08</td>\n",
       "      <td>0.00</td>\n",
       "      <td>11.14</td>\n",
       "      <td>0.00</td>\n",
       "      <td>13.47</td>\n",
       "      <td>0.0</td>\n",
       "      <td>13.36</td>\n",
       "      <td>0.00</td>\n",
       "      <td>12.46</td>\n",
       "      <td>0.00</td>\n",
       "      <td>15.48</td>\n",
       "      <td>0.00</td>\n",
       "    </tr>\n",
       "    <tr>\n",
       "      <th>1</th>\n",
       "      <td>1</td>\n",
       "      <td>St Malo</td>\n",
       "      <td>48.649518</td>\n",
       "      <td>-2.026041</td>\n",
       "      <td>8.08</td>\n",
       "      <td>0.00</td>\n",
       "      <td>7.79</td>\n",
       "      <td>0.00</td>\n",
       "      <td>8.30</td>\n",
       "      <td>0.00</td>\n",
       "      <td>8.95</td>\n",
       "      <td>0.00</td>\n",
       "      <td>11.16</td>\n",
       "      <td>0.0</td>\n",
       "      <td>12.92</td>\n",
       "      <td>0.00</td>\n",
       "      <td>13.33</td>\n",
       "      <td>0.00</td>\n",
       "      <td>14.56</td>\n",
       "      <td>0.27</td>\n",
       "    </tr>\n",
       "    <tr>\n",
       "      <th>2</th>\n",
       "      <td>2</td>\n",
       "      <td>Bayeux</td>\n",
       "      <td>49.276462</td>\n",
       "      <td>-0.702474</td>\n",
       "      <td>7.45</td>\n",
       "      <td>0.00</td>\n",
       "      <td>7.29</td>\n",
       "      <td>0.00</td>\n",
       "      <td>8.50</td>\n",
       "      <td>0.00</td>\n",
       "      <td>9.28</td>\n",
       "      <td>0.00</td>\n",
       "      <td>12.76</td>\n",
       "      <td>0.0</td>\n",
       "      <td>13.99</td>\n",
       "      <td>0.00</td>\n",
       "      <td>15.07</td>\n",
       "      <td>0.00</td>\n",
       "      <td>15.74</td>\n",
       "      <td>0.00</td>\n",
       "    </tr>\n",
       "    <tr>\n",
       "      <th>3</th>\n",
       "      <td>3</td>\n",
       "      <td>Le Havre</td>\n",
       "      <td>49.493898</td>\n",
       "      <td>0.107973</td>\n",
       "      <td>7.94</td>\n",
       "      <td>0.00</td>\n",
       "      <td>8.31</td>\n",
       "      <td>0.00</td>\n",
       "      <td>8.76</td>\n",
       "      <td>0.00</td>\n",
       "      <td>9.56</td>\n",
       "      <td>0.00</td>\n",
       "      <td>11.17</td>\n",
       "      <td>0.0</td>\n",
       "      <td>12.29</td>\n",
       "      <td>0.00</td>\n",
       "      <td>11.57</td>\n",
       "      <td>0.00</td>\n",
       "      <td>13.08</td>\n",
       "      <td>0.00</td>\n",
       "    </tr>\n",
       "    <tr>\n",
       "      <th>4</th>\n",
       "      <td>4</td>\n",
       "      <td>Rouen</td>\n",
       "      <td>49.440459</td>\n",
       "      <td>1.093966</td>\n",
       "      <td>7.92</td>\n",
       "      <td>0.00</td>\n",
       "      <td>9.06</td>\n",
       "      <td>0.00</td>\n",
       "      <td>9.77</td>\n",
       "      <td>0.00</td>\n",
       "      <td>11.23</td>\n",
       "      <td>0.00</td>\n",
       "      <td>13.29</td>\n",
       "      <td>0.0</td>\n",
       "      <td>14.74</td>\n",
       "      <td>0.00</td>\n",
       "      <td>14.73</td>\n",
       "      <td>0.00</td>\n",
       "      <td>15.82</td>\n",
       "      <td>0.00</td>\n",
       "    </tr>\n",
       "    <tr>\n",
       "      <th>5</th>\n",
       "      <td>5</td>\n",
       "      <td>Paris</td>\n",
       "      <td>48.853495</td>\n",
       "      <td>2.348391</td>\n",
       "      <td>8.46</td>\n",
       "      <td>0.00</td>\n",
       "      <td>9.37</td>\n",
       "      <td>0.00</td>\n",
       "      <td>9.72</td>\n",
       "      <td>0.00</td>\n",
       "      <td>11.58</td>\n",
       "      <td>0.00</td>\n",
       "      <td>13.25</td>\n",
       "      <td>0.0</td>\n",
       "      <td>15.35</td>\n",
       "      <td>0.00</td>\n",
       "      <td>14.73</td>\n",
       "      <td>0.00</td>\n",
       "      <td>15.27</td>\n",
       "      <td>0.00</td>\n",
       "    </tr>\n",
       "    <tr>\n",
       "      <th>6</th>\n",
       "      <td>6</td>\n",
       "      <td>Amiens</td>\n",
       "      <td>49.894171</td>\n",
       "      <td>2.295695</td>\n",
       "      <td>7.83</td>\n",
       "      <td>0.00</td>\n",
       "      <td>8.20</td>\n",
       "      <td>0.00</td>\n",
       "      <td>9.14</td>\n",
       "      <td>0.00</td>\n",
       "      <td>10.66</td>\n",
       "      <td>0.00</td>\n",
       "      <td>12.87</td>\n",
       "      <td>0.0</td>\n",
       "      <td>14.44</td>\n",
       "      <td>0.00</td>\n",
       "      <td>15.07</td>\n",
       "      <td>0.00</td>\n",
       "      <td>15.49</td>\n",
       "      <td>0.00</td>\n",
       "    </tr>\n",
       "    <tr>\n",
       "      <th>7</th>\n",
       "      <td>7</td>\n",
       "      <td>Lille</td>\n",
       "      <td>50.636565</td>\n",
       "      <td>3.063528</td>\n",
       "      <td>7.68</td>\n",
       "      <td>0.00</td>\n",
       "      <td>8.31</td>\n",
       "      <td>0.00</td>\n",
       "      <td>8.03</td>\n",
       "      <td>0.00</td>\n",
       "      <td>9.24</td>\n",
       "      <td>0.00</td>\n",
       "      <td>12.71</td>\n",
       "      <td>0.0</td>\n",
       "      <td>13.51</td>\n",
       "      <td>0.00</td>\n",
       "      <td>14.96</td>\n",
       "      <td>0.00</td>\n",
       "      <td>15.56</td>\n",
       "      <td>0.00</td>\n",
       "    </tr>\n",
       "    <tr>\n",
       "      <th>8</th>\n",
       "      <td>8</td>\n",
       "      <td>Strasbourg</td>\n",
       "      <td>48.584614</td>\n",
       "      <td>7.750713</td>\n",
       "      <td>7.34</td>\n",
       "      <td>0.00</td>\n",
       "      <td>7.79</td>\n",
       "      <td>0.00</td>\n",
       "      <td>7.44</td>\n",
       "      <td>0.00</td>\n",
       "      <td>8.43</td>\n",
       "      <td>0.00</td>\n",
       "      <td>10.91</td>\n",
       "      <td>0.0</td>\n",
       "      <td>12.53</td>\n",
       "      <td>0.00</td>\n",
       "      <td>13.39</td>\n",
       "      <td>0.00</td>\n",
       "      <td>14.25</td>\n",
       "      <td>0.00</td>\n",
       "    </tr>\n",
       "    <tr>\n",
       "      <th>9</th>\n",
       "      <td>9</td>\n",
       "      <td>Chateau du Haut Koenigsbourg</td>\n",
       "      <td>48.249411</td>\n",
       "      <td>7.344320</td>\n",
       "      <td>3.72</td>\n",
       "      <td>0.00</td>\n",
       "      <td>4.22</td>\n",
       "      <td>0.00</td>\n",
       "      <td>6.42</td>\n",
       "      <td>0.00</td>\n",
       "      <td>7.56</td>\n",
       "      <td>0.00</td>\n",
       "      <td>10.05</td>\n",
       "      <td>0.0</td>\n",
       "      <td>12.22</td>\n",
       "      <td>0.00</td>\n",
       "      <td>11.95</td>\n",
       "      <td>0.00</td>\n",
       "      <td>12.81</td>\n",
       "      <td>0.00</td>\n",
       "    </tr>\n",
       "    <tr>\n",
       "      <th>10</th>\n",
       "      <td>10</td>\n",
       "      <td>Colmar</td>\n",
       "      <td>48.077752</td>\n",
       "      <td>7.357964</td>\n",
       "      <td>6.52</td>\n",
       "      <td>0.00</td>\n",
       "      <td>6.79</td>\n",
       "      <td>0.00</td>\n",
       "      <td>8.76</td>\n",
       "      <td>0.00</td>\n",
       "      <td>10.02</td>\n",
       "      <td>0.00</td>\n",
       "      <td>12.49</td>\n",
       "      <td>0.0</td>\n",
       "      <td>14.31</td>\n",
       "      <td>0.00</td>\n",
       "      <td>14.08</td>\n",
       "      <td>0.00</td>\n",
       "      <td>15.15</td>\n",
       "      <td>0.00</td>\n",
       "    </tr>\n",
       "    <tr>\n",
       "      <th>11</th>\n",
       "      <td>11</td>\n",
       "      <td>Eguisheim</td>\n",
       "      <td>48.044797</td>\n",
       "      <td>7.307962</td>\n",
       "      <td>6.04</td>\n",
       "      <td>0.00</td>\n",
       "      <td>6.30</td>\n",
       "      <td>0.00</td>\n",
       "      <td>8.61</td>\n",
       "      <td>0.00</td>\n",
       "      <td>9.87</td>\n",
       "      <td>0.00</td>\n",
       "      <td>12.32</td>\n",
       "      <td>0.0</td>\n",
       "      <td>14.13</td>\n",
       "      <td>0.00</td>\n",
       "      <td>13.83</td>\n",
       "      <td>0.00</td>\n",
       "      <td>14.91</td>\n",
       "      <td>0.00</td>\n",
       "    </tr>\n",
       "    <tr>\n",
       "      <th>12</th>\n",
       "      <td>12</td>\n",
       "      <td>Besancon</td>\n",
       "      <td>47.238022</td>\n",
       "      <td>6.024362</td>\n",
       "      <td>6.56</td>\n",
       "      <td>0.00</td>\n",
       "      <td>7.85</td>\n",
       "      <td>0.00</td>\n",
       "      <td>10.33</td>\n",
       "      <td>0.00</td>\n",
       "      <td>11.72</td>\n",
       "      <td>0.00</td>\n",
       "      <td>13.39</td>\n",
       "      <td>0.0</td>\n",
       "      <td>15.24</td>\n",
       "      <td>0.00</td>\n",
       "      <td>15.26</td>\n",
       "      <td>0.00</td>\n",
       "      <td>16.18</td>\n",
       "      <td>0.00</td>\n",
       "    </tr>\n",
       "    <tr>\n",
       "      <th>13</th>\n",
       "      <td>13</td>\n",
       "      <td>Dijon</td>\n",
       "      <td>47.321581</td>\n",
       "      <td>5.041470</td>\n",
       "      <td>6.66</td>\n",
       "      <td>0.00</td>\n",
       "      <td>6.50</td>\n",
       "      <td>0.00</td>\n",
       "      <td>8.78</td>\n",
       "      <td>0.00</td>\n",
       "      <td>10.01</td>\n",
       "      <td>0.00</td>\n",
       "      <td>11.38</td>\n",
       "      <td>0.0</td>\n",
       "      <td>13.42</td>\n",
       "      <td>0.00</td>\n",
       "      <td>14.02</td>\n",
       "      <td>0.00</td>\n",
       "      <td>14.47</td>\n",
       "      <td>0.00</td>\n",
       "    </tr>\n",
       "    <tr>\n",
       "      <th>14</th>\n",
       "      <td>14</td>\n",
       "      <td>Annecy</td>\n",
       "      <td>45.899235</td>\n",
       "      <td>6.128885</td>\n",
       "      <td>6.19</td>\n",
       "      <td>0.00</td>\n",
       "      <td>8.03</td>\n",
       "      <td>0.00</td>\n",
       "      <td>11.99</td>\n",
       "      <td>0.00</td>\n",
       "      <td>11.46</td>\n",
       "      <td>0.00</td>\n",
       "      <td>14.43</td>\n",
       "      <td>0.0</td>\n",
       "      <td>15.07</td>\n",
       "      <td>0.00</td>\n",
       "      <td>14.89</td>\n",
       "      <td>0.00</td>\n",
       "      <td>15.41</td>\n",
       "      <td>0.00</td>\n",
       "    </tr>\n",
       "    <tr>\n",
       "      <th>15</th>\n",
       "      <td>15</td>\n",
       "      <td>Grenoble</td>\n",
       "      <td>45.187560</td>\n",
       "      <td>5.735782</td>\n",
       "      <td>9.52</td>\n",
       "      <td>0.00</td>\n",
       "      <td>12.79</td>\n",
       "      <td>0.00</td>\n",
       "      <td>14.92</td>\n",
       "      <td>0.00</td>\n",
       "      <td>14.58</td>\n",
       "      <td>0.00</td>\n",
       "      <td>17.86</td>\n",
       "      <td>0.0</td>\n",
       "      <td>17.45</td>\n",
       "      <td>0.00</td>\n",
       "      <td>17.43</td>\n",
       "      <td>0.00</td>\n",
       "      <td>18.41</td>\n",
       "      <td>0.00</td>\n",
       "    </tr>\n",
       "    <tr>\n",
       "      <th>16</th>\n",
       "      <td>16</td>\n",
       "      <td>Lyon</td>\n",
       "      <td>45.757814</td>\n",
       "      <td>4.832011</td>\n",
       "      <td>4.86</td>\n",
       "      <td>0.00</td>\n",
       "      <td>7.31</td>\n",
       "      <td>0.00</td>\n",
       "      <td>10.12</td>\n",
       "      <td>0.00</td>\n",
       "      <td>10.68</td>\n",
       "      <td>0.00</td>\n",
       "      <td>13.96</td>\n",
       "      <td>0.0</td>\n",
       "      <td>15.24</td>\n",
       "      <td>0.00</td>\n",
       "      <td>15.66</td>\n",
       "      <td>0.00</td>\n",
       "      <td>16.19</td>\n",
       "      <td>0.00</td>\n",
       "    </tr>\n",
       "    <tr>\n",
       "      <th>17</th>\n",
       "      <td>17</td>\n",
       "      <td>Gorges du Verdon</td>\n",
       "      <td>43.749656</td>\n",
       "      <td>6.328562</td>\n",
       "      <td>8.15</td>\n",
       "      <td>1.17</td>\n",
       "      <td>10.31</td>\n",
       "      <td>0.00</td>\n",
       "      <td>11.23</td>\n",
       "      <td>0.00</td>\n",
       "      <td>10.83</td>\n",
       "      <td>0.00</td>\n",
       "      <td>12.22</td>\n",
       "      <td>0.0</td>\n",
       "      <td>11.79</td>\n",
       "      <td>0.00</td>\n",
       "      <td>11.52</td>\n",
       "      <td>0.00</td>\n",
       "      <td>11.82</td>\n",
       "      <td>0.00</td>\n",
       "    </tr>\n",
       "    <tr>\n",
       "      <th>18</th>\n",
       "      <td>18</td>\n",
       "      <td>Bormes les Mimosas</td>\n",
       "      <td>43.150697</td>\n",
       "      <td>6.341928</td>\n",
       "      <td>11.44</td>\n",
       "      <td>1.24</td>\n",
       "      <td>12.97</td>\n",
       "      <td>0.00</td>\n",
       "      <td>13.03</td>\n",
       "      <td>0.00</td>\n",
       "      <td>13.00</td>\n",
       "      <td>0.00</td>\n",
       "      <td>13.57</td>\n",
       "      <td>0.0</td>\n",
       "      <td>13.56</td>\n",
       "      <td>0.00</td>\n",
       "      <td>13.08</td>\n",
       "      <td>0.00</td>\n",
       "      <td>13.33</td>\n",
       "      <td>0.00</td>\n",
       "    </tr>\n",
       "    <tr>\n",
       "      <th>19</th>\n",
       "      <td>19</td>\n",
       "      <td>Cassis</td>\n",
       "      <td>43.214036</td>\n",
       "      <td>5.539632</td>\n",
       "      <td>12.67</td>\n",
       "      <td>2.93</td>\n",
       "      <td>13.45</td>\n",
       "      <td>0.00</td>\n",
       "      <td>13.33</td>\n",
       "      <td>0.00</td>\n",
       "      <td>14.10</td>\n",
       "      <td>0.00</td>\n",
       "      <td>15.17</td>\n",
       "      <td>0.0</td>\n",
       "      <td>14.95</td>\n",
       "      <td>0.00</td>\n",
       "      <td>14.60</td>\n",
       "      <td>0.00</td>\n",
       "      <td>14.56</td>\n",
       "      <td>0.00</td>\n",
       "    </tr>\n",
       "    <tr>\n",
       "      <th>20</th>\n",
       "      <td>20</td>\n",
       "      <td>Marseille</td>\n",
       "      <td>43.296174</td>\n",
       "      <td>5.369953</td>\n",
       "      <td>13.91</td>\n",
       "      <td>5.83</td>\n",
       "      <td>13.58</td>\n",
       "      <td>0.00</td>\n",
       "      <td>13.69</td>\n",
       "      <td>0.00</td>\n",
       "      <td>14.66</td>\n",
       "      <td>0.00</td>\n",
       "      <td>15.43</td>\n",
       "      <td>0.0</td>\n",
       "      <td>15.49</td>\n",
       "      <td>0.00</td>\n",
       "      <td>15.20</td>\n",
       "      <td>0.00</td>\n",
       "      <td>15.18</td>\n",
       "      <td>0.00</td>\n",
       "    </tr>\n",
       "    <tr>\n",
       "      <th>21</th>\n",
       "      <td>21</td>\n",
       "      <td>Aix en Provence</td>\n",
       "      <td>43.529842</td>\n",
       "      <td>5.447474</td>\n",
       "      <td>13.00</td>\n",
       "      <td>4.58</td>\n",
       "      <td>13.35</td>\n",
       "      <td>0.00</td>\n",
       "      <td>14.44</td>\n",
       "      <td>0.00</td>\n",
       "      <td>14.91</td>\n",
       "      <td>0.00</td>\n",
       "      <td>16.72</td>\n",
       "      <td>0.0</td>\n",
       "      <td>16.66</td>\n",
       "      <td>0.00</td>\n",
       "      <td>15.87</td>\n",
       "      <td>0.00</td>\n",
       "      <td>16.49</td>\n",
       "      <td>0.00</td>\n",
       "    </tr>\n",
       "    <tr>\n",
       "      <th>22</th>\n",
       "      <td>22</td>\n",
       "      <td>Avignon</td>\n",
       "      <td>43.949249</td>\n",
       "      <td>4.805901</td>\n",
       "      <td>7.02</td>\n",
       "      <td>6.50</td>\n",
       "      <td>9.72</td>\n",
       "      <td>0.00</td>\n",
       "      <td>12.61</td>\n",
       "      <td>0.00</td>\n",
       "      <td>14.17</td>\n",
       "      <td>0.00</td>\n",
       "      <td>16.88</td>\n",
       "      <td>0.0</td>\n",
       "      <td>17.66</td>\n",
       "      <td>0.00</td>\n",
       "      <td>17.24</td>\n",
       "      <td>0.00</td>\n",
       "      <td>17.69</td>\n",
       "      <td>0.00</td>\n",
       "    </tr>\n",
       "    <tr>\n",
       "      <th>23</th>\n",
       "      <td>23</td>\n",
       "      <td>Uzes</td>\n",
       "      <td>44.012128</td>\n",
       "      <td>4.419672</td>\n",
       "      <td>7.93</td>\n",
       "      <td>3.55</td>\n",
       "      <td>9.62</td>\n",
       "      <td>0.00</td>\n",
       "      <td>12.46</td>\n",
       "      <td>0.00</td>\n",
       "      <td>13.95</td>\n",
       "      <td>0.00</td>\n",
       "      <td>16.03</td>\n",
       "      <td>0.0</td>\n",
       "      <td>15.38</td>\n",
       "      <td>0.00</td>\n",
       "      <td>14.99</td>\n",
       "      <td>0.00</td>\n",
       "      <td>15.79</td>\n",
       "      <td>0.12</td>\n",
       "    </tr>\n",
       "    <tr>\n",
       "      <th>24</th>\n",
       "      <td>24</td>\n",
       "      <td>Nimes</td>\n",
       "      <td>43.837425</td>\n",
       "      <td>4.360069</td>\n",
       "      <td>8.20</td>\n",
       "      <td>3.54</td>\n",
       "      <td>10.79</td>\n",
       "      <td>0.00</td>\n",
       "      <td>12.84</td>\n",
       "      <td>0.00</td>\n",
       "      <td>14.27</td>\n",
       "      <td>0.00</td>\n",
       "      <td>16.47</td>\n",
       "      <td>0.0</td>\n",
       "      <td>16.25</td>\n",
       "      <td>0.00</td>\n",
       "      <td>16.05</td>\n",
       "      <td>0.00</td>\n",
       "      <td>16.27</td>\n",
       "      <td>0.33</td>\n",
       "    </tr>\n",
       "    <tr>\n",
       "      <th>25</th>\n",
       "      <td>25</td>\n",
       "      <td>Aigues Mortes</td>\n",
       "      <td>43.566152</td>\n",
       "      <td>4.191540</td>\n",
       "      <td>8.96</td>\n",
       "      <td>9.89</td>\n",
       "      <td>11.09</td>\n",
       "      <td>0.00</td>\n",
       "      <td>12.11</td>\n",
       "      <td>0.00</td>\n",
       "      <td>13.29</td>\n",
       "      <td>0.00</td>\n",
       "      <td>14.54</td>\n",
       "      <td>0.0</td>\n",
       "      <td>13.95</td>\n",
       "      <td>0.00</td>\n",
       "      <td>14.04</td>\n",
       "      <td>0.00</td>\n",
       "      <td>13.93</td>\n",
       "      <td>0.66</td>\n",
       "    </tr>\n",
       "    <tr>\n",
       "      <th>26</th>\n",
       "      <td>26</td>\n",
       "      <td>Saintes Maries de la mer</td>\n",
       "      <td>43.451592</td>\n",
       "      <td>4.427720</td>\n",
       "      <td>8.31</td>\n",
       "      <td>5.89</td>\n",
       "      <td>10.28</td>\n",
       "      <td>0.00</td>\n",
       "      <td>12.29</td>\n",
       "      <td>0.00</td>\n",
       "      <td>13.06</td>\n",
       "      <td>0.00</td>\n",
       "      <td>14.24</td>\n",
       "      <td>0.0</td>\n",
       "      <td>13.77</td>\n",
       "      <td>0.00</td>\n",
       "      <td>13.75</td>\n",
       "      <td>0.00</td>\n",
       "      <td>13.49</td>\n",
       "      <td>0.18</td>\n",
       "    </tr>\n",
       "    <tr>\n",
       "      <th>27</th>\n",
       "      <td>27</td>\n",
       "      <td>Collioure</td>\n",
       "      <td>42.525050</td>\n",
       "      <td>3.083155</td>\n",
       "      <td>12.37</td>\n",
       "      <td>0.00</td>\n",
       "      <td>10.00</td>\n",
       "      <td>5.33</td>\n",
       "      <td>11.28</td>\n",
       "      <td>0.89</td>\n",
       "      <td>13.77</td>\n",
       "      <td>0.00</td>\n",
       "      <td>14.28</td>\n",
       "      <td>0.0</td>\n",
       "      <td>12.52</td>\n",
       "      <td>1.74</td>\n",
       "      <td>11.82</td>\n",
       "      <td>16.35</td>\n",
       "      <td>13.08</td>\n",
       "      <td>2.49</td>\n",
       "    </tr>\n",
       "    <tr>\n",
       "      <th>28</th>\n",
       "      <td>28</td>\n",
       "      <td>Carcassonne</td>\n",
       "      <td>43.213036</td>\n",
       "      <td>2.349107</td>\n",
       "      <td>11.71</td>\n",
       "      <td>0.72</td>\n",
       "      <td>12.22</td>\n",
       "      <td>1.14</td>\n",
       "      <td>10.88</td>\n",
       "      <td>0.00</td>\n",
       "      <td>14.62</td>\n",
       "      <td>0.00</td>\n",
       "      <td>14.93</td>\n",
       "      <td>0.0</td>\n",
       "      <td>13.49</td>\n",
       "      <td>0.12</td>\n",
       "      <td>12.60</td>\n",
       "      <td>0.12</td>\n",
       "      <td>12.92</td>\n",
       "      <td>0.00</td>\n",
       "    </tr>\n",
       "    <tr>\n",
       "      <th>29</th>\n",
       "      <td>29</td>\n",
       "      <td>Ariege</td>\n",
       "      <td>42.945537</td>\n",
       "      <td>1.406554</td>\n",
       "      <td>4.80</td>\n",
       "      <td>0.52</td>\n",
       "      <td>6.87</td>\n",
       "      <td>0.00</td>\n",
       "      <td>10.81</td>\n",
       "      <td>0.00</td>\n",
       "      <td>11.18</td>\n",
       "      <td>0.14</td>\n",
       "      <td>12.98</td>\n",
       "      <td>0.0</td>\n",
       "      <td>14.71</td>\n",
       "      <td>0.00</td>\n",
       "      <td>14.78</td>\n",
       "      <td>0.00</td>\n",
       "      <td>13.12</td>\n",
       "      <td>0.00</td>\n",
       "    </tr>\n",
       "    <tr>\n",
       "      <th>30</th>\n",
       "      <td>30</td>\n",
       "      <td>Toulouse</td>\n",
       "      <td>43.604462</td>\n",
       "      <td>1.444247</td>\n",
       "      <td>9.54</td>\n",
       "      <td>0.00</td>\n",
       "      <td>12.06</td>\n",
       "      <td>0.00</td>\n",
       "      <td>12.25</td>\n",
       "      <td>0.00</td>\n",
       "      <td>14.76</td>\n",
       "      <td>0.00</td>\n",
       "      <td>15.45</td>\n",
       "      <td>0.0</td>\n",
       "      <td>16.25</td>\n",
       "      <td>0.00</td>\n",
       "      <td>15.81</td>\n",
       "      <td>0.00</td>\n",
       "      <td>15.60</td>\n",
       "      <td>0.00</td>\n",
       "    </tr>\n",
       "    <tr>\n",
       "      <th>31</th>\n",
       "      <td>31</td>\n",
       "      <td>Montauban</td>\n",
       "      <td>44.017584</td>\n",
       "      <td>1.354999</td>\n",
       "      <td>9.52</td>\n",
       "      <td>0.00</td>\n",
       "      <td>11.77</td>\n",
       "      <td>0.00</td>\n",
       "      <td>13.62</td>\n",
       "      <td>0.00</td>\n",
       "      <td>15.06</td>\n",
       "      <td>0.00</td>\n",
       "      <td>16.23</td>\n",
       "      <td>0.0</td>\n",
       "      <td>15.91</td>\n",
       "      <td>0.00</td>\n",
       "      <td>15.87</td>\n",
       "      <td>0.00</td>\n",
       "      <td>15.52</td>\n",
       "      <td>0.00</td>\n",
       "    </tr>\n",
       "    <tr>\n",
       "      <th>32</th>\n",
       "      <td>32</td>\n",
       "      <td>Biarritz</td>\n",
       "      <td>43.483252</td>\n",
       "      <td>-1.559278</td>\n",
       "      <td>8.21</td>\n",
       "      <td>0.00</td>\n",
       "      <td>9.17</td>\n",
       "      <td>0.00</td>\n",
       "      <td>13.74</td>\n",
       "      <td>0.00</td>\n",
       "      <td>14.11</td>\n",
       "      <td>0.34</td>\n",
       "      <td>16.35</td>\n",
       "      <td>0.0</td>\n",
       "      <td>17.01</td>\n",
       "      <td>0.00</td>\n",
       "      <td>17.24</td>\n",
       "      <td>0.00</td>\n",
       "      <td>18.71</td>\n",
       "      <td>1.74</td>\n",
       "    </tr>\n",
       "    <tr>\n",
       "      <th>33</th>\n",
       "      <td>33</td>\n",
       "      <td>Bayonne</td>\n",
       "      <td>43.494514</td>\n",
       "      <td>-1.473666</td>\n",
       "      <td>8.93</td>\n",
       "      <td>0.00</td>\n",
       "      <td>9.60</td>\n",
       "      <td>0.00</td>\n",
       "      <td>14.44</td>\n",
       "      <td>0.00</td>\n",
       "      <td>14.67</td>\n",
       "      <td>0.46</td>\n",
       "      <td>17.26</td>\n",
       "      <td>0.0</td>\n",
       "      <td>17.92</td>\n",
       "      <td>0.00</td>\n",
       "      <td>18.13</td>\n",
       "      <td>0.00</td>\n",
       "      <td>19.46</td>\n",
       "      <td>1.41</td>\n",
       "    </tr>\n",
       "    <tr>\n",
       "      <th>34</th>\n",
       "      <td>34</td>\n",
       "      <td>La Rochelle</td>\n",
       "      <td>46.159732</td>\n",
       "      <td>-1.151595</td>\n",
       "      <td>8.57</td>\n",
       "      <td>0.00</td>\n",
       "      <td>8.42</td>\n",
       "      <td>0.00</td>\n",
       "      <td>10.04</td>\n",
       "      <td>0.00</td>\n",
       "      <td>11.48</td>\n",
       "      <td>0.00</td>\n",
       "      <td>13.57</td>\n",
       "      <td>0.0</td>\n",
       "      <td>12.87</td>\n",
       "      <td>0.00</td>\n",
       "      <td>11.69</td>\n",
       "      <td>0.00</td>\n",
       "      <td>14.24</td>\n",
       "      <td>0.00</td>\n",
       "    </tr>\n",
       "  </tbody>\n",
       "</table>\n",
       "</div>"
      ],
      "text/plain": [
       "    Id                   Destination   Latitude  Longitude  Temp_J0  Rain_J0  \\\n",
       "0    0             Mont Saint Michel  48.635954  -1.511460     8.78     0.00   \n",
       "1    1                       St Malo  48.649518  -2.026041     8.08     0.00   \n",
       "2    2                        Bayeux  49.276462  -0.702474     7.45     0.00   \n",
       "3    3                      Le Havre  49.493898   0.107973     7.94     0.00   \n",
       "4    4                         Rouen  49.440459   1.093966     7.92     0.00   \n",
       "5    5                         Paris  48.853495   2.348391     8.46     0.00   \n",
       "6    6                        Amiens  49.894171   2.295695     7.83     0.00   \n",
       "7    7                         Lille  50.636565   3.063528     7.68     0.00   \n",
       "8    8                    Strasbourg  48.584614   7.750713     7.34     0.00   \n",
       "9    9  Chateau du Haut Koenigsbourg  48.249411   7.344320     3.72     0.00   \n",
       "10  10                        Colmar  48.077752   7.357964     6.52     0.00   \n",
       "11  11                     Eguisheim  48.044797   7.307962     6.04     0.00   \n",
       "12  12                      Besancon  47.238022   6.024362     6.56     0.00   \n",
       "13  13                         Dijon  47.321581   5.041470     6.66     0.00   \n",
       "14  14                        Annecy  45.899235   6.128885     6.19     0.00   \n",
       "15  15                      Grenoble  45.187560   5.735782     9.52     0.00   \n",
       "16  16                          Lyon  45.757814   4.832011     4.86     0.00   \n",
       "17  17              Gorges du Verdon  43.749656   6.328562     8.15     1.17   \n",
       "18  18            Bormes les Mimosas  43.150697   6.341928    11.44     1.24   \n",
       "19  19                        Cassis  43.214036   5.539632    12.67     2.93   \n",
       "20  20                     Marseille  43.296174   5.369953    13.91     5.83   \n",
       "21  21               Aix en Provence  43.529842   5.447474    13.00     4.58   \n",
       "22  22                       Avignon  43.949249   4.805901     7.02     6.50   \n",
       "23  23                          Uzes  44.012128   4.419672     7.93     3.55   \n",
       "24  24                         Nimes  43.837425   4.360069     8.20     3.54   \n",
       "25  25                 Aigues Mortes  43.566152   4.191540     8.96     9.89   \n",
       "26  26      Saintes Maries de la mer  43.451592   4.427720     8.31     5.89   \n",
       "27  27                     Collioure  42.525050   3.083155    12.37     0.00   \n",
       "28  28                   Carcassonne  43.213036   2.349107    11.71     0.72   \n",
       "29  29                        Ariege  42.945537   1.406554     4.80     0.52   \n",
       "30  30                      Toulouse  43.604462   1.444247     9.54     0.00   \n",
       "31  31                     Montauban  44.017584   1.354999     9.52     0.00   \n",
       "32  32                      Biarritz  43.483252  -1.559278     8.21     0.00   \n",
       "33  33                       Bayonne  43.494514  -1.473666     8.93     0.00   \n",
       "34  34                   La Rochelle  46.159732  -1.151595     8.57     0.00   \n",
       "\n",
       "    Temp_J1  Rain_J1  Temp_J2  Rain_J2  Temp_J3  Rain_J3  Temp_J4  Rain_J4  \\\n",
       "0      9.03     0.00    10.08     0.00    11.14     0.00    13.47      0.0   \n",
       "1      7.79     0.00     8.30     0.00     8.95     0.00    11.16      0.0   \n",
       "2      7.29     0.00     8.50     0.00     9.28     0.00    12.76      0.0   \n",
       "3      8.31     0.00     8.76     0.00     9.56     0.00    11.17      0.0   \n",
       "4      9.06     0.00     9.77     0.00    11.23     0.00    13.29      0.0   \n",
       "5      9.37     0.00     9.72     0.00    11.58     0.00    13.25      0.0   \n",
       "6      8.20     0.00     9.14     0.00    10.66     0.00    12.87      0.0   \n",
       "7      8.31     0.00     8.03     0.00     9.24     0.00    12.71      0.0   \n",
       "8      7.79     0.00     7.44     0.00     8.43     0.00    10.91      0.0   \n",
       "9      4.22     0.00     6.42     0.00     7.56     0.00    10.05      0.0   \n",
       "10     6.79     0.00     8.76     0.00    10.02     0.00    12.49      0.0   \n",
       "11     6.30     0.00     8.61     0.00     9.87     0.00    12.32      0.0   \n",
       "12     7.85     0.00    10.33     0.00    11.72     0.00    13.39      0.0   \n",
       "13     6.50     0.00     8.78     0.00    10.01     0.00    11.38      0.0   \n",
       "14     8.03     0.00    11.99     0.00    11.46     0.00    14.43      0.0   \n",
       "15    12.79     0.00    14.92     0.00    14.58     0.00    17.86      0.0   \n",
       "16     7.31     0.00    10.12     0.00    10.68     0.00    13.96      0.0   \n",
       "17    10.31     0.00    11.23     0.00    10.83     0.00    12.22      0.0   \n",
       "18    12.97     0.00    13.03     0.00    13.00     0.00    13.57      0.0   \n",
       "19    13.45     0.00    13.33     0.00    14.10     0.00    15.17      0.0   \n",
       "20    13.58     0.00    13.69     0.00    14.66     0.00    15.43      0.0   \n",
       "21    13.35     0.00    14.44     0.00    14.91     0.00    16.72      0.0   \n",
       "22     9.72     0.00    12.61     0.00    14.17     0.00    16.88      0.0   \n",
       "23     9.62     0.00    12.46     0.00    13.95     0.00    16.03      0.0   \n",
       "24    10.79     0.00    12.84     0.00    14.27     0.00    16.47      0.0   \n",
       "25    11.09     0.00    12.11     0.00    13.29     0.00    14.54      0.0   \n",
       "26    10.28     0.00    12.29     0.00    13.06     0.00    14.24      0.0   \n",
       "27    10.00     5.33    11.28     0.89    13.77     0.00    14.28      0.0   \n",
       "28    12.22     1.14    10.88     0.00    14.62     0.00    14.93      0.0   \n",
       "29     6.87     0.00    10.81     0.00    11.18     0.14    12.98      0.0   \n",
       "30    12.06     0.00    12.25     0.00    14.76     0.00    15.45      0.0   \n",
       "31    11.77     0.00    13.62     0.00    15.06     0.00    16.23      0.0   \n",
       "32     9.17     0.00    13.74     0.00    14.11     0.34    16.35      0.0   \n",
       "33     9.60     0.00    14.44     0.00    14.67     0.46    17.26      0.0   \n",
       "34     8.42     0.00    10.04     0.00    11.48     0.00    13.57      0.0   \n",
       "\n",
       "    Temp_J5  Rain_J5  Temp_J6  Rain_J6  Temp_J7  Rain_J7  \n",
       "0     13.36     0.00    12.46     0.00    15.48     0.00  \n",
       "1     12.92     0.00    13.33     0.00    14.56     0.27  \n",
       "2     13.99     0.00    15.07     0.00    15.74     0.00  \n",
       "3     12.29     0.00    11.57     0.00    13.08     0.00  \n",
       "4     14.74     0.00    14.73     0.00    15.82     0.00  \n",
       "5     15.35     0.00    14.73     0.00    15.27     0.00  \n",
       "6     14.44     0.00    15.07     0.00    15.49     0.00  \n",
       "7     13.51     0.00    14.96     0.00    15.56     0.00  \n",
       "8     12.53     0.00    13.39     0.00    14.25     0.00  \n",
       "9     12.22     0.00    11.95     0.00    12.81     0.00  \n",
       "10    14.31     0.00    14.08     0.00    15.15     0.00  \n",
       "11    14.13     0.00    13.83     0.00    14.91     0.00  \n",
       "12    15.24     0.00    15.26     0.00    16.18     0.00  \n",
       "13    13.42     0.00    14.02     0.00    14.47     0.00  \n",
       "14    15.07     0.00    14.89     0.00    15.41     0.00  \n",
       "15    17.45     0.00    17.43     0.00    18.41     0.00  \n",
       "16    15.24     0.00    15.66     0.00    16.19     0.00  \n",
       "17    11.79     0.00    11.52     0.00    11.82     0.00  \n",
       "18    13.56     0.00    13.08     0.00    13.33     0.00  \n",
       "19    14.95     0.00    14.60     0.00    14.56     0.00  \n",
       "20    15.49     0.00    15.20     0.00    15.18     0.00  \n",
       "21    16.66     0.00    15.87     0.00    16.49     0.00  \n",
       "22    17.66     0.00    17.24     0.00    17.69     0.00  \n",
       "23    15.38     0.00    14.99     0.00    15.79     0.12  \n",
       "24    16.25     0.00    16.05     0.00    16.27     0.33  \n",
       "25    13.95     0.00    14.04     0.00    13.93     0.66  \n",
       "26    13.77     0.00    13.75     0.00    13.49     0.18  \n",
       "27    12.52     1.74    11.82    16.35    13.08     2.49  \n",
       "28    13.49     0.12    12.60     0.12    12.92     0.00  \n",
       "29    14.71     0.00    14.78     0.00    13.12     0.00  \n",
       "30    16.25     0.00    15.81     0.00    15.60     0.00  \n",
       "31    15.91     0.00    15.87     0.00    15.52     0.00  \n",
       "32    17.01     0.00    17.24     0.00    18.71     1.74  \n",
       "33    17.92     0.00    18.13     0.00    19.46     1.41  \n",
       "34    12.87     0.00    11.69     0.00    14.24     0.00  "
      ]
     },
     "execution_count": 12,
     "metadata": {},
     "output_type": "execute_result"
    }
   ],
   "source": [
    "# URL de l'API OpenWeatherMap\n",
    "url = \"https://api.openweathermap.org/data/3.0/onecall\"\n",
    "\n",
    "for index in df.index:\n",
    "    lat = df.loc[index,'Latitude']\n",
    "    lon = df.loc[index,'Longitude']\n",
    "\n",
    "    params = {\n",
    "        \"lat\": lat,\n",
    "        \"lon\": lon,\n",
    "        \"appid\": API_key,\n",
    "        \"lang\": \"fr\",\n",
    "        \"units\": \"metric\",\n",
    "        \"exclude\": \"current,minutely,hourly,alerts\"\n",
    "    }\n",
    "\n",
    "    response = requests.get(url, params=params)\n",
    "    data = response.json()\n",
    "\n",
    "\n",
    "    for i in range(8):  # Boucle jour actuel + 7 jours suivants\n",
    "        temp = data['daily'][i]['temp']['day'] \n",
    "        try: \n",
    "            data['daily'][i]['rain']\n",
    "        except:\n",
    "            rain = 0\n",
    "        else:\n",
    "            rain = data['daily'][i]['rain']\n",
    "        df.loc[index, f\"Temp_J{i}\"] = temp\n",
    "        df.loc[index, f\"Rain_J{i}\"] = rain\n",
    "\n",
    "df"
   ]
  },
  {
   "cell_type": "code",
   "execution_count": 13,
   "metadata": {},
   "outputs": [],
   "source": [
    "# Enregistrement au format csv\n",
    "df.to_csv('src/meteo.csv', index=False, header=True)"
   ]
  },
  {
   "cell_type": "markdown",
   "metadata": {},
   "source": [
    "## Web scraping de Booking.com pour obtenir les meilleurs hôtels "
   ]
  },
  {
   "cell_type": "code",
   "execution_count": 18,
   "metadata": {},
   "outputs": [
    {
     "name": "stderr",
     "output_type": "stream",
     "text": [
      "2025-03-01 20:16:23 [scrapy.utils.log] INFO: Scrapy 2.12.0 started (bot: scrapybot)\n",
      "2025-03-01 20:16:24 [scrapy.utils.log] INFO: Versions: lxml 5.3.1.0, libxml2 2.11.7, cssselect 1.2.0, parsel 1.10.0, w3lib 2.3.1, Twisted 24.11.0, Python 3.12.6 (tags/v3.12.6:a4a2d2b, Sep  6 2024, 20:11:23) [MSC v.1940 64 bit (AMD64)], pyOpenSSL 25.0.0 (OpenSSL 3.4.1 11 Feb 2025), cryptography 44.0.1, Platform Windows-11-10.0.26100-SP0\n",
      "2025-03-01 20:16:24 [scrapy.addons] INFO: Enabled addons:\n",
      "[]\n",
      "2025-03-01 20:16:24 [scrapy.extensions.telnet] INFO: Telnet Password: 4b3e4cb982a43335\n",
      "2025-03-01 20:16:24 [scrapy.middleware] INFO: Enabled extensions:\n",
      "['scrapy.extensions.corestats.CoreStats',\n",
      " 'scrapy.extensions.telnet.TelnetConsole',\n",
      " 'scrapy.extensions.feedexport.FeedExporter',\n",
      " 'scrapy.extensions.logstats.LogStats']\n",
      "2025-03-01 20:16:24 [scrapy.crawler] INFO: Overridden settings:\n",
      "{'LOG_LEVEL': 20, 'USER_AGENT': 'Chrome/130.0'}\n",
      "2025-03-01 20:16:25 [scrapy.middleware] INFO: Enabled downloader middlewares:\n",
      "['scrapy.downloadermiddlewares.offsite.OffsiteMiddleware',\n",
      " 'scrapy.downloadermiddlewares.httpauth.HttpAuthMiddleware',\n",
      " 'scrapy.downloadermiddlewares.downloadtimeout.DownloadTimeoutMiddleware',\n",
      " 'scrapy.downloadermiddlewares.defaultheaders.DefaultHeadersMiddleware',\n",
      " 'scrapy.downloadermiddlewares.useragent.UserAgentMiddleware',\n",
      " 'scrapy.downloadermiddlewares.retry.RetryMiddleware',\n",
      " 'scrapy.downloadermiddlewares.redirect.MetaRefreshMiddleware',\n",
      " 'scrapy.downloadermiddlewares.httpcompression.HttpCompressionMiddleware',\n",
      " 'scrapy.downloadermiddlewares.redirect.RedirectMiddleware',\n",
      " 'scrapy.downloadermiddlewares.cookies.CookiesMiddleware',\n",
      " 'scrapy.downloadermiddlewares.httpproxy.HttpProxyMiddleware',\n",
      " 'scrapy.downloadermiddlewares.stats.DownloaderStats']\n",
      "2025-03-01 20:16:25 [scrapy.middleware] INFO: Enabled spider middlewares:\n",
      "['scrapy.spidermiddlewares.httperror.HttpErrorMiddleware',\n",
      " 'scrapy.spidermiddlewares.referer.RefererMiddleware',\n",
      " 'scrapy.spidermiddlewares.urllength.UrlLengthMiddleware',\n",
      " 'scrapy.spidermiddlewares.depth.DepthMiddleware']\n",
      "2025-03-01 20:16:25 [scrapy.middleware] INFO: Enabled item pipelines:\n",
      "[]\n",
      "2025-03-01 20:16:25 [scrapy.core.engine] INFO: Spider opened\n",
      "2025-03-01 20:16:25 [scrapy.extensions.logstats] INFO: Crawled 0 pages (at 0 pages/min), scraped 0 items (at 0 items/min)\n",
      "2025-03-01 20:16:25 [scrapy.extensions.telnet] INFO: Telnet console listening on 127.0.0.1:6023\n",
      "2025-03-01 20:17:25 [scrapy.extensions.logstats] INFO: Crawled 321 pages (at 321 pages/min), scraped 303 items (at 303 items/min)\n",
      "2025-03-01 20:18:25 [scrapy.extensions.logstats] INFO: Crawled 658 pages (at 337 pages/min), scraped 623 items (at 320 items/min)\n",
      "2025-03-01 20:19:11 [scrapy.core.engine] INFO: Closing spider (finished)\n",
      "2025-03-01 20:19:11 [scrapy.extensions.feedexport] INFO: Stored json feed (869 items) in: ./src\\best_hotels.json\n",
      "2025-03-01 20:19:11 [scrapy.statscollectors] INFO: Dumping Scrapy stats:\n",
      "{'downloader/request_bytes': 1365961,\n",
      " 'downloader/request_count': 904,\n",
      " 'downloader/request_method_count/GET': 904,\n",
      " 'downloader/response_bytes': 317225926,\n",
      " 'downloader/response_count': 904,\n",
      " 'downloader/response_status_count/200': 904,\n",
      " 'elapsed_time_seconds': 165.483439,\n",
      " 'feedexport/success_count/FileFeedStorage': 1,\n",
      " 'finish_reason': 'finished',\n",
      " 'finish_time': datetime.datetime(2025, 3, 1, 19, 19, 11, 31114, tzinfo=datetime.timezone.utc),\n",
      " 'httpcompression/response_bytes': 1295006639,\n",
      " 'httpcompression/response_count': 904,\n",
      " 'item_scraped_count': 869,\n",
      " 'items_per_minute': None,\n",
      " 'log_count/INFO': 13,\n",
      " 'request_depth_max': 1,\n",
      " 'response_received_count': 904,\n",
      " 'responses_per_minute': None,\n",
      " 'scheduler/dequeued': 904,\n",
      " 'scheduler/dequeued/memory': 904,\n",
      " 'scheduler/enqueued': 904,\n",
      " 'scheduler/enqueued/memory': 904,\n",
      " 'start_time': datetime.datetime(2025, 3, 1, 19, 16, 25, 547675, tzinfo=datetime.timezone.utc)}\n",
      "2025-03-01 20:19:11 [scrapy.core.engine] INFO: Spider closed (finished)\n"
     ]
    }
   ],
   "source": [
    "!python booking.py \"{';'.join([d.replace(' ', '%') for d in destinations])}\""
   ]
  },
  {
   "cell_type": "code",
   "execution_count": null,
   "metadata": {},
   "outputs": [],
   "source": [
    "# Création d'un dataframe avec les données scrapées\n",
    "hotels = pd.read_json(\"src/best_hotels.json\")\n",
    "hotels = hotels.sort_values(by=['destination','score'],ascending=[True,False])"
   ]
  },
  {
   "cell_type": "code",
   "execution_count": null,
   "metadata": {},
   "outputs": [
    {
     "data": {
      "text/html": [
       "<div>\n",
       "<style scoped>\n",
       "    .dataframe tbody tr th:only-of-type {\n",
       "        vertical-align: middle;\n",
       "    }\n",
       "\n",
       "    .dataframe tbody tr th {\n",
       "        vertical-align: top;\n",
       "    }\n",
       "\n",
       "    .dataframe thead th {\n",
       "        text-align: right;\n",
       "    }\n",
       "</style>\n",
       "<table border=\"1\" class=\"dataframe\">\n",
       "  <thead>\n",
       "    <tr style=\"text-align: right;\">\n",
       "      <th></th>\n",
       "      <th>destination</th>\n",
       "      <th>nom</th>\n",
       "      <th>score</th>\n",
       "      <th>latitude</th>\n",
       "      <th>longitude</th>\n",
       "      <th>url</th>\n",
       "      <th>description</th>\n",
       "    </tr>\n",
       "  </thead>\n",
       "  <tbody>\n",
       "    <tr>\n",
       "      <th>449</th>\n",
       "      <td>Aigues Mortes</td>\n",
       "      <td>Boutique Hôtel des Remparts &amp; Spa</td>\n",
       "      <td>9,3</td>\n",
       "      <td>43.568036</td>\n",
       "      <td>4.190344</td>\n",
       "      <td>https://www.booking.com/hotel/fr/les-remparts-...</td>\n",
       "      <td>Aménagé dans une ancienne base militaire datan...</td>\n",
       "    </tr>\n",
       "    <tr>\n",
       "      <th>723</th>\n",
       "      <td>Aigues Mortes</td>\n",
       "      <td>La Villa Mazarin</td>\n",
       "      <td>9,2</td>\n",
       "      <td>43.564987</td>\n",
       "      <td>4.191752</td>\n",
       "      <td>https://www.booking.com/hotel/fr/la-villa-maza...</td>\n",
       "      <td>Description de l’établissement La Villa Mazari...</td>\n",
       "    </tr>\n",
       "    <tr>\n",
       "      <th>717</th>\n",
       "      <td>Aigues Mortes</td>\n",
       "      <td>GOLF HOTEL</td>\n",
       "      <td>9,1</td>\n",
       "      <td>43.568057</td>\n",
       "      <td>4.102608</td>\n",
       "      <td>https://www.booking.com/hotel/fr/golf-la-grand...</td>\n",
       "      <td>Situé à La Grande-Motte, à 2 km de la plage de...</td>\n",
       "    </tr>\n",
       "    <tr>\n",
       "      <th>719</th>\n",
       "      <td>Aigues Mortes</td>\n",
       "      <td>Hotel Les Acacias</td>\n",
       "      <td>9,1</td>\n",
       "      <td>43.538658</td>\n",
       "      <td>4.134977</td>\n",
       "      <td>https://www.booking.com/hotel/fr/les-acacias-l...</td>\n",
       "      <td>L'Hotel Les Acacias, de style provençal, situé...</td>\n",
       "    </tr>\n",
       "    <tr>\n",
       "      <th>725</th>\n",
       "      <td>Aigues Mortes</td>\n",
       "      <td>La Maison de Lyna</td>\n",
       "      <td>9,1</td>\n",
       "      <td>43.566018</td>\n",
       "      <td>4.192353</td>\n",
       "      <td>https://www.booking.com/hotel/fr/la-maison-de-...</td>\n",
       "      <td>L’établissement La Maison de Lyna vous accueil...</td>\n",
       "    </tr>\n",
       "    <tr>\n",
       "      <th>...</th>\n",
       "      <td>...</td>\n",
       "      <td>...</td>\n",
       "      <td>...</td>\n",
       "      <td>...</td>\n",
       "      <td>...</td>\n",
       "      <td>...</td>\n",
       "      <td>...</td>\n",
       "    </tr>\n",
       "    <tr>\n",
       "      <th>806</th>\n",
       "      <td>Uzes</td>\n",
       "      <td>La Taverne</td>\n",
       "      <td>8,6</td>\n",
       "      <td>44.014659</td>\n",
       "      <td>4.420051</td>\n",
       "      <td>https://www.booking.com/hotel/fr/la-taverne.fr...</td>\n",
       "      <td>La Taverne est située à Uzès, dans une rue pié...</td>\n",
       "    </tr>\n",
       "    <tr>\n",
       "      <th>804</th>\n",
       "      <td>Uzes</td>\n",
       "      <td>La Maison d'Uzès Relais &amp; Châteaux</td>\n",
       "      <td>8,5</td>\n",
       "      <td>44.012744</td>\n",
       "      <td>4.421131</td>\n",
       "      <td>https://www.booking.com/hotel/fr/la-maison-d-u...</td>\n",
       "      <td>Situé dans le centre de la vieille ville d'Uzè...</td>\n",
       "    </tr>\n",
       "    <tr>\n",
       "      <th>779</th>\n",
       "      <td>Uzes</td>\n",
       "      <td>Hotel Restaurant Le Clos De Pradines</td>\n",
       "      <td>8,4</td>\n",
       "      <td>44.046198</td>\n",
       "      <td>4.443198</td>\n",
       "      <td>https://www.booking.com/hotel/fr/clos-des-prad...</td>\n",
       "      <td>L'établissement Le Clos de Pradines vous accue...</td>\n",
       "    </tr>\n",
       "    <tr>\n",
       "      <th>805</th>\n",
       "      <td>Uzes</td>\n",
       "      <td>Patio De Violette</td>\n",
       "      <td>8,4</td>\n",
       "      <td>44.028431</td>\n",
       "      <td>4.420024</td>\n",
       "      <td>https://www.booking.com/hotel/fr/patio-de-viol...</td>\n",
       "      <td>Situé dans la campagne du Languedoc-Roussillon...</td>\n",
       "    </tr>\n",
       "    <tr>\n",
       "      <th>766</th>\n",
       "      <td>Uzes</td>\n",
       "      <td>greet hôtel Pont du Gard - Route d'Avignon</td>\n",
       "      <td>8,3</td>\n",
       "      <td>43.951664</td>\n",
       "      <td>4.638676</td>\n",
       "      <td>https://www.booking.com/hotel/fr/la-fenouiller...</td>\n",
       "      <td>L’établissement greet hôtel Pont du Gard - Rou...</td>\n",
       "    </tr>\n",
       "  </tbody>\n",
       "</table>\n",
       "<p>700 rows × 7 columns</p>\n",
       "</div>"
      ],
      "text/plain": [
       "       destination                                         nom score  \\\n",
       "449  Aigues Mortes           Boutique Hôtel des Remparts & Spa   9,3   \n",
       "723  Aigues Mortes                            La Villa Mazarin   9,2   \n",
       "717  Aigues Mortes                                  GOLF HOTEL   9,1   \n",
       "719  Aigues Mortes                           Hotel Les Acacias   9,1   \n",
       "725  Aigues Mortes                           La Maison de Lyna   9,1   \n",
       "..             ...                                         ...   ...   \n",
       "806           Uzes                                  La Taverne   8,6   \n",
       "804           Uzes          La Maison d'Uzès Relais & Châteaux   8,5   \n",
       "779           Uzes        Hotel Restaurant Le Clos De Pradines   8,4   \n",
       "805           Uzes                           Patio De Violette   8,4   \n",
       "766           Uzes  greet hôtel Pont du Gard - Route d'Avignon   8,3   \n",
       "\n",
       "      latitude  longitude                                                url  \\\n",
       "449  43.568036   4.190344  https://www.booking.com/hotel/fr/les-remparts-...   \n",
       "723  43.564987   4.191752  https://www.booking.com/hotel/fr/la-villa-maza...   \n",
       "717  43.568057   4.102608  https://www.booking.com/hotel/fr/golf-la-grand...   \n",
       "719  43.538658   4.134977  https://www.booking.com/hotel/fr/les-acacias-l...   \n",
       "725  43.566018   4.192353  https://www.booking.com/hotel/fr/la-maison-de-...   \n",
       "..         ...        ...                                                ...   \n",
       "806  44.014659   4.420051  https://www.booking.com/hotel/fr/la-taverne.fr...   \n",
       "804  44.012744   4.421131  https://www.booking.com/hotel/fr/la-maison-d-u...   \n",
       "779  44.046198   4.443198  https://www.booking.com/hotel/fr/clos-des-prad...   \n",
       "805  44.028431   4.420024  https://www.booking.com/hotel/fr/patio-de-viol...   \n",
       "766  43.951664   4.638676  https://www.booking.com/hotel/fr/la-fenouiller...   \n",
       "\n",
       "                                           description  \n",
       "449  Aménagé dans une ancienne base militaire datan...  \n",
       "723  Description de l’établissement La Villa Mazari...  \n",
       "717  Situé à La Grande-Motte, à 2 km de la plage de...  \n",
       "719  L'Hotel Les Acacias, de style provençal, situé...  \n",
       "725  L’établissement La Maison de Lyna vous accueil...  \n",
       "..                                                 ...  \n",
       "806  La Taverne est située à Uzès, dans une rue pié...  \n",
       "804  Situé dans le centre de la vieille ville d'Uzè...  \n",
       "779  L'établissement Le Clos de Pradines vous accue...  \n",
       "805  Situé dans la campagne du Languedoc-Roussillon...  \n",
       "766  L’établissement greet hôtel Pont du Gard - Rou...  \n",
       "\n",
       "[700 rows x 7 columns]"
      ]
     },
     "execution_count": 7,
     "metadata": {},
     "output_type": "execute_result"
    }
   ],
   "source": [
    "# 20 meilleurs hôtels par destination\n",
    "best_hotels = hotels.groupby('destination').head(20)\n",
    "best_hotels"
   ]
  },
  {
   "cell_type": "code",
   "execution_count": null,
   "metadata": {},
   "outputs": [],
   "source": [
    "# Enregistrement au format csv\n",
    "best_hotels.to_csv('src/best_hotels.csv', index=False, header=True)"
   ]
  },
  {
   "cell_type": "markdown",
   "metadata": {},
   "source": [
    "## Stockage des informations dans un datalake S3"
   ]
  },
  {
   "cell_type": "code",
   "execution_count": null,
   "metadata": {},
   "outputs": [],
   "source": [
    "# Création d'un session\n",
    "session = boto3.Session(aws_access_key_id = aws_access_key_id, \n",
    "                        aws_secret_access_key = aws_secret_access_key,\n",
    "                        region_name=\"eu-west-3\")\n",
    "# Initialisation de la ressource avec la session\n",
    "s3 = session.resource('s3')"
   ]
  },
  {
   "cell_type": "code",
   "execution_count": null,
   "metadata": {},
   "outputs": [],
   "source": [
    "# Création d'un bucket\n",
    "bucket = s3.create_bucket(Bucket=\"bucket-plan-your-trip-with-kayak\",\n",
    "                          CreateBucketConfiguration={'LocationConstraint':'eu-west-3'})"
   ]
  },
  {
   "cell_type": "code",
   "execution_count": 9,
   "metadata": {},
   "outputs": [],
   "source": [
    "# Envoie des fichiers dans le bucket\n",
    "bucket.upload_file('src/best_hotels.csv', 'best_hotels.csv')\n",
    "bucket.upload_file('src/meteo.csv', 'meteo.csv') "
   ]
  },
  {
   "cell_type": "code",
   "execution_count": null,
   "metadata": {},
   "outputs": [
    {
     "name": "stdout",
     "output_type": "stream",
     "text": [
      "best_hotels.csv\n",
      "meteo.csv\n"
     ]
    }
   ],
   "source": [
    "# Vérification\n",
    "for obj in bucket.objects.all():\n",
    "    print(obj.key)"
   ]
  },
  {
   "cell_type": "markdown",
   "metadata": {},
   "source": [
    "<img src=\"img/bucket.png\" width=\"900\">"
   ]
  },
  {
   "cell_type": "markdown",
   "metadata": {},
   "source": [
    "## Data warehouse : création d'une BDD dans RDS"
   ]
  },
  {
   "cell_type": "markdown",
   "metadata": {},
   "source": [
    "#### ETL-Extract : Récupération des données dans le S3"
   ]
  },
  {
   "cell_type": "code",
   "execution_count": 17,
   "metadata": {},
   "outputs": [],
   "source": [
    "# Création de la session\n",
    "session = boto3.Session(\n",
    "    aws_access_key_id=aws_access_key_id,\n",
    "    aws_secret_access_key=aws_secret_access_key,\n",
    "    region_name=\"eu-west-3\"\n",
    ")\n",
    "\n",
    "# Accès au bucket existant\n",
    "s3 = session.resource('s3')\n",
    "bucket_name = \"bucket-plan-your-trip-with-kayak\"\n",
    "bucket = s3.Bucket(bucket_name)"
   ]
  },
  {
   "cell_type": "code",
   "execution_count": 19,
   "metadata": {},
   "outputs": [],
   "source": [
    "# Récupération des données du bucket\n",
    "bucket.download_file('best_hotels.csv', 'src/best_hotels.csv')\n",
    "bucket.download_file('meteo.csv', 'src/meteo.csv')"
   ]
  },
  {
   "cell_type": "markdown",
   "metadata": {},
   "source": [
    "#### ETL-Transform "
   ]
  },
  {
   "cell_type": "code",
   "execution_count": 3,
   "metadata": {},
   "outputs": [
    {
     "data": {
      "text/html": [
       "<div>\n",
       "<style scoped>\n",
       "    .dataframe tbody tr th:only-of-type {\n",
       "        vertical-align: middle;\n",
       "    }\n",
       "\n",
       "    .dataframe tbody tr th {\n",
       "        vertical-align: top;\n",
       "    }\n",
       "\n",
       "    .dataframe thead th {\n",
       "        text-align: right;\n",
       "    }\n",
       "</style>\n",
       "<table border=\"1\" class=\"dataframe\">\n",
       "  <thead>\n",
       "    <tr style=\"text-align: right;\">\n",
       "      <th></th>\n",
       "      <th>Id</th>\n",
       "      <th>Destination</th>\n",
       "      <th>Latitude</th>\n",
       "      <th>Longitude</th>\n",
       "      <th>Temp_J0</th>\n",
       "      <th>Rain_J0</th>\n",
       "      <th>Temp_J1</th>\n",
       "      <th>Rain_J1</th>\n",
       "      <th>Temp_J2</th>\n",
       "      <th>Rain_J2</th>\n",
       "      <th>Temp_J3</th>\n",
       "      <th>Rain_J3</th>\n",
       "      <th>Temp_J4</th>\n",
       "      <th>Rain_J4</th>\n",
       "      <th>Temp_J5</th>\n",
       "      <th>Rain_J5</th>\n",
       "      <th>Temp_J6</th>\n",
       "      <th>Rain_J6</th>\n",
       "      <th>Temp_J7</th>\n",
       "      <th>Rain_J7</th>\n",
       "    </tr>\n",
       "  </thead>\n",
       "  <tbody>\n",
       "    <tr>\n",
       "      <th>0</th>\n",
       "      <td>0</td>\n",
       "      <td>Mont Saint Michel</td>\n",
       "      <td>48.635954</td>\n",
       "      <td>-1.511460</td>\n",
       "      <td>8.78</td>\n",
       "      <td>0.0</td>\n",
       "      <td>9.03</td>\n",
       "      <td>0.0</td>\n",
       "      <td>10.08</td>\n",
       "      <td>0.0</td>\n",
       "      <td>11.14</td>\n",
       "      <td>0.0</td>\n",
       "      <td>13.47</td>\n",
       "      <td>0.0</td>\n",
       "      <td>13.36</td>\n",
       "      <td>0.0</td>\n",
       "      <td>12.46</td>\n",
       "      <td>0.0</td>\n",
       "      <td>15.48</td>\n",
       "      <td>0.00</td>\n",
       "    </tr>\n",
       "    <tr>\n",
       "      <th>1</th>\n",
       "      <td>1</td>\n",
       "      <td>St Malo</td>\n",
       "      <td>48.649518</td>\n",
       "      <td>-2.026041</td>\n",
       "      <td>8.08</td>\n",
       "      <td>0.0</td>\n",
       "      <td>7.79</td>\n",
       "      <td>0.0</td>\n",
       "      <td>8.30</td>\n",
       "      <td>0.0</td>\n",
       "      <td>8.95</td>\n",
       "      <td>0.0</td>\n",
       "      <td>11.16</td>\n",
       "      <td>0.0</td>\n",
       "      <td>12.92</td>\n",
       "      <td>0.0</td>\n",
       "      <td>13.33</td>\n",
       "      <td>0.0</td>\n",
       "      <td>14.56</td>\n",
       "      <td>0.27</td>\n",
       "    </tr>\n",
       "    <tr>\n",
       "      <th>2</th>\n",
       "      <td>2</td>\n",
       "      <td>Bayeux</td>\n",
       "      <td>49.276462</td>\n",
       "      <td>-0.702474</td>\n",
       "      <td>7.45</td>\n",
       "      <td>0.0</td>\n",
       "      <td>7.29</td>\n",
       "      <td>0.0</td>\n",
       "      <td>8.50</td>\n",
       "      <td>0.0</td>\n",
       "      <td>9.28</td>\n",
       "      <td>0.0</td>\n",
       "      <td>12.76</td>\n",
       "      <td>0.0</td>\n",
       "      <td>13.99</td>\n",
       "      <td>0.0</td>\n",
       "      <td>15.07</td>\n",
       "      <td>0.0</td>\n",
       "      <td>15.74</td>\n",
       "      <td>0.00</td>\n",
       "    </tr>\n",
       "    <tr>\n",
       "      <th>3</th>\n",
       "      <td>3</td>\n",
       "      <td>Le Havre</td>\n",
       "      <td>49.493898</td>\n",
       "      <td>0.107973</td>\n",
       "      <td>7.94</td>\n",
       "      <td>0.0</td>\n",
       "      <td>8.31</td>\n",
       "      <td>0.0</td>\n",
       "      <td>8.76</td>\n",
       "      <td>0.0</td>\n",
       "      <td>9.56</td>\n",
       "      <td>0.0</td>\n",
       "      <td>11.17</td>\n",
       "      <td>0.0</td>\n",
       "      <td>12.29</td>\n",
       "      <td>0.0</td>\n",
       "      <td>11.57</td>\n",
       "      <td>0.0</td>\n",
       "      <td>13.08</td>\n",
       "      <td>0.00</td>\n",
       "    </tr>\n",
       "    <tr>\n",
       "      <th>4</th>\n",
       "      <td>4</td>\n",
       "      <td>Rouen</td>\n",
       "      <td>49.440459</td>\n",
       "      <td>1.093966</td>\n",
       "      <td>7.92</td>\n",
       "      <td>0.0</td>\n",
       "      <td>9.06</td>\n",
       "      <td>0.0</td>\n",
       "      <td>9.77</td>\n",
       "      <td>0.0</td>\n",
       "      <td>11.23</td>\n",
       "      <td>0.0</td>\n",
       "      <td>13.29</td>\n",
       "      <td>0.0</td>\n",
       "      <td>14.74</td>\n",
       "      <td>0.0</td>\n",
       "      <td>14.73</td>\n",
       "      <td>0.0</td>\n",
       "      <td>15.82</td>\n",
       "      <td>0.00</td>\n",
       "    </tr>\n",
       "  </tbody>\n",
       "</table>\n",
       "</div>"
      ],
      "text/plain": [
       "   Id        Destination   Latitude  Longitude  Temp_J0  Rain_J0  Temp_J1  \\\n",
       "0   0  Mont Saint Michel  48.635954  -1.511460     8.78      0.0     9.03   \n",
       "1   1            St Malo  48.649518  -2.026041     8.08      0.0     7.79   \n",
       "2   2             Bayeux  49.276462  -0.702474     7.45      0.0     7.29   \n",
       "3   3           Le Havre  49.493898   0.107973     7.94      0.0     8.31   \n",
       "4   4              Rouen  49.440459   1.093966     7.92      0.0     9.06   \n",
       "\n",
       "   Rain_J1  Temp_J2  Rain_J2  Temp_J3  Rain_J3  Temp_J4  Rain_J4  Temp_J5  \\\n",
       "0      0.0    10.08      0.0    11.14      0.0    13.47      0.0    13.36   \n",
       "1      0.0     8.30      0.0     8.95      0.0    11.16      0.0    12.92   \n",
       "2      0.0     8.50      0.0     9.28      0.0    12.76      0.0    13.99   \n",
       "3      0.0     8.76      0.0     9.56      0.0    11.17      0.0    12.29   \n",
       "4      0.0     9.77      0.0    11.23      0.0    13.29      0.0    14.74   \n",
       "\n",
       "   Rain_J5  Temp_J6  Rain_J6  Temp_J7  Rain_J7  \n",
       "0      0.0    12.46      0.0    15.48     0.00  \n",
       "1      0.0    13.33      0.0    14.56     0.27  \n",
       "2      0.0    15.07      0.0    15.74     0.00  \n",
       "3      0.0    11.57      0.0    13.08     0.00  \n",
       "4      0.0    14.73      0.0    15.82     0.00  "
      ]
     },
     "execution_count": 3,
     "metadata": {},
     "output_type": "execute_result"
    }
   ],
   "source": [
    "# Création d'un dataframe avec le csv meteo\n",
    "meteo = pd.read_csv('src/meteo.csv')\n",
    "meteo.head()"
   ]
  },
  {
   "cell_type": "code",
   "execution_count": 4,
   "metadata": {},
   "outputs": [
    {
     "data": {
      "text/html": [
       "<div>\n",
       "<style scoped>\n",
       "    .dataframe tbody tr th:only-of-type {\n",
       "        vertical-align: middle;\n",
       "    }\n",
       "\n",
       "    .dataframe tbody tr th {\n",
       "        vertical-align: top;\n",
       "    }\n",
       "\n",
       "    .dataframe thead th {\n",
       "        text-align: right;\n",
       "    }\n",
       "</style>\n",
       "<table border=\"1\" class=\"dataframe\">\n",
       "  <thead>\n",
       "    <tr style=\"text-align: right;\">\n",
       "      <th></th>\n",
       "      <th>destination</th>\n",
       "      <th>nom</th>\n",
       "      <th>score</th>\n",
       "      <th>latitude</th>\n",
       "      <th>longitude</th>\n",
       "      <th>url</th>\n",
       "      <th>description</th>\n",
       "    </tr>\n",
       "  </thead>\n",
       "  <tbody>\n",
       "    <tr>\n",
       "      <th>0</th>\n",
       "      <td>Aigues Mortes</td>\n",
       "      <td>Boutique Hôtel des Remparts &amp; Spa</td>\n",
       "      <td>9,3</td>\n",
       "      <td>43.568036</td>\n",
       "      <td>4.190344</td>\n",
       "      <td>https://www.booking.com/hotel/fr/les-remparts-...</td>\n",
       "      <td>Aménagé dans une ancienne base militaire datan...</td>\n",
       "    </tr>\n",
       "    <tr>\n",
       "      <th>1</th>\n",
       "      <td>Aigues Mortes</td>\n",
       "      <td>La Villa Mazarin</td>\n",
       "      <td>9,2</td>\n",
       "      <td>43.564987</td>\n",
       "      <td>4.191752</td>\n",
       "      <td>https://www.booking.com/hotel/fr/la-villa-maza...</td>\n",
       "      <td>Description de l’établissement La Villa Mazari...</td>\n",
       "    </tr>\n",
       "    <tr>\n",
       "      <th>2</th>\n",
       "      <td>Aigues Mortes</td>\n",
       "      <td>GOLF HOTEL</td>\n",
       "      <td>9,1</td>\n",
       "      <td>43.568057</td>\n",
       "      <td>4.102608</td>\n",
       "      <td>https://www.booking.com/hotel/fr/golf-la-grand...</td>\n",
       "      <td>Situé à La Grande-Motte, à 2 km de la plage de...</td>\n",
       "    </tr>\n",
       "    <tr>\n",
       "      <th>3</th>\n",
       "      <td>Aigues Mortes</td>\n",
       "      <td>Hotel Les Acacias</td>\n",
       "      <td>9,1</td>\n",
       "      <td>43.538658</td>\n",
       "      <td>4.134977</td>\n",
       "      <td>https://www.booking.com/hotel/fr/les-acacias-l...</td>\n",
       "      <td>L'Hotel Les Acacias, de style provençal, situé...</td>\n",
       "    </tr>\n",
       "    <tr>\n",
       "      <th>4</th>\n",
       "      <td>Aigues Mortes</td>\n",
       "      <td>La Maison de Lyna</td>\n",
       "      <td>9,1</td>\n",
       "      <td>43.566018</td>\n",
       "      <td>4.192353</td>\n",
       "      <td>https://www.booking.com/hotel/fr/la-maison-de-...</td>\n",
       "      <td>L’établissement La Maison de Lyna vous accueil...</td>\n",
       "    </tr>\n",
       "  </tbody>\n",
       "</table>\n",
       "</div>"
      ],
      "text/plain": [
       "     destination                                nom score   latitude  \\\n",
       "0  Aigues Mortes  Boutique Hôtel des Remparts & Spa   9,3  43.568036   \n",
       "1  Aigues Mortes                   La Villa Mazarin   9,2  43.564987   \n",
       "2  Aigues Mortes                         GOLF HOTEL   9,1  43.568057   \n",
       "3  Aigues Mortes                  Hotel Les Acacias   9,1  43.538658   \n",
       "4  Aigues Mortes                  La Maison de Lyna   9,1  43.566018   \n",
       "\n",
       "   longitude                                                url  \\\n",
       "0   4.190344  https://www.booking.com/hotel/fr/les-remparts-...   \n",
       "1   4.191752  https://www.booking.com/hotel/fr/la-villa-maza...   \n",
       "2   4.102608  https://www.booking.com/hotel/fr/golf-la-grand...   \n",
       "3   4.134977  https://www.booking.com/hotel/fr/les-acacias-l...   \n",
       "4   4.192353  https://www.booking.com/hotel/fr/la-maison-de-...   \n",
       "\n",
       "                                         description  \n",
       "0  Aménagé dans une ancienne base militaire datan...  \n",
       "1  Description de l’établissement La Villa Mazari...  \n",
       "2  Situé à La Grande-Motte, à 2 km de la plage de...  \n",
       "3  L'Hotel Les Acacias, de style provençal, situé...  \n",
       "4  L’établissement La Maison de Lyna vous accueil...  "
      ]
     },
     "execution_count": 4,
     "metadata": {},
     "output_type": "execute_result"
    }
   ],
   "source": [
    "# Création d'un dataframe avec le csv best_hotels\n",
    "hotels = pd.read_csv('src/best_hotels.csv')\n",
    "hotels.head()"
   ]
  },
  {
   "cell_type": "code",
   "execution_count": 5,
   "metadata": {},
   "outputs": [
    {
     "data": {
      "text/html": [
       "<div>\n",
       "<style scoped>\n",
       "    .dataframe tbody tr th:only-of-type {\n",
       "        vertical-align: middle;\n",
       "    }\n",
       "\n",
       "    .dataframe tbody tr th {\n",
       "        vertical-align: top;\n",
       "    }\n",
       "\n",
       "    .dataframe thead th {\n",
       "        text-align: right;\n",
       "    }\n",
       "</style>\n",
       "<table border=\"1\" class=\"dataframe\">\n",
       "  <thead>\n",
       "    <tr style=\"text-align: right;\">\n",
       "      <th></th>\n",
       "      <th>destination</th>\n",
       "      <th>nom</th>\n",
       "      <th>score</th>\n",
       "      <th>latitude</th>\n",
       "      <th>longitude</th>\n",
       "      <th>url</th>\n",
       "      <th>description</th>\n",
       "      <th>id_destination</th>\n",
       "    </tr>\n",
       "  </thead>\n",
       "  <tbody>\n",
       "    <tr>\n",
       "      <th>0</th>\n",
       "      <td>Aigues Mortes</td>\n",
       "      <td>Boutique Hôtel des Remparts &amp; Spa</td>\n",
       "      <td>9,3</td>\n",
       "      <td>43.568036</td>\n",
       "      <td>4.190344</td>\n",
       "      <td>https://www.booking.com/hotel/fr/les-remparts-...</td>\n",
       "      <td>Aménagé dans une ancienne base militaire datan...</td>\n",
       "      <td>25</td>\n",
       "    </tr>\n",
       "    <tr>\n",
       "      <th>1</th>\n",
       "      <td>Aigues Mortes</td>\n",
       "      <td>La Villa Mazarin</td>\n",
       "      <td>9,2</td>\n",
       "      <td>43.564987</td>\n",
       "      <td>4.191752</td>\n",
       "      <td>https://www.booking.com/hotel/fr/la-villa-maza...</td>\n",
       "      <td>Description de l’établissement La Villa Mazari...</td>\n",
       "      <td>25</td>\n",
       "    </tr>\n",
       "    <tr>\n",
       "      <th>2</th>\n",
       "      <td>Aigues Mortes</td>\n",
       "      <td>GOLF HOTEL</td>\n",
       "      <td>9,1</td>\n",
       "      <td>43.568057</td>\n",
       "      <td>4.102608</td>\n",
       "      <td>https://www.booking.com/hotel/fr/golf-la-grand...</td>\n",
       "      <td>Situé à La Grande-Motte, à 2 km de la plage de...</td>\n",
       "      <td>25</td>\n",
       "    </tr>\n",
       "    <tr>\n",
       "      <th>3</th>\n",
       "      <td>Aigues Mortes</td>\n",
       "      <td>Hotel Les Acacias</td>\n",
       "      <td>9,1</td>\n",
       "      <td>43.538658</td>\n",
       "      <td>4.134977</td>\n",
       "      <td>https://www.booking.com/hotel/fr/les-acacias-l...</td>\n",
       "      <td>L'Hotel Les Acacias, de style provençal, situé...</td>\n",
       "      <td>25</td>\n",
       "    </tr>\n",
       "    <tr>\n",
       "      <th>4</th>\n",
       "      <td>Aigues Mortes</td>\n",
       "      <td>La Maison de Lyna</td>\n",
       "      <td>9,1</td>\n",
       "      <td>43.566018</td>\n",
       "      <td>4.192353</td>\n",
       "      <td>https://www.booking.com/hotel/fr/la-maison-de-...</td>\n",
       "      <td>L’établissement La Maison de Lyna vous accueil...</td>\n",
       "      <td>25</td>\n",
       "    </tr>\n",
       "  </tbody>\n",
       "</table>\n",
       "</div>"
      ],
      "text/plain": [
       "     destination                                nom score   latitude  \\\n",
       "0  Aigues Mortes  Boutique Hôtel des Remparts & Spa   9,3  43.568036   \n",
       "1  Aigues Mortes                   La Villa Mazarin   9,2  43.564987   \n",
       "2  Aigues Mortes                         GOLF HOTEL   9,1  43.568057   \n",
       "3  Aigues Mortes                  Hotel Les Acacias   9,1  43.538658   \n",
       "4  Aigues Mortes                  La Maison de Lyna   9,1  43.566018   \n",
       "\n",
       "   longitude                                                url  \\\n",
       "0   4.190344  https://www.booking.com/hotel/fr/les-remparts-...   \n",
       "1   4.191752  https://www.booking.com/hotel/fr/la-villa-maza...   \n",
       "2   4.102608  https://www.booking.com/hotel/fr/golf-la-grand...   \n",
       "3   4.134977  https://www.booking.com/hotel/fr/les-acacias-l...   \n",
       "4   4.192353  https://www.booking.com/hotel/fr/la-maison-de-...   \n",
       "\n",
       "                                         description  id_destination  \n",
       "0  Aménagé dans une ancienne base militaire datan...              25  \n",
       "1  Description de l’établissement La Villa Mazari...              25  \n",
       "2  Situé à La Grande-Motte, à 2 km de la plage de...              25  \n",
       "3  L'Hotel Les Acacias, de style provençal, situé...              25  \n",
       "4  L’établissement La Maison de Lyna vous accueil...              25  "
      ]
     },
     "execution_count": 5,
     "metadata": {},
     "output_type": "execute_result"
    }
   ],
   "source": [
    "# Ajout d'une colonne id_destination\n",
    "hotels['id_destination'] = hotels['destination'].map(meteo.set_index('Destination')['Id'])\n",
    "hotels.head()"
   ]
  },
  {
   "cell_type": "markdown",
   "metadata": {},
   "source": [
    "#### ETL-Load"
   ]
  },
  {
   "cell_type": "markdown",
   "metadata": {},
   "source": [
    "#### Connexion à la base de donnée"
   ]
  },
  {
   "cell_type": "code",
   "execution_count": 8,
   "metadata": {},
   "outputs": [],
   "source": [
    "USERNAME = \"postgres\"  \n",
    "PASSWORD = PASSWORD  \n",
    "HOSTNAME = \"kayak.c9au4gm0691i.eu-west-3.rds.amazonaws.com\"  \n",
    "DBNAME = \"kayak\"  \n",
    "PORT = \"5432\"  \n",
    "\n",
    "# Connexion à PostgreSQL avec SQLAlchemy\n",
    "engine = create_engine(f\"postgresql+psycopg2://{USERNAME}:{PASSWORD}@{HOSTNAME}:{PORT}/{DBNAME}\", echo=True)"
   ]
  },
  {
   "cell_type": "code",
   "execution_count": 9,
   "metadata": {},
   "outputs": [
    {
     "name": "stdout",
     "output_type": "stream",
     "text": [
      "2025-03-07 18:10:06,164 INFO sqlalchemy.engine.Engine select pg_catalog.version()\n",
      "2025-03-07 18:10:06,169 INFO sqlalchemy.engine.Engine [raw sql] {}\n",
      "2025-03-07 18:10:06,228 INFO sqlalchemy.engine.Engine select current_schema()\n",
      "2025-03-07 18:10:06,229 INFO sqlalchemy.engine.Engine [raw sql] {}\n",
      "2025-03-07 18:10:06,282 INFO sqlalchemy.engine.Engine show standard_conforming_strings\n",
      "2025-03-07 18:10:06,284 INFO sqlalchemy.engine.Engine [raw sql] {}\n",
      "Connexion réussie !\n"
     ]
    }
   ],
   "source": [
    "# Test de la connexion\n",
    "with engine.connect() as connection:\n",
    "    print(\"Connexion réussie !\")"
   ]
  },
  {
   "cell_type": "markdown",
   "metadata": {},
   "source": [
    "<img src=\"img/rds.png\" width=\"900\">"
   ]
  },
  {
   "cell_type": "code",
   "execution_count": null,
   "metadata": {},
   "outputs": [
    {
     "name": "stdout",
     "output_type": "stream",
     "text": [
      "2025-03-07 18:10:21,413 INFO sqlalchemy.engine.Engine BEGIN (implicit)\n",
      "2025-03-07 18:10:21,430 INFO sqlalchemy.engine.Engine SELECT pg_catalog.pg_class.relname \n",
      "FROM pg_catalog.pg_class JOIN pg_catalog.pg_namespace ON pg_catalog.pg_namespace.oid = pg_catalog.pg_class.relnamespace \n",
      "WHERE pg_catalog.pg_class.relname = %(table_name)s AND pg_catalog.pg_class.relkind = ANY (ARRAY[%(param_1)s, %(param_2)s, %(param_3)s, %(param_4)s, %(param_5)s]) AND pg_catalog.pg_table_is_visible(pg_catalog.pg_class.oid) AND pg_catalog.pg_namespace.nspname != %(nspname_1)s\n",
      "2025-03-07 18:10:21,431 INFO sqlalchemy.engine.Engine [generated in 0.00144s] {'table_name': 'meteo', 'param_1': 'r', 'param_2': 'p', 'param_3': 'f', 'param_4': 'v', 'param_5': 'm', 'nspname_1': 'pg_catalog'}\n",
      "2025-03-07 18:10:21,491 INFO sqlalchemy.engine.Engine \n",
      "CREATE TABLE meteo (\n",
      "\t\"Id\" BIGINT, \n",
      "\t\"Destination\" TEXT, \n",
      "\t\"Latitude\" FLOAT(53), \n",
      "\t\"Longitude\" FLOAT(53), \n",
      "\t\"Temp_J0\" FLOAT(53), \n",
      "\t\"Rain_J0\" FLOAT(53), \n",
      "\t\"Temp_J1\" FLOAT(53), \n",
      "\t\"Rain_J1\" FLOAT(53), \n",
      "\t\"Temp_J2\" FLOAT(53), \n",
      "\t\"Rain_J2\" FLOAT(53), \n",
      "\t\"Temp_J3\" FLOAT(53), \n",
      "\t\"Rain_J3\" FLOAT(53), \n",
      "\t\"Temp_J4\" FLOAT(53), \n",
      "\t\"Rain_J4\" FLOAT(53), \n",
      "\t\"Temp_J5\" FLOAT(53), \n",
      "\t\"Rain_J5\" FLOAT(53), \n",
      "\t\"Temp_J6\" FLOAT(53), \n",
      "\t\"Rain_J6\" FLOAT(53), \n",
      "\t\"Temp_J7\" FLOAT(53), \n",
      "\t\"Rain_J7\" FLOAT(53)\n",
      ")\n",
      "\n",
      "\n",
      "2025-03-07 18:10:21,493 INFO sqlalchemy.engine.Engine [no key 0.00139s] {}\n",
      "2025-03-07 18:10:21,528 INFO sqlalchemy.engine.Engine INSERT INTO meteo (\"Id\", \"Destination\", \"Latitude\", \"Longitude\", \"Temp_J0\", \"Rain_J0\", \"Temp_J1\", \"Rain_J1\", \"Temp_J2\", \"Rain_J2\", \"Temp_J3\", \"Rain_J3\", \"Temp_J4\", \"Rain_J4\", \"Temp_J5\", \"Rain_J5\", \"Temp_J6\", \"Rain_J6\", \"Temp_J7\", \"Rain_J7\") VALUES (% ... 11736 characters truncated ... (Temp_J5__34)s, %(Rain_J5__34)s, %(Temp_J6__34)s, %(Rain_J6__34)s, %(Temp_J7__34)s, %(Rain_J7__34)s)\n",
      "2025-03-07 18:10:21,531 INFO sqlalchemy.engine.Engine [generated in 0.00069s (insertmanyvalues) 1/1 (unordered)] {'Temp_J3__0': 11.14, 'Temp_J5__0': 13.36, 'Temp_J6__0': 12.46, 'Temp_J1__0': 9.03, 'Rain_J3__0': 0.0, 'Rain_J2__0': 0.0, 'Rain_J0__0': 0.0, 'Rain_J4__0': 0.0, 'Id__0': 0, 'Rain_J7__0': 0.0, 'Longitude__0': -1.511459954959514, 'Temp_J7__0': 15.48, 'Temp_J2__0': 10.08, 'Destination__0': 'Mont Saint Michel', 'Latitude__0': 48.6359541, 'Rain_J1__0': 0.0, 'Rain_J6__0': 0.0, 'Rain_J5__0': 0.0, 'Temp_J4__0': 13.47, 'Temp_J0__0': 8.78, 'Temp_J3__1': 8.95, 'Temp_J5__1': 12.92, 'Temp_J6__1': 13.33, 'Temp_J1__1': 7.79, 'Rain_J3__1': 0.0, 'Rain_J2__1': 0.0, 'Rain_J0__1': 0.0, 'Rain_J4__1': 0.0, 'Id__1': 1, 'Rain_J7__1': 0.27, 'Longitude__1': -2.0260409, 'Temp_J7__1': 14.56, 'Temp_J2__1': 8.3, 'Destination__1': 'St Malo', 'Latitude__1': 48.649518, 'Rain_J1__1': 0.0, 'Rain_J6__1': 0.0, 'Rain_J5__1': 0.0, 'Temp_J4__1': 11.16, 'Temp_J0__1': 8.08, 'Temp_J3__2': 9.28, 'Temp_J5__2': 13.99, 'Temp_J6__2': 15.07, 'Temp_J1__2': 7.29, 'Rain_J3__2': 0.0, 'Rain_J2__2': 0.0, 'Rain_J0__2': 0.0, 'Rain_J4__2': 0.0, 'Id__2': 2, 'Rain_J7__2': 0.0 ... 600 parameters truncated ... 'Longitude__32': -1.5592776, 'Temp_J7__32': 18.71, 'Temp_J2__32': 13.74, 'Destination__32': 'Biarritz', 'Latitude__32': 43.4832523, 'Rain_J1__32': 0.0, 'Rain_J6__32': 0.0, 'Rain_J5__32': 0.0, 'Temp_J4__32': 16.35, 'Temp_J0__32': 8.21, 'Temp_J3__33': 14.67, 'Temp_J5__33': 17.92, 'Temp_J6__33': 18.13, 'Temp_J1__33': 9.6, 'Rain_J3__33': 0.46, 'Rain_J2__33': 0.0, 'Rain_J0__33': 0.0, 'Rain_J4__33': 0.0, 'Id__33': 33, 'Rain_J7__33': 1.41, 'Longitude__33': -1.4736657, 'Temp_J7__33': 19.46, 'Temp_J2__33': 14.44, 'Destination__33': 'Bayonne', 'Latitude__33': 43.4945144, 'Rain_J1__33': 0.0, 'Rain_J6__33': 0.0, 'Rain_J5__33': 0.0, 'Temp_J4__33': 17.26, 'Temp_J0__33': 8.93, 'Temp_J3__34': 11.48, 'Temp_J5__34': 12.87, 'Temp_J6__34': 11.69, 'Temp_J1__34': 8.42, 'Rain_J3__34': 0.0, 'Rain_J2__34': 0.0, 'Rain_J0__34': 0.0, 'Rain_J4__34': 0.0, 'Id__34': 34, 'Rain_J7__34': 0.0, 'Longitude__34': -1.1515951, 'Temp_J7__34': 14.24, 'Temp_J2__34': 10.04, 'Destination__34': 'La Rochelle', 'Latitude__34': 46.159732, 'Rain_J1__34': 0.0, 'Rain_J6__34': 0.0, 'Rain_J5__34': 0.0, 'Temp_J4__34': 13.57, 'Temp_J0__34': 8.57}\n",
      "2025-03-07 18:10:21,567 INFO sqlalchemy.engine.Engine COMMIT\n"
     ]
    },
    {
     "data": {
      "text/plain": [
       "35"
      ]
     },
     "execution_count": 10,
     "metadata": {},
     "output_type": "execute_result"
    }
   ],
   "source": [
    "# Envoi du DataFrame vers la table SQL meteo\n",
    "meteo.to_sql(\n",
    "    name=\"meteo\", \n",
    "    con=engine,  \n",
    "    index=False, \n",
    "    if_exists=\"replace\" \n",
    ")"
   ]
  },
  {
   "cell_type": "code",
   "execution_count": 11,
   "metadata": {},
   "outputs": [
    {
     "name": "stdout",
     "output_type": "stream",
     "text": [
      "2025-03-07 18:10:47,125 INFO sqlalchemy.engine.Engine BEGIN (implicit)\n",
      "2025-03-07 18:10:47,128 INFO sqlalchemy.engine.Engine SELECT pg_catalog.pg_class.relname \n",
      "FROM pg_catalog.pg_class JOIN pg_catalog.pg_namespace ON pg_catalog.pg_namespace.oid = pg_catalog.pg_class.relnamespace \n",
      "WHERE pg_catalog.pg_class.relname = %(table_name)s AND pg_catalog.pg_class.relkind = ANY (ARRAY[%(param_1)s, %(param_2)s, %(param_3)s, %(param_4)s, %(param_5)s]) AND pg_catalog.pg_table_is_visible(pg_catalog.pg_class.oid) AND pg_catalog.pg_namespace.nspname != %(nspname_1)s\n",
      "2025-03-07 18:10:47,128 INFO sqlalchemy.engine.Engine [cached since 25.7s ago] {'table_name': 'hotels', 'param_1': 'r', 'param_2': 'p', 'param_3': 'f', 'param_4': 'v', 'param_5': 'm', 'nspname_1': 'pg_catalog'}\n",
      "2025-03-07 18:10:47,188 INFO sqlalchemy.engine.Engine \n",
      "CREATE TABLE hotels (\n",
      "\tdestination TEXT, \n",
      "\tnom TEXT, \n",
      "\tscore TEXT, \n",
      "\tlatitude FLOAT(53), \n",
      "\tlongitude FLOAT(53), \n",
      "\turl TEXT, \n",
      "\tdescription TEXT, \n",
      "\tid_destination BIGINT\n",
      ")\n",
      "\n",
      "\n",
      "2025-03-07 18:10:47,188 INFO sqlalchemy.engine.Engine [no key 0.00161s] {}\n",
      "2025-03-07 18:10:47,244 INFO sqlalchemy.engine.Engine INSERT INTO hotels (destination, nom, score, latitude, longitude, url, description, id_destination) VALUES (%(destination__0)s, %(nom__0)s, %(score__0)s, %(latitude__0)s, %(longitude__0)s, %(url__0)s, %(description__0)s, %(id_destination__0)s), (%(de ... 106675 characters truncated ...  %(latitude__699)s, %(longitude__699)s, %(url__699)s, %(description__699)s, %(id_destination__699)s)\n",
      "2025-03-07 18:10:47,249 INFO sqlalchemy.engine.Engine [generated in 0.01159s (insertmanyvalues) 1/1 (unordered)] {'longitude__0': 4.190343797190508, 'nom__0': 'Boutique Hôtel des Remparts & Spa', 'description__0': \"Aménagé dans une ancienne base militaire datant du XVIIIe siècle, au sein des remparts médiévaux d'Aigues-Mortes, le Boutique Hôtel des Remparts & Spa est un établissement raffiné, doté d'un bar et...\", 'id_destination__0': 25, 'latitude__0': 43.568035521418736, 'destination__0': 'Aigues Mortes', 'score__0': '9,3', 'url__0': 'https://www.booking.com/hotel/fr/les-remparts-aigues-mortes.fr.html?aid=304142&label=gen173nr-1FCAQoggJCFHNlYXJjaF9haWd1ZXMlbW9ydGVzSA1YBGhNiAEBmAENu ... (204 characters truncated) ... sr_order=bayesian_review_score&nflt=review_score%3D90%3Bht_id%3D204%3Breview_score%3D80&srpvid=252c87af59dc0565&srepoch=1740856673&from=searchresults', 'longitude__1': 4.191751956841472, 'nom__1': 'La Villa Mazarin', 'description__1': \"Description de l’établissement La Villa Mazarin vous accueille dans un bâtiment datant du XVe\\xa0siècle, dans la ville fortifiée d’Aigues-Mortes. Sur place, vous profiterez d'une terrasse et d'un bar. \", 'id_destination__1': 25, 'latitude__1': 43.56498661964503, 'destination__1': 'Aigues Mortes', 'score__1': '9,2', 'url__1': 'https://www.booking.com/hotel/fr/la-villa-mazarin.fr.html?aid=304142&label=gen173nr-1FCAQoggJCFHNlYXJjaF9haWd1ZXMlbW9ydGVzSA1YBGhNiAEBmAENuAEKyAEF2AE ... (194 characters truncated) ... sr_order=bayesian_review_score&nflt=review_score%3D90%3Bht_id%3D204%3Breview_score%3D80&srpvid=252c87af59dc0565&srepoch=1740856673&from=searchresults', 'longitude__2': 4.102608, 'nom__2': 'GOLF HOTEL', 'description__2': 'Situé à La Grande-Motte, à 2 km de la plage de Point-Zero, le GOLF HOTEL propose des hébergements avec une salle de sport, un bar et un jardin. ', 'id_destination__2': 25, 'latitude__2': 43.568057, 'destination__2': 'Aigues Mortes', 'score__2': '9,1', 'url__2': 'https://www.booking.com/hotel/fr/golf-la-grande-motte.fr.html?aid=304142&label=gen173nr-1FCAQoggJCFHNlYXJjaF9haWd1ZXMlbW9ydGVzSA1YBGhNiAEBmAENuAEKyAE ... (200 characters truncated) ... sr_order=bayesian_review_score&nflt=review_score%3D90%3Bht_id%3D204%3Breview_score%3D80&srpvid=252c87af59dc0565&srepoch=1740856673&from=searchresults', 'longitude__3': 4.134977201223364, 'nom__3': 'Hotel Les Acacias', 'description__3': \"L'Hotel Les Acacias, de style provençal, situé à 30 km de Montpellier et du Parc naturel régional de Camargue, dispose d'une terrasse et d'une bibliothèque. \", 'id_destination__3': 25, 'latitude__3': 43.5386584350964, 'destination__3': 'Aigues Mortes', 'score__3': '9,1', 'url__3': 'https://www.booking.com/hotel/fr/les-acacias-le-grau-du-roi.fr.html?aid=304142&label=gen173nr-1FCAQoggJCFHNlYXJjaF9haWd1ZXMlbW9ydGVzSA1YBGhNiAEBmAENu ... (206 characters truncated) ... sr_order=bayesian_review_score&nflt=review_score%3D90%3Bht_id%3D204%3Breview_score%3D80&srpvid=252c87af59dc0565&srepoch=1740856673&from=searchresults', 'longitude__4': 4.1923532, 'nom__4': 'La Maison de Lyna', 'description__4': 'L’établissement La Maison de Lyna vous accueille à Aigues-Mortes, à respectivement 23 km et 24 km de ces lieux d’intérêt : Parc des expositions de Montpellier et Salle de concert Arena Montpellier. ', 'id_destination__4': 25, 'latitude__4': 43.5660175, 'destination__4': 'Aigues Mortes', 'score__4': '9,1', 'url__4': 'https://www.booking.com/hotel/fr/la-maison-de-lyna.fr.html?aid=304142&label=gen173nr-1FCAQoggJCFHNlYXJjaF9haWd1ZXMlbW9ydGVzSA1YBGhNiAEBmAENuAEKyAEF2A ... (195 characters truncated) ... sr_order=bayesian_review_score&nflt=review_score%3D90%3Bht_id%3D204%3Breview_score%3D80&srpvid=252c87af59dc0565&srepoch=1740856673&from=searchresults', 'longitude__5': 4.091806411743164, 'nom__5': 'Hôtel Saint-Clair, côté Plage', 'description__5': \"L'Hôtel Saint-Clair, côté Plage est situé à La Grande-Motte. Vous pourrez prendre un verre dans le bar sur place et vous détendre dans le jardin. Un parking privé est à votre disposition sur place. \", 'id_destination__5': 25, 'latitude__5': 43.557042969435685, 'destination__5': 'Aigues Mortes', 'score__5': '8,9', 'url__5': 'https://www.booking.com/hotel/fr/saint-clair-la-grande-motte.fr.html?aid=304142&label=gen173nr-1FCAQoggJCFHNlYXJjaF9haWd1ZXMlbW9ydGVzSA1YBGhNiAEBmAEN ... (207 characters truncated) ... sr_order=bayesian_review_score&nflt=review_score%3D90%3Bht_id%3D204%3Breview_score%3D80&srpvid=252c87af59dc0565&srepoch=1740856673&from=searchresults', 'longitude__6': 4.0921550989151, 'nom__6': 'Hotel Le Quetzal' ... 5500 parameters truncated ... 'score__693': '8,6', 'url__693': 'https://www.booking.com/hotel/fr/square-nimes.fr.html?aid=304142&label=gen173nr-1FCAQoggJCC3NlYXJjaF91emVzSA1YBGhNiAEBmAENuAEKyAEF2AEB6AEB-AEDiAIBqAI ... (180 characters truncated) ... sr_order=bayesian_review_score&nflt=review_score%3D90%3Bht_id%3D204%3Breview_score%3D80&srpvid=38a487af710e0419&srepoch=1740856671&from=searchresults', 'longitude__694': 4.476158916950226, 'nom__694': 'Le Castellas Hotel & SPA - TERITORIA', 'description__694': \"L'Hostellerie Le Castellas Les Collectionneurs est une résidence du XVIIe siècle, située au cœur de Collias. \", 'id_destination__694': 23, 'latitude__694': 43.95418957604745, 'destination__694': 'Uzes', 'score__694': '8,6', 'url__694': 'https://www.booking.com/hotel/fr/castellascollias.fr.html?aid=304142&label=gen173nr-1FCAQoggJCC3NlYXJjaF91emVzSA1YBGhNiAEBmAENuAEKyAEF2AEB6AEB-AEDiAI ... (184 characters truncated) ... sr_order=bayesian_review_score&nflt=review_score%3D90%3Bht_id%3D204%3Breview_score%3D80&srpvid=38a487af710e0419&srepoch=1740856671&from=searchresults', 'longitude__695': 4.4200515, 'nom__695': 'La Taverne', 'description__695': \"La Taverne est située à Uzès, dans une rue piétonne, à seulement 2 minutes à pied du château du Duché. L'office de tourisme se trouve à 100 mètres et le musée Haribo est à 3 km. \", 'id_destination__695': 23, 'latitude__695': 44.014659, 'destination__695': 'Uzes', 'score__695': '8,6', 'url__695': 'https://www.booking.com/hotel/fr/la-taverne.fr.html?aid=304142&label=gen173nr-1FCAQoggJCC3NlYXJjaF91emVzSA1YBGhNiAEBmAENuAEKyAEF2AEB6AEB-AEDiAIBqAIDu ... (176 characters truncated) ... sr_order=bayesian_review_score&nflt=review_score%3D90%3Bht_id%3D204%3Breview_score%3D80&srpvid=38a487af710e0419&srepoch=1740856671&from=searchresults', 'longitude__696': 4.42113071680069, 'nom__696': \"La Maison d'Uzès Relais & Châteaux\", 'description__696': \"Situé dans le centre de la vieille ville d'Uzès, l'établissement La Maison d'Uzès Relais & Châteaux occupe un bâtiment classé. \", 'id_destination__696': 23, 'latitude__696': 44.0127444719537, 'destination__696': 'Uzes', 'score__696': '8,5', 'url__696': 'https://www.booking.com/hotel/fr/la-maison-d-uza-s.fr.html?aid=304142&label=gen173nr-1FCAQoggJCC3NlYXJjaF91emVzSA1YBGhNiAEBmAENuAEKyAEF2AEB6AEB-AEDiA ... (183 characters truncated) ... sr_order=bayesian_review_score&nflt=review_score%3D90%3Bht_id%3D204%3Breview_score%3D80&srpvid=38a487af710e0419&srepoch=1740856671&from=searchresults', 'longitude__697': 4.443197781753497, 'nom__697': 'Hotel Restaurant Le Clos De Pradines', 'description__697': \"L'établissement Le Clos de Pradines vous accueille à Saint-Quentin-la-Poterie, près de Nîmes, Alès et Avignon. \", 'id_destination__697': 23, 'latitude__697': 44.0461975690864, 'destination__697': 'Uzes', 'score__697': '8,4', 'url__697': 'https://www.booking.com/hotel/fr/clos-des-pradines.fr.html?aid=304142&label=gen173nr-1FCAQoggJCC3NlYXJjaF91emVzSA1YBGhNiAEBmAENuAEKyAEF2AEB6AEB-AEDiA ... (185 characters truncated) ... sr_order=bayesian_review_score&nflt=review_score%3D90%3Bht_id%3D204%3Breview_score%3D80&srpvid=38a487af710e0419&srepoch=1740856671&from=searchresults', 'longitude__698': 4.420023858328932, 'nom__698': 'Patio De Violette', 'description__698': \"Situé dans la campagne du Languedoc-Roussillon, le Patio De Violette se trouve à 2 minutes de route de la ville d'Uzès. \", 'id_destination__698': 23, 'latitude__698': 44.02843142473164, 'destination__698': 'Uzes', 'score__698': '8,4', 'url__698': 'https://www.booking.com/hotel/fr/patio-de-violette.fr.html?aid=304142&label=gen173nr-1FCAQoggJCC3NlYXJjaF91emVzSA1YBGhNiAEBmAENuAEKyAEF2AEB6AEB-AEDiA ... (183 characters truncated) ... sr_order=bayesian_review_score&nflt=review_score%3D90%3Bht_id%3D204%3Breview_score%3D80&srpvid=38a487af710e0419&srepoch=1740856671&from=searchresults', 'longitude__699': 4.63867562698365, 'nom__699': \"greet hôtel Pont du Gard - Route d'Avignon\", 'description__699': \"L’établissement greet hôtel Pont du Gard - Route d'Avignon vous accueille à Estézargues, à 16 km de ce lieu d’intérêt : Gare d'Avignon-Centre. \", 'id_destination__699': 23, 'latitude__699': 43.9516637894324, 'destination__699': 'Uzes', 'score__699': '8,3', 'url__699': 'https://www.booking.com/hotel/fr/la-fenouillere-estezargues.fr.html?aid=304142&label=gen173nr-1FCAQoggJCC3NlYXJjaF91emVzSA1YBGhNiAEBmAENuAEKyAEF2AEB6 ... (225 characters truncated) ... nflt=review_score%3D90%3Bht_id%3D204%3Breview_score%3D80&srpvid=38a487af710e0419&srepoch=1740856671&from_sustainable_property_sr=1&from=searchresults'}\n",
      "2025-03-07 18:10:47,611 INFO sqlalchemy.engine.Engine COMMIT\n"
     ]
    },
    {
     "data": {
      "text/plain": [
       "700"
      ]
     },
     "execution_count": 11,
     "metadata": {},
     "output_type": "execute_result"
    }
   ],
   "source": [
    "# Envoi du DataFrame vers la table SQL hotels\n",
    "hotels.to_sql(\n",
    "    name=\"hotels\",  \n",
    "    con=engine,  \n",
    "    index=False,  \n",
    "    if_exists=\"replace\"  \n",
    ")"
   ]
  },
  {
   "cell_type": "markdown",
   "metadata": {},
   "source": [
    "## Top 5 des destinations"
   ]
  },
  {
   "cell_type": "code",
   "execution_count": null,
   "metadata": {},
   "outputs": [
    {
     "name": "stdout",
     "output_type": "stream",
     "text": [
      "2025-03-07 18:11:23,461 INFO sqlalchemy.engine.Engine BEGIN (implicit)\n",
      "2025-03-07 18:11:23,463 INFO sqlalchemy.engine.Engine SELECT * FROM meteo\n",
      "2025-03-07 18:11:23,463 INFO sqlalchemy.engine.Engine [generated in 0.00371s] {}\n"
     ]
    },
    {
     "data": {
      "text/html": [
       "<div>\n",
       "<style scoped>\n",
       "    .dataframe tbody tr th:only-of-type {\n",
       "        vertical-align: middle;\n",
       "    }\n",
       "\n",
       "    .dataframe tbody tr th {\n",
       "        vertical-align: top;\n",
       "    }\n",
       "\n",
       "    .dataframe thead th {\n",
       "        text-align: right;\n",
       "    }\n",
       "</style>\n",
       "<table border=\"1\" class=\"dataframe\">\n",
       "  <thead>\n",
       "    <tr style=\"text-align: right;\">\n",
       "      <th></th>\n",
       "      <th>Id</th>\n",
       "      <th>Destination</th>\n",
       "      <th>Latitude</th>\n",
       "      <th>Longitude</th>\n",
       "      <th>Temp_J0</th>\n",
       "      <th>Rain_J0</th>\n",
       "      <th>Temp_J1</th>\n",
       "      <th>Rain_J1</th>\n",
       "      <th>Temp_J2</th>\n",
       "      <th>Rain_J2</th>\n",
       "      <th>Temp_J3</th>\n",
       "      <th>Rain_J3</th>\n",
       "      <th>Temp_J4</th>\n",
       "      <th>Rain_J4</th>\n",
       "      <th>Temp_J5</th>\n",
       "      <th>Rain_J5</th>\n",
       "      <th>Temp_J6</th>\n",
       "      <th>Rain_J6</th>\n",
       "      <th>Temp_J7</th>\n",
       "      <th>Rain_J7</th>\n",
       "    </tr>\n",
       "  </thead>\n",
       "  <tbody>\n",
       "    <tr>\n",
       "      <th>0</th>\n",
       "      <td>0</td>\n",
       "      <td>Mont Saint Michel</td>\n",
       "      <td>48.635954</td>\n",
       "      <td>-1.511460</td>\n",
       "      <td>8.78</td>\n",
       "      <td>0.0</td>\n",
       "      <td>9.03</td>\n",
       "      <td>0.0</td>\n",
       "      <td>10.08</td>\n",
       "      <td>0.0</td>\n",
       "      <td>11.14</td>\n",
       "      <td>0.0</td>\n",
       "      <td>13.47</td>\n",
       "      <td>0.0</td>\n",
       "      <td>13.36</td>\n",
       "      <td>0.0</td>\n",
       "      <td>12.46</td>\n",
       "      <td>0.0</td>\n",
       "      <td>15.48</td>\n",
       "      <td>0.00</td>\n",
       "    </tr>\n",
       "    <tr>\n",
       "      <th>1</th>\n",
       "      <td>1</td>\n",
       "      <td>St Malo</td>\n",
       "      <td>48.649518</td>\n",
       "      <td>-2.026041</td>\n",
       "      <td>8.08</td>\n",
       "      <td>0.0</td>\n",
       "      <td>7.79</td>\n",
       "      <td>0.0</td>\n",
       "      <td>8.30</td>\n",
       "      <td>0.0</td>\n",
       "      <td>8.95</td>\n",
       "      <td>0.0</td>\n",
       "      <td>11.16</td>\n",
       "      <td>0.0</td>\n",
       "      <td>12.92</td>\n",
       "      <td>0.0</td>\n",
       "      <td>13.33</td>\n",
       "      <td>0.0</td>\n",
       "      <td>14.56</td>\n",
       "      <td>0.27</td>\n",
       "    </tr>\n",
       "    <tr>\n",
       "      <th>2</th>\n",
       "      <td>2</td>\n",
       "      <td>Bayeux</td>\n",
       "      <td>49.276462</td>\n",
       "      <td>-0.702474</td>\n",
       "      <td>7.45</td>\n",
       "      <td>0.0</td>\n",
       "      <td>7.29</td>\n",
       "      <td>0.0</td>\n",
       "      <td>8.50</td>\n",
       "      <td>0.0</td>\n",
       "      <td>9.28</td>\n",
       "      <td>0.0</td>\n",
       "      <td>12.76</td>\n",
       "      <td>0.0</td>\n",
       "      <td>13.99</td>\n",
       "      <td>0.0</td>\n",
       "      <td>15.07</td>\n",
       "      <td>0.0</td>\n",
       "      <td>15.74</td>\n",
       "      <td>0.00</td>\n",
       "    </tr>\n",
       "    <tr>\n",
       "      <th>3</th>\n",
       "      <td>3</td>\n",
       "      <td>Le Havre</td>\n",
       "      <td>49.493898</td>\n",
       "      <td>0.107973</td>\n",
       "      <td>7.94</td>\n",
       "      <td>0.0</td>\n",
       "      <td>8.31</td>\n",
       "      <td>0.0</td>\n",
       "      <td>8.76</td>\n",
       "      <td>0.0</td>\n",
       "      <td>9.56</td>\n",
       "      <td>0.0</td>\n",
       "      <td>11.17</td>\n",
       "      <td>0.0</td>\n",
       "      <td>12.29</td>\n",
       "      <td>0.0</td>\n",
       "      <td>11.57</td>\n",
       "      <td>0.0</td>\n",
       "      <td>13.08</td>\n",
       "      <td>0.00</td>\n",
       "    </tr>\n",
       "    <tr>\n",
       "      <th>4</th>\n",
       "      <td>4</td>\n",
       "      <td>Rouen</td>\n",
       "      <td>49.440459</td>\n",
       "      <td>1.093966</td>\n",
       "      <td>7.92</td>\n",
       "      <td>0.0</td>\n",
       "      <td>9.06</td>\n",
       "      <td>0.0</td>\n",
       "      <td>9.77</td>\n",
       "      <td>0.0</td>\n",
       "      <td>11.23</td>\n",
       "      <td>0.0</td>\n",
       "      <td>13.29</td>\n",
       "      <td>0.0</td>\n",
       "      <td>14.74</td>\n",
       "      <td>0.0</td>\n",
       "      <td>14.73</td>\n",
       "      <td>0.0</td>\n",
       "      <td>15.82</td>\n",
       "      <td>0.00</td>\n",
       "    </tr>\n",
       "  </tbody>\n",
       "</table>\n",
       "</div>"
      ],
      "text/plain": [
       "   Id        Destination   Latitude  Longitude  Temp_J0  Rain_J0  Temp_J1  \\\n",
       "0   0  Mont Saint Michel  48.635954  -1.511460     8.78      0.0     9.03   \n",
       "1   1            St Malo  48.649518  -2.026041     8.08      0.0     7.79   \n",
       "2   2             Bayeux  49.276462  -0.702474     7.45      0.0     7.29   \n",
       "3   3           Le Havre  49.493898   0.107973     7.94      0.0     8.31   \n",
       "4   4              Rouen  49.440459   1.093966     7.92      0.0     9.06   \n",
       "\n",
       "   Rain_J1  Temp_J2  Rain_J2  Temp_J3  Rain_J3  Temp_J4  Rain_J4  Temp_J5  \\\n",
       "0      0.0    10.08      0.0    11.14      0.0    13.47      0.0    13.36   \n",
       "1      0.0     8.30      0.0     8.95      0.0    11.16      0.0    12.92   \n",
       "2      0.0     8.50      0.0     9.28      0.0    12.76      0.0    13.99   \n",
       "3      0.0     8.76      0.0     9.56      0.0    11.17      0.0    12.29   \n",
       "4      0.0     9.77      0.0    11.23      0.0    13.29      0.0    14.74   \n",
       "\n",
       "   Rain_J5  Temp_J6  Rain_J6  Temp_J7  Rain_J7  \n",
       "0      0.0    12.46      0.0    15.48     0.00  \n",
       "1      0.0    13.33      0.0    14.56     0.27  \n",
       "2      0.0    15.07      0.0    15.74     0.00  \n",
       "3      0.0    11.57      0.0    13.08     0.00  \n",
       "4      0.0    14.73      0.0    15.82     0.00  "
      ]
     },
     "execution_count": 13,
     "metadata": {},
     "output_type": "execute_result"
    }
   ],
   "source": [
    "# Récupération des données méteo dans la base de données\n",
    "stmt = text(\"SELECT * \"\n",
    "            \"FROM meteo\"\n",
    "            )\n",
    "\n",
    "meteo = pd.read_sql_query(con=engine.connect(), sql=stmt)\n",
    "\n",
    "meteo.head()"
   ]
  },
  {
   "cell_type": "code",
   "execution_count": null,
   "metadata": {},
   "outputs": [
    {
     "data": {
      "text/plain": [
       "['Temp_J0',\n",
       " 'Temp_J1',\n",
       " 'Temp_J2',\n",
       " 'Temp_J3',\n",
       " 'Temp_J4',\n",
       " 'Temp_J5',\n",
       " 'Temp_J6',\n",
       " 'Temp_J7']"
      ]
     },
     "execution_count": 14,
     "metadata": {},
     "output_type": "execute_result"
    }
   ],
   "source": [
    "# Colonnes des températures\n",
    "Temp_col = [col for col in meteo.columns if \"Temp\" in col]  \n",
    "Temp_col"
   ]
  },
  {
   "cell_type": "code",
   "execution_count": 16,
   "metadata": {},
   "outputs": [],
   "source": [
    "# Moyenne des températures\n",
    "meteo[\"Mean_temp\"] = meteo[Temp_col].mean(axis=1).round()"
   ]
  },
  {
   "cell_type": "code",
   "execution_count": null,
   "metadata": {},
   "outputs": [
    {
     "data": {
      "text/plain": [
       "['Rain_J0',\n",
       " 'Rain_J1',\n",
       " 'Rain_J2',\n",
       " 'Rain_J3',\n",
       " 'Rain_J4',\n",
       " 'Rain_J5',\n",
       " 'Rain_J6',\n",
       " 'Rain_J7']"
      ]
     },
     "execution_count": 17,
     "metadata": {},
     "output_type": "execute_result"
    }
   ],
   "source": [
    "# Colonnes Pluies\n",
    "Rain_col = [col for col in meteo.columns if \"Rain\" in col]  \n",
    "Rain_col    "
   ]
  },
  {
   "cell_type": "code",
   "execution_count": 19,
   "metadata": {},
   "outputs": [],
   "source": [
    "# Nombre de jours sans pluie\n",
    "meteo[\"Nb_day_without_rain\"] = meteo[Rain_col].apply(lambda row: (row == 0).sum(), axis=1)"
   ]
  },
  {
   "cell_type": "code",
   "execution_count": 20,
   "metadata": {},
   "outputs": [],
   "source": [
    "# Nombre de jours de pluie\n",
    "meteo[\"Nb_day_with_rain\"] = 8 - meteo[\"Nb_day_without_rain\"]"
   ]
  },
  {
   "cell_type": "code",
   "execution_count": 22,
   "metadata": {},
   "outputs": [],
   "source": [
    "# Total pluie\n",
    "meteo['Total_rain'] = meteo[Rain_col].sum(axis=1)"
   ]
  },
  {
   "cell_type": "code",
   "execution_count": 31,
   "metadata": {},
   "outputs": [],
   "source": [
    "# Moyenne de pluie quand il pleut\n",
    "meteo['Mean_day_rain'] = (meteo['Total_rain'] / meteo[\"Nb_day_with_rain\"]).round()"
   ]
  },
  {
   "cell_type": "code",
   "execution_count": 34,
   "metadata": {},
   "outputs": [],
   "source": [
    "meteo['Mean_day_rain'] = meteo['Mean_day_rain'].fillna(0)"
   ]
  },
  {
   "cell_type": "code",
   "execution_count": 36,
   "metadata": {},
   "outputs": [
    {
     "data": {
      "text/html": [
       "<div>\n",
       "<style scoped>\n",
       "    .dataframe tbody tr th:only-of-type {\n",
       "        vertical-align: middle;\n",
       "    }\n",
       "\n",
       "    .dataframe tbody tr th {\n",
       "        vertical-align: top;\n",
       "    }\n",
       "\n",
       "    .dataframe thead th {\n",
       "        text-align: right;\n",
       "    }\n",
       "</style>\n",
       "<table border=\"1\" class=\"dataframe\">\n",
       "  <thead>\n",
       "    <tr style=\"text-align: right;\">\n",
       "      <th></th>\n",
       "      <th>Id</th>\n",
       "      <th>Destination</th>\n",
       "      <th>Latitude</th>\n",
       "      <th>Longitude</th>\n",
       "      <th>Temp_J0</th>\n",
       "      <th>Rain_J0</th>\n",
       "      <th>Temp_J1</th>\n",
       "      <th>Rain_J1</th>\n",
       "      <th>Temp_J2</th>\n",
       "      <th>Rain_J2</th>\n",
       "      <th>...</th>\n",
       "      <th>Rain_J5</th>\n",
       "      <th>Temp_J6</th>\n",
       "      <th>Rain_J6</th>\n",
       "      <th>Temp_J7</th>\n",
       "      <th>Rain_J7</th>\n",
       "      <th>Mean_temp</th>\n",
       "      <th>Nb_day_without_rain</th>\n",
       "      <th>Nb_day_with_rain</th>\n",
       "      <th>Total_rain</th>\n",
       "      <th>Mean_day_rain</th>\n",
       "    </tr>\n",
       "  </thead>\n",
       "  <tbody>\n",
       "    <tr>\n",
       "      <th>0</th>\n",
       "      <td>0</td>\n",
       "      <td>Mont Saint Michel</td>\n",
       "      <td>48.635954</td>\n",
       "      <td>-1.511460</td>\n",
       "      <td>8.78</td>\n",
       "      <td>0.0</td>\n",
       "      <td>9.03</td>\n",
       "      <td>0.0</td>\n",
       "      <td>10.08</td>\n",
       "      <td>0.0</td>\n",
       "      <td>...</td>\n",
       "      <td>0.0</td>\n",
       "      <td>12.46</td>\n",
       "      <td>0.0</td>\n",
       "      <td>15.48</td>\n",
       "      <td>0.00</td>\n",
       "      <td>12.0</td>\n",
       "      <td>8</td>\n",
       "      <td>0</td>\n",
       "      <td>0.00</td>\n",
       "      <td>0.0</td>\n",
       "    </tr>\n",
       "    <tr>\n",
       "      <th>1</th>\n",
       "      <td>1</td>\n",
       "      <td>St Malo</td>\n",
       "      <td>48.649518</td>\n",
       "      <td>-2.026041</td>\n",
       "      <td>8.08</td>\n",
       "      <td>0.0</td>\n",
       "      <td>7.79</td>\n",
       "      <td>0.0</td>\n",
       "      <td>8.30</td>\n",
       "      <td>0.0</td>\n",
       "      <td>...</td>\n",
       "      <td>0.0</td>\n",
       "      <td>13.33</td>\n",
       "      <td>0.0</td>\n",
       "      <td>14.56</td>\n",
       "      <td>0.27</td>\n",
       "      <td>11.0</td>\n",
       "      <td>7</td>\n",
       "      <td>1</td>\n",
       "      <td>0.27</td>\n",
       "      <td>0.0</td>\n",
       "    </tr>\n",
       "    <tr>\n",
       "      <th>2</th>\n",
       "      <td>2</td>\n",
       "      <td>Bayeux</td>\n",
       "      <td>49.276462</td>\n",
       "      <td>-0.702474</td>\n",
       "      <td>7.45</td>\n",
       "      <td>0.0</td>\n",
       "      <td>7.29</td>\n",
       "      <td>0.0</td>\n",
       "      <td>8.50</td>\n",
       "      <td>0.0</td>\n",
       "      <td>...</td>\n",
       "      <td>0.0</td>\n",
       "      <td>15.07</td>\n",
       "      <td>0.0</td>\n",
       "      <td>15.74</td>\n",
       "      <td>0.00</td>\n",
       "      <td>11.0</td>\n",
       "      <td>8</td>\n",
       "      <td>0</td>\n",
       "      <td>0.00</td>\n",
       "      <td>0.0</td>\n",
       "    </tr>\n",
       "    <tr>\n",
       "      <th>3</th>\n",
       "      <td>3</td>\n",
       "      <td>Le Havre</td>\n",
       "      <td>49.493898</td>\n",
       "      <td>0.107973</td>\n",
       "      <td>7.94</td>\n",
       "      <td>0.0</td>\n",
       "      <td>8.31</td>\n",
       "      <td>0.0</td>\n",
       "      <td>8.76</td>\n",
       "      <td>0.0</td>\n",
       "      <td>...</td>\n",
       "      <td>0.0</td>\n",
       "      <td>11.57</td>\n",
       "      <td>0.0</td>\n",
       "      <td>13.08</td>\n",
       "      <td>0.00</td>\n",
       "      <td>10.0</td>\n",
       "      <td>8</td>\n",
       "      <td>0</td>\n",
       "      <td>0.00</td>\n",
       "      <td>0.0</td>\n",
       "    </tr>\n",
       "    <tr>\n",
       "      <th>4</th>\n",
       "      <td>4</td>\n",
       "      <td>Rouen</td>\n",
       "      <td>49.440459</td>\n",
       "      <td>1.093966</td>\n",
       "      <td>7.92</td>\n",
       "      <td>0.0</td>\n",
       "      <td>9.06</td>\n",
       "      <td>0.0</td>\n",
       "      <td>9.77</td>\n",
       "      <td>0.0</td>\n",
       "      <td>...</td>\n",
       "      <td>0.0</td>\n",
       "      <td>14.73</td>\n",
       "      <td>0.0</td>\n",
       "      <td>15.82</td>\n",
       "      <td>0.00</td>\n",
       "      <td>12.0</td>\n",
       "      <td>8</td>\n",
       "      <td>0</td>\n",
       "      <td>0.00</td>\n",
       "      <td>0.0</td>\n",
       "    </tr>\n",
       "  </tbody>\n",
       "</table>\n",
       "<p>5 rows × 25 columns</p>\n",
       "</div>"
      ],
      "text/plain": [
       "   Id        Destination   Latitude  Longitude  Temp_J0  Rain_J0  Temp_J1  \\\n",
       "0   0  Mont Saint Michel  48.635954  -1.511460     8.78      0.0     9.03   \n",
       "1   1            St Malo  48.649518  -2.026041     8.08      0.0     7.79   \n",
       "2   2             Bayeux  49.276462  -0.702474     7.45      0.0     7.29   \n",
       "3   3           Le Havre  49.493898   0.107973     7.94      0.0     8.31   \n",
       "4   4              Rouen  49.440459   1.093966     7.92      0.0     9.06   \n",
       "\n",
       "   Rain_J1  Temp_J2  Rain_J2  ...  Rain_J5  Temp_J6  Rain_J6  Temp_J7  \\\n",
       "0      0.0    10.08      0.0  ...      0.0    12.46      0.0    15.48   \n",
       "1      0.0     8.30      0.0  ...      0.0    13.33      0.0    14.56   \n",
       "2      0.0     8.50      0.0  ...      0.0    15.07      0.0    15.74   \n",
       "3      0.0     8.76      0.0  ...      0.0    11.57      0.0    13.08   \n",
       "4      0.0     9.77      0.0  ...      0.0    14.73      0.0    15.82   \n",
       "\n",
       "   Rain_J7  Mean_temp  Nb_day_without_rain  Nb_day_with_rain  Total_rain  \\\n",
       "0     0.00       12.0                    8                 0        0.00   \n",
       "1     0.27       11.0                    7                 1        0.27   \n",
       "2     0.00       11.0                    8                 0        0.00   \n",
       "3     0.00       10.0                    8                 0        0.00   \n",
       "4     0.00       12.0                    8                 0        0.00   \n",
       "\n",
       "   Mean_day_rain  \n",
       "0            0.0  \n",
       "1            0.0  \n",
       "2            0.0  \n",
       "3            0.0  \n",
       "4            0.0  \n",
       "\n",
       "[5 rows x 25 columns]"
      ]
     },
     "execution_count": 36,
     "metadata": {},
     "output_type": "execute_result"
    }
   ],
   "source": [
    "meteo.head()"
   ]
  },
  {
   "cell_type": "code",
   "execution_count": 83,
   "metadata": {},
   "outputs": [],
   "source": [
    "# Classement\n",
    "meteo_top = meteo.sort_values(by=['Nb_day_without_rain','Mean_day_rain','Mean_temp'],\n",
    "               ascending=[False, True, False]).reset_index(drop=True)"
   ]
  },
  {
   "cell_type": "code",
   "execution_count": 8,
   "metadata": {},
   "outputs": [
    {
     "data": {
      "text/html": [
       "<div>\n",
       "<style scoped>\n",
       "    .dataframe tbody tr th:only-of-type {\n",
       "        vertical-align: middle;\n",
       "    }\n",
       "\n",
       "    .dataframe tbody tr th {\n",
       "        vertical-align: top;\n",
       "    }\n",
       "\n",
       "    .dataframe thead th {\n",
       "        text-align: right;\n",
       "    }\n",
       "</style>\n",
       "<table border=\"1\" class=\"dataframe\">\n",
       "  <thead>\n",
       "    <tr style=\"text-align: right;\">\n",
       "      <th></th>\n",
       "      <th>Id</th>\n",
       "      <th>Destination</th>\n",
       "      <th>Latitude</th>\n",
       "      <th>Longitude</th>\n",
       "      <th>Temp_J0</th>\n",
       "      <th>Rain_J0</th>\n",
       "      <th>Temp_J1</th>\n",
       "      <th>Rain_J1</th>\n",
       "      <th>Temp_J2</th>\n",
       "      <th>Rain_J2</th>\n",
       "      <th>...</th>\n",
       "      <th>Rain_J5</th>\n",
       "      <th>Temp_J6</th>\n",
       "      <th>Rain_J6</th>\n",
       "      <th>Temp_J7</th>\n",
       "      <th>Rain_J7</th>\n",
       "      <th>Mean_temp</th>\n",
       "      <th>Nb_day_without_rain</th>\n",
       "      <th>Nb_day_with_rain</th>\n",
       "      <th>Total_rain</th>\n",
       "      <th>Mean_day_rain</th>\n",
       "    </tr>\n",
       "  </thead>\n",
       "  <tbody>\n",
       "    <tr>\n",
       "      <th>0</th>\n",
       "      <td>15</td>\n",
       "      <td>Grenoble</td>\n",
       "      <td>45.187560</td>\n",
       "      <td>5.735782</td>\n",
       "      <td>9.52</td>\n",
       "      <td>0.00</td>\n",
       "      <td>12.79</td>\n",
       "      <td>0.00</td>\n",
       "      <td>14.92</td>\n",
       "      <td>0.00</td>\n",
       "      <td>...</td>\n",
       "      <td>0.00</td>\n",
       "      <td>17.43</td>\n",
       "      <td>0.00</td>\n",
       "      <td>18.41</td>\n",
       "      <td>0.00</td>\n",
       "      <td>15.0</td>\n",
       "      <td>8</td>\n",
       "      <td>0</td>\n",
       "      <td>0.00</td>\n",
       "      <td>0.0</td>\n",
       "    </tr>\n",
       "    <tr>\n",
       "      <th>1</th>\n",
       "      <td>30</td>\n",
       "      <td>Toulouse</td>\n",
       "      <td>43.604462</td>\n",
       "      <td>1.444247</td>\n",
       "      <td>9.54</td>\n",
       "      <td>0.00</td>\n",
       "      <td>12.06</td>\n",
       "      <td>0.00</td>\n",
       "      <td>12.25</td>\n",
       "      <td>0.00</td>\n",
       "      <td>...</td>\n",
       "      <td>0.00</td>\n",
       "      <td>15.81</td>\n",
       "      <td>0.00</td>\n",
       "      <td>15.60</td>\n",
       "      <td>0.00</td>\n",
       "      <td>14.0</td>\n",
       "      <td>8</td>\n",
       "      <td>0</td>\n",
       "      <td>0.00</td>\n",
       "      <td>0.0</td>\n",
       "    </tr>\n",
       "    <tr>\n",
       "      <th>2</th>\n",
       "      <td>31</td>\n",
       "      <td>Montauban</td>\n",
       "      <td>44.017584</td>\n",
       "      <td>1.354999</td>\n",
       "      <td>9.52</td>\n",
       "      <td>0.00</td>\n",
       "      <td>11.77</td>\n",
       "      <td>0.00</td>\n",
       "      <td>13.62</td>\n",
       "      <td>0.00</td>\n",
       "      <td>...</td>\n",
       "      <td>0.00</td>\n",
       "      <td>15.87</td>\n",
       "      <td>0.00</td>\n",
       "      <td>15.52</td>\n",
       "      <td>0.00</td>\n",
       "      <td>14.0</td>\n",
       "      <td>8</td>\n",
       "      <td>0</td>\n",
       "      <td>0.00</td>\n",
       "      <td>0.0</td>\n",
       "    </tr>\n",
       "    <tr>\n",
       "      <th>3</th>\n",
       "      <td>0</td>\n",
       "      <td>Mont Saint Michel</td>\n",
       "      <td>48.635954</td>\n",
       "      <td>-1.511460</td>\n",
       "      <td>8.78</td>\n",
       "      <td>0.00</td>\n",
       "      <td>9.03</td>\n",
       "      <td>0.00</td>\n",
       "      <td>10.08</td>\n",
       "      <td>0.00</td>\n",
       "      <td>...</td>\n",
       "      <td>0.00</td>\n",
       "      <td>12.46</td>\n",
       "      <td>0.00</td>\n",
       "      <td>15.48</td>\n",
       "      <td>0.00</td>\n",
       "      <td>12.0</td>\n",
       "      <td>8</td>\n",
       "      <td>0</td>\n",
       "      <td>0.00</td>\n",
       "      <td>0.0</td>\n",
       "    </tr>\n",
       "    <tr>\n",
       "      <th>4</th>\n",
       "      <td>4</td>\n",
       "      <td>Rouen</td>\n",
       "      <td>49.440459</td>\n",
       "      <td>1.093966</td>\n",
       "      <td>7.92</td>\n",
       "      <td>0.00</td>\n",
       "      <td>9.06</td>\n",
       "      <td>0.00</td>\n",
       "      <td>9.77</td>\n",
       "      <td>0.00</td>\n",
       "      <td>...</td>\n",
       "      <td>0.00</td>\n",
       "      <td>14.73</td>\n",
       "      <td>0.00</td>\n",
       "      <td>15.82</td>\n",
       "      <td>0.00</td>\n",
       "      <td>12.0</td>\n",
       "      <td>8</td>\n",
       "      <td>0</td>\n",
       "      <td>0.00</td>\n",
       "      <td>0.0</td>\n",
       "    </tr>\n",
       "    <tr>\n",
       "      <th>5</th>\n",
       "      <td>5</td>\n",
       "      <td>Paris</td>\n",
       "      <td>48.853495</td>\n",
       "      <td>2.348391</td>\n",
       "      <td>8.46</td>\n",
       "      <td>0.00</td>\n",
       "      <td>9.37</td>\n",
       "      <td>0.00</td>\n",
       "      <td>9.72</td>\n",
       "      <td>0.00</td>\n",
       "      <td>...</td>\n",
       "      <td>0.00</td>\n",
       "      <td>14.73</td>\n",
       "      <td>0.00</td>\n",
       "      <td>15.27</td>\n",
       "      <td>0.00</td>\n",
       "      <td>12.0</td>\n",
       "      <td>8</td>\n",
       "      <td>0</td>\n",
       "      <td>0.00</td>\n",
       "      <td>0.0</td>\n",
       "    </tr>\n",
       "    <tr>\n",
       "      <th>6</th>\n",
       "      <td>6</td>\n",
       "      <td>Amiens</td>\n",
       "      <td>49.894171</td>\n",
       "      <td>2.295695</td>\n",
       "      <td>7.83</td>\n",
       "      <td>0.00</td>\n",
       "      <td>8.20</td>\n",
       "      <td>0.00</td>\n",
       "      <td>9.14</td>\n",
       "      <td>0.00</td>\n",
       "      <td>...</td>\n",
       "      <td>0.00</td>\n",
       "      <td>15.07</td>\n",
       "      <td>0.00</td>\n",
       "      <td>15.49</td>\n",
       "      <td>0.00</td>\n",
       "      <td>12.0</td>\n",
       "      <td>8</td>\n",
       "      <td>0</td>\n",
       "      <td>0.00</td>\n",
       "      <td>0.0</td>\n",
       "    </tr>\n",
       "    <tr>\n",
       "      <th>7</th>\n",
       "      <td>12</td>\n",
       "      <td>Besancon</td>\n",
       "      <td>47.238022</td>\n",
       "      <td>6.024362</td>\n",
       "      <td>6.56</td>\n",
       "      <td>0.00</td>\n",
       "      <td>7.85</td>\n",
       "      <td>0.00</td>\n",
       "      <td>10.33</td>\n",
       "      <td>0.00</td>\n",
       "      <td>...</td>\n",
       "      <td>0.00</td>\n",
       "      <td>15.26</td>\n",
       "      <td>0.00</td>\n",
       "      <td>16.18</td>\n",
       "      <td>0.00</td>\n",
       "      <td>12.0</td>\n",
       "      <td>8</td>\n",
       "      <td>0</td>\n",
       "      <td>0.00</td>\n",
       "      <td>0.0</td>\n",
       "    </tr>\n",
       "    <tr>\n",
       "      <th>8</th>\n",
       "      <td>14</td>\n",
       "      <td>Annecy</td>\n",
       "      <td>45.899235</td>\n",
       "      <td>6.128885</td>\n",
       "      <td>6.19</td>\n",
       "      <td>0.00</td>\n",
       "      <td>8.03</td>\n",
       "      <td>0.00</td>\n",
       "      <td>11.99</td>\n",
       "      <td>0.00</td>\n",
       "      <td>...</td>\n",
       "      <td>0.00</td>\n",
       "      <td>14.89</td>\n",
       "      <td>0.00</td>\n",
       "      <td>15.41</td>\n",
       "      <td>0.00</td>\n",
       "      <td>12.0</td>\n",
       "      <td>8</td>\n",
       "      <td>0</td>\n",
       "      <td>0.00</td>\n",
       "      <td>0.0</td>\n",
       "    </tr>\n",
       "    <tr>\n",
       "      <th>9</th>\n",
       "      <td>16</td>\n",
       "      <td>Lyon</td>\n",
       "      <td>45.757814</td>\n",
       "      <td>4.832011</td>\n",
       "      <td>4.86</td>\n",
       "      <td>0.00</td>\n",
       "      <td>7.31</td>\n",
       "      <td>0.00</td>\n",
       "      <td>10.12</td>\n",
       "      <td>0.00</td>\n",
       "      <td>...</td>\n",
       "      <td>0.00</td>\n",
       "      <td>15.66</td>\n",
       "      <td>0.00</td>\n",
       "      <td>16.19</td>\n",
       "      <td>0.00</td>\n",
       "      <td>12.0</td>\n",
       "      <td>8</td>\n",
       "      <td>0</td>\n",
       "      <td>0.00</td>\n",
       "      <td>0.0</td>\n",
       "    </tr>\n",
       "    <tr>\n",
       "      <th>10</th>\n",
       "      <td>2</td>\n",
       "      <td>Bayeux</td>\n",
       "      <td>49.276462</td>\n",
       "      <td>-0.702474</td>\n",
       "      <td>7.45</td>\n",
       "      <td>0.00</td>\n",
       "      <td>7.29</td>\n",
       "      <td>0.00</td>\n",
       "      <td>8.50</td>\n",
       "      <td>0.00</td>\n",
       "      <td>...</td>\n",
       "      <td>0.00</td>\n",
       "      <td>15.07</td>\n",
       "      <td>0.00</td>\n",
       "      <td>15.74</td>\n",
       "      <td>0.00</td>\n",
       "      <td>11.0</td>\n",
       "      <td>8</td>\n",
       "      <td>0</td>\n",
       "      <td>0.00</td>\n",
       "      <td>0.0</td>\n",
       "    </tr>\n",
       "    <tr>\n",
       "      <th>11</th>\n",
       "      <td>7</td>\n",
       "      <td>Lille</td>\n",
       "      <td>50.636565</td>\n",
       "      <td>3.063528</td>\n",
       "      <td>7.68</td>\n",
       "      <td>0.00</td>\n",
       "      <td>8.31</td>\n",
       "      <td>0.00</td>\n",
       "      <td>8.03</td>\n",
       "      <td>0.00</td>\n",
       "      <td>...</td>\n",
       "      <td>0.00</td>\n",
       "      <td>14.96</td>\n",
       "      <td>0.00</td>\n",
       "      <td>15.56</td>\n",
       "      <td>0.00</td>\n",
       "      <td>11.0</td>\n",
       "      <td>8</td>\n",
       "      <td>0</td>\n",
       "      <td>0.00</td>\n",
       "      <td>0.0</td>\n",
       "    </tr>\n",
       "    <tr>\n",
       "      <th>12</th>\n",
       "      <td>10</td>\n",
       "      <td>Colmar</td>\n",
       "      <td>48.077752</td>\n",
       "      <td>7.357964</td>\n",
       "      <td>6.52</td>\n",
       "      <td>0.00</td>\n",
       "      <td>6.79</td>\n",
       "      <td>0.00</td>\n",
       "      <td>8.76</td>\n",
       "      <td>0.00</td>\n",
       "      <td>...</td>\n",
       "      <td>0.00</td>\n",
       "      <td>14.08</td>\n",
       "      <td>0.00</td>\n",
       "      <td>15.15</td>\n",
       "      <td>0.00</td>\n",
       "      <td>11.0</td>\n",
       "      <td>8</td>\n",
       "      <td>0</td>\n",
       "      <td>0.00</td>\n",
       "      <td>0.0</td>\n",
       "    </tr>\n",
       "    <tr>\n",
       "      <th>13</th>\n",
       "      <td>11</td>\n",
       "      <td>Eguisheim</td>\n",
       "      <td>48.044797</td>\n",
       "      <td>7.307962</td>\n",
       "      <td>6.04</td>\n",
       "      <td>0.00</td>\n",
       "      <td>6.30</td>\n",
       "      <td>0.00</td>\n",
       "      <td>8.61</td>\n",
       "      <td>0.00</td>\n",
       "      <td>...</td>\n",
       "      <td>0.00</td>\n",
       "      <td>13.83</td>\n",
       "      <td>0.00</td>\n",
       "      <td>14.91</td>\n",
       "      <td>0.00</td>\n",
       "      <td>11.0</td>\n",
       "      <td>8</td>\n",
       "      <td>0</td>\n",
       "      <td>0.00</td>\n",
       "      <td>0.0</td>\n",
       "    </tr>\n",
       "    <tr>\n",
       "      <th>14</th>\n",
       "      <td>13</td>\n",
       "      <td>Dijon</td>\n",
       "      <td>47.321581</td>\n",
       "      <td>5.041470</td>\n",
       "      <td>6.66</td>\n",
       "      <td>0.00</td>\n",
       "      <td>6.50</td>\n",
       "      <td>0.00</td>\n",
       "      <td>8.78</td>\n",
       "      <td>0.00</td>\n",
       "      <td>...</td>\n",
       "      <td>0.00</td>\n",
       "      <td>14.02</td>\n",
       "      <td>0.00</td>\n",
       "      <td>14.47</td>\n",
       "      <td>0.00</td>\n",
       "      <td>11.0</td>\n",
       "      <td>8</td>\n",
       "      <td>0</td>\n",
       "      <td>0.00</td>\n",
       "      <td>0.0</td>\n",
       "    </tr>\n",
       "    <tr>\n",
       "      <th>15</th>\n",
       "      <td>34</td>\n",
       "      <td>La Rochelle</td>\n",
       "      <td>46.159732</td>\n",
       "      <td>-1.151595</td>\n",
       "      <td>8.57</td>\n",
       "      <td>0.00</td>\n",
       "      <td>8.42</td>\n",
       "      <td>0.00</td>\n",
       "      <td>10.04</td>\n",
       "      <td>0.00</td>\n",
       "      <td>...</td>\n",
       "      <td>0.00</td>\n",
       "      <td>11.69</td>\n",
       "      <td>0.00</td>\n",
       "      <td>14.24</td>\n",
       "      <td>0.00</td>\n",
       "      <td>11.0</td>\n",
       "      <td>8</td>\n",
       "      <td>0</td>\n",
       "      <td>0.00</td>\n",
       "      <td>0.0</td>\n",
       "    </tr>\n",
       "    <tr>\n",
       "      <th>16</th>\n",
       "      <td>3</td>\n",
       "      <td>Le Havre</td>\n",
       "      <td>49.493898</td>\n",
       "      <td>0.107973</td>\n",
       "      <td>7.94</td>\n",
       "      <td>0.00</td>\n",
       "      <td>8.31</td>\n",
       "      <td>0.00</td>\n",
       "      <td>8.76</td>\n",
       "      <td>0.00</td>\n",
       "      <td>...</td>\n",
       "      <td>0.00</td>\n",
       "      <td>11.57</td>\n",
       "      <td>0.00</td>\n",
       "      <td>13.08</td>\n",
       "      <td>0.00</td>\n",
       "      <td>10.0</td>\n",
       "      <td>8</td>\n",
       "      <td>0</td>\n",
       "      <td>0.00</td>\n",
       "      <td>0.0</td>\n",
       "    </tr>\n",
       "    <tr>\n",
       "      <th>17</th>\n",
       "      <td>8</td>\n",
       "      <td>Strasbourg</td>\n",
       "      <td>48.584614</td>\n",
       "      <td>7.750713</td>\n",
       "      <td>7.34</td>\n",
       "      <td>0.00</td>\n",
       "      <td>7.79</td>\n",
       "      <td>0.00</td>\n",
       "      <td>7.44</td>\n",
       "      <td>0.00</td>\n",
       "      <td>...</td>\n",
       "      <td>0.00</td>\n",
       "      <td>13.39</td>\n",
       "      <td>0.00</td>\n",
       "      <td>14.25</td>\n",
       "      <td>0.00</td>\n",
       "      <td>10.0</td>\n",
       "      <td>8</td>\n",
       "      <td>0</td>\n",
       "      <td>0.00</td>\n",
       "      <td>0.0</td>\n",
       "    </tr>\n",
       "    <tr>\n",
       "      <th>18</th>\n",
       "      <td>9</td>\n",
       "      <td>Chateau du Haut Koenigsbourg</td>\n",
       "      <td>48.249411</td>\n",
       "      <td>7.344320</td>\n",
       "      <td>3.72</td>\n",
       "      <td>0.00</td>\n",
       "      <td>4.22</td>\n",
       "      <td>0.00</td>\n",
       "      <td>6.42</td>\n",
       "      <td>0.00</td>\n",
       "      <td>...</td>\n",
       "      <td>0.00</td>\n",
       "      <td>11.95</td>\n",
       "      <td>0.00</td>\n",
       "      <td>12.81</td>\n",
       "      <td>0.00</td>\n",
       "      <td>9.0</td>\n",
       "      <td>8</td>\n",
       "      <td>0</td>\n",
       "      <td>0.00</td>\n",
       "      <td>0.0</td>\n",
       "    </tr>\n",
       "    <tr>\n",
       "      <th>19</th>\n",
       "      <td>1</td>\n",
       "      <td>St Malo</td>\n",
       "      <td>48.649518</td>\n",
       "      <td>-2.026041</td>\n",
       "      <td>8.08</td>\n",
       "      <td>0.00</td>\n",
       "      <td>7.79</td>\n",
       "      <td>0.00</td>\n",
       "      <td>8.30</td>\n",
       "      <td>0.00</td>\n",
       "      <td>...</td>\n",
       "      <td>0.00</td>\n",
       "      <td>13.33</td>\n",
       "      <td>0.00</td>\n",
       "      <td>14.56</td>\n",
       "      <td>0.27</td>\n",
       "      <td>11.0</td>\n",
       "      <td>7</td>\n",
       "      <td>1</td>\n",
       "      <td>0.27</td>\n",
       "      <td>0.0</td>\n",
       "    </tr>\n",
       "    <tr>\n",
       "      <th>20</th>\n",
       "      <td>18</td>\n",
       "      <td>Bormes les Mimosas</td>\n",
       "      <td>43.150697</td>\n",
       "      <td>6.341928</td>\n",
       "      <td>11.44</td>\n",
       "      <td>1.24</td>\n",
       "      <td>12.97</td>\n",
       "      <td>0.00</td>\n",
       "      <td>13.03</td>\n",
       "      <td>0.00</td>\n",
       "      <td>...</td>\n",
       "      <td>0.00</td>\n",
       "      <td>13.08</td>\n",
       "      <td>0.00</td>\n",
       "      <td>13.33</td>\n",
       "      <td>0.00</td>\n",
       "      <td>13.0</td>\n",
       "      <td>7</td>\n",
       "      <td>1</td>\n",
       "      <td>1.24</td>\n",
       "      <td>1.0</td>\n",
       "    </tr>\n",
       "    <tr>\n",
       "      <th>21</th>\n",
       "      <td>17</td>\n",
       "      <td>Gorges du Verdon</td>\n",
       "      <td>43.749656</td>\n",
       "      <td>6.328562</td>\n",
       "      <td>8.15</td>\n",
       "      <td>1.17</td>\n",
       "      <td>10.31</td>\n",
       "      <td>0.00</td>\n",
       "      <td>11.23</td>\n",
       "      <td>0.00</td>\n",
       "      <td>...</td>\n",
       "      <td>0.00</td>\n",
       "      <td>11.52</td>\n",
       "      <td>0.00</td>\n",
       "      <td>11.82</td>\n",
       "      <td>0.00</td>\n",
       "      <td>11.0</td>\n",
       "      <td>7</td>\n",
       "      <td>1</td>\n",
       "      <td>1.17</td>\n",
       "      <td>1.0</td>\n",
       "    </tr>\n",
       "    <tr>\n",
       "      <th>22</th>\n",
       "      <td>19</td>\n",
       "      <td>Cassis</td>\n",
       "      <td>43.214036</td>\n",
       "      <td>5.539632</td>\n",
       "      <td>12.67</td>\n",
       "      <td>2.93</td>\n",
       "      <td>13.45</td>\n",
       "      <td>0.00</td>\n",
       "      <td>13.33</td>\n",
       "      <td>0.00</td>\n",
       "      <td>...</td>\n",
       "      <td>0.00</td>\n",
       "      <td>14.60</td>\n",
       "      <td>0.00</td>\n",
       "      <td>14.56</td>\n",
       "      <td>0.00</td>\n",
       "      <td>14.0</td>\n",
       "      <td>7</td>\n",
       "      <td>1</td>\n",
       "      <td>2.93</td>\n",
       "      <td>3.0</td>\n",
       "    </tr>\n",
       "    <tr>\n",
       "      <th>23</th>\n",
       "      <td>21</td>\n",
       "      <td>Aix en Provence</td>\n",
       "      <td>43.529842</td>\n",
       "      <td>5.447474</td>\n",
       "      <td>13.00</td>\n",
       "      <td>4.58</td>\n",
       "      <td>13.35</td>\n",
       "      <td>0.00</td>\n",
       "      <td>14.44</td>\n",
       "      <td>0.00</td>\n",
       "      <td>...</td>\n",
       "      <td>0.00</td>\n",
       "      <td>15.87</td>\n",
       "      <td>0.00</td>\n",
       "      <td>16.49</td>\n",
       "      <td>0.00</td>\n",
       "      <td>15.0</td>\n",
       "      <td>7</td>\n",
       "      <td>1</td>\n",
       "      <td>4.58</td>\n",
       "      <td>5.0</td>\n",
       "    </tr>\n",
       "    <tr>\n",
       "      <th>24</th>\n",
       "      <td>20</td>\n",
       "      <td>Marseille</td>\n",
       "      <td>43.296174</td>\n",
       "      <td>5.369953</td>\n",
       "      <td>13.91</td>\n",
       "      <td>5.83</td>\n",
       "      <td>13.58</td>\n",
       "      <td>0.00</td>\n",
       "      <td>13.69</td>\n",
       "      <td>0.00</td>\n",
       "      <td>...</td>\n",
       "      <td>0.00</td>\n",
       "      <td>15.20</td>\n",
       "      <td>0.00</td>\n",
       "      <td>15.18</td>\n",
       "      <td>0.00</td>\n",
       "      <td>15.0</td>\n",
       "      <td>7</td>\n",
       "      <td>1</td>\n",
       "      <td>5.83</td>\n",
       "      <td>6.0</td>\n",
       "    </tr>\n",
       "    <tr>\n",
       "      <th>25</th>\n",
       "      <td>22</td>\n",
       "      <td>Avignon</td>\n",
       "      <td>43.949249</td>\n",
       "      <td>4.805901</td>\n",
       "      <td>7.02</td>\n",
       "      <td>6.50</td>\n",
       "      <td>9.72</td>\n",
       "      <td>0.00</td>\n",
       "      <td>12.61</td>\n",
       "      <td>0.00</td>\n",
       "      <td>...</td>\n",
       "      <td>0.00</td>\n",
       "      <td>17.24</td>\n",
       "      <td>0.00</td>\n",
       "      <td>17.69</td>\n",
       "      <td>0.00</td>\n",
       "      <td>14.0</td>\n",
       "      <td>7</td>\n",
       "      <td>1</td>\n",
       "      <td>6.50</td>\n",
       "      <td>6.0</td>\n",
       "    </tr>\n",
       "    <tr>\n",
       "      <th>26</th>\n",
       "      <td>29</td>\n",
       "      <td>Ariege</td>\n",
       "      <td>42.945537</td>\n",
       "      <td>1.406554</td>\n",
       "      <td>4.80</td>\n",
       "      <td>0.52</td>\n",
       "      <td>6.87</td>\n",
       "      <td>0.00</td>\n",
       "      <td>10.81</td>\n",
       "      <td>0.00</td>\n",
       "      <td>...</td>\n",
       "      <td>0.00</td>\n",
       "      <td>14.78</td>\n",
       "      <td>0.00</td>\n",
       "      <td>13.12</td>\n",
       "      <td>0.00</td>\n",
       "      <td>11.0</td>\n",
       "      <td>6</td>\n",
       "      <td>2</td>\n",
       "      <td>0.66</td>\n",
       "      <td>0.0</td>\n",
       "    </tr>\n",
       "    <tr>\n",
       "      <th>27</th>\n",
       "      <td>33</td>\n",
       "      <td>Bayonne</td>\n",
       "      <td>43.494514</td>\n",
       "      <td>-1.473666</td>\n",
       "      <td>8.93</td>\n",
       "      <td>0.00</td>\n",
       "      <td>9.60</td>\n",
       "      <td>0.00</td>\n",
       "      <td>14.44</td>\n",
       "      <td>0.00</td>\n",
       "      <td>...</td>\n",
       "      <td>0.00</td>\n",
       "      <td>18.13</td>\n",
       "      <td>0.00</td>\n",
       "      <td>19.46</td>\n",
       "      <td>1.41</td>\n",
       "      <td>15.0</td>\n",
       "      <td>6</td>\n",
       "      <td>2</td>\n",
       "      <td>1.87</td>\n",
       "      <td>1.0</td>\n",
       "    </tr>\n",
       "    <tr>\n",
       "      <th>28</th>\n",
       "      <td>32</td>\n",
       "      <td>Biarritz</td>\n",
       "      <td>43.483252</td>\n",
       "      <td>-1.559278</td>\n",
       "      <td>8.21</td>\n",
       "      <td>0.00</td>\n",
       "      <td>9.17</td>\n",
       "      <td>0.00</td>\n",
       "      <td>13.74</td>\n",
       "      <td>0.00</td>\n",
       "      <td>...</td>\n",
       "      <td>0.00</td>\n",
       "      <td>17.24</td>\n",
       "      <td>0.00</td>\n",
       "      <td>18.71</td>\n",
       "      <td>1.74</td>\n",
       "      <td>14.0</td>\n",
       "      <td>6</td>\n",
       "      <td>2</td>\n",
       "      <td>2.08</td>\n",
       "      <td>1.0</td>\n",
       "    </tr>\n",
       "    <tr>\n",
       "      <th>29</th>\n",
       "      <td>24</td>\n",
       "      <td>Nimes</td>\n",
       "      <td>43.837425</td>\n",
       "      <td>4.360069</td>\n",
       "      <td>8.20</td>\n",
       "      <td>3.54</td>\n",
       "      <td>10.79</td>\n",
       "      <td>0.00</td>\n",
       "      <td>12.84</td>\n",
       "      <td>0.00</td>\n",
       "      <td>...</td>\n",
       "      <td>0.00</td>\n",
       "      <td>16.05</td>\n",
       "      <td>0.00</td>\n",
       "      <td>16.27</td>\n",
       "      <td>0.33</td>\n",
       "      <td>14.0</td>\n",
       "      <td>6</td>\n",
       "      <td>2</td>\n",
       "      <td>3.87</td>\n",
       "      <td>2.0</td>\n",
       "    </tr>\n",
       "    <tr>\n",
       "      <th>30</th>\n",
       "      <td>23</td>\n",
       "      <td>Uzes</td>\n",
       "      <td>44.012128</td>\n",
       "      <td>4.419672</td>\n",
       "      <td>7.93</td>\n",
       "      <td>3.55</td>\n",
       "      <td>9.62</td>\n",
       "      <td>0.00</td>\n",
       "      <td>12.46</td>\n",
       "      <td>0.00</td>\n",
       "      <td>...</td>\n",
       "      <td>0.00</td>\n",
       "      <td>14.99</td>\n",
       "      <td>0.00</td>\n",
       "      <td>15.79</td>\n",
       "      <td>0.12</td>\n",
       "      <td>13.0</td>\n",
       "      <td>6</td>\n",
       "      <td>2</td>\n",
       "      <td>3.67</td>\n",
       "      <td>2.0</td>\n",
       "    </tr>\n",
       "    <tr>\n",
       "      <th>31</th>\n",
       "      <td>26</td>\n",
       "      <td>Saintes Maries de la mer</td>\n",
       "      <td>43.451592</td>\n",
       "      <td>4.427720</td>\n",
       "      <td>8.31</td>\n",
       "      <td>5.89</td>\n",
       "      <td>10.28</td>\n",
       "      <td>0.00</td>\n",
       "      <td>12.29</td>\n",
       "      <td>0.00</td>\n",
       "      <td>...</td>\n",
       "      <td>0.00</td>\n",
       "      <td>13.75</td>\n",
       "      <td>0.00</td>\n",
       "      <td>13.49</td>\n",
       "      <td>0.18</td>\n",
       "      <td>12.0</td>\n",
       "      <td>6</td>\n",
       "      <td>2</td>\n",
       "      <td>6.07</td>\n",
       "      <td>3.0</td>\n",
       "    </tr>\n",
       "    <tr>\n",
       "      <th>32</th>\n",
       "      <td>25</td>\n",
       "      <td>Aigues Mortes</td>\n",
       "      <td>43.566152</td>\n",
       "      <td>4.191540</td>\n",
       "      <td>8.96</td>\n",
       "      <td>9.89</td>\n",
       "      <td>11.09</td>\n",
       "      <td>0.00</td>\n",
       "      <td>12.11</td>\n",
       "      <td>0.00</td>\n",
       "      <td>...</td>\n",
       "      <td>0.00</td>\n",
       "      <td>14.04</td>\n",
       "      <td>0.00</td>\n",
       "      <td>13.93</td>\n",
       "      <td>0.66</td>\n",
       "      <td>13.0</td>\n",
       "      <td>6</td>\n",
       "      <td>2</td>\n",
       "      <td>10.55</td>\n",
       "      <td>5.0</td>\n",
       "    </tr>\n",
       "    <tr>\n",
       "      <th>33</th>\n",
       "      <td>28</td>\n",
       "      <td>Carcassonne</td>\n",
       "      <td>43.213036</td>\n",
       "      <td>2.349107</td>\n",
       "      <td>11.71</td>\n",
       "      <td>0.72</td>\n",
       "      <td>12.22</td>\n",
       "      <td>1.14</td>\n",
       "      <td>10.88</td>\n",
       "      <td>0.00</td>\n",
       "      <td>...</td>\n",
       "      <td>0.12</td>\n",
       "      <td>12.60</td>\n",
       "      <td>0.12</td>\n",
       "      <td>12.92</td>\n",
       "      <td>0.00</td>\n",
       "      <td>13.0</td>\n",
       "      <td>4</td>\n",
       "      <td>4</td>\n",
       "      <td>2.10</td>\n",
       "      <td>1.0</td>\n",
       "    </tr>\n",
       "    <tr>\n",
       "      <th>34</th>\n",
       "      <td>27</td>\n",
       "      <td>Collioure</td>\n",
       "      <td>42.525050</td>\n",
       "      <td>3.083155</td>\n",
       "      <td>12.37</td>\n",
       "      <td>0.00</td>\n",
       "      <td>10.00</td>\n",
       "      <td>5.33</td>\n",
       "      <td>11.28</td>\n",
       "      <td>0.89</td>\n",
       "      <td>...</td>\n",
       "      <td>1.74</td>\n",
       "      <td>11.82</td>\n",
       "      <td>16.35</td>\n",
       "      <td>13.08</td>\n",
       "      <td>2.49</td>\n",
       "      <td>12.0</td>\n",
       "      <td>3</td>\n",
       "      <td>5</td>\n",
       "      <td>26.80</td>\n",
       "      <td>5.0</td>\n",
       "    </tr>\n",
       "  </tbody>\n",
       "</table>\n",
       "<p>35 rows × 25 columns</p>\n",
       "</div>"
      ],
      "text/plain": [
       "    Id                   Destination   Latitude  Longitude  Temp_J0  Rain_J0  \\\n",
       "0   15                      Grenoble  45.187560   5.735782     9.52     0.00   \n",
       "1   30                      Toulouse  43.604462   1.444247     9.54     0.00   \n",
       "2   31                     Montauban  44.017584   1.354999     9.52     0.00   \n",
       "3    0             Mont Saint Michel  48.635954  -1.511460     8.78     0.00   \n",
       "4    4                         Rouen  49.440459   1.093966     7.92     0.00   \n",
       "5    5                         Paris  48.853495   2.348391     8.46     0.00   \n",
       "6    6                        Amiens  49.894171   2.295695     7.83     0.00   \n",
       "7   12                      Besancon  47.238022   6.024362     6.56     0.00   \n",
       "8   14                        Annecy  45.899235   6.128885     6.19     0.00   \n",
       "9   16                          Lyon  45.757814   4.832011     4.86     0.00   \n",
       "10   2                        Bayeux  49.276462  -0.702474     7.45     0.00   \n",
       "11   7                         Lille  50.636565   3.063528     7.68     0.00   \n",
       "12  10                        Colmar  48.077752   7.357964     6.52     0.00   \n",
       "13  11                     Eguisheim  48.044797   7.307962     6.04     0.00   \n",
       "14  13                         Dijon  47.321581   5.041470     6.66     0.00   \n",
       "15  34                   La Rochelle  46.159732  -1.151595     8.57     0.00   \n",
       "16   3                      Le Havre  49.493898   0.107973     7.94     0.00   \n",
       "17   8                    Strasbourg  48.584614   7.750713     7.34     0.00   \n",
       "18   9  Chateau du Haut Koenigsbourg  48.249411   7.344320     3.72     0.00   \n",
       "19   1                       St Malo  48.649518  -2.026041     8.08     0.00   \n",
       "20  18            Bormes les Mimosas  43.150697   6.341928    11.44     1.24   \n",
       "21  17              Gorges du Verdon  43.749656   6.328562     8.15     1.17   \n",
       "22  19                        Cassis  43.214036   5.539632    12.67     2.93   \n",
       "23  21               Aix en Provence  43.529842   5.447474    13.00     4.58   \n",
       "24  20                     Marseille  43.296174   5.369953    13.91     5.83   \n",
       "25  22                       Avignon  43.949249   4.805901     7.02     6.50   \n",
       "26  29                        Ariege  42.945537   1.406554     4.80     0.52   \n",
       "27  33                       Bayonne  43.494514  -1.473666     8.93     0.00   \n",
       "28  32                      Biarritz  43.483252  -1.559278     8.21     0.00   \n",
       "29  24                         Nimes  43.837425   4.360069     8.20     3.54   \n",
       "30  23                          Uzes  44.012128   4.419672     7.93     3.55   \n",
       "31  26      Saintes Maries de la mer  43.451592   4.427720     8.31     5.89   \n",
       "32  25                 Aigues Mortes  43.566152   4.191540     8.96     9.89   \n",
       "33  28                   Carcassonne  43.213036   2.349107    11.71     0.72   \n",
       "34  27                     Collioure  42.525050   3.083155    12.37     0.00   \n",
       "\n",
       "    Temp_J1  Rain_J1  Temp_J2  Rain_J2  ...  Rain_J5  Temp_J6  Rain_J6  \\\n",
       "0     12.79     0.00    14.92     0.00  ...     0.00    17.43     0.00   \n",
       "1     12.06     0.00    12.25     0.00  ...     0.00    15.81     0.00   \n",
       "2     11.77     0.00    13.62     0.00  ...     0.00    15.87     0.00   \n",
       "3      9.03     0.00    10.08     0.00  ...     0.00    12.46     0.00   \n",
       "4      9.06     0.00     9.77     0.00  ...     0.00    14.73     0.00   \n",
       "5      9.37     0.00     9.72     0.00  ...     0.00    14.73     0.00   \n",
       "6      8.20     0.00     9.14     0.00  ...     0.00    15.07     0.00   \n",
       "7      7.85     0.00    10.33     0.00  ...     0.00    15.26     0.00   \n",
       "8      8.03     0.00    11.99     0.00  ...     0.00    14.89     0.00   \n",
       "9      7.31     0.00    10.12     0.00  ...     0.00    15.66     0.00   \n",
       "10     7.29     0.00     8.50     0.00  ...     0.00    15.07     0.00   \n",
       "11     8.31     0.00     8.03     0.00  ...     0.00    14.96     0.00   \n",
       "12     6.79     0.00     8.76     0.00  ...     0.00    14.08     0.00   \n",
       "13     6.30     0.00     8.61     0.00  ...     0.00    13.83     0.00   \n",
       "14     6.50     0.00     8.78     0.00  ...     0.00    14.02     0.00   \n",
       "15     8.42     0.00    10.04     0.00  ...     0.00    11.69     0.00   \n",
       "16     8.31     0.00     8.76     0.00  ...     0.00    11.57     0.00   \n",
       "17     7.79     0.00     7.44     0.00  ...     0.00    13.39     0.00   \n",
       "18     4.22     0.00     6.42     0.00  ...     0.00    11.95     0.00   \n",
       "19     7.79     0.00     8.30     0.00  ...     0.00    13.33     0.00   \n",
       "20    12.97     0.00    13.03     0.00  ...     0.00    13.08     0.00   \n",
       "21    10.31     0.00    11.23     0.00  ...     0.00    11.52     0.00   \n",
       "22    13.45     0.00    13.33     0.00  ...     0.00    14.60     0.00   \n",
       "23    13.35     0.00    14.44     0.00  ...     0.00    15.87     0.00   \n",
       "24    13.58     0.00    13.69     0.00  ...     0.00    15.20     0.00   \n",
       "25     9.72     0.00    12.61     0.00  ...     0.00    17.24     0.00   \n",
       "26     6.87     0.00    10.81     0.00  ...     0.00    14.78     0.00   \n",
       "27     9.60     0.00    14.44     0.00  ...     0.00    18.13     0.00   \n",
       "28     9.17     0.00    13.74     0.00  ...     0.00    17.24     0.00   \n",
       "29    10.79     0.00    12.84     0.00  ...     0.00    16.05     0.00   \n",
       "30     9.62     0.00    12.46     0.00  ...     0.00    14.99     0.00   \n",
       "31    10.28     0.00    12.29     0.00  ...     0.00    13.75     0.00   \n",
       "32    11.09     0.00    12.11     0.00  ...     0.00    14.04     0.00   \n",
       "33    12.22     1.14    10.88     0.00  ...     0.12    12.60     0.12   \n",
       "34    10.00     5.33    11.28     0.89  ...     1.74    11.82    16.35   \n",
       "\n",
       "    Temp_J7  Rain_J7  Mean_temp  Nb_day_without_rain  Nb_day_with_rain  \\\n",
       "0     18.41     0.00       15.0                    8                 0   \n",
       "1     15.60     0.00       14.0                    8                 0   \n",
       "2     15.52     0.00       14.0                    8                 0   \n",
       "3     15.48     0.00       12.0                    8                 0   \n",
       "4     15.82     0.00       12.0                    8                 0   \n",
       "5     15.27     0.00       12.0                    8                 0   \n",
       "6     15.49     0.00       12.0                    8                 0   \n",
       "7     16.18     0.00       12.0                    8                 0   \n",
       "8     15.41     0.00       12.0                    8                 0   \n",
       "9     16.19     0.00       12.0                    8                 0   \n",
       "10    15.74     0.00       11.0                    8                 0   \n",
       "11    15.56     0.00       11.0                    8                 0   \n",
       "12    15.15     0.00       11.0                    8                 0   \n",
       "13    14.91     0.00       11.0                    8                 0   \n",
       "14    14.47     0.00       11.0                    8                 0   \n",
       "15    14.24     0.00       11.0                    8                 0   \n",
       "16    13.08     0.00       10.0                    8                 0   \n",
       "17    14.25     0.00       10.0                    8                 0   \n",
       "18    12.81     0.00        9.0                    8                 0   \n",
       "19    14.56     0.27       11.0                    7                 1   \n",
       "20    13.33     0.00       13.0                    7                 1   \n",
       "21    11.82     0.00       11.0                    7                 1   \n",
       "22    14.56     0.00       14.0                    7                 1   \n",
       "23    16.49     0.00       15.0                    7                 1   \n",
       "24    15.18     0.00       15.0                    7                 1   \n",
       "25    17.69     0.00       14.0                    7                 1   \n",
       "26    13.12     0.00       11.0                    6                 2   \n",
       "27    19.46     1.41       15.0                    6                 2   \n",
       "28    18.71     1.74       14.0                    6                 2   \n",
       "29    16.27     0.33       14.0                    6                 2   \n",
       "30    15.79     0.12       13.0                    6                 2   \n",
       "31    13.49     0.18       12.0                    6                 2   \n",
       "32    13.93     0.66       13.0                    6                 2   \n",
       "33    12.92     0.00       13.0                    4                 4   \n",
       "34    13.08     2.49       12.0                    3                 5   \n",
       "\n",
       "    Total_rain  Mean_day_rain  \n",
       "0         0.00            0.0  \n",
       "1         0.00            0.0  \n",
       "2         0.00            0.0  \n",
       "3         0.00            0.0  \n",
       "4         0.00            0.0  \n",
       "5         0.00            0.0  \n",
       "6         0.00            0.0  \n",
       "7         0.00            0.0  \n",
       "8         0.00            0.0  \n",
       "9         0.00            0.0  \n",
       "10        0.00            0.0  \n",
       "11        0.00            0.0  \n",
       "12        0.00            0.0  \n",
       "13        0.00            0.0  \n",
       "14        0.00            0.0  \n",
       "15        0.00            0.0  \n",
       "16        0.00            0.0  \n",
       "17        0.00            0.0  \n",
       "18        0.00            0.0  \n",
       "19        0.27            0.0  \n",
       "20        1.24            1.0  \n",
       "21        1.17            1.0  \n",
       "22        2.93            3.0  \n",
       "23        4.58            5.0  \n",
       "24        5.83            6.0  \n",
       "25        6.50            6.0  \n",
       "26        0.66            0.0  \n",
       "27        1.87            1.0  \n",
       "28        2.08            1.0  \n",
       "29        3.87            2.0  \n",
       "30        3.67            2.0  \n",
       "31        6.07            3.0  \n",
       "32       10.55            5.0  \n",
       "33        2.10            1.0  \n",
       "34       26.80            5.0  \n",
       "\n",
       "[35 rows x 25 columns]"
      ]
     },
     "execution_count": 8,
     "metadata": {},
     "output_type": "execute_result"
    }
   ],
   "source": [
    "meteo_top"
   ]
  },
  {
   "cell_type": "code",
   "execution_count": 41,
   "metadata": {},
   "outputs": [],
   "source": [
    "# création d'une colonne pour la taille des points\n",
    "meteo_top[\"size\"] = (meteo_top[\"Nb_day_without_rain\"] +1)**3 "
   ]
  },
  {
   "cell_type": "code",
   "execution_count": 61,
   "metadata": {},
   "outputs": [
    {
     "data": {
      "application/vnd.plotly.v1+json": {
       "config": {
        "plotlyServerURL": "https://plot.ly"
       },
       "data": [
        {
         "customdata": [
          [
           "Grenoble",
           15,
           0
          ],
          [
           "Toulouse",
           14,
           0
          ],
          [
           "Montauban",
           14,
           0
          ],
          [
           "Mont Saint Michel",
           12,
           0
          ],
          [
           "Rouen",
           12,
           0
          ],
          [
           "Paris",
           12,
           0
          ],
          [
           "Amiens",
           12,
           0
          ],
          [
           "Besancon",
           12,
           0
          ],
          [
           "Annecy",
           12,
           0
          ],
          [
           "Lyon",
           12,
           0
          ],
          [
           "Bayeux",
           11,
           0
          ],
          [
           "Lille",
           11,
           0
          ],
          [
           "Colmar",
           11,
           0
          ],
          [
           "Eguisheim",
           11,
           0
          ],
          [
           "Dijon",
           11,
           0
          ],
          [
           "La Rochelle",
           11,
           0
          ],
          [
           "Le Havre",
           10,
           0
          ],
          [
           "Strasbourg",
           10,
           0
          ],
          [
           "Chateau du Haut Koenigsbourg",
           9,
           0
          ],
          [
           "St Malo",
           11,
           1
          ],
          [
           "Bormes les Mimosas",
           13,
           1
          ],
          [
           "Gorges du Verdon",
           11,
           1
          ],
          [
           "Cassis",
           14,
           1
          ],
          [
           "Aix en Provence",
           15,
           1
          ],
          [
           "Marseille",
           15,
           1
          ],
          [
           "Avignon",
           14,
           1
          ],
          [
           "Ariege",
           11,
           2
          ],
          [
           "Bayonne",
           15,
           2
          ],
          [
           "Biarritz",
           14,
           2
          ],
          [
           "Nimes",
           14,
           2
          ],
          [
           "Uzes",
           13,
           2
          ],
          [
           "Saintes Maries de la mer",
           12,
           2
          ],
          [
           "Aigues Mortes",
           13,
           2
          ],
          [
           "Carcassonne",
           13,
           4
          ],
          [
           "Collioure",
           12,
           5
          ]
         ],
         "hovertemplate": "<b>%{customdata[0]}</b><br>T° Moyenne: %{customdata[1]}°C<br>Jours de pluie: %{customdata[2]}<br>",
         "lat": [
          45.1875602,
          43.6044622,
          44.0175835,
          48.6359541,
          49.4404591,
          48.8534951,
          49.8941708,
          47.2380222,
          45.8992348,
          45.7578137,
          49.2764624,
          50.6365654,
          48.0777517,
          48.0447968,
          47.3215806,
          46.159732,
          49.4938975,
          48.584614,
          48.24941075,
          48.649518,
          43.1506968,
          43.7496562,
          43.2140359,
          43.5298424,
          43.2961743,
          43.9492493,
          42.9455368,
          43.4945144,
          43.4832523,
          43.8374249,
          44.0121279,
          43.4515922,
          43.5661521,
          43.2130358,
          42.52505
         ],
         "legendgroup": "",
         "lon": [
          5.7357819,
          1.4442469,
          1.3549991,
          -1.511459954959514,
          1.0939658,
          2.3483915,
          2.2956951,
          6.0243622,
          6.1288847,
          4.8320114,
          -0.7024738,
          3.0635282,
          7.3579641,
          7.3079618,
          5.0414701,
          -1.1515951,
          0.1079732,
          7.7507127,
          7.344320233724503,
          -2.0260409,
          6.3419285,
          6.3285616,
          5.5396318,
          5.4474738,
          5.3699525,
          4.8059012,
          1.4065544156065486,
          -1.4736657,
          -1.5592776,
          4.3600687,
          4.4196718,
          4.4277202,
          4.19154,
          2.3491069,
          3.0831554
         ],
         "marker": {
          "color": [
           15,
           14,
           14,
           12,
           12,
           12,
           12,
           12,
           12,
           12,
           11,
           11,
           11,
           11,
           11,
           11,
           10,
           10,
           9,
           11,
           13,
           11,
           14,
           15,
           15,
           14,
           11,
           15,
           14,
           14,
           13,
           12,
           13,
           13,
           12
          ],
          "coloraxis": "coloraxis",
          "size": [
           729,
           729,
           729,
           729,
           729,
           729,
           729,
           729,
           729,
           729,
           729,
           729,
           729,
           729,
           729,
           729,
           729,
           729,
           729,
           512,
           512,
           512,
           512,
           512,
           512,
           512,
           343,
           343,
           343,
           343,
           343,
           343,
           343,
           125,
           64
          ],
          "sizemode": "area",
          "sizeref": 1.8225
         },
         "mode": "markers",
         "name": "",
         "showlegend": false,
         "subplot": "mapbox",
         "type": "scattermapbox"
        }
       ],
       "layout": {
        "coloraxis": {
         "colorbar": {
          "title": {
           "text": "Mean_temp"
          }
         },
         "colorscale": [
          [
           0,
           "blue"
          ],
          [
           0.5,
           "#947b84"
          ],
          [
           1,
           "red"
          ]
         ]
        },
        "height": 700,
        "legend": {
         "itemsizing": "constant",
         "tracegroupgap": 0
        },
        "mapbox": {
         "center": {
          "lat": 45.84118360428571,
          "lon": 3.3965435055534723
         },
         "domain": {
          "x": [
           0,
           1
          ],
          "y": [
           0,
           1
          ]
         },
         "style": "carto-positron",
         "zoom": 4.5
        },
        "template": {
         "data": {
          "bar": [
           {
            "error_x": {
             "color": "#2a3f5f"
            },
            "error_y": {
             "color": "#2a3f5f"
            },
            "marker": {
             "line": {
              "color": "#E5ECF6",
              "width": 0.5
             },
             "pattern": {
              "fillmode": "overlay",
              "size": 10,
              "solidity": 0.2
             }
            },
            "type": "bar"
           }
          ],
          "barpolar": [
           {
            "marker": {
             "line": {
              "color": "#E5ECF6",
              "width": 0.5
             },
             "pattern": {
              "fillmode": "overlay",
              "size": 10,
              "solidity": 0.2
             }
            },
            "type": "barpolar"
           }
          ],
          "carpet": [
           {
            "aaxis": {
             "endlinecolor": "#2a3f5f",
             "gridcolor": "white",
             "linecolor": "white",
             "minorgridcolor": "white",
             "startlinecolor": "#2a3f5f"
            },
            "baxis": {
             "endlinecolor": "#2a3f5f",
             "gridcolor": "white",
             "linecolor": "white",
             "minorgridcolor": "white",
             "startlinecolor": "#2a3f5f"
            },
            "type": "carpet"
           }
          ],
          "choropleth": [
           {
            "colorbar": {
             "outlinewidth": 0,
             "ticks": ""
            },
            "type": "choropleth"
           }
          ],
          "contour": [
           {
            "colorbar": {
             "outlinewidth": 0,
             "ticks": ""
            },
            "colorscale": [
             [
              0,
              "#0d0887"
             ],
             [
              0.1111111111111111,
              "#46039f"
             ],
             [
              0.2222222222222222,
              "#7201a8"
             ],
             [
              0.3333333333333333,
              "#9c179e"
             ],
             [
              0.4444444444444444,
              "#bd3786"
             ],
             [
              0.5555555555555556,
              "#d8576b"
             ],
             [
              0.6666666666666666,
              "#ed7953"
             ],
             [
              0.7777777777777778,
              "#fb9f3a"
             ],
             [
              0.8888888888888888,
              "#fdca26"
             ],
             [
              1,
              "#f0f921"
             ]
            ],
            "type": "contour"
           }
          ],
          "contourcarpet": [
           {
            "colorbar": {
             "outlinewidth": 0,
             "ticks": ""
            },
            "type": "contourcarpet"
           }
          ],
          "heatmap": [
           {
            "colorbar": {
             "outlinewidth": 0,
             "ticks": ""
            },
            "colorscale": [
             [
              0,
              "#0d0887"
             ],
             [
              0.1111111111111111,
              "#46039f"
             ],
             [
              0.2222222222222222,
              "#7201a8"
             ],
             [
              0.3333333333333333,
              "#9c179e"
             ],
             [
              0.4444444444444444,
              "#bd3786"
             ],
             [
              0.5555555555555556,
              "#d8576b"
             ],
             [
              0.6666666666666666,
              "#ed7953"
             ],
             [
              0.7777777777777778,
              "#fb9f3a"
             ],
             [
              0.8888888888888888,
              "#fdca26"
             ],
             [
              1,
              "#f0f921"
             ]
            ],
            "type": "heatmap"
           }
          ],
          "heatmapgl": [
           {
            "colorbar": {
             "outlinewidth": 0,
             "ticks": ""
            },
            "colorscale": [
             [
              0,
              "#0d0887"
             ],
             [
              0.1111111111111111,
              "#46039f"
             ],
             [
              0.2222222222222222,
              "#7201a8"
             ],
             [
              0.3333333333333333,
              "#9c179e"
             ],
             [
              0.4444444444444444,
              "#bd3786"
             ],
             [
              0.5555555555555556,
              "#d8576b"
             ],
             [
              0.6666666666666666,
              "#ed7953"
             ],
             [
              0.7777777777777778,
              "#fb9f3a"
             ],
             [
              0.8888888888888888,
              "#fdca26"
             ],
             [
              1,
              "#f0f921"
             ]
            ],
            "type": "heatmapgl"
           }
          ],
          "histogram": [
           {
            "marker": {
             "pattern": {
              "fillmode": "overlay",
              "size": 10,
              "solidity": 0.2
             }
            },
            "type": "histogram"
           }
          ],
          "histogram2d": [
           {
            "colorbar": {
             "outlinewidth": 0,
             "ticks": ""
            },
            "colorscale": [
             [
              0,
              "#0d0887"
             ],
             [
              0.1111111111111111,
              "#46039f"
             ],
             [
              0.2222222222222222,
              "#7201a8"
             ],
             [
              0.3333333333333333,
              "#9c179e"
             ],
             [
              0.4444444444444444,
              "#bd3786"
             ],
             [
              0.5555555555555556,
              "#d8576b"
             ],
             [
              0.6666666666666666,
              "#ed7953"
             ],
             [
              0.7777777777777778,
              "#fb9f3a"
             ],
             [
              0.8888888888888888,
              "#fdca26"
             ],
             [
              1,
              "#f0f921"
             ]
            ],
            "type": "histogram2d"
           }
          ],
          "histogram2dcontour": [
           {
            "colorbar": {
             "outlinewidth": 0,
             "ticks": ""
            },
            "colorscale": [
             [
              0,
              "#0d0887"
             ],
             [
              0.1111111111111111,
              "#46039f"
             ],
             [
              0.2222222222222222,
              "#7201a8"
             ],
             [
              0.3333333333333333,
              "#9c179e"
             ],
             [
              0.4444444444444444,
              "#bd3786"
             ],
             [
              0.5555555555555556,
              "#d8576b"
             ],
             [
              0.6666666666666666,
              "#ed7953"
             ],
             [
              0.7777777777777778,
              "#fb9f3a"
             ],
             [
              0.8888888888888888,
              "#fdca26"
             ],
             [
              1,
              "#f0f921"
             ]
            ],
            "type": "histogram2dcontour"
           }
          ],
          "mesh3d": [
           {
            "colorbar": {
             "outlinewidth": 0,
             "ticks": ""
            },
            "type": "mesh3d"
           }
          ],
          "parcoords": [
           {
            "line": {
             "colorbar": {
              "outlinewidth": 0,
              "ticks": ""
             }
            },
            "type": "parcoords"
           }
          ],
          "pie": [
           {
            "automargin": true,
            "type": "pie"
           }
          ],
          "scatter": [
           {
            "fillpattern": {
             "fillmode": "overlay",
             "size": 10,
             "solidity": 0.2
            },
            "type": "scatter"
           }
          ],
          "scatter3d": [
           {
            "line": {
             "colorbar": {
              "outlinewidth": 0,
              "ticks": ""
             }
            },
            "marker": {
             "colorbar": {
              "outlinewidth": 0,
              "ticks": ""
             }
            },
            "type": "scatter3d"
           }
          ],
          "scattercarpet": [
           {
            "marker": {
             "colorbar": {
              "outlinewidth": 0,
              "ticks": ""
             }
            },
            "type": "scattercarpet"
           }
          ],
          "scattergeo": [
           {
            "marker": {
             "colorbar": {
              "outlinewidth": 0,
              "ticks": ""
             }
            },
            "type": "scattergeo"
           }
          ],
          "scattergl": [
           {
            "marker": {
             "colorbar": {
              "outlinewidth": 0,
              "ticks": ""
             }
            },
            "type": "scattergl"
           }
          ],
          "scattermapbox": [
           {
            "marker": {
             "colorbar": {
              "outlinewidth": 0,
              "ticks": ""
             }
            },
            "type": "scattermapbox"
           }
          ],
          "scatterpolar": [
           {
            "marker": {
             "colorbar": {
              "outlinewidth": 0,
              "ticks": ""
             }
            },
            "type": "scatterpolar"
           }
          ],
          "scatterpolargl": [
           {
            "marker": {
             "colorbar": {
              "outlinewidth": 0,
              "ticks": ""
             }
            },
            "type": "scatterpolargl"
           }
          ],
          "scatterternary": [
           {
            "marker": {
             "colorbar": {
              "outlinewidth": 0,
              "ticks": ""
             }
            },
            "type": "scatterternary"
           }
          ],
          "surface": [
           {
            "colorbar": {
             "outlinewidth": 0,
             "ticks": ""
            },
            "colorscale": [
             [
              0,
              "#0d0887"
             ],
             [
              0.1111111111111111,
              "#46039f"
             ],
             [
              0.2222222222222222,
              "#7201a8"
             ],
             [
              0.3333333333333333,
              "#9c179e"
             ],
             [
              0.4444444444444444,
              "#bd3786"
             ],
             [
              0.5555555555555556,
              "#d8576b"
             ],
             [
              0.6666666666666666,
              "#ed7953"
             ],
             [
              0.7777777777777778,
              "#fb9f3a"
             ],
             [
              0.8888888888888888,
              "#fdca26"
             ],
             [
              1,
              "#f0f921"
             ]
            ],
            "type": "surface"
           }
          ],
          "table": [
           {
            "cells": {
             "fill": {
              "color": "#EBF0F8"
             },
             "line": {
              "color": "white"
             }
            },
            "header": {
             "fill": {
              "color": "#C8D4E3"
             },
             "line": {
              "color": "white"
             }
            },
            "type": "table"
           }
          ]
         },
         "layout": {
          "annotationdefaults": {
           "arrowcolor": "#2a3f5f",
           "arrowhead": 0,
           "arrowwidth": 1
          },
          "autotypenumbers": "strict",
          "coloraxis": {
           "colorbar": {
            "outlinewidth": 0,
            "ticks": ""
           }
          },
          "colorscale": {
           "diverging": [
            [
             0,
             "#8e0152"
            ],
            [
             0.1,
             "#c51b7d"
            ],
            [
             0.2,
             "#de77ae"
            ],
            [
             0.3,
             "#f1b6da"
            ],
            [
             0.4,
             "#fde0ef"
            ],
            [
             0.5,
             "#f7f7f7"
            ],
            [
             0.6,
             "#e6f5d0"
            ],
            [
             0.7,
             "#b8e186"
            ],
            [
             0.8,
             "#7fbc41"
            ],
            [
             0.9,
             "#4d9221"
            ],
            [
             1,
             "#276419"
            ]
           ],
           "sequential": [
            [
             0,
             "#0d0887"
            ],
            [
             0.1111111111111111,
             "#46039f"
            ],
            [
             0.2222222222222222,
             "#7201a8"
            ],
            [
             0.3333333333333333,
             "#9c179e"
            ],
            [
             0.4444444444444444,
             "#bd3786"
            ],
            [
             0.5555555555555556,
             "#d8576b"
            ],
            [
             0.6666666666666666,
             "#ed7953"
            ],
            [
             0.7777777777777778,
             "#fb9f3a"
            ],
            [
             0.8888888888888888,
             "#fdca26"
            ],
            [
             1,
             "#f0f921"
            ]
           ],
           "sequentialminus": [
            [
             0,
             "#0d0887"
            ],
            [
             0.1111111111111111,
             "#46039f"
            ],
            [
             0.2222222222222222,
             "#7201a8"
            ],
            [
             0.3333333333333333,
             "#9c179e"
            ],
            [
             0.4444444444444444,
             "#bd3786"
            ],
            [
             0.5555555555555556,
             "#d8576b"
            ],
            [
             0.6666666666666666,
             "#ed7953"
            ],
            [
             0.7777777777777778,
             "#fb9f3a"
            ],
            [
             0.8888888888888888,
             "#fdca26"
            ],
            [
             1,
             "#f0f921"
            ]
           ]
          },
          "colorway": [
           "#636efa",
           "#EF553B",
           "#00cc96",
           "#ab63fa",
           "#FFA15A",
           "#19d3f3",
           "#FF6692",
           "#B6E880",
           "#FF97FF",
           "#FECB52"
          ],
          "font": {
           "color": "#2a3f5f"
          },
          "geo": {
           "bgcolor": "white",
           "lakecolor": "white",
           "landcolor": "#E5ECF6",
           "showlakes": true,
           "showland": true,
           "subunitcolor": "white"
          },
          "hoverlabel": {
           "align": "left"
          },
          "hovermode": "closest",
          "mapbox": {
           "style": "light"
          },
          "paper_bgcolor": "white",
          "plot_bgcolor": "#E5ECF6",
          "polar": {
           "angularaxis": {
            "gridcolor": "white",
            "linecolor": "white",
            "ticks": ""
           },
           "bgcolor": "#E5ECF6",
           "radialaxis": {
            "gridcolor": "white",
            "linecolor": "white",
            "ticks": ""
           }
          },
          "scene": {
           "xaxis": {
            "backgroundcolor": "#E5ECF6",
            "gridcolor": "white",
            "gridwidth": 2,
            "linecolor": "white",
            "showbackground": true,
            "ticks": "",
            "zerolinecolor": "white"
           },
           "yaxis": {
            "backgroundcolor": "#E5ECF6",
            "gridcolor": "white",
            "gridwidth": 2,
            "linecolor": "white",
            "showbackground": true,
            "ticks": "",
            "zerolinecolor": "white"
           },
           "zaxis": {
            "backgroundcolor": "#E5ECF6",
            "gridcolor": "white",
            "gridwidth": 2,
            "linecolor": "white",
            "showbackground": true,
            "ticks": "",
            "zerolinecolor": "white"
           }
          },
          "shapedefaults": {
           "line": {
            "color": "#2a3f5f"
           }
          },
          "ternary": {
           "aaxis": {
            "gridcolor": "white",
            "linecolor": "white",
            "ticks": ""
           },
           "baxis": {
            "gridcolor": "white",
            "linecolor": "white",
            "ticks": ""
           },
           "bgcolor": "#E5ECF6",
           "caxis": {
            "gridcolor": "white",
            "linecolor": "white",
            "ticks": ""
           }
          },
          "title": {
           "x": 0.05
          },
          "xaxis": {
           "automargin": true,
           "gridcolor": "white",
           "linecolor": "white",
           "ticks": "",
           "title": {
            "standoff": 15
           },
           "zerolinecolor": "white",
           "zerolinewidth": 2
          },
          "yaxis": {
           "automargin": true,
           "gridcolor": "white",
           "linecolor": "white",
           "ticks": "",
           "title": {
            "standoff": 15
           },
           "zerolinecolor": "white",
           "zerolinewidth": 2
          }
         }
        },
        "title": {
         "text": "Meilleures Destinations en fonction de la méteo des 7 prochains jours"
        },
        "width": 800
       }
      }
     },
     "metadata": {},
     "output_type": "display_data"
    }
   ],
   "source": [
    "fig = px.scatter_mapbox(meteo_top, lat=\"Latitude\", lon=\"Longitude\", \n",
    "\t\t\t\t\t\tsize=\"size\", \n",
    "                        color=\"Mean_temp\",\t\n",
    "                        color_continuous_scale=[\"blue\",\"#947b84\",\"red\"],\t\t\t\n",
    "                        mapbox_style=\"carto-positron\",\n",
    "                        hover_data={\"Destination\": True, \"Mean_temp\":True, \"Nb_day_with_rain\":True},\n",
    "                        width=800, height=700,\n",
    "                        title=\"Meilleures Destinations en fonction de la méteo des 7 prochains jours\"\n",
    "                        )\n",
    "fig.for_each_trace(lambda t: t.update(\n",
    "    hovertemplate=\"<b>%{customdata[0]}</b><br>\" + \n",
    "                  \"T° Moyenne: %{customdata[1]}°C<br>\" + \n",
    "                  \"Jours de pluie: %{customdata[2]}<br>\" \n",
    "    ))\n",
    "fig.update_layout( mapbox_zoom=4.5)\n",
    "fig.show()"
   ]
  },
  {
   "cell_type": "code",
   "execution_count": 98,
   "metadata": {},
   "outputs": [
    {
     "data": {
      "application/vnd.plotly.v1+json": {
       "config": {
        "plotlyServerURL": "https://plot.ly"
       },
       "data": [
        {
         "customdata": [
          [
           "Grenoble",
           15,
           0
          ],
          [
           "Toulouse",
           14,
           0
          ],
          [
           "Montauban",
           14,
           0
          ],
          [
           "Mont Saint Michel",
           12,
           0
          ],
          [
           "Rouen",
           12,
           0
          ]
         ],
         "hovertemplate": "<b>%{text}</b><br>T° Moyenne: %{customdata[1]}°C<br>Jours de pluie: %{customdata[2]}<br>",
         "hovertext": [
          "Grenoble",
          "Toulouse",
          "Montauban",
          "Mont Saint Michel",
          "Rouen"
         ],
         "lat": [
          45.1875602,
          43.6044622,
          44.0175835,
          48.6359541,
          49.4404591
         ],
         "legendgroup": "",
         "lon": [
          5.7357819,
          1.4442469,
          1.3549991,
          -1.511459954959514,
          1.0939658
         ],
         "marker": {
          "color": [
           15,
           14,
           14,
           12,
           12
          ],
          "coloraxis": "coloraxis",
          "size": [
           729,
           729,
           729,
           729,
           729
          ],
          "sizemode": "area",
          "sizeref": 1.8225
         },
         "mode": "markers+text",
         "name": "",
         "showlegend": false,
         "subplot": "mapbox",
         "text": [
          "Grenoble",
          "Toulouse",
          "Montauban",
          "Mont Saint Michel",
          "Rouen"
         ],
         "type": "scattermapbox"
        }
       ],
       "layout": {
        "coloraxis": {
         "colorbar": {
          "title": {
           "text": "Mean_temp"
          }
         },
         "colorscale": [
          [
           0,
           "blue"
          ],
          [
           0.5,
           "#947b84"
          ],
          [
           1,
           "red"
          ]
         ]
        },
        "height": 700,
        "legend": {
         "itemsizing": "constant",
         "tracegroupgap": 0
        },
        "mapbox": {
         "center": {
          "lat": 46.17720382,
          "lon": 1.6235067490080972
         },
         "domain": {
          "x": [
           0,
           1
          ],
          "y": [
           0,
           1
          ]
         },
         "style": "carto-positron",
         "zoom": 5
        },
        "template": {
         "data": {
          "bar": [
           {
            "error_x": {
             "color": "#2a3f5f"
            },
            "error_y": {
             "color": "#2a3f5f"
            },
            "marker": {
             "line": {
              "color": "#E5ECF6",
              "width": 0.5
             },
             "pattern": {
              "fillmode": "overlay",
              "size": 10,
              "solidity": 0.2
             }
            },
            "type": "bar"
           }
          ],
          "barpolar": [
           {
            "marker": {
             "line": {
              "color": "#E5ECF6",
              "width": 0.5
             },
             "pattern": {
              "fillmode": "overlay",
              "size": 10,
              "solidity": 0.2
             }
            },
            "type": "barpolar"
           }
          ],
          "carpet": [
           {
            "aaxis": {
             "endlinecolor": "#2a3f5f",
             "gridcolor": "white",
             "linecolor": "white",
             "minorgridcolor": "white",
             "startlinecolor": "#2a3f5f"
            },
            "baxis": {
             "endlinecolor": "#2a3f5f",
             "gridcolor": "white",
             "linecolor": "white",
             "minorgridcolor": "white",
             "startlinecolor": "#2a3f5f"
            },
            "type": "carpet"
           }
          ],
          "choropleth": [
           {
            "colorbar": {
             "outlinewidth": 0,
             "ticks": ""
            },
            "type": "choropleth"
           }
          ],
          "contour": [
           {
            "colorbar": {
             "outlinewidth": 0,
             "ticks": ""
            },
            "colorscale": [
             [
              0,
              "#0d0887"
             ],
             [
              0.1111111111111111,
              "#46039f"
             ],
             [
              0.2222222222222222,
              "#7201a8"
             ],
             [
              0.3333333333333333,
              "#9c179e"
             ],
             [
              0.4444444444444444,
              "#bd3786"
             ],
             [
              0.5555555555555556,
              "#d8576b"
             ],
             [
              0.6666666666666666,
              "#ed7953"
             ],
             [
              0.7777777777777778,
              "#fb9f3a"
             ],
             [
              0.8888888888888888,
              "#fdca26"
             ],
             [
              1,
              "#f0f921"
             ]
            ],
            "type": "contour"
           }
          ],
          "contourcarpet": [
           {
            "colorbar": {
             "outlinewidth": 0,
             "ticks": ""
            },
            "type": "contourcarpet"
           }
          ],
          "heatmap": [
           {
            "colorbar": {
             "outlinewidth": 0,
             "ticks": ""
            },
            "colorscale": [
             [
              0,
              "#0d0887"
             ],
             [
              0.1111111111111111,
              "#46039f"
             ],
             [
              0.2222222222222222,
              "#7201a8"
             ],
             [
              0.3333333333333333,
              "#9c179e"
             ],
             [
              0.4444444444444444,
              "#bd3786"
             ],
             [
              0.5555555555555556,
              "#d8576b"
             ],
             [
              0.6666666666666666,
              "#ed7953"
             ],
             [
              0.7777777777777778,
              "#fb9f3a"
             ],
             [
              0.8888888888888888,
              "#fdca26"
             ],
             [
              1,
              "#f0f921"
             ]
            ],
            "type": "heatmap"
           }
          ],
          "heatmapgl": [
           {
            "colorbar": {
             "outlinewidth": 0,
             "ticks": ""
            },
            "colorscale": [
             [
              0,
              "#0d0887"
             ],
             [
              0.1111111111111111,
              "#46039f"
             ],
             [
              0.2222222222222222,
              "#7201a8"
             ],
             [
              0.3333333333333333,
              "#9c179e"
             ],
             [
              0.4444444444444444,
              "#bd3786"
             ],
             [
              0.5555555555555556,
              "#d8576b"
             ],
             [
              0.6666666666666666,
              "#ed7953"
             ],
             [
              0.7777777777777778,
              "#fb9f3a"
             ],
             [
              0.8888888888888888,
              "#fdca26"
             ],
             [
              1,
              "#f0f921"
             ]
            ],
            "type": "heatmapgl"
           }
          ],
          "histogram": [
           {
            "marker": {
             "pattern": {
              "fillmode": "overlay",
              "size": 10,
              "solidity": 0.2
             }
            },
            "type": "histogram"
           }
          ],
          "histogram2d": [
           {
            "colorbar": {
             "outlinewidth": 0,
             "ticks": ""
            },
            "colorscale": [
             [
              0,
              "#0d0887"
             ],
             [
              0.1111111111111111,
              "#46039f"
             ],
             [
              0.2222222222222222,
              "#7201a8"
             ],
             [
              0.3333333333333333,
              "#9c179e"
             ],
             [
              0.4444444444444444,
              "#bd3786"
             ],
             [
              0.5555555555555556,
              "#d8576b"
             ],
             [
              0.6666666666666666,
              "#ed7953"
             ],
             [
              0.7777777777777778,
              "#fb9f3a"
             ],
             [
              0.8888888888888888,
              "#fdca26"
             ],
             [
              1,
              "#f0f921"
             ]
            ],
            "type": "histogram2d"
           }
          ],
          "histogram2dcontour": [
           {
            "colorbar": {
             "outlinewidth": 0,
             "ticks": ""
            },
            "colorscale": [
             [
              0,
              "#0d0887"
             ],
             [
              0.1111111111111111,
              "#46039f"
             ],
             [
              0.2222222222222222,
              "#7201a8"
             ],
             [
              0.3333333333333333,
              "#9c179e"
             ],
             [
              0.4444444444444444,
              "#bd3786"
             ],
             [
              0.5555555555555556,
              "#d8576b"
             ],
             [
              0.6666666666666666,
              "#ed7953"
             ],
             [
              0.7777777777777778,
              "#fb9f3a"
             ],
             [
              0.8888888888888888,
              "#fdca26"
             ],
             [
              1,
              "#f0f921"
             ]
            ],
            "type": "histogram2dcontour"
           }
          ],
          "mesh3d": [
           {
            "colorbar": {
             "outlinewidth": 0,
             "ticks": ""
            },
            "type": "mesh3d"
           }
          ],
          "parcoords": [
           {
            "line": {
             "colorbar": {
              "outlinewidth": 0,
              "ticks": ""
             }
            },
            "type": "parcoords"
           }
          ],
          "pie": [
           {
            "automargin": true,
            "type": "pie"
           }
          ],
          "scatter": [
           {
            "fillpattern": {
             "fillmode": "overlay",
             "size": 10,
             "solidity": 0.2
            },
            "type": "scatter"
           }
          ],
          "scatter3d": [
           {
            "line": {
             "colorbar": {
              "outlinewidth": 0,
              "ticks": ""
             }
            },
            "marker": {
             "colorbar": {
              "outlinewidth": 0,
              "ticks": ""
             }
            },
            "type": "scatter3d"
           }
          ],
          "scattercarpet": [
           {
            "marker": {
             "colorbar": {
              "outlinewidth": 0,
              "ticks": ""
             }
            },
            "type": "scattercarpet"
           }
          ],
          "scattergeo": [
           {
            "marker": {
             "colorbar": {
              "outlinewidth": 0,
              "ticks": ""
             }
            },
            "type": "scattergeo"
           }
          ],
          "scattergl": [
           {
            "marker": {
             "colorbar": {
              "outlinewidth": 0,
              "ticks": ""
             }
            },
            "type": "scattergl"
           }
          ],
          "scattermapbox": [
           {
            "marker": {
             "colorbar": {
              "outlinewidth": 0,
              "ticks": ""
             }
            },
            "type": "scattermapbox"
           }
          ],
          "scatterpolar": [
           {
            "marker": {
             "colorbar": {
              "outlinewidth": 0,
              "ticks": ""
             }
            },
            "type": "scatterpolar"
           }
          ],
          "scatterpolargl": [
           {
            "marker": {
             "colorbar": {
              "outlinewidth": 0,
              "ticks": ""
             }
            },
            "type": "scatterpolargl"
           }
          ],
          "scatterternary": [
           {
            "marker": {
             "colorbar": {
              "outlinewidth": 0,
              "ticks": ""
             }
            },
            "type": "scatterternary"
           }
          ],
          "surface": [
           {
            "colorbar": {
             "outlinewidth": 0,
             "ticks": ""
            },
            "colorscale": [
             [
              0,
              "#0d0887"
             ],
             [
              0.1111111111111111,
              "#46039f"
             ],
             [
              0.2222222222222222,
              "#7201a8"
             ],
             [
              0.3333333333333333,
              "#9c179e"
             ],
             [
              0.4444444444444444,
              "#bd3786"
             ],
             [
              0.5555555555555556,
              "#d8576b"
             ],
             [
              0.6666666666666666,
              "#ed7953"
             ],
             [
              0.7777777777777778,
              "#fb9f3a"
             ],
             [
              0.8888888888888888,
              "#fdca26"
             ],
             [
              1,
              "#f0f921"
             ]
            ],
            "type": "surface"
           }
          ],
          "table": [
           {
            "cells": {
             "fill": {
              "color": "#EBF0F8"
             },
             "line": {
              "color": "white"
             }
            },
            "header": {
             "fill": {
              "color": "#C8D4E3"
             },
             "line": {
              "color": "white"
             }
            },
            "type": "table"
           }
          ]
         },
         "layout": {
          "annotationdefaults": {
           "arrowcolor": "#2a3f5f",
           "arrowhead": 0,
           "arrowwidth": 1
          },
          "autotypenumbers": "strict",
          "coloraxis": {
           "colorbar": {
            "outlinewidth": 0,
            "ticks": ""
           }
          },
          "colorscale": {
           "diverging": [
            [
             0,
             "#8e0152"
            ],
            [
             0.1,
             "#c51b7d"
            ],
            [
             0.2,
             "#de77ae"
            ],
            [
             0.3,
             "#f1b6da"
            ],
            [
             0.4,
             "#fde0ef"
            ],
            [
             0.5,
             "#f7f7f7"
            ],
            [
             0.6,
             "#e6f5d0"
            ],
            [
             0.7,
             "#b8e186"
            ],
            [
             0.8,
             "#7fbc41"
            ],
            [
             0.9,
             "#4d9221"
            ],
            [
             1,
             "#276419"
            ]
           ],
           "sequential": [
            [
             0,
             "#0d0887"
            ],
            [
             0.1111111111111111,
             "#46039f"
            ],
            [
             0.2222222222222222,
             "#7201a8"
            ],
            [
             0.3333333333333333,
             "#9c179e"
            ],
            [
             0.4444444444444444,
             "#bd3786"
            ],
            [
             0.5555555555555556,
             "#d8576b"
            ],
            [
             0.6666666666666666,
             "#ed7953"
            ],
            [
             0.7777777777777778,
             "#fb9f3a"
            ],
            [
             0.8888888888888888,
             "#fdca26"
            ],
            [
             1,
             "#f0f921"
            ]
           ],
           "sequentialminus": [
            [
             0,
             "#0d0887"
            ],
            [
             0.1111111111111111,
             "#46039f"
            ],
            [
             0.2222222222222222,
             "#7201a8"
            ],
            [
             0.3333333333333333,
             "#9c179e"
            ],
            [
             0.4444444444444444,
             "#bd3786"
            ],
            [
             0.5555555555555556,
             "#d8576b"
            ],
            [
             0.6666666666666666,
             "#ed7953"
            ],
            [
             0.7777777777777778,
             "#fb9f3a"
            ],
            [
             0.8888888888888888,
             "#fdca26"
            ],
            [
             1,
             "#f0f921"
            ]
           ]
          },
          "colorway": [
           "#636efa",
           "#EF553B",
           "#00cc96",
           "#ab63fa",
           "#FFA15A",
           "#19d3f3",
           "#FF6692",
           "#B6E880",
           "#FF97FF",
           "#FECB52"
          ],
          "font": {
           "color": "#2a3f5f"
          },
          "geo": {
           "bgcolor": "white",
           "lakecolor": "white",
           "landcolor": "#E5ECF6",
           "showlakes": true,
           "showland": true,
           "subunitcolor": "white"
          },
          "hoverlabel": {
           "align": "left"
          },
          "hovermode": "closest",
          "mapbox": {
           "style": "light"
          },
          "paper_bgcolor": "white",
          "plot_bgcolor": "#E5ECF6",
          "polar": {
           "angularaxis": {
            "gridcolor": "white",
            "linecolor": "white",
            "ticks": ""
           },
           "bgcolor": "#E5ECF6",
           "radialaxis": {
            "gridcolor": "white",
            "linecolor": "white",
            "ticks": ""
           }
          },
          "scene": {
           "xaxis": {
            "backgroundcolor": "#E5ECF6",
            "gridcolor": "white",
            "gridwidth": 2,
            "linecolor": "white",
            "showbackground": true,
            "ticks": "",
            "zerolinecolor": "white"
           },
           "yaxis": {
            "backgroundcolor": "#E5ECF6",
            "gridcolor": "white",
            "gridwidth": 2,
            "linecolor": "white",
            "showbackground": true,
            "ticks": "",
            "zerolinecolor": "white"
           },
           "zaxis": {
            "backgroundcolor": "#E5ECF6",
            "gridcolor": "white",
            "gridwidth": 2,
            "linecolor": "white",
            "showbackground": true,
            "ticks": "",
            "zerolinecolor": "white"
           }
          },
          "shapedefaults": {
           "line": {
            "color": "#2a3f5f"
           }
          },
          "ternary": {
           "aaxis": {
            "gridcolor": "white",
            "linecolor": "white",
            "ticks": ""
           },
           "baxis": {
            "gridcolor": "white",
            "linecolor": "white",
            "ticks": ""
           },
           "bgcolor": "#E5ECF6",
           "caxis": {
            "gridcolor": "white",
            "linecolor": "white",
            "ticks": ""
           }
          },
          "title": {
           "x": 0.05
          },
          "xaxis": {
           "automargin": true,
           "gridcolor": "white",
           "linecolor": "white",
           "ticks": "",
           "title": {
            "standoff": 15
           },
           "zerolinecolor": "white",
           "zerolinewidth": 2
          },
          "yaxis": {
           "automargin": true,
           "gridcolor": "white",
           "linecolor": "white",
           "ticks": "",
           "title": {
            "standoff": 15
           },
           "zerolinecolor": "white",
           "zerolinewidth": 2
          }
         }
        },
        "title": {
         "text": "Top 5 des destinations en fonction de la méteo des 7 prochains jours"
        },
        "width": 800
       }
      }
     },
     "metadata": {},
     "output_type": "display_data"
    }
   ],
   "source": [
    "fig = px.scatter_mapbox(meteo_top.head(), lat=\"Latitude\", lon=\"Longitude\", \n",
    "                        text=\"Destination\",\n",
    "\t\t\t\t\t\tsize=\"size\", \n",
    "                        color=\"Mean_temp\",\t\n",
    "                        color_continuous_scale=[\"blue\",\"#947b84\",\"red\"],\t\t\t\n",
    "                        mapbox_style=\"carto-positron\",\n",
    "                        hover_data={\"Destination\": True, \"Mean_temp\":True, \"Nb_day_with_rain\":True},\n",
    "                        hover_name=\"Destination\",\n",
    "                        width=800, height=700,\n",
    "                        title=\"Top 5 des destinations en fonction de la méteo des 7 prochains jours\"\n",
    "                        )\n",
    "fig.for_each_trace(lambda t: t.update(\n",
    "    hovertemplate=\"<b>%{text}</b><br>\" + \n",
    "                  \"T° Moyenne: %{customdata[1]}°C<br>\" + \n",
    "                  \"Jours de pluie: %{customdata[2]}<br>\" \n",
    "    ))\n",
    "fig.update_layout( mapbox_zoom=5)\n",
    "fig.show()"
   ]
  },
  {
   "cell_type": "markdown",
   "metadata": {},
   "source": [
    "## Top 20 des hôtels de la région"
   ]
  },
  {
   "cell_type": "code",
   "execution_count": null,
   "metadata": {},
   "outputs": [
    {
     "name": "stdout",
     "output_type": "stream",
     "text": [
      "2025-03-07 18:11:14,796 INFO sqlalchemy.engine.Engine BEGIN (implicit)\n",
      "2025-03-07 18:11:14,797 INFO sqlalchemy.engine.Engine SELECT * FROM hotels\n",
      "2025-03-07 18:11:14,798 INFO sqlalchemy.engine.Engine [generated in 0.00226s] {}\n"
     ]
    },
    {
     "data": {
      "text/html": [
       "<div>\n",
       "<style scoped>\n",
       "    .dataframe tbody tr th:only-of-type {\n",
       "        vertical-align: middle;\n",
       "    }\n",
       "\n",
       "    .dataframe tbody tr th {\n",
       "        vertical-align: top;\n",
       "    }\n",
       "\n",
       "    .dataframe thead th {\n",
       "        text-align: right;\n",
       "    }\n",
       "</style>\n",
       "<table border=\"1\" class=\"dataframe\">\n",
       "  <thead>\n",
       "    <tr style=\"text-align: right;\">\n",
       "      <th></th>\n",
       "      <th>destination</th>\n",
       "      <th>nom</th>\n",
       "      <th>score</th>\n",
       "      <th>latitude</th>\n",
       "      <th>longitude</th>\n",
       "      <th>url</th>\n",
       "      <th>description</th>\n",
       "      <th>id_destination</th>\n",
       "    </tr>\n",
       "  </thead>\n",
       "  <tbody>\n",
       "    <tr>\n",
       "      <th>0</th>\n",
       "      <td>Aigues Mortes</td>\n",
       "      <td>Boutique Hôtel des Remparts &amp; Spa</td>\n",
       "      <td>9,3</td>\n",
       "      <td>43.568036</td>\n",
       "      <td>4.190344</td>\n",
       "      <td>https://www.booking.com/hotel/fr/les-remparts-...</td>\n",
       "      <td>Aménagé dans une ancienne base militaire datan...</td>\n",
       "      <td>25</td>\n",
       "    </tr>\n",
       "    <tr>\n",
       "      <th>1</th>\n",
       "      <td>Aigues Mortes</td>\n",
       "      <td>La Villa Mazarin</td>\n",
       "      <td>9,2</td>\n",
       "      <td>43.564987</td>\n",
       "      <td>4.191752</td>\n",
       "      <td>https://www.booking.com/hotel/fr/la-villa-maza...</td>\n",
       "      <td>Description de l’établissement La Villa Mazari...</td>\n",
       "      <td>25</td>\n",
       "    </tr>\n",
       "    <tr>\n",
       "      <th>2</th>\n",
       "      <td>Aigues Mortes</td>\n",
       "      <td>GOLF HOTEL</td>\n",
       "      <td>9,1</td>\n",
       "      <td>43.568057</td>\n",
       "      <td>4.102608</td>\n",
       "      <td>https://www.booking.com/hotel/fr/golf-la-grand...</td>\n",
       "      <td>Situé à La Grande-Motte, à 2 km de la plage de...</td>\n",
       "      <td>25</td>\n",
       "    </tr>\n",
       "    <tr>\n",
       "      <th>3</th>\n",
       "      <td>Aigues Mortes</td>\n",
       "      <td>Hotel Les Acacias</td>\n",
       "      <td>9,1</td>\n",
       "      <td>43.538658</td>\n",
       "      <td>4.134977</td>\n",
       "      <td>https://www.booking.com/hotel/fr/les-acacias-l...</td>\n",
       "      <td>L'Hotel Les Acacias, de style provençal, situé...</td>\n",
       "      <td>25</td>\n",
       "    </tr>\n",
       "    <tr>\n",
       "      <th>4</th>\n",
       "      <td>Aigues Mortes</td>\n",
       "      <td>La Maison de Lyna</td>\n",
       "      <td>9,1</td>\n",
       "      <td>43.566018</td>\n",
       "      <td>4.192353</td>\n",
       "      <td>https://www.booking.com/hotel/fr/la-maison-de-...</td>\n",
       "      <td>L’établissement La Maison de Lyna vous accueil...</td>\n",
       "      <td>25</td>\n",
       "    </tr>\n",
       "  </tbody>\n",
       "</table>\n",
       "</div>"
      ],
      "text/plain": [
       "     destination                                nom score   latitude  \\\n",
       "0  Aigues Mortes  Boutique Hôtel des Remparts & Spa   9,3  43.568036   \n",
       "1  Aigues Mortes                   La Villa Mazarin   9,2  43.564987   \n",
       "2  Aigues Mortes                         GOLF HOTEL   9,1  43.568057   \n",
       "3  Aigues Mortes                  Hotel Les Acacias   9,1  43.538658   \n",
       "4  Aigues Mortes                  La Maison de Lyna   9,1  43.566018   \n",
       "\n",
       "   longitude                                                url  \\\n",
       "0   4.190344  https://www.booking.com/hotel/fr/les-remparts-...   \n",
       "1   4.191752  https://www.booking.com/hotel/fr/la-villa-maza...   \n",
       "2   4.102608  https://www.booking.com/hotel/fr/golf-la-grand...   \n",
       "3   4.134977  https://www.booking.com/hotel/fr/les-acacias-l...   \n",
       "4   4.192353  https://www.booking.com/hotel/fr/la-maison-de-...   \n",
       "\n",
       "                                         description  id_destination  \n",
       "0  Aménagé dans une ancienne base militaire datan...              25  \n",
       "1  Description de l’établissement La Villa Mazari...              25  \n",
       "2  Situé à La Grande-Motte, à 2 km de la plage de...              25  \n",
       "3  L'Hotel Les Acacias, de style provençal, situé...              25  \n",
       "4  L’établissement La Maison de Lyna vous accueil...              25  "
      ]
     },
     "execution_count": 12,
     "metadata": {},
     "output_type": "execute_result"
    }
   ],
   "source": [
    "# Récupération des données des hôtels dans la base de données\n",
    "stmt = text(\"SELECT * \"\n",
    "            \"FROM hotels\"\n",
    "            )\n",
    "\n",
    "hotels = pd.read_sql_query(con=engine.connect(), sql=stmt)\n",
    "\n",
    "hotels.head()"
   ]
  },
  {
   "cell_type": "code",
   "execution_count": 36,
   "metadata": {},
   "outputs": [],
   "source": [
    "# score au format float\n",
    "hotels['score'] = hotels['score'].apply(lambda x: float(x.replace(',','.')))"
   ]
  },
  {
   "cell_type": "code",
   "execution_count": 6,
   "metadata": {},
   "outputs": [
    {
     "data": {
      "application/vnd.plotly.v1+json": {
       "config": {
        "plotlyServerURL": "https://plot.ly"
       },
       "data": [
        {
         "hovertemplate": "<b>%{hovertext}</b><br><br>destination=Aigues Mortes<br>latitude=%{lat}<br>longitude=%{lon}<extra></extra>",
         "hovertext": [
          "Boutique Hôtel des Remparts & Spa",
          "La Villa Mazarin",
          "GOLF HOTEL",
          "Hotel Les Acacias",
          "La Maison de Lyna",
          "Hôtel Saint-Clair, côté Plage",
          "Hotel Le Quetzal",
          "Villa Chiesa Maison Hôtelière",
          "Maison des Croisades",
          "Hôtel-Restaurant \"Chez Carrière\"",
          "Hôtel La Plage 5 étoiles La Grande Motte",
          "Hôtel Café Miramar",
          "Lou Garbin",
          "Les Jardins du Canal",
          "Hôtel Le Médiéval",
          "Hotel Les Templiers",
          "Hôtel Restaurant Splendid Camargue",
          "Oustau Camarguen Hôtel & Spa",
          "Hotel Des 4 Vents \"Esprit Camargue\"",
          "Novotel La Grande Motte Golf"
         ],
         "lat": [
          43.568035521418736,
          43.56498661964503,
          43.568057,
          43.5386584350964,
          43.5660175,
          43.557042969435685,
          43.560378380515566,
          43.5373717,
          43.5689974,
          43.56651350885335,
          43.55604969654279,
          43.531852323011925,
          43.63235489585903,
          43.572987520084624,
          43.57186625316511,
          43.56694564615619,
          43.53412549297586,
          43.511950163794005,
          43.57702546263962,
          43.5707099855187
         ],
         "legendgroup": "Aigues Mortes",
         "lon": [
          4.190343797190508,
          4.191751956841472,
          4.102608,
          4.134977201223364,
          4.1923532,
          4.091806411743164,
          4.0921550989151,
          4.1356068,
          4.18829819999996,
          4.191158152149569,
          4.098812341690064,
          4.140072762966156,
          4.191160798072815,
          4.194824695587158,
          4.19366168974193,
          4.191873460958959,
          4.1371142864227295,
          4.137013033032417,
          4.1975390911102295,
          4.102646559476852
         ],
         "marker": {
          "color": "#636efa"
         },
         "mode": "markers",
         "name": "Aigues Mortes",
         "showlegend": true,
         "subplot": "mapbox",
         "type": "scattermapbox"
        },
        {
         "hovertemplate": "<b>%{hovertext}</b><br><br>destination=Aix en Provence<br>latitude=%{lat}<br>longitude=%{lon}<extra></extra>",
         "hovertext": [
          "Maison Dauphine",
          "Studio Nuitée en Provence 2",
          "Sweet Home studio Aix en Provence, terrasse, piscine, resto,",
          "Studios Nuitée en Provence",
          "Villa Saint-Ange",
          "Les Lodges Sainte-Victoire Hotel & Spa",
          "Château de la Gaude",
          "Villa Gallici Hôtel & Spa",
          "Hôtel Bellegarde by Viktor",
          "Hôtel Particulier le 28",
          "Hôtel Cézanne Boutique-Hôtel",
          "Hotel Cardinal",
          "Aquabella Hôtel & Spa",
          "Hôtel Paul",
          "Hôtel Escaletto",
          "Domaine Gaogaia",
          "Grand Hôtel Roi René Aix en Provence Centre - MGallery",
          "Hôtel Le Mozart",
          "Hôtel Birdy by Happyculture",
          "Aparthotel Adagio Aix-en-Provence Centre"
         ],
         "lat": [
          43.52551655199661,
          43.5433646,
          43.543436200731,
          43.5435822569446,
          43.523068,
          43.52116980487331,
          43.56879,
          43.536101030690894,
          43.5320856,
          43.5247755,
          43.52356201318332,
          43.5255987,
          43.53126359885809,
          43.53336324193778,
          43.53004967137571,
          43.4964012,
          43.52332474147478,
          43.5219176232722,
          43.48142972107352,
          43.52890621393209
         ],
         "legendgroup": "Aix en Provence",
         "lon": [
          5.450152158737183,
          5.3736497,
          5.3736957,
          5.373438234640503,
          5.457699,
          5.496597290039063,
          5.47851,
          5.448788137561678,
          5.4515111,
          5.45022449999999,
          5.445937067270279,
          5.45172079999998,
          5.445070043206215,
          5.446056425571442,
          5.444146692752838,
          5.394397400000003,
          5.449725687503815,
          5.457871556282044,
          5.365614295005798,
          5.440869033336639
         ],
         "marker": {
          "color": "#EF553B"
         },
         "mode": "markers",
         "name": "Aix en Provence",
         "showlegend": true,
         "subplot": "mapbox",
         "type": "scattermapbox"
        },
        {
         "hovertemplate": "<b>%{hovertext}</b><br><br>destination=Amiens<br>latitude=%{lat}<br>longitude=%{lon}<extra></extra>",
         "hovertext": [
          "La Parenthèse Envoutée",
          "L'auberge fleurie",
          "The Originals Boutique Hôtel Amiens Sud",
          "Logis Hôtel - La Chambre d'Amiens",
          "ibis Styles Amiens Centre",
          "Hotel Le Prieuré et La Résidence",
          "Nemea Appart Hotel Coliseum Amiens Centre",
          "Moxy Amiens",
          "La Caroline",
          "Le Saint Louis",
          "Mercure Amiens Cathédrale",
          "Chez Victor H",
          "LOGIS - Hôtel Restaurant Du Canard",
          "B&B HOTEL Amiens Centre Cathédrale",
          "The Nest",
          "Hôtel restaurant du Commerce",
          "Hôtel Spa Marotte",
          "Holiday Inn Express Amiens by IHG",
          "Le Vivier",
          "ibis budget Amiens Centre Gare"
         ],
         "lat": [
          49.88833909912762,
          49.952529,
          49.879612824182246,
          49.89448370908586,
          49.891422,
          49.894445193999786,
          49.8921749,
          49.891249,
          49.905454,
          49.889778847078894,
          49.89571084445366,
          49.892289399306,
          49.981881760291856,
          49.891999,
          49.889307,
          49.94655957161311,
          49.89105066789695,
          49.89167619790575,
          49.885365,
          49.891591
         ],
         "legendgroup": "Amiens",
         "lon": [
          2.3121708428661805,
          2.536644,
          2.266651015808119,
          2.276802533729551,
          2.304996,
          2.3009423911571503,
          2.2889352,
          2.30953,
          2.509432,
          2.3024994134902954,
          2.299562394618988,
          2.302585711836,
          2.0659929513931274,
          2.291969999999992,
          2.294634,
          2.312489032810845,
          2.301150932908058,
          2.30775386095047,
          2.269669,
          2.313573
         ],
         "marker": {
          "color": "#00cc96"
         },
         "mode": "markers",
         "name": "Amiens",
         "showlegend": true,
         "subplot": "mapbox",
         "type": "scattermapbox"
        },
        {
         "hovertemplate": "<b>%{hovertext}</b><br><br>destination=Annecy<br>latitude=%{lat}<br>longitude=%{lon}<extra></extra>",
         "hovertext": [
          "Les Jardins du Chateau",
          "Appart Hotel Neostelia",
          "Allobroges Park Hôtel",
          "Auberge du Lyonnais",
          "Impérial Palace",
          "Hôtel Le Pré Carré",
          "Hébé Hotel",
          "Le Pélican",
          "Rivage Hôtel & Spa Annecy",
          "Hôtel du Nord",
          "Le Splendid Hotel Lac D'Annecy - Handwritten Collection",
          "Hotel Les Terrasses",
          "Aparthotel Adagio Annecy Centre",
          "Hôtel du Château",
          "Apparthotel Privilodges Le Royal",
          "Les Loges Annecy Vieille Ville",
          "Best Western Plus Hotel Carlton Annecy",
          "Hôtel de Bonlieu",
          "ibis Annecy Centre Vieille Ville",
          "Hôtel Catalpa"
         ],
         "lat": [
          45.89762906594191,
          45.912613103044,
          45.90218660575059,
          45.899053,
          45.90374698623782,
          45.90249644555698,
          45.90041837042851,
          45.897015,
          45.905699,
          45.90205968292101,
          45.900678445133416,
          45.90393736458728,
          45.903201977941485,
          45.89789346662321,
          45.90010167486018,
          45.8980259989269,
          45.90034806289442,
          45.90349688035514,
          45.898238796612006,
          45.90551449345384
         ],
         "legendgroup": "Annecy",
         "lon": [
          6.124955447470256,
          6.1170846711639,
          6.123805046081543,
          6.124137,
          6.144694089889526,
          6.126119792461395,
          6.120344504670356,
          6.131543,
          6.151953,
          6.124647259712219,
          6.127447485923767,
          6.119993627071381,
          6.122673153877258,
          6.125205159187317,
          6.124424636363983,
          6.123657524585724,
          6.1223942041397095,
          6.128477454185486,
          6.12250953912735,
          6.144128143787384
         ],
         "marker": {
          "color": "#ab63fa"
         },
         "mode": "markers",
         "name": "Annecy",
         "showlegend": true,
         "subplot": "mapbox",
         "type": "scattermapbox"
        },
        {
         "hovertemplate": "<b>%{hovertext}</b><br><br>destination=Ariege<br>latitude=%{lat}<br>longitude=%{lon}<extra></extra>",
         "hovertext": [
          "AUX 4 LOGIS Appart-hotel - Studio Le Flore - Petit déjeuner inclus 1ère nuit",
          "Chambres d'hôtes Relais Mira Peis",
          "AUX 4 LOGIS Appart-hotel - Studio Le Terra - Petit déjeuner inclus 1ère nuit",
          "Chalet Hotel Les Marmottes 2 étoiles NN",
          "Logis Hotel Restaurant LA BARGUILLERE",
          "AUX 4 LOGIS Appart-hotel - Studio Le Roof - Une vue splendide - Petit déjeuner inclus 1ère nuit",
          "Gite d'étape de Roquefixade",
          "Hôtel Confort 09 ou HC-09",
          "Logis Hôtel restaurant Les Minotiers",
          "AUX 4 LOGIS Appart-hotel - Studio Le City - Petit déjeuner inclus 1ère nuit",
          "Auberge Les Myrtilles",
          "Le Hameau du Comté de Foix",
          "Hôtel Pyrène",
          "Hôtel Terranostra",
          "Relais d'Endron",
          "Résidence Le Grand Tétras- SPA THERMAL INCLUS",
          "Domaine de Garabaud",
          "Hostellerie de La Poste",
          "Hotel du Lac Foix",
          "Hôtel Le Bellevue"
         ],
         "lat": [
          42.96815793734,
          43.088176,
          42.968143122502,
          42.84528016217312,
          42.96093339833364,
          42.9681599,
          42.935725,
          42.84683098378713,
          43.0863592,
          42.968233105069,
          42.96126316302048,
          42.894548,
          42.95401185785057,
          42.84718593076998,
          42.7559606,
          42.721329,
          43.25701228026424,
          42.87471200315397,
          42.99197848633285,
          42.84719675666097
         ],
         "legendgroup": "Ariege",
         "lon": [
          1.608351193254,
          1.875399,
          1.6083692723,
          1.7411398887634275,
          1.558712124824524,
          1.6083351,
          1.754747,
          1.6058063507080078,
          1.8749443000000383,
          1.608347115344,
          1.4363336563110352,
          1.634179,
          1.6238951683044434,
          1.6056027951065062,
          1.50413079999998,
          1.839279,
          1.6664350032806396,
          1.215839982032776,
          1.6158190369606018,
          1.6056615114212036
         ],
         "marker": {
          "color": "#FFA15A"
         },
         "mode": "markers",
         "name": "Ariege",
         "showlegend": true,
         "subplot": "mapbox",
         "type": "scattermapbox"
        },
        {
         "hovertemplate": "<b>%{hovertext}</b><br><br>destination=Avignon<br>latitude=%{lat}<br>longitude=%{lon}<extra></extra>",
         "hovertext": [
          "Gîte Les cyprès de l'ile",
          "Résidence Services Oh Activ Avignon",
          "Appartement Les Cyprès de l’Île",
          "Appart'Hotel - Gare TGV - Courtine - Confluence - 407",
          "Garlande Hôtel Avignon Centre",
          "Hotel d'Europe",
          "Hotel De Cambis Best Western Premier Collection",
          "Hôtel Le Colbert",
          "Logis Hotel la Ferme",
          "Mercure Avignon Gare TGV",
          "Hôtel de l'Horloge",
          "Bateau Hotel à quai Le Chardonnay",
          "COWOOL AVIGNON",
          "Kyriad Avignon - Palais des Papes",
          "La Mirande",
          "Hotel Le Magnan",
          "Hôtel Le Bristol",
          "Best Western Plus Le Lavarin",
          "ibis Styles Avignon Sud",
          "Appart'Hotel - Gare TGV - Courtine - Confluence - 202"
         ],
         "lat": [
          43.9613237,
          43.943130415176,
          43.9613237,
          43.926463069619,
          43.94761833011378,
          43.95035466743478,
          43.947113,
          43.94411137230711,
          43.975483683625534,
          43.92929,
          43.94896720373931,
          43.953827,
          43.932979142652,
          43.9496377669598,
          43.95007659797408,
          43.943629463158565,
          43.94403212781474,
          43.922757658189205,
          43.92616548476504,
          43.926434777028
         ],
         "legendgroup": "Avignon",
         "lon": [
          4.8271867,
          4.799091700562,
          4.8271867,
          4.785711458483,
          4.806803539395332,
          4.803230166435242,
          4.80333,
          4.805795570569671,
          4.827437102794647,
          4.784118000000035,
          4.805472493171692,
          4.8099,
          4.831906704755,
          4.806358963251114,
          4.807706773281097,
          4.812171310186386,
          4.80533167719841,
          4.804295003414154,
          4.844420850276947,
          4.785715099388
         ],
         "marker": {
          "color": "#19d3f3"
         },
         "mode": "markers",
         "name": "Avignon",
         "showlegend": true,
         "subplot": "mapbox",
         "type": "scattermapbox"
        },
        {
         "hovertemplate": "<b>%{hovertext}</b><br><br>destination=Bayeux<br>latitude=%{lat}<br>longitude=%{lon}<extra></extra>",
         "hovertext": [
          "Château Saint Gilles - Bayeux",
          "Villa Lara Hotel",
          "Chateau La Cheneviere",
          "Domaine de Bayeux",
          "Domaine du Grand Caugy",
          "Belle Normandy",
          "La Maison de Mathilde",
          "Hôtel L'ideal le Mountbatten",
          "Hôtel d'Argouges",
          "Les Villas d'Arromanches, Teritoria",
          "Domitys Les Falaises Blanches",
          "Hotel Reine Mathilde",
          "Hotel Le Lion D'Or et Restaurant La Table Du Lion",
          "ibis Bayeux Port En Bessin",
          "Hôtel Restaurant le clos de l 'Ancien Pressoir",
          "Grand Hôtel \"Château de Sully\" - Piscine & Spa -Teritoria",
          "Hôtel De La Marine",
          "Logis Hôtel La Rosière",
          "Appart’hôtel saint patrice",
          "Le Declic"
         ],
         "lat": [
          49.249366,
          49.27551885808722,
          49.3324288096497,
          49.27232559999999,
          49.2812472208379,
          49.27446149480972,
          49.27647467688673,
          49.33836960745577,
          49.27899410241933,
          49.33893271385811,
          49.2791367116969,
          49.276031585766006,
          49.27627832312484,
          49.34591036405188,
          49.33578724960095,
          49.29943464050049,
          49.34048253388349,
          49.32349966028158,
          49.280242,
          49.27933593079586
         ],
         "legendgroup": "Bayeux",
         "lon": [
          -0.712469,
          -0.700964480638504,
          -0.755652040243149,
          -0.6985101000000213,
          -0.656313023651121,
          -0.7079898076568525,
          -0.7024700846557153,
          -0.6240534782409668,
          -0.7084169983863831,
          -0.6295868754386902,
          -0.7204249351343606,
          -0.7017248868942261,
          -0.6983694434165955,
          -0.7520538568496704,
          -0.7328782075279583,
          -0.7313686609268188,
          -0.6231093406677246,
          -0.6524097919464111,
          -0.71046,
          -0.7070561004303499
         ],
         "marker": {
          "color": "#FF6692"
         },
         "mode": "markers",
         "name": "Bayeux",
         "showlegend": true,
         "subplot": "mapbox",
         "type": "scattermapbox"
        },
        {
         "hovertemplate": "<b>%{hovertext}</b><br><br>destination=Bayonne<br>latitude=%{lat}<br>longitude=%{lon}<extra></extra>",
         "hovertext": [
          "Hôtel Au Bon Coin",
          "Résidence Kemaris",
          "Brindos, Lac & Château - Relais & Châteaux - Anglet Biarritz",
          "Hôtel du Palais Biarritz, in The Unbound Collection by Hyatt",
          "Hôtel Le Café de Paris",
          "Le Garage Biarritz Hôtel",
          "Hôtel de La Plage",
          "Hotel Saint Julien",
          "Hôtel INDARRA & SPA - Piscine",
          "Hotel Edouard VII",
          "Hotel de Silhouette",
          "Hôtel Villa la Renaissance",
          "Beaumanoir Small Luxury Boutique Hotel",
          "Hôtel Villa KOEGUI Bayonne",
          "Appart'Hôtel Bellevue",
          "Hôtel Mercure Bayonne Centre Le Grand Hotel",
          "Hôtel des Basses Pyrénées - Bayonne",
          "ibis Styles Bayonne",
          "Hôtel Le Bayonne",
          "Okko Hotels Bayonne Centre"
         ],
         "lat": [
          43.4821737,
          43.4764634,
          43.462816,
          43.48643904244932,
          43.482718094375606,
          43.490592,
          43.482133269718496,
          43.47913899555496,
          43.427136,
          43.479203222687474,
          43.48106772604739,
          43.482321,
          43.47807047960731,
          43.492371,
          43.50579423022689,
          43.492311913537534,
          43.48841135250723,
          43.4954057411974,
          43.485026198989566,
          43.49534430000001
         ],
         "legendgroup": "Bayonne",
         "lon": [
          -1.5541904,
          -1.5619169,
          -1.530206,
          -1.5562176704406738,
          -1.5613406896591189,
          -1.551697,
          -1.567530557513237,
          -1.5622754395008087,
          -1.5485610000000634,
          -1.5622150897979736,
          -1.563207507133484,
          -1.468164,
          -1.5408110618591309,
          -1.472588,
          -1.456088320901472,
          -1.476609706878662,
          -1.47714337381899,
          -1.4708241820335388,
          -1.4753705263137815,
          -1.4825117999999975
         ],
         "marker": {
          "color": "#B6E880"
         },
         "mode": "markers",
         "name": "Bayonne",
         "showlegend": true,
         "subplot": "mapbox",
         "type": "scattermapbox"
        },
        {
         "hovertemplate": "<b>%{hovertext}</b><br><br>destination=Besancon<br>latitude=%{lat}<br>longitude=%{lon}<extra></extra>",
         "hovertext": [
          "Bali Suite",
          "Gîtes de l'Orée du Bois",
          "Hôtel Restaurant Chez Gervais",
          "Aux Ateliers",
          "Zanzibar Suite",
          "Hôtel Restaurant Spa Le Sauvage",
          "B&B HOTEL Besançon Valentin",
          "Le Champ des Lys",
          "Hôtel AKENA BESANCON",
          "La Table de Gustave",
          "ibis Besançon Centre Ville",
          "Hôtel de Paris",
          "Hôtel de La Vallée",
          "Best Western Hotel Fontaine Argent",
          "Hotel Restaurant Vesontio",
          "Hotel Du Nord",
          "Hotel Vauban",
          "Château de La Dame Blanche - Logis",
          "Mercure Besancon Parc Micaud - Hotel & Bar",
          "Logis Hôtel Victor Hugo & Spa"
         ],
         "lat": [
          47.22941209549,
          47.1583322,
          47.1397937190975,
          47.281352,
          47.229423298549,
          47.23171766809705,
          47.2801612,
          47.03869788074751,
          47.23547525170847,
          47.10343150858914,
          47.24045605146395,
          47.23856536577556,
          47.10674143237006,
          47.246146,
          47.25904853843431,
          47.23727602649555,
          47.23986295611545,
          47.32887023321416,
          47.2422875195244,
          47.24741870976628
         ],
         "legendgroup": "Besancon",
         "lon": [
          6.030923261484,
          5.9096987,
          5.95766735998153,
          5.986017,
          6.030929251521,
          6.027591526508331,
          5.9877459,
          6.06895923614502,
          5.9000853988113455,
          6.151388883590698,
          6.025995332734055,
          6.025325059890747,
          6.142038702964783,
          6.033186,
          6.008062362670898,
          6.02586954832077,
          6.02139884220378,
          5.97087487578392,
          6.031794548034668,
          6.023643314838409
         ],
         "marker": {
          "color": "#FF97FF"
         },
         "mode": "markers",
         "name": "Besancon",
         "showlegend": true,
         "subplot": "mapbox",
         "type": "scattermapbox"
        },
        {
         "hovertemplate": "<b>%{hovertext}</b><br><br>destination=Biarritz<br>latitude=%{lat}<br>longitude=%{lon}<extra></extra>",
         "hovertext": [
          "Hôtel Au Bon Coin",
          "Résidence Kemaris",
          "Hôtel du Palais Biarritz, in The Unbound Collection by Hyatt",
          "Le Garage Biarritz Hôtel",
          "Hôtel Le Café de Paris",
          "Hotel Saint Julien",
          "Hôtel de La Plage",
          "Hotel de Silhouette",
          "Hôtel Barnea",
          "ALFRED HOTELS Port-Vieux",
          "Central Biarritz Appartements",
          "Hotel Edouard VII",
          "Château du Clair de Lune - Boutique Luxury Hotel",
          "Le Gamaritz",
          "Hotel Villa Koegui Biarritz",
          "Hôtel & Espace Bien-être La Maison du Lierre",
          "Beaumanoir Small Luxury Boutique Hotel",
          "Résidence Biarritz Ocean",
          "Regina Experimental Biarritz",
          "Hôtel Mirano"
         ],
         "lat": [
          43.4821737,
          43.4764634,
          43.48643904244932,
          43.490592,
          43.482718094375606,
          43.47913899555496,
          43.482133269718496,
          43.48106772604739,
          43.48072811046226,
          43.48218970895052,
          43.4809576,
          43.479203222687474,
          43.45005266180078,
          43.481774198197215,
          43.48070864819324,
          43.480133535313925,
          43.47807047960731,
          43.4804060091033,
          43.49107531104058,
          43.47436556076438
         ],
         "legendgroup": "Biarritz",
         "lon": [
          -1.5541904,
          -1.5619169,
          -1.5562176704406738,
          -1.551697,
          -1.5613406896591189,
          -1.5622754395008087,
          -1.567530557513237,
          -1.563207507133484,
          -1.5642817318439484,
          -1.5663591027259829,
          -1.558828,
          -1.5622150897979736,
          -1.5458106994628906,
          -1.5665441751480105,
          -1.5581005811691284,
          -1.560761332511902,
          -1.5408110618591309,
          -1.557961106300354,
          -1.551891267299652,
          -1.5526489913463593
         ],
         "marker": {
          "color": "#FECB52"
         },
         "mode": "markers",
         "name": "Biarritz",
         "showlegend": true,
         "subplot": "mapbox",
         "type": "scattermapbox"
        },
        {
         "hovertemplate": "<b>%{hovertext}</b><br><br>destination=Bormes les Mimosas<br>latitude=%{lat}<br>longitude=%{lon}<extra></extra>",
         "hovertext": [
          "Le Mirage",
          "Hotel Espadon bleu",
          "Hôtel Astria",
          "Villa L'ensoleillade",
          "Hôtel Beau Site",
          "Hôtel Baptistin",
          "Hotel Les Jardins de Bormes, sauna & jacuzzi",
          "Hotel L'Escapade",
          "Hôtel Méditerranée",
          "Roc Hotel - Hôtel 4 étoiles les pieds dans l'eau",
          "Hôtel de la Plage - HDLP",
          "Hôtel La Petite Bohème",
          "Hôtel Beau Rivage",
          "Hôtel Beau Soleil",
          "Hotel de la Plage",
          "Eden Rose Grand Hotel BW Premier Collection",
          "Hotel Le Grand Pavois",
          "Argentiere-Club",
          "Hôtel Paradis",
          "Grand Hotel Moriaz"
         ],
         "lat": [
          43.144568554122,
          43.13802685924336,
          43.13918685993555,
          43.1216725713562,
          43.1553684025316,
          43.13783309306053,
          43.14893353509435,
          43.13895653693346,
          43.1435123437424,
          43.1438245,
          43.124617,
          43.139712990560646,
          43.135941589718826,
          43.14989337814016,
          43.14967316675708,
          43.152872,
          43.14988848601199,
          43.12293614361634,
          43.144686,
          43.15165354044116
         ],
         "legendgroup": "Bormes les Mimosas",
         "lon": [
          6.351684182882309,
          6.369068920612335,
          6.380889415740967,
          6.26130989325407,
          6.446513012051582,
          6.373921036720276,
          6.303266286849976,
          6.370544135570526,
          6.38287854420821,
          6.383462399999985,
          6.357572,
          6.369920521974564,
          6.36702373623848,
          6.402428224682808,
          6.401575684531053,
          6.342654,
          6.402872800827026,
          6.255433650409712,
          6.335125000000062,
          6.426197290420532
         ],
         "marker": {
          "color": "#636efa"
         },
         "mode": "markers",
         "name": "Bormes les Mimosas",
         "showlegend": true,
         "subplot": "mapbox",
         "type": "scattermapbox"
        },
        {
         "hovertemplate": "<b>%{hovertext}</b><br><br>destination=Carcassonne<br>latitude=%{lat}<br>longitude=%{lon}<extra></extra>",
         "hovertext": [
          "Hôtel Le Parc - La Table de Franck Putelat",
          "Domaine d'Auriac - Relais & Châteaux",
          "Hôtel La Bastide Saint Martin",
          "Le Meez",
          "Hotel Pont Levis - Franck Putelat",
          "Hotel Du Pont Vieux",
          "Hôtel Château de Cavanac",
          "GOOD KNIGHT",
          "Hotel de la Cité & Spa MGallery",
          "Hotel Espace Cite",
          "Hôtel l'Aragon",
          "ibis Styles Carcassonne La Cité",
          "514 Appart Hotel",
          "Hôtel du Château & Spa - Teritoria",
          "Mercure Carcassonne La Cité",
          "SOWELL HOTELS Les Chevaliers",
          "Hôtel Le Donjon - Cœur de La Cité Médiévale",
          "Hotel Montsegur",
          "Hotel du Roi & Spa by SOWELL COLLECTION",
          "Hôtel De L'octroi"
         ],
         "lat": [
          43.20136837496012,
          43.191770313736136,
          43.22714696227106,
          43.206838,
          43.20568804613899,
          43.20905066342329,
          43.1677714903855,
          43.207746,
          43.205627,
          43.20835469505892,
          43.2077994786468,
          43.20758442867867,
          43.205485,
          43.20734200780554,
          43.20716410155182,
          43.21103244477474,
          43.2064642015836,
          43.21230753343293,
          43.21085,
          43.20895682545534
         ],
         "legendgroup": "Carcassonne",
         "lon": [
          2.3602621257305145,
          2.334680557250977,
          2.3963995277881622,
          2.382095,
          2.367025315761566,
          2.3617976903915405,
          2.32691690325737,
          2.366914,
          2.362696000000028,
          2.3677602410316467,
          2.3673471808433533,
          2.3727142810821533,
          2.372206199999937,
          2.3665130138397217,
          2.36981213092804,
          2.3581999522190245,
          2.3636336624622345,
          2.344929277896881,
          2.357769,
          2.3684388399124146
         ],
         "marker": {
          "color": "#EF553B"
         },
         "mode": "markers",
         "name": "Carcassonne",
         "showlegend": true,
         "subplot": "mapbox",
         "type": "scattermapbox"
        },
        {
         "hovertemplate": "<b>%{hovertext}</b><br><br>destination=Cassis<br>latitude=%{lat}<br>longitude=%{lon}<extra></extra>",
         "hovertext": [
          "HPC Suites - Parking Gratuit & Piscine Chauffée en saison",
          "Le Rose Thé",
          "Hotel La Ciotat - A deux pas de l'eau",
          "Hôtel Les Roches Blanches Cassis",
          "Hôtel Le Relais des Brasseurs - Aubagne",
          "Villa Maredda",
          "Appart' Hotel La Girafe Marseille Est - Porte d'Aubagne",
          "La Calanque de Figuerolles",
          "LE CLOS DES ARÔMES",
          "Hotel de La Plage - Mahogany",
          "Le Jardin d'Emile",
          "Hôtel Eden Cassis - parking privé",
          "Best Western Premier Hôtel du Vieux-Port",
          "Hotel Restaurant Miramar L'orchidée",
          "Best Western Plus Hôtel la Rade",
          "Royal Cottage",
          "Best Western Hotel & SPA Coeur De Cassis",
          "Hotel Liautaud",
          "Moxy La Ciotat",
          "Hotel Le Golfe"
         ],
         "lat": [
          43.216440236856805,
          43.18712580093678,
          43.18602423666496,
          43.211337,
          43.29099812814888,
          43.1768157,
          43.28391600948993,
          43.167331,
          43.216217352829,
          43.21334946052709,
          43.2145598,
          43.21330449968788,
          43.17247224722807,
          43.18653518913985,
          43.21522996680949,
          43.21622493056339,
          43.21457326278473,
          43.21403,
          43.1963472,
          43.21443437507463
         ],
         "legendgroup": "Cassis",
         "lon": [
          5.541745724536895,
          5.622886419296265,
          5.620698643657306,
          5.529502,
          5.59404194355011,
          5.605763700000011,
          5.514111991332243,
          5.597694,
          5.53802689265,
          5.531262829899788,
          5.5336574,
          5.541915893554688,
          5.6056129932403564,
          5.621636509895325,
          5.533696934580803,
          5.542900264263153,
          5.540146976709366,
          5.53859,
          5.597570269,
          5.535294860601425
         ],
         "marker": {
          "color": "#00cc96"
         },
         "mode": "markers",
         "name": "Cassis",
         "showlegend": true,
         "subplot": "mapbox",
         "type": "scattermapbox"
        },
        {
         "hovertemplate": "<b>%{hovertext}</b><br><br>destination=Chateau du Haut Koenigsbourg<br>latitude=%{lat}<br>longitude=%{lon}<extra></extra>",
         "hovertext": [
          "Hotel Kieffer",
          "Hôtel du Haut Koenigsbourg- entre vignes et château",
          "Pêche de Vigne & Spa",
          "La Clairière",
          "Auberge Le Meisenberg",
          "Hôtel 48°Nord & Restaurant, The Originals Relais",
          "Hotel Le Mandelberg",
          "Hôtel Le Mittelwihr",
          "Logis Hotel Le Parc & Spa",
          "Les Prés D'ondine",
          "Best Western Hotel & SPA Le Schoenenbourg - Riquewihr - Proche Colmar",
          "LE CLOS DES SOURCES Hôtel & Spa",
          "Hôtel Val-Vignes Colmar Haut-Koenigsbourg, The Originals Relais",
          "Logis Hôtel de la Tour",
          "Hotel Au Parc des Cigognes",
          "Hotel Au Nid De Cigognes",
          "Hotel Restaurant Dontenville",
          "Hôtel Le Ménestrel",
          "B&B HOTEL Sélestat Centre-Alsace",
          "Hôtel Restaurant Le Schlossberg"
         ],
         "lat": [
          48.3638867496874,
          48.2316409178519,
          48.22489193155129,
          48.1883782027279,
          48.27175702879367,
          48.370512,
          48.15237297670544,
          48.15064882145038,
          48.23240406062429,
          48.2621341796983,
          48.16697452574144,
          48.23085947988415,
          48.23481955207035,
          48.1948277799426,
          48.254966,
          48.16047850363736,
          48.270222352898,
          48.18716222254064,
          48.251313,
          48.16800494001184
         ],
         "legendgroup": "Chateau du Haut Koenigsbourg",
         "lon": [
          7.43345888582758,
          7.302220344499801,
          7.353954797553229,
          7.416152358055115,
          7.399505420901505,
          7.28776,
          7.321690320968628,
          7.320503443479538,
          7.36546665430069,
          7.498539090156555,
          7.300600111484528,
          7.302135676145554,
          7.367786765098572,
          7.319329977035522,
          7.409299,
          7.372378706932068,
          7.399667501449585,
          7.32538104057312,
          7.437626,
          7.318883389234543
         ],
         "marker": {
          "color": "#ab63fa"
         },
         "mode": "markers",
         "name": "Chateau du Haut Koenigsbourg",
         "showlegend": true,
         "subplot": "mapbox",
         "type": "scattermapbox"
        },
        {
         "hovertemplate": "<b>%{hovertext}</b><br><br>destination=Collioure<br>latitude=%{lat}<br>longitude=%{lon}<extra></extra>",
         "hovertext": [
          "Intense Boutik-Hôtel",
          "Bourquin Hotel - Lycée Hôtelier Christian Bourquin",
          "Les Roches Brunes",
          "Maison Nova - Boutique Hôtel & Spa",
          "Villa Camille Hotel & Spa",
          "Le Cottage - Hotel & Spa",
          "Auberge Du Roua",
          "Le Relais Des Trois Mas",
          "Le Madeloc Hôtel & Spa",
          "Face à la mer Résidence Les Elmes",
          "Hôtel La Casa Pairal",
          "Hôtel Les Mimosas",
          "Les Bulles de Mer - Hotel & Spa sur la Plage",
          "Résidence du Lido",
          "Le Fanal",
          "Les Elmes - Hôtel, Spa & Plage Privée",
          "Hôtel & Spa Les Mouettes",
          "Hotel Le Bon Port",
          "Le Mas des Citronniers",
          "Hôtel Princes de Catalogne"
         ],
         "lat": [
          42.515473,
          42.565461,
          42.52534777273077,
          42.5288828,
          42.479956,
          42.54631954410807,
          42.54249672672944,
          42.52417280573015,
          42.5287646672607,
          42.486596,
          42.5261673320343,
          42.55686,
          42.6075781418119,
          42.56144006813261,
          42.5362902019105,
          42.48728681324171,
          42.534117130131065,
          42.524114491069405,
          42.52538158720205,
          42.52591431339357
         ],
         "legendgroup": "Collioure",
         "lon": [
          3.105115,
          3.005906,
          3.0903244632682725,
          3.0793938,
          3.133433,
          3.028900623321533,
          3.009159564971924,
          3.0893106758594517,
          3.078654259443283,
          3.128405,
          3.082355707883835,
          3.043109,
          3.0395087599754333,
          3.045459395425951,
          3.0561847239732742,
          3.1268180161714554,
          3.062056750059128,
          3.0893656611442566,
          3.082563914358616,
          3.0826815962791443
         ],
         "marker": {
          "color": "#FFA15A"
         },
         "mode": "markers",
         "name": "Collioure",
         "showlegend": true,
         "subplot": "mapbox",
         "type": "scattermapbox"
        },
        {
         "hovertemplate": "<b>%{hovertext}</b><br><br>destination=Colmar<br>latitude=%{lat}<br>longitude=%{lon}<extra></extra>",
         "hovertext": [
          "Relais & Châteaux La Maison Des Têtes",
          "L'esquisse Hotel & Spa Colmar - MGallery",
          "Colmar Hotel",
          "James Boutique Hôtel Colmar centre",
          "Novotel Suites Colmar Centre",
          "Hotel Le Colombier",
          "Hotel Restaurant Le Maréchal - Teritoria",
          "Hotel Le Colombier Suites",
          "B&B HOTEL Colmar Liberté 4 étoiles",
          "Best Western Colmar Expo",
          "Ibis Styles Colmar Centre",
          "Hôtel Gustave Colmar",
          "Hotel L'Europe",
          "Hôtel Turenne",
          "PAUL & PIA - Welcome Home Hotel",
          "Ibis Styles Colmar Nord",
          "ibis Colmar Centre",
          "Mercure Colmar Centre Unterlinden",
          "Hotel Arc-En-Ciel Colmar Contact Hotel",
          "Résidence Pierre & Vacances La Petite Venise"
         ],
         "lat": [
          48.07859549360517,
          48.07545713654288,
          48.07080073724868,
          48.079348023437845,
          48.07161741558895,
          48.07376803430356,
          48.07357179018292,
          48.07394456376353,
          48.11283258340826,
          48.09922,
          48.076817,
          48.08601523296444,
          48.0772062173984,
          48.07192026320514,
          48.07654046258575,
          48.11068713707552,
          48.079198,
          48.081060795303706,
          48.08745399108503,
          48.070939860424986
         ],
         "legendgroup": "Colmar",
         "lon": [
          7.355527058243751,
          7.353532165288925,
          7.346389726389361,
          7.364479900629021,
          7.3599910552253505,
          7.358293756842613,
          7.356671690940857,
          7.358576059341431,
          7.365206480026245,
          7.362783999999999,
          7.35519899999997,
          7.357299327850342,
          7.403871864080429,
          7.360539436340332,
          7.349873632192612,
          7.362433075904846,
          7.363507,
          7.357177287340164,
          7.360686957836151,
          7.3538655640004436
         ],
         "marker": {
          "color": "#19d3f3"
         },
         "mode": "markers",
         "name": "Colmar",
         "showlegend": true,
         "subplot": "mapbox",
         "type": "scattermapbox"
        },
        {
         "hovertemplate": "<b>%{hovertext}</b><br><br>destination=Dijon<br>latitude=%{lat}<br>longitude=%{lon}<extra></extra>",
         "hovertext": [
          "Alfred Suites - Appart's Hôtel - Dijon - Centre Historique",
          "Hostellerie Du Chapeau Rouge",
          "Hotel du Palais Dijon",
          "Oceania Le Jura Dijon",
          "Nomad Hotel Dijon",
          "Holiday Inn Dijon Sud - Longvic by IHG",
          "ibis Styles Dijon Sud Domaine De Beauregard 21600 Longvic",
          "Mama Shelter Dijon",
          "Aparthotel Adagio Access Dijon République",
          "Aloft Hotel Dijon By Marriott",
          "Hôtel des Ducs",
          "Grand Hotel La Cloche Dijon - MGallery",
          "Residhome Dijon Cité Des Vignes",
          "Hotel Le Jacquemart",
          "Hôtel des Halles",
          "Maison Philippe Le Bon",
          "B&B HOTEL Dijon Valmy Toison d'or",
          "Holiday Inn Express Dijon by IHG",
          "La Bonbonniere - Sure Hotel Collection by Best Western",
          "MÉDICIS HOME DIJON LES PETITES ROCHES"
         ],
         "lat": [
          47.321396338634,
          47.32125147002727,
          47.319451,
          47.32360739513832,
          47.3245398,
          47.272895,
          47.2712634,
          47.322315,
          47.325526,
          47.32359832,
          47.32170511764295,
          47.32413783879986,
          47.318251,
          47.32345830632939,
          47.32558141857032,
          47.31837585355751,
          47.361115,
          47.32699910497018,
          47.3357199093968,
          47.31436158252069
         ],
         "legendgroup": "Dijon",
         "lon": [
          5.039669955802,
          5.035691186785698,
          5.042354,
          5.030215457081795,
          5.0276148,
          5.047662,
          5.043089,
          5.034377,
          5.049480399999993,
          5.037261159,
          5.043653324246407,
          5.033770054578781,
          5.028123,
          5.043451488018036,
          5.036918297410011,
          5.038001239299774,
          5.05172,
          5.076087266206741,
          5.00223599374294,
          5.055491858878099
         ],
         "marker": {
          "color": "#FF6692"
         },
         "mode": "markers",
         "name": "Dijon",
         "showlegend": true,
         "subplot": "mapbox",
         "type": "scattermapbox"
        },
        {
         "hovertemplate": "<b>%{hovertext}</b><br><br>destination=Eguisheim<br>latitude=%{lat}<br>longitude=%{lon}<extra></extra>",
         "hovertext": [
          "Relais & Châteaux La Maison Des Têtes",
          "L'esquisse Hotel & Spa Colmar - MGallery",
          "CHATEAU R",
          "Colmar Hotel",
          "L'Auberge du Brand",
          "James Boutique Hôtel Colmar centre",
          "Novotel Suites Colmar Centre",
          "L'Hostellerie du Château",
          "Hotel SPA Husseren Collections - Proche Colmar - Eguisheim",
          "Hotel Le Colombier",
          "Hotel Colmar Vignes Eguisheim",
          "Hôtel de l'Ange",
          "Auberge du Rempart",
          "Hôtel Berceau Du Vigneron",
          "Hotel Restaurant Le Maréchal - Teritoria",
          "Hôtel des Deux Clefs",
          "Hotel Le Colombier Suites",
          "Hôtel L'Auberge Alsacienne",
          "Best Western Colmar Expo",
          "Ibis Styles Colmar Centre"
         ],
         "lat": [
          48.07859549360517,
          48.07545713654288,
          48.0575458,
          48.07080073724868,
          48.08677224334395,
          48.079348023437845,
          48.07161741558895,
          48.04242042576413,
          48.0349876742797,
          48.07376803430356,
          48.04327132624498,
          48.09978391286901,
          48.0421578072359,
          48.08621904454728,
          48.07357179018292,
          48.08721748566505,
          48.07394456376353,
          48.042238408346414,
          48.09922,
          48.076817
         ],
         "legendgroup": "Eguisheim",
         "lon": [
          7.355527058243751,
          7.353532165288925,
          7.3070346,
          7.346389726389361,
          7.277366816997528,
          7.364479900629021,
          7.3599910552253505,
          7.306319251656532,
          7.27613836526871,
          7.358293756842613,
          7.3041218519210815,
          7.274074405431747,
          7.30737026134227,
          7.277162969112396,
          7.356671690940857,
          7.2778818011283875,
          7.358576059341431,
          7.309167757630348,
          7.362783999999999,
          7.35519899999997
         ],
         "marker": {
          "color": "#B6E880"
         },
         "mode": "markers",
         "name": "Eguisheim",
         "showlegend": true,
         "subplot": "mapbox",
         "type": "scattermapbox"
        },
        {
         "hovertemplate": "<b>%{hovertext}</b><br><br>destination=Gorges du Verdon<br>latitude=%{lat}<br>longitude=%{lon}<extra></extra>",
         "hovertext": [
          "Château de Trigance",
          "La Ferme Rose-Hôtel de Charme",
          "Hotel Les Restanques De Moustiers",
          "Clos des Iris",
          "Hôtel Le Colombier",
          "Le Relais Notre Dame",
          "Hotel Le Moulin du Château",
          "Villa Castellane",
          "La Bastide du Calalou; BW Signature Collection",
          "Le Mas de l'Orangerie 3 etoiles",
          "Lou Paradou",
          "Hotel Le Provence - Restaurant Le Styx",
          "La Bastide du Paradou",
          "Hôtel Les Deux Lions",
          "Auberge du Bourguet",
          "Auberge des Salles",
          "Château et Golf De Taulane",
          "Auberge de Baudinard sur Verdon",
          "Hôtel le Panoramic - Votre Hôtel au cœur des Gorges du Verdon",
          "Auberge du Lac"
         ],
         "lat": [
          43.76192795006577,
          43.83838463420725,
          43.8396228086459,
          43.84251694117047,
          43.839812401838365,
          43.6990888705541,
          43.7257167955233,
          43.758087,
          43.654366384027874,
          43.7603027,
          43.760622,
          43.77898012250287,
          43.84680371369775,
          43.815309262439015,
          43.783341230094,
          43.77239231716274,
          43.773933756175175,
          43.71600387681977,
          43.775022729379415,
          43.73272499999999
         ],
         "legendgroup": "Gorges du Verdon",
         "lon": [
          6.444082260131836,
          6.215209364891052,
          6.22201681137085,
          6.218900084495544,
          6.221834421157837,
          6.0372394323349,
          6.067579239606857,
          5.890188,
          6.169504523277283,
          5.8863289,
          5.888973999999962,
          6.341233491930325,
          6.219762414693832,
          6.091479063034058,
          6.518538997512,
          6.208481642852803,
          6.619479861193895,
          6.134069859981537,
          6.332758806390416,
          6.176503000000025
         ],
         "marker": {
          "color": "#FF97FF"
         },
         "mode": "markers",
         "name": "Gorges du Verdon",
         "showlegend": true,
         "subplot": "mapbox",
         "type": "scattermapbox"
        },
        {
         "hovertemplate": "<b>%{hovertext}</b><br><br>destination=Grenoble<br>latitude=%{lat}<br>longitude=%{lon}<extra></extra>",
         "hovertext": [
          "La Grange à Gaby",
          "Hôtel des Skieurs",
          "Hotel Restaurant Chavant",
          "RockyPop Grenoble Appartements",
          "1924 Hôtel",
          "Hôtel Terminus",
          "Tempologis - Chateau de la Rochette",
          "Park Hôtel Grenoble - MGallery",
          "Tempologis Grenoble",
          "The Babel Community Hôtel - Grenoble Bastille",
          "Le Grand Hôtel Grenoble, BW Premier Collection by Best Western",
          "Appart'City Confort Grenoble Inovallée",
          "Hôtel restaurant d'application Lesdiguieres - Ecole hôtelière -",
          "RockyPop Grenoble Hotel",
          "Hôtel Les Trois Roses, Meylan Grenoble",
          "PoMo Hôtel & Restaurant",
          "La petite Maison",
          "Maison Barbillon Grenoble",
          "Okko Hotels Grenoble Jardin Hoche",
          "Mercure Grenoble Meylan"
         ],
         "lat": [
          45.1817931396315,
          45.26306953783005,
          45.13810851312875,
          45.186804,
          45.18928483181276,
          45.1910782561633,
          45.19503871194903,
          45.18410130511121,
          45.17927340236415,
          45.195810837764,
          45.19081503510005,
          45.214382906559365,
          45.167883,
          45.186911,
          45.21086426162433,
          45.146369467997054,
          45.17557,
          45.19079329686088,
          45.18495018003908,
          45.20207905170731
         ],
         "legendgroup": "Grenoble",
         "lon": [
          5.6169116797165,
          5.777134895324707,
          5.750068053603172,
          5.73157,
          5.7186198234558105,
          5.715598315000534,
          5.673510432243347,
          5.732948184013367,
          5.7343389093875885,
          5.725446775394,
          5.728548020124435,
          5.809949040412903,
          5.71176,
          5.731293,
          5.762307643890381,
          5.728804171085358,
          5.713582,
          5.716696679592133,
          5.72598980937039,
          5.759381353855133
         ],
         "marker": {
          "color": "#FECB52"
         },
         "mode": "markers",
         "name": "Grenoble",
         "showlegend": true,
         "subplot": "mapbox",
         "type": "scattermapbox"
        },
        {
         "hovertemplate": "<b>%{hovertext}</b><br><br>destination=La Rochelle<br>latitude=%{lat}<br>longitude=%{lon}<extra></extra>",
         "hovertext": [
          "Maison des Ambassadeurs",
          "CENTRAL Hôtel La Rochelle Centre",
          "Le Saint-Nicolas",
          "Le Masq Hôtel Best Western Premier",
          "Les studios du chemins vert",
          "Hôtel La Monnaie Arty & Spa",
          "Mercure La Rochelle Vieux Port",
          "Hôtel Le Transatlantique - Lycée Hôtelier La Rochelle",
          "Le Champlain",
          "Central Park Hôtel & Spa",
          "Villa Grand Voile - Christopher Coutanceau",
          "Tour de Nesle La Rochelle Vieux Port 3 etoiles",
          "Un Hôtel En Ville",
          "Hôtel de l'Océan",
          "Le Manoir Hôtel",
          "Hôtel Les Brises",
          "Hôtel Le Yachtman, The Originals Collection",
          "Hotel La Marine, Vieux Port",
          "Hôtel Kyriad La Rochelle Centre Ville",
          "Novotel La Rochelle Centre"
         ],
         "lat": [
          46.16282553359586,
          46.1594925,
          46.1581345696256,
          46.15483672188565,
          46.1661692,
          46.15630080488247,
          46.15365316439305,
          46.143734,
          46.16357605073282,
          46.15891332534751,
          46.1577741,
          46.15809741187169,
          46.15714244917559,
          46.1570198263049,
          46.162704781136576,
          46.15345807004079,
          46.15728365093064,
          46.15815872214761,
          46.15779643320449,
          46.161434077501134
         ],
         "legendgroup": "La Rochelle",
         "lon": [
          -1.1511021852493286,
          -1.1551166,
          -1.1489127710774485,
          -1.1450564861297607,
          -1.1380326,
          -1.158108115196228,
          -1.1496511101722715,
          -1.160263,
          -1.1541599035263062,
          -1.1608233546310205,
          -1.1560836,
          -1.1503618953975092,
          -1.1563459038734436,
          -1.1541277170181274,
          -1.1606106162071228,
          -1.174386441707611,
          -1.149967610836029,
          -1.1526705457436035,
          -1.1383187770843506,
          -1.1584755778312683
         ],
         "marker": {
          "color": "#636efa"
         },
         "mode": "markers",
         "name": "La Rochelle",
         "showlegend": true,
         "subplot": "mapbox",
         "type": "scattermapbox"
        },
        {
         "hovertemplate": "<b>%{hovertext}</b><br><br>destination=Le Havre<br>latitude=%{lat}<br>longitude=%{lon}<extra></extra>",
         "hovertext": [
          "LOGIS HOTEL - La Petite Rade",
          "JOST Hôtel Le Havre Centre Gare",
          "Hôtel Lilybloom",
          "Smart Appart Le Havre 97",
          "Aparthotel Adagio Access Le Havre Les Docks",
          "Odalys City Le Havre Centre Les Docks",
          "Hilton Garden Inn Le Havre Centre",
          "Hôtel Spa Vent d'Ouest",
          "Hotel de Charme La Bonne Adresse - Logis hotels",
          "All Suites Appart Hotel Le Havre",
          "Odalys City Le Havre Centre Gare",
          "Nomad Hotel le Havre",
          "Oscar Hôtel Le Havre Centre",
          "Smart Appart Le Havre 105",
          "Best Western Plus Le Havre Centre Gare",
          "Holiday Inn Express - Le Havre Centre",
          "Ibis Budget Le Havre Les Docks",
          "Birgit Hôtel Le Havre Centre",
          "Hotel Spa Le Pasino",
          "Hôtel Carmin"
         ],
         "lat": [
          49.50238471218267,
          49.493988,
          49.488378,
          49.4965388,
          49.48741929210898,
          49.4925039,
          49.49008699,
          49.49141927977486,
          49.50318944974505,
          49.488691,
          49.491908082817,
          49.49331760456112,
          49.48981027544587,
          49.4968623,
          49.49334356904791,
          49.498238,
          49.49424468286882,
          49.49308920830414,
          49.49117449151481,
          49.49493852015591
         ],
         "legendgroup": "Le Havre",
         "lon": [
          0.0859808921813964,
          0.1227326,
          0.108705,
          0.1268139999999999,
          0.1315112120937556,
          0.129779,
          0.097746957,
          0.1007075607776641,
          0.0888213515281677,
          0.1259289999999999,
          0.123161788885,
          0.125306883397684,
          0.1071086525917053,
          0.1270729,
          0.1243177056312561,
          0.128837,
          0.1428524260978747,
          0.130961537361145,
          0.1119366288185119,
          0.1055395603179931
         ],
         "marker": {
          "color": "#EF553B"
         },
         "mode": "markers",
         "name": "Le Havre",
         "showlegend": true,
         "subplot": "mapbox",
         "type": "scattermapbox"
        },
        {
         "hovertemplate": "<b>%{hovertext}</b><br><br>destination=Lille<br>latitude=%{lat}<br>longitude=%{lon}<extra></extra>",
         "hovertext": [
          "Coeur de Lille- 2 Chambres Idéal famille",
          "Au 30",
          "Au Moulin d'Or",
          "Edgar Suites Lille - Shake",
          "Edgar Suites Lille - Faidherbe",
          "Le Chat Qui Dort - Lille Gare",
          "Au Cœur du Jardin",
          "Résidence Services Seniors DOMITYS - Villa Ulma",
          "Victorias House Suite",
          "Hôtel Barrière Lille",
          "Domitys L'Agapanthe",
          "Aparthotel Adagio Lille Centre Grand Place",
          "Boa Hotel - BW Signature Collection - Lille Centre Gares",
          "OKKO Hotels Lille Centre",
          "Hotel L'Arbre Voyageur - BW Premier Collection - LILLE",
          "A & V Appart'hôtel",
          "Clarance Hotel Lille",
          "B&B HOTEL Lille Lillenium Eurasanté",
          "Victoria's House",
          "Best Western Premier Why Hotel"
         ],
         "lat": [
          50.633398,
          50.63294839155726,
          50.63527,
          50.634823,
          50.6358445,
          50.635784,
          50.62602253141817,
          50.644099160264,
          50.639919,
          50.63754053523086,
          50.61475007574,
          50.635281,
          50.63734320471821,
          50.634074,
          50.6397393,
          50.6299091218236,
          50.6388119,
          50.615354,
          50.645603,
          50.63430829317451
         ],
         "legendgroup": "Lille",
         "lon": [
          3.0583622,
          3.0749497521842386,
          3.069822,
          3.079934,
          3.069856,
          3.070578,
          3.0625462532043457,
          2.99773545575,
          3.054229,
          3.07692289352417,
          3.041684057008,
          3.060162,
          3.0683116614818573,
          3.064229,
          3.067428100000029,
          3.04850888095098,
          3.056976899999995,
          3.043125,
          3.057067,
          3.061618208885193
         ],
         "marker": {
          "color": "#00cc96"
         },
         "mode": "markers",
         "name": "Lille",
         "showlegend": true,
         "subplot": "mapbox",
         "type": "scattermapbox"
        },
        {
         "hovertemplate": "<b>%{hovertext}</b><br><br>destination=Lyon<br>latitude=%{lat}<br>longitude=%{lon}<extra></extra>",
         "hovertext": [
          "MHL - Maison Hotel Lyon",
          "Villa Maïa",
          "InterContinental Lyon - Hotel Dieu by IHG",
          "Villa Florentine",
          "Hôtel Fort St Laurent Lyon - Handwritten Collection",
          "Pullman Lyon",
          "Hôtel Maison Lacassagne Lyon",
          "Hôtel de l'Abbaye Lyon - Boutique Hôtel",
          "Hotel De Verdun 1882, BW Signature Collection",
          "Bayard Bellecour",
          "MiHotel Vieux Lyon",
          "Republik Hotel",
          "Warwick Reine Astrid - Lyon",
          "Hôtel Edmond W Lyon Part-Dieu",
          "Hôtel Des Artistes",
          "Hotel Carlton Lyon - MGallery Hotel Collection",
          "Hotel Lyon-ouest",
          "Hôtel Le Roosevelt Lyon",
          "Hôtel Le Boulevardier",
          "Hotel ParkSaône"
         ],
         "lat": [
          45.7677524746546,
          45.759217144079,
          45.758649,
          45.76314438789889,
          45.774432,
          45.760402581312896,
          45.74439127455862,
          45.753675,
          45.74958763945291,
          45.75656137877833,
          45.759533,
          45.75840119999999,
          45.77493175752366,
          45.76854360086941,
          45.75972208357345,
          45.760987531674914,
          45.788608,
          45.76825733744846,
          45.7649194,
          45.79229162230092
         ],
         "legendgroup": "Lyon",
         "lon": [
          4.844035327259917,
          4.82313535390313,
          4.836915,
          4.825807996094227,
          4.836447,
          4.85792056375427,
          4.892542362213135,
          4.826781,
          4.829766601324081,
          4.832611083984375,
          4.826597,
          4.835708199999999,
          4.847663640975952,
          4.856478720903397,
          4.831165373325348,
          4.83672559261322,
          4.814676,
          4.848283231258392,
          4.833714999999984,
          4.818694679831651
         ],
         "marker": {
          "color": "#ab63fa"
         },
         "mode": "markers",
         "name": "Lyon",
         "showlegend": true,
         "subplot": "mapbox",
         "type": "scattermapbox"
        },
        {
         "hovertemplate": "<b>%{hovertext}</b><br><br>destination=Marseille<br>latitude=%{lat}<br>longitude=%{lon}<extra></extra>",
         "hovertext": [
          "Suite privée du balcon du vieux port Marseille",
          "Les Appartements du Vieux Port",
          "Loft 250m2 avec écran led géant de 10m2",
          "Appartement au coeur du Vieux-Port",
          "Hôtel 96",
          "Maison Juste",
          "Hôtel Ligo by HappyCulture",
          "Le Couvent Marseille",
          "Hotel C2",
          "La Résidence Du Vieux Port",
          "Le Petit Nice - Passedat",
          "Hotel Marsiho by Happyculture",
          "Maisons du Monde Hôtel & Suites - Marseille Vieux Port",
          "PARADISE Earth & Sea",
          "NH Collection Marseille",
          "Residhome Marseille",
          "New Hotel of Marseille - Vieux Port",
          "InterContinental Marseille - Hotel Dieu by IHG",
          "easyHotel Marseille Euromed",
          "LES TOITS DU VIEUX-PORT"
         ],
         "lat": [
          43.291837,
          43.2951169,
          43.2865487,
          43.2943872,
          43.239497,
          43.2923316,
          43.301265,
          43.29722248036285,
          43.2897397,
          43.29653858160117,
          43.28096531741832,
          43.29732158640983,
          43.29412372437712,
          43.2933693,
          43.3024211,
          43.302737,
          43.292048471347655,
          43.29858166724716,
          43.3101149,
          43.296695
         ],
         "legendgroup": "Marseille",
         "lon": [
          5.3677745,
          5.376166300000023,
          5.3797922,
          5.3750415,
          5.406246499999952,
          5.3820033,
          5.370879,
          5.366535094477513,
          5.373192700000004,
          5.372706055641174,
          5.351747274398804,
          5.377538988360584,
          5.374639928340912,
          5.376677,
          5.36863370000003,
          5.365624,
          5.359777808189392,
          5.36974623799324,
          5.3703396,
          5.372832
         ],
         "marker": {
          "color": "#FFA15A"
         },
         "mode": "markers",
         "name": "Marseille",
         "showlegend": true,
         "subplot": "mapbox",
         "type": "scattermapbox"
        },
        {
         "hovertemplate": "<b>%{hovertext}</b><br><br>destination=Mont Saint Michel<br>latitude=%{lat}<br>longitude=%{lon}<extra></extra>",
         "hovertext": [
          "La Ramade - Teritoria",
          "Ducey Appart'Hôtel - Les Rivières",
          "L'Etape du Mont, Family Hostel",
          "Ermitage - Mont-Saint-Michel",
          "Hôtel Victor Hugo",
          "Kyriad Dol-de-Bretagne",
          "Best Western Hôtel Montgomery",
          "Hôtel de La Croix d'Or",
          "Hotel Les Montois",
          "Hotel Beau Rivage",
          "Logis Hotel Restaurant Auberge De La Sélune",
          "Hôtel - Restaurant Eugenie",
          "Hotel Rose",
          "Hôtel les 13 Assiettes",
          "Auberge Saint Pierre",
          "Le Relais Du Roy",
          "Logis Auberge de Carolles",
          "Auberge de la Baie",
          "Hotel Gabriel",
          "Le Relais Saint Michel"
         ],
         "lat": [
          48.69365160108424,
          48.620431518411,
          48.556622,
          48.59449,
          48.5529491228595,
          48.55070556650788,
          48.552910698120925,
          48.68265214273017,
          48.62333729872069,
          48.60207329368576,
          48.61949515465965,
          48.55318287083317,
          48.59706233179113,
          48.63907771680572,
          48.63568797869143,
          48.61626270451236,
          48.750602666094,
          48.61599317655586,
          48.61538141368341,
          48.6175872716489
         ],
         "legendgroup": "Mont Saint Michel",
         "lon": [
          -1.3747447729110718,
          -1.289935577615,
          -1.5112100000000002,
          -1.511429,
          -1.50805896686484,
          -1.7197036743164062,
          -1.5114837884902954,
          -1.3568463921546936,
          -1.3703244924545288,
          -1.7690777778625488,
          -1.2946781516075134,
          -1.5088670251134315,
          -1.513039469718933,
          -1.3519334794182214,
          -1.5098825097084043,
          -1.510905772447586,
          -1.55879959073786,
          -1.4882531762123108,
          -1.510709971189499,
          -1.51039615273476
         ],
         "marker": {
          "color": "#19d3f3"
         },
         "mode": "markers",
         "name": "Mont Saint Michel",
         "showlegend": true,
         "subplot": "mapbox",
         "type": "scattermapbox"
        },
        {
         "hovertemplate": "<b>%{hovertext}</b><br><br>destination=Montauban<br>latitude=%{lat}<br>longitude=%{lon}<extra></extra>",
         "hovertext": [
          "Auberge de l'Hirondelle",
          "Hostellerie Restaurant Les Gorges de l'Aveyron",
          "Les Logis du Port - Port Canal - Montauban",
          "Moulin d'Albias aux portes de Montauban",
          "WonderBar (Auberge du Trinquet)",
          "Château de Loubéjac",
          "Dali Hôtel Montauban",
          "Chez Terrassier - Logis Hôtels - Hotel et Restaurant",
          "Hôtel Mercure Montauban",
          "Sure Hotel by Best Western Les Portes de Montauban",
          "L'Armateur",
          "Les bords de l'Aveyron",
          "Logis des Crêtes de Pignols",
          "Abbaye des Capucins Spa & Resort",
          "ibis Styles Montauban",
          "Logis Hotels - Hôtel et Restaurant Le Relais des Garrigues",
          "Hôtel Absolu",
          "Hôtel du Commerce",
          "Centre Louis Ormières",
          "ibis Montauban"
         ],
         "lat": [
          44.145711,
          44.07427183599765,
          44.0084597,
          44.0941414516172,
          43.9328946,
          44.0894414091139,
          44.020995559797,
          44.03302642136267,
          44.015742070285896,
          43.9362872066926,
          44.10089227132159,
          44.0723609,
          44.12584972088137,
          44.020542927203735,
          44.00526,
          43.82889239987879,
          44.037646556787735,
          44.01542572857878,
          43.990284,
          44.00536749728455
         ],
         "legendgroup": "Montauban",
         "lon": [
          1.607878,
          1.6084671911085024,
          1.3405966,
          1.44704023254087,
          1.3661783,
          1.34851889310085,
          1.349240014017,
          1.5695053339004517,
          1.354912519454956,
          1.32209782791136,
          1.082528829574585,
          1.5140099,
          1.1227405071258545,
          1.3495668768882751,
          1.383153,
          1.3034677505493164,
          1.1060799658298492,
          1.354072988033295,
          1.338824,
          1.3837341964244845
         ],
         "marker": {
          "color": "#FF6692"
         },
         "mode": "markers",
         "name": "Montauban",
         "showlegend": true,
         "subplot": "mapbox",
         "type": "scattermapbox"
        },
        {
         "hovertemplate": "<b>%{hovertext}</b><br><br>destination=Nimes<br>latitude=%{lat}<br>longitude=%{lon}<extra></extra>",
         "hovertext": [
          "Château de Collias",
          "Jardins Secrets",
          "Maison Albar Hotels L’Imperator",
          "Margaret - Hôtel Chouleur",
          "Mas de Boudan",
          "Domitys Sophia",
          "Appart'City Collection Nîmes Arènes",
          "Oh Activ Nîmes",
          "SQUARE HOTEL",
          "Logis Hôtel Restaurant Les Aubuns",
          "Hotel Majestic",
          "Odalys City Nîmes Arènes",
          "B&B HOTEL Nîmes Centre Arènes",
          "Hôtel & Spa Vatel",
          "Hotel Des Tuileries",
          "Best Western Marquis de la Baume",
          "Hôtel De L'Amphithéâtre",
          "Royal Hôtel",
          "Hôtel Le Pré Galoffre",
          "ibis Styles Nimes Gare Centre"
         ],
         "lat": [
          43.95294149642264,
          43.83470575029483,
          43.83866612768399,
          43.837117,
          43.82080551337371,
          43.845396,
          43.8338735348897,
          43.838773872288,
          43.837032,
          43.77275561038112,
          43.8343632920283,
          43.834061872209,
          43.8281614,
          43.820576747716174,
          43.83642381634261,
          43.83959475654075,
          43.83581534027453,
          43.83881509620307,
          43.78858215364223,
          43.83175754591007
         ],
         "legendgroup": "Nimes",
         "lon": [
          4.475574244041458,
          4.36731219291687,
          4.352767914533615,
          4.357898,
          4.371253199999956,
          4.368959,
          4.361433959524561,
          4.363837569914,
          4.363037,
          4.407354891300201,
          4.365336745977402,
          4.358990652779,
          4.354790200000025,
          4.319126978516579,
          4.364745318889618,
          4.3610841035842896,
          4.359140172600746,
          4.3548184633255005,
          4.35380257666111,
          4.36697356402874
         ],
         "marker": {
          "color": "#B6E880"
         },
         "mode": "markers",
         "name": "Nimes",
         "showlegend": true,
         "subplot": "mapbox",
         "type": "scattermapbox"
        },
        {
         "hovertemplate": "<b>%{hovertext}</b><br><br>destination=Paris<br>latitude=%{lat}<br>longitude=%{lon}<extra></extra>",
         "hovertext": [
          "Hotel La Villa Saint Germain Des Prés",
          "Four Seasons Hotel George V Paris",
          "Villa-des-Prés",
          "Hôtel des Arts Montmartre",
          "Hôtel Barrière Fouquet's Paris",
          "Goralska Résidences Paris Bastille",
          "Bulgari Hotel Paris",
          "Nestay Les Halles",
          "Hotel Monge",
          "Hôtel Eldorado Paris",
          "Nestay Sentier",
          "The Peninsula Paris",
          "Résidence Charles Floquet",
          "1.75 Paris La Trêve",
          "Yuna Porte-Maillot - ApartHotel",
          "Yuna Montmartre - ApartHotel",
          "Edgar Suites Montmartre - Paul Albert",
          "Edgar Suites - Bouchardon",
          "Les Rives de Notre-Dame",
          "Hôtel Keppler"
         ],
         "lat": [
          48.85540194602825,
          48.86875540097767,
          48.853485,
          48.8862242254587,
          48.87151630143544,
          48.8482842,
          48.86820701,
          48.8613519,
          48.84480905370051,
          48.8851169,
          48.8657684,
          48.87105524371411,
          48.8561004,
          48.8527928,
          48.8867476,
          48.8902248,
          48.886693,
          48.8701108,
          48.85329562419074,
          48.86986074734661
         ],
         "legendgroup": "Paris",
         "lon": [
          2.334118634462357,
          2.300887402446733,
          2.336409,
          2.3352813720703125,
          2.301112711593305,
          2.3657250999999637,
          2.301493585,
          2.3486811,
          2.3524400001329013,
          2.3250712,
          2.3508444,
          2.2932884527785973,
          2.294172099999969,
          2.3091826,
          2.2858468,
          2.3451377,
          2.3449407,
          2.3572345,
          2.345758080482483,
          2.2972708940233133
         ],
         "marker": {
          "color": "#FF97FF"
         },
         "mode": "markers",
         "name": "Paris",
         "showlegend": true,
         "subplot": "mapbox",
         "type": "scattermapbox"
        },
        {
         "hovertemplate": "<b>%{hovertext}</b><br><br>destination=Rouen<br>latitude=%{lat}<br>longitude=%{lon}<extra></extra>",
         "hovertext": [
          "Radisson Blu Hotel, Rouen Centre",
          "DOMITYS Les Mosaïques",
          "Hôtel de Bourgtheroulde, Autograph Collection",
          "Hôtel Paulette Rouen Centre Cathédrale",
          "Hôtel Littéraire Gustave Flaubert, BW Signature Collection",
          "Hyatt Place Rouen - Rouen Centre",
          "Les Boréales - Restaurant, Résidence & Spa",
          "Aparthotel Adagio Access Rouen Centre Cathédrale",
          "Best Western Plus Hotel de Dieppe 1880",
          "Holiday Inn Express - Rouen Centre - Rive Gauche by IHG",
          "Novotel Rouen Centre Cathédrale",
          "Mercure Rouen Centre Cathédrale",
          "Grand Hôtel De La Seine",
          "Novotel Suites Rouen Normandie",
          "Hotel cardinal",
          "Ibis Styles Rouen Centre Rive Gauche",
          "ibis budget Rouen Centre Rive Gauche",
          "ibis Rouen Centre Rive Droite Pasteur",
          "Hotel De Quebec",
          "Mercure Rouen Centre Champ de Mars"
         ],
         "lat": [
          49.446441,
          49.4290146,
          49.442178,
          49.43872283313267,
          49.44263508189676,
          49.45328564064136,
          49.4254701,
          49.439067,
          49.44834820937509,
          49.429988,
          49.4388505,
          49.44117284656542,
          49.44158356828401,
          49.443139221902975,
          49.439811,
          49.42498665756126,
          49.425341,
          49.4435,
          49.43783418793873,
          49.435557560716006
         ],
         "legendgroup": "Rouen",
         "lon": [
          1.09412,
          1.0832807,
          1.088876,
          1.091351956129074,
          1.0868579149246216,
          1.09828529731665,
          1.0838855,
          1.089627,
          1.0934950411319733,
          1.072398,
          1.0899553,
          1.0951754450798037,
          1.0814445465803146,
          1.0754263401031494,
          1.093778,
          1.0686087460327045,
          1.068718,
          1.07581,
          1.0972528159618378,
          1.1037424206733704
         ],
         "marker": {
          "color": "#FECB52"
         },
         "mode": "markers",
         "name": "Rouen",
         "showlegend": true,
         "subplot": "mapbox",
         "type": "scattermapbox"
        },
        {
         "hovertemplate": "<b>%{hovertext}</b><br><br>destination=Saintes Maries de la mer<br>latitude=%{lat}<br>longitude=%{lon}<extra></extra>",
         "hovertext": [
          "Lou Mas Dou Juge",
          "Mas Des Salicornes",
          "Hôtel L' Estelle en Camargue",
          "Hotel Lou Marquès",
          "MAS MLS",
          "Logis Le Nid du Pont de Gau",
          "Lodge Sainte Helene Adult only",
          "Mangio Fango Hotel et Spa",
          "Hôtel du Pont Blanc",
          "L'auberge Camarguaise",
          "Le Mas de Cocagne",
          "Le Fangassier",
          "Le Maset en Camargue",
          "Hôtel Les Arcades",
          "Clamador",
          "Hôtel Casa Marina",
          "Auberge de la Fadaise",
          "Les Vagues",
          "Hôtel Le Mirage",
          "Abrivado"
         ],
         "lat": [
          43.52074386515304,
          43.45687142239208,
          43.47030030178336,
          43.4551249427373,
          43.48437667045639,
          43.48931179659003,
          43.46575555626723,
          43.459787950427895,
          43.45705076199722,
          43.471842348919495,
          43.45831607535757,
          43.45449604194784,
          43.45656073449883,
          43.45262779808949,
          43.4682125774839,
          43.451133,
          43.48647017912312,
          43.450352,
          43.4531019227618,
          43.45033695444248
         ],
         "legendgroup": "Saintes Maries de la mer",
         "lon": [
          4.354786276817322,
          4.426175951957703,
          4.395303726196289,
          4.42874014377594,
          4.394996703735354,
          4.403946962333976,
          4.413934350013733,
          4.423284530639648,
          4.424649029906504,
          4.411565959453583,
          4.4252318143844604,
          4.430707544088364,
          4.426702927230849,
          4.430766552686691,
          4.395632296800613,
          4.430953,
          4.404155015945435,
          4.425047,
          4.430585503578186,
          4.426224231719971
         ],
         "marker": {
          "color": "#636efa"
         },
         "mode": "markers",
         "name": "Saintes Maries de la mer",
         "showlegend": true,
         "subplot": "mapbox",
         "type": "scattermapbox"
        },
        {
         "hovertemplate": "<b>%{hovertext}</b><br><br>destination=St Malo<br>latitude=%{lat}<br>longitude=%{lon}<extra></extra>",
         "hovertext": [
          "Hôtel Le Nautilus",
          "Hôtel Bristol Union Intra Muros",
          "L'Hôtel Particulier Ascott",
          "Villa des Thermes",
          "Hôtel Le Nouveau Monde",
          "Château Hôtel Du Colombier",
          "La Maison des Armateurs",
          "Hôtel Anne de Bretagne",
          "Hôtel Oré, Saint-Malo",
          "Hôtel La Villefromoy",
          "Hotel des Abers",
          "Kyriad Prestige Saint-Malo",
          "Les Charmettes",
          "Oceania Saint Malo",
          "Hôtel La Porte Saint Pierre-Logis Hôtel Intra Muros",
          "Hôtel L'Adresse",
          "Hôtel Quic en Groigne",
          "Appartements des Marins",
          "Manoir Du Cunningham",
          "Sézam-Appart-Hôtel"
         ],
         "lat": [
          48.650727056010815,
          48.64961099853388,
          48.63112529789551,
          48.65896059227621,
          48.65342427124905,
          48.638587743159896,
          48.64920520114247,
          48.6506405397079,
          48.61671486989162,
          48.661448567114505,
          48.6504889200334,
          48.63609920237719,
          48.65902139222791,
          48.65175688590083,
          48.647853110284245,
          48.65210596051072,
          48.6468873089038,
          48.64891,
          48.63633317297816,
          48.6478820606144
         ],
         "legendgroup": "St Malo",
         "lon": [
          -2.0249454730163734,
          -2.024303376674652,
          -2.010825276374817,
          -1.996092011639348,
          -2.0114314556121826,
          -1.96755051612854,
          -2.024633288383484,
          -2.024753987789154,
          -1.9819942116737368,
          -1.99189692735672,
          -2.024863580356623,
          -1.9892066717147827,
          -1.9960114359855647,
          -2.018432021141052,
          -2.0283856987953186,
          -2.0171231031417847,
          -2.0270580053329468,
          -2.024916,
          -2.0205536484718323,
          -2.0085694404754584
         ],
         "marker": {
          "color": "#EF553B"
         },
         "mode": "markers",
         "name": "St Malo",
         "showlegend": true,
         "subplot": "mapbox",
         "type": "scattermapbox"
        },
        {
         "hovertemplate": "<b>%{hovertext}</b><br><br>destination=Strasbourg<br>latitude=%{lat}<br>longitude=%{lon}<extra></extra>",
         "hovertext": [
          "Hôtel LÉONOR the place to live",
          "Hotel Cour du Corbeau Strasbourg - MGallery",
          "Maison LUTETIA R",
          "Hôtel & Spa Le Bouclier D'or",
          "Residence Inn by Marriott Strasbourg",
          "Hotel Les Haras",
          "Hotel Arok",
          "Boutique Hotel Des XV",
          "Hôtel Tandem - Boutique Hôtel",
          "Château de Pourtalès",
          "K Hotel",
          "Hôtel Garrigae Villa La Florangerie - SPA & Piscine",
          "Hotel Beaucour",
          "BOMA easy living hotel",
          "Hotel & Spa REGENT PETITE FRANCE",
          "Pavillon REGENT PETITE FRANCE",
          "HANNONG Hotel & Wine Bar",
          "Hotel Suisse",
          "Best Western Plus Monopole Métropole",
          "Hotel Saint Augustin"
         ],
         "lat": [
          48.585942,
          48.57934881136194,
          48.58999292620854,
          48.58052972845092,
          48.59899457007954,
          48.577043189133,
          48.584163,
          48.5892382,
          48.58383632696426,
          48.60808508242673,
          48.5930475580478,
          48.589361332686096,
          48.57866118727526,
          48.5828931,
          48.58080122013969,
          48.58159135724165,
          48.58279610699174,
          48.58149369478856,
          48.58501891351632,
          48.58490535801912
         ],
         "legendgroup": "Strasbourg",
         "lon": [
          7.747235,
          7.751557230949402,
          7.75154247879982,
          7.74373322725296,
          7.762173176616698,
          7.742526903748512,
          7.735927,
          7.78273339999998,
          7.734948992729187,
          7.800015360116959,
          7.714664146064706,
          7.773319333791733,
          7.751403003931045,
          7.74204069999996,
          7.741733640432358,
          7.741548206580092,
          7.743128389120102,
          7.75279775261879,
          7.73882545530796,
          7.737804874777794
         ],
         "marker": {
          "color": "#00cc96"
         },
         "mode": "markers",
         "name": "Strasbourg",
         "showlegend": true,
         "subplot": "mapbox",
         "type": "scattermapbox"
        },
        {
         "hovertemplate": "<b>%{hovertext}</b><br><br>destination=Toulouse<br>latitude=%{lat}<br>longitude=%{lon}<extra></extra>",
         "hovertext": [
          "Boutique Hotel SOCLO",
          "Aparthotel Adagio Original Toulouse Centre La Grave",
          "Sevenline Aparthotel Purpan Toulouse",
          "Sangha Toulouse",
          "La Tour Croix Baragnon",
          "Residhome Toulouse Ponts Jumeaux",
          "Hotel Arena Toulouse",
          "Ibis Styles Toulouse Capitole",
          "Hôtel Croix Baragnon",
          "Odalys City Toulouse Centre Compans Caffarelli",
          "Hotel Les Capitouls Toulouse Centre - Handwritten Collection",
          "Le Grand Balcon Hotel",
          "Grand Hotel de l'Opera - BW Premier Collection",
          "Hôtel Une Chambre en Ville",
          "Appart Hôtel Clément Ader",
          "Alezan Hôtel & Résidence",
          "Courtyard by Marriott Toulouse Airport",
          "Hôtel des Arts",
          "Hôtel Innes by HappyCulture",
          "Hotel Albert 1er"
         ],
         "lat": [
          43.60536,
          43.599713382634,
          43.6077255,
          43.601635423984,
          43.599645,
          43.61177,
          43.5843376998005,
          43.60490588615922,
          43.59964198976927,
          43.6090789,
          43.60692850822045,
          43.60487367143625,
          43.603857880257685,
          43.615198,
          43.609444519480505,
          43.59199494981442,
          43.60766166787071,
          43.601530041710944,
          43.61060878239459,
          43.6060321962695
         ],
         "legendgroup": "Toulouse",
         "lon": [
          1.438261,
          1.432899819049,
          1.4001855,
          1.407013156361,
          1.446759,
          1.421825,
          1.49191968227842,
          1.4431337267160416,
          1.4466048404574394,
          1.4274835,
          1.4499284327030182,
          1.4424946904182434,
          1.444002091884613,
          1.43922,
          1.4486758410930634,
          1.404060646891594,
          1.3708099722862244,
          1.4471087604761124,
          1.447087973356247,
          1.4449194073677063
         ],
         "marker": {
          "color": "#ab63fa"
         },
         "mode": "markers",
         "name": "Toulouse",
         "showlegend": true,
         "subplot": "mapbox",
         "type": "scattermapbox"
        },
        {
         "hovertemplate": "<b>%{hovertext}</b><br><br>destination=Uzes<br>latitude=%{lat}<br>longitude=%{lon}<extra></extra>",
         "hovertext": [
          "Secret d'Uzès - Le Loft - Avec piscine chauffée",
          "Domaine de Panery",
          "Château de Collias",
          "Domaine de Privadière & Spa",
          "Soko Hotels-Pont du Gard",
          "L'Enclos des Lauriers Roses",
          "Hôtel Le Saint-Geniès",
          "Domitys Sophia",
          "Le Vieux Castillon",
          "Boutique Hôtel Entraigues",
          "Oh Activ Nîmes",
          "Domaine Des Escaunes",
          "Hotel Restaurant Le Gardon - Pont du Gard",
          "SQUARE HOTEL",
          "Le Castellas Hotel & SPA - TERITORIA",
          "La Taverne",
          "La Maison d'Uzès Relais & Châteaux",
          "Hotel Restaurant Le Clos De Pradines",
          "Patio De Violette",
          "greet hôtel Pont du Gard - Route d'Avignon"
         ],
         "lat": [
          44.008072891557,
          44.008803,
          43.95294149642264,
          43.986524,
          43.946223,
          43.9042517,
          44.023394710582856,
          43.845396,
          43.9708845,
          44.01246437098573,
          43.838773872288,
          43.91047897739652,
          43.96063266940217,
          43.837032,
          43.95418957604745,
          44.014659,
          44.0127444719537,
          44.0461975690864,
          44.02843142473164,
          43.9516637894324
         ],
         "legendgroup": "Uzes",
         "lon": [
          4.324984612995,
          4.570564,
          4.475574244041458,
          4.302525,
          4.548705,
          4.47074120000002,
          4.419290721416473,
          4.368959,
          4.554961300000059,
          4.421800111045059,
          4.363837569914,
          4.548895061016083,
          4.467562437057495,
          4.363037,
          4.476158916950226,
          4.4200515,
          4.42113071680069,
          4.443197781753497,
          4.420023858328932,
          4.63867562698365
         ],
         "marker": {
          "color": "#FFA15A"
         },
         "mode": "markers",
         "name": "Uzes",
         "showlegend": true,
         "subplot": "mapbox",
         "type": "scattermapbox"
        }
       ],
       "layout": {
        "height": 600,
        "legend": {
         "title": {
          "text": "destination"
         },
         "tracegroupgap": 0
        },
        "mapbox": {
         "center": {
          "lat": 45.839688128866975,
          "lon": 3.4003795692663203
         },
         "domain": {
          "x": [
           0,
           1
          ],
          "y": [
           0,
           1
          ]
         },
         "style": "carto-positron",
         "zoom": 4.1
        },
        "template": {
         "data": {
          "bar": [
           {
            "error_x": {
             "color": "#2a3f5f"
            },
            "error_y": {
             "color": "#2a3f5f"
            },
            "marker": {
             "line": {
              "color": "#E5ECF6",
              "width": 0.5
             },
             "pattern": {
              "fillmode": "overlay",
              "size": 10,
              "solidity": 0.2
             }
            },
            "type": "bar"
           }
          ],
          "barpolar": [
           {
            "marker": {
             "line": {
              "color": "#E5ECF6",
              "width": 0.5
             },
             "pattern": {
              "fillmode": "overlay",
              "size": 10,
              "solidity": 0.2
             }
            },
            "type": "barpolar"
           }
          ],
          "carpet": [
           {
            "aaxis": {
             "endlinecolor": "#2a3f5f",
             "gridcolor": "white",
             "linecolor": "white",
             "minorgridcolor": "white",
             "startlinecolor": "#2a3f5f"
            },
            "baxis": {
             "endlinecolor": "#2a3f5f",
             "gridcolor": "white",
             "linecolor": "white",
             "minorgridcolor": "white",
             "startlinecolor": "#2a3f5f"
            },
            "type": "carpet"
           }
          ],
          "choropleth": [
           {
            "colorbar": {
             "outlinewidth": 0,
             "ticks": ""
            },
            "type": "choropleth"
           }
          ],
          "contour": [
           {
            "colorbar": {
             "outlinewidth": 0,
             "ticks": ""
            },
            "colorscale": [
             [
              0,
              "#0d0887"
             ],
             [
              0.1111111111111111,
              "#46039f"
             ],
             [
              0.2222222222222222,
              "#7201a8"
             ],
             [
              0.3333333333333333,
              "#9c179e"
             ],
             [
              0.4444444444444444,
              "#bd3786"
             ],
             [
              0.5555555555555556,
              "#d8576b"
             ],
             [
              0.6666666666666666,
              "#ed7953"
             ],
             [
              0.7777777777777778,
              "#fb9f3a"
             ],
             [
              0.8888888888888888,
              "#fdca26"
             ],
             [
              1,
              "#f0f921"
             ]
            ],
            "type": "contour"
           }
          ],
          "contourcarpet": [
           {
            "colorbar": {
             "outlinewidth": 0,
             "ticks": ""
            },
            "type": "contourcarpet"
           }
          ],
          "heatmap": [
           {
            "colorbar": {
             "outlinewidth": 0,
             "ticks": ""
            },
            "colorscale": [
             [
              0,
              "#0d0887"
             ],
             [
              0.1111111111111111,
              "#46039f"
             ],
             [
              0.2222222222222222,
              "#7201a8"
             ],
             [
              0.3333333333333333,
              "#9c179e"
             ],
             [
              0.4444444444444444,
              "#bd3786"
             ],
             [
              0.5555555555555556,
              "#d8576b"
             ],
             [
              0.6666666666666666,
              "#ed7953"
             ],
             [
              0.7777777777777778,
              "#fb9f3a"
             ],
             [
              0.8888888888888888,
              "#fdca26"
             ],
             [
              1,
              "#f0f921"
             ]
            ],
            "type": "heatmap"
           }
          ],
          "heatmapgl": [
           {
            "colorbar": {
             "outlinewidth": 0,
             "ticks": ""
            },
            "colorscale": [
             [
              0,
              "#0d0887"
             ],
             [
              0.1111111111111111,
              "#46039f"
             ],
             [
              0.2222222222222222,
              "#7201a8"
             ],
             [
              0.3333333333333333,
              "#9c179e"
             ],
             [
              0.4444444444444444,
              "#bd3786"
             ],
             [
              0.5555555555555556,
              "#d8576b"
             ],
             [
              0.6666666666666666,
              "#ed7953"
             ],
             [
              0.7777777777777778,
              "#fb9f3a"
             ],
             [
              0.8888888888888888,
              "#fdca26"
             ],
             [
              1,
              "#f0f921"
             ]
            ],
            "type": "heatmapgl"
           }
          ],
          "histogram": [
           {
            "marker": {
             "pattern": {
              "fillmode": "overlay",
              "size": 10,
              "solidity": 0.2
             }
            },
            "type": "histogram"
           }
          ],
          "histogram2d": [
           {
            "colorbar": {
             "outlinewidth": 0,
             "ticks": ""
            },
            "colorscale": [
             [
              0,
              "#0d0887"
             ],
             [
              0.1111111111111111,
              "#46039f"
             ],
             [
              0.2222222222222222,
              "#7201a8"
             ],
             [
              0.3333333333333333,
              "#9c179e"
             ],
             [
              0.4444444444444444,
              "#bd3786"
             ],
             [
              0.5555555555555556,
              "#d8576b"
             ],
             [
              0.6666666666666666,
              "#ed7953"
             ],
             [
              0.7777777777777778,
              "#fb9f3a"
             ],
             [
              0.8888888888888888,
              "#fdca26"
             ],
             [
              1,
              "#f0f921"
             ]
            ],
            "type": "histogram2d"
           }
          ],
          "histogram2dcontour": [
           {
            "colorbar": {
             "outlinewidth": 0,
             "ticks": ""
            },
            "colorscale": [
             [
              0,
              "#0d0887"
             ],
             [
              0.1111111111111111,
              "#46039f"
             ],
             [
              0.2222222222222222,
              "#7201a8"
             ],
             [
              0.3333333333333333,
              "#9c179e"
             ],
             [
              0.4444444444444444,
              "#bd3786"
             ],
             [
              0.5555555555555556,
              "#d8576b"
             ],
             [
              0.6666666666666666,
              "#ed7953"
             ],
             [
              0.7777777777777778,
              "#fb9f3a"
             ],
             [
              0.8888888888888888,
              "#fdca26"
             ],
             [
              1,
              "#f0f921"
             ]
            ],
            "type": "histogram2dcontour"
           }
          ],
          "mesh3d": [
           {
            "colorbar": {
             "outlinewidth": 0,
             "ticks": ""
            },
            "type": "mesh3d"
           }
          ],
          "parcoords": [
           {
            "line": {
             "colorbar": {
              "outlinewidth": 0,
              "ticks": ""
             }
            },
            "type": "parcoords"
           }
          ],
          "pie": [
           {
            "automargin": true,
            "type": "pie"
           }
          ],
          "scatter": [
           {
            "fillpattern": {
             "fillmode": "overlay",
             "size": 10,
             "solidity": 0.2
            },
            "type": "scatter"
           }
          ],
          "scatter3d": [
           {
            "line": {
             "colorbar": {
              "outlinewidth": 0,
              "ticks": ""
             }
            },
            "marker": {
             "colorbar": {
              "outlinewidth": 0,
              "ticks": ""
             }
            },
            "type": "scatter3d"
           }
          ],
          "scattercarpet": [
           {
            "marker": {
             "colorbar": {
              "outlinewidth": 0,
              "ticks": ""
             }
            },
            "type": "scattercarpet"
           }
          ],
          "scattergeo": [
           {
            "marker": {
             "colorbar": {
              "outlinewidth": 0,
              "ticks": ""
             }
            },
            "type": "scattergeo"
           }
          ],
          "scattergl": [
           {
            "marker": {
             "colorbar": {
              "outlinewidth": 0,
              "ticks": ""
             }
            },
            "type": "scattergl"
           }
          ],
          "scattermapbox": [
           {
            "marker": {
             "colorbar": {
              "outlinewidth": 0,
              "ticks": ""
             }
            },
            "type": "scattermapbox"
           }
          ],
          "scatterpolar": [
           {
            "marker": {
             "colorbar": {
              "outlinewidth": 0,
              "ticks": ""
             }
            },
            "type": "scatterpolar"
           }
          ],
          "scatterpolargl": [
           {
            "marker": {
             "colorbar": {
              "outlinewidth": 0,
              "ticks": ""
             }
            },
            "type": "scatterpolargl"
           }
          ],
          "scatterternary": [
           {
            "marker": {
             "colorbar": {
              "outlinewidth": 0,
              "ticks": ""
             }
            },
            "type": "scatterternary"
           }
          ],
          "surface": [
           {
            "colorbar": {
             "outlinewidth": 0,
             "ticks": ""
            },
            "colorscale": [
             [
              0,
              "#0d0887"
             ],
             [
              0.1111111111111111,
              "#46039f"
             ],
             [
              0.2222222222222222,
              "#7201a8"
             ],
             [
              0.3333333333333333,
              "#9c179e"
             ],
             [
              0.4444444444444444,
              "#bd3786"
             ],
             [
              0.5555555555555556,
              "#d8576b"
             ],
             [
              0.6666666666666666,
              "#ed7953"
             ],
             [
              0.7777777777777778,
              "#fb9f3a"
             ],
             [
              0.8888888888888888,
              "#fdca26"
             ],
             [
              1,
              "#f0f921"
             ]
            ],
            "type": "surface"
           }
          ],
          "table": [
           {
            "cells": {
             "fill": {
              "color": "#EBF0F8"
             },
             "line": {
              "color": "white"
             }
            },
            "header": {
             "fill": {
              "color": "#C8D4E3"
             },
             "line": {
              "color": "white"
             }
            },
            "type": "table"
           }
          ]
         },
         "layout": {
          "annotationdefaults": {
           "arrowcolor": "#2a3f5f",
           "arrowhead": 0,
           "arrowwidth": 1
          },
          "autotypenumbers": "strict",
          "coloraxis": {
           "colorbar": {
            "outlinewidth": 0,
            "ticks": ""
           }
          },
          "colorscale": {
           "diverging": [
            [
             0,
             "#8e0152"
            ],
            [
             0.1,
             "#c51b7d"
            ],
            [
             0.2,
             "#de77ae"
            ],
            [
             0.3,
             "#f1b6da"
            ],
            [
             0.4,
             "#fde0ef"
            ],
            [
             0.5,
             "#f7f7f7"
            ],
            [
             0.6,
             "#e6f5d0"
            ],
            [
             0.7,
             "#b8e186"
            ],
            [
             0.8,
             "#7fbc41"
            ],
            [
             0.9,
             "#4d9221"
            ],
            [
             1,
             "#276419"
            ]
           ],
           "sequential": [
            [
             0,
             "#0d0887"
            ],
            [
             0.1111111111111111,
             "#46039f"
            ],
            [
             0.2222222222222222,
             "#7201a8"
            ],
            [
             0.3333333333333333,
             "#9c179e"
            ],
            [
             0.4444444444444444,
             "#bd3786"
            ],
            [
             0.5555555555555556,
             "#d8576b"
            ],
            [
             0.6666666666666666,
             "#ed7953"
            ],
            [
             0.7777777777777778,
             "#fb9f3a"
            ],
            [
             0.8888888888888888,
             "#fdca26"
            ],
            [
             1,
             "#f0f921"
            ]
           ],
           "sequentialminus": [
            [
             0,
             "#0d0887"
            ],
            [
             0.1111111111111111,
             "#46039f"
            ],
            [
             0.2222222222222222,
             "#7201a8"
            ],
            [
             0.3333333333333333,
             "#9c179e"
            ],
            [
             0.4444444444444444,
             "#bd3786"
            ],
            [
             0.5555555555555556,
             "#d8576b"
            ],
            [
             0.6666666666666666,
             "#ed7953"
            ],
            [
             0.7777777777777778,
             "#fb9f3a"
            ],
            [
             0.8888888888888888,
             "#fdca26"
            ],
            [
             1,
             "#f0f921"
            ]
           ]
          },
          "colorway": [
           "#636efa",
           "#EF553B",
           "#00cc96",
           "#ab63fa",
           "#FFA15A",
           "#19d3f3",
           "#FF6692",
           "#B6E880",
           "#FF97FF",
           "#FECB52"
          ],
          "font": {
           "color": "#2a3f5f"
          },
          "geo": {
           "bgcolor": "white",
           "lakecolor": "white",
           "landcolor": "#E5ECF6",
           "showlakes": true,
           "showland": true,
           "subunitcolor": "white"
          },
          "hoverlabel": {
           "align": "left"
          },
          "hovermode": "closest",
          "mapbox": {
           "style": "light"
          },
          "paper_bgcolor": "white",
          "plot_bgcolor": "#E5ECF6",
          "polar": {
           "angularaxis": {
            "gridcolor": "white",
            "linecolor": "white",
            "ticks": ""
           },
           "bgcolor": "#E5ECF6",
           "radialaxis": {
            "gridcolor": "white",
            "linecolor": "white",
            "ticks": ""
           }
          },
          "scene": {
           "xaxis": {
            "backgroundcolor": "#E5ECF6",
            "gridcolor": "white",
            "gridwidth": 2,
            "linecolor": "white",
            "showbackground": true,
            "ticks": "",
            "zerolinecolor": "white"
           },
           "yaxis": {
            "backgroundcolor": "#E5ECF6",
            "gridcolor": "white",
            "gridwidth": 2,
            "linecolor": "white",
            "showbackground": true,
            "ticks": "",
            "zerolinecolor": "white"
           },
           "zaxis": {
            "backgroundcolor": "#E5ECF6",
            "gridcolor": "white",
            "gridwidth": 2,
            "linecolor": "white",
            "showbackground": true,
            "ticks": "",
            "zerolinecolor": "white"
           }
          },
          "shapedefaults": {
           "line": {
            "color": "#2a3f5f"
           }
          },
          "ternary": {
           "aaxis": {
            "gridcolor": "white",
            "linecolor": "white",
            "ticks": ""
           },
           "baxis": {
            "gridcolor": "white",
            "linecolor": "white",
            "ticks": ""
           },
           "bgcolor": "#E5ECF6",
           "caxis": {
            "gridcolor": "white",
            "linecolor": "white",
            "ticks": ""
           }
          },
          "title": {
           "x": 0.05
          },
          "xaxis": {
           "automargin": true,
           "gridcolor": "white",
           "linecolor": "white",
           "ticks": "",
           "title": {
            "standoff": 15
           },
           "zerolinecolor": "white",
           "zerolinewidth": 2
          },
          "yaxis": {
           "automargin": true,
           "gridcolor": "white",
           "linecolor": "white",
           "ticks": "",
           "title": {
            "standoff": 15
           },
           "zerolinecolor": "white",
           "zerolinewidth": 2
          }
         }
        },
        "title": {
         "text": "Hôtels Recommandés"
        },
        "width": 700
       }
      }
     },
     "metadata": {},
     "output_type": "display_data"
    }
   ],
   "source": [
    "fig = px.scatter_mapbox(hotels, lat=\"latitude\", lon=\"longitude\", \n",
    "                        color=\"destination\",\t\t\t\n",
    "                        mapbox_style=\"carto-positron\",\n",
    "                        hover_name=\"nom\",\n",
    "                        width=700, height=600,\n",
    "                        #hover_data={\"note\":True},\n",
    "                        title=\"Hôtels Recommandés\"\n",
    "                        )\n",
    "\n",
    "fig.update_layout( mapbox_zoom=4.1)\n",
    "fig.show()"
   ]
  },
  {
   "cell_type": "code",
   "execution_count": 60,
   "metadata": {},
   "outputs": [
    {
     "data": {
      "application/vnd.plotly.v1+json": {
       "config": {
        "plotlyServerURL": "https://plot.ly"
       },
       "data": [
        {
         "hovertemplate": "<b>%{text}</b> <br>Latitude: %{lat}<br>Longitude: %{lon}",
         "lat": [
          45.1875602,
          43.6044622,
          44.0175835,
          48.6359541,
          49.4404591
         ],
         "lon": [
          5.7357819,
          1.4442469,
          1.3549991,
          -1.511459954959514,
          1.0939658
         ],
         "marker": {
          "color": "blue",
          "size": 10
         },
         "mode": "markers+text",
         "text": [
          "Grenoble",
          "Toulouse",
          "Montauban",
          "Mont Saint Michel",
          "Rouen"
         ],
         "textfont": {
          "color": "blue",
          "size": 12
         },
         "textposition": "middle right",
         "type": "scattermapbox",
         "visible": true
        },
        {
         "customdata": [
          9.6,
          9.3,
          8.9,
          8.8,
          8.8,
          8.7,
          8.7,
          8.7,
          8.6,
          8.6,
          8.6,
          8.6,
          8.5,
          8.5,
          8.5,
          8.5,
          8.4,
          8.4,
          8.3,
          8.3
         ],
         "hovertemplate": "<b>%{text}</b><br>Note : %{customdata}",
         "lat": [
          45.1817931396315,
          45.26306953783005,
          45.13810851312875,
          45.186804,
          45.18928483181276,
          45.1910782561633,
          45.19503871194903,
          45.18410130511121,
          45.17927340236415,
          45.195810837764,
          45.19081503510005,
          45.214382906559365,
          45.167883,
          45.186911,
          45.21086426162433,
          45.146369467997054,
          45.17557,
          45.19079329686088,
          45.18495018003908,
          45.20207905170731
         ],
         "lon": [
          5.6169116797165,
          5.777134895324707,
          5.750068053603172,
          5.73157,
          5.7186198234558105,
          5.715598315000534,
          5.673510432243347,
          5.732948184013367,
          5.7343389093875885,
          5.725446775394,
          5.728548020124435,
          5.809949040412903,
          5.71176,
          5.731293,
          5.762307643890381,
          5.728804171085358,
          5.713582,
          5.716696679592133,
          5.72598980937039,
          5.759381353855133
         ],
         "marker": {
          "color": "blue",
          "size": 8
         },
         "mode": "markers",
         "text": [
          "La Grange à Gaby",
          "Hôtel des Skieurs",
          "Hotel Restaurant Chavant",
          "RockyPop Grenoble Appartements",
          "1924 Hôtel",
          "Hôtel Terminus",
          "Tempologis - Chateau de la Rochette",
          "Park Hôtel Grenoble - MGallery",
          "Tempologis Grenoble",
          "The Babel Community Hôtel - Grenoble Bastille",
          "Le Grand Hôtel Grenoble, BW Premier Collection by Best Western",
          "Appart'City Confort Grenoble Inovallée",
          "Hôtel restaurant d'application Lesdiguieres - Ecole hôtelière -",
          "RockyPop Grenoble Hotel",
          "Hôtel Les Trois Roses, Meylan Grenoble",
          "PoMo Hôtel & Restaurant",
          "La petite Maison",
          "Maison Barbillon Grenoble",
          "Okko Hotels Grenoble Jardin Hoche",
          "Mercure Grenoble Meylan"
         ],
         "textposition": "top center",
         "type": "scattermapbox",
         "visible": false
        },
        {
         "customdata": [
          9.4,
          9.2,
          9,
          9,
          9,
          8.9,
          8.9,
          8.9,
          8.8,
          8.8,
          8.8,
          8.8,
          8.7,
          8.7,
          8.7,
          8.6,
          8.6,
          8.6,
          8.6,
          8.6
         ],
         "hovertemplate": "<b>%{text}</b><br>Note : %{customdata}",
         "lat": [
          43.60536,
          43.599713382634,
          43.6077255,
          43.601635423984,
          43.599645,
          43.61177,
          43.5843376998005,
          43.60490588615922,
          43.59964198976927,
          43.6090789,
          43.60692850822045,
          43.60487367143625,
          43.603857880257685,
          43.615198,
          43.609444519480505,
          43.59199494981442,
          43.60766166787071,
          43.601530041710944,
          43.61060878239459,
          43.6060321962695
         ],
         "lon": [
          1.438261,
          1.432899819049,
          1.4001855,
          1.407013156361,
          1.446759,
          1.421825,
          1.49191968227842,
          1.4431337267160416,
          1.4466048404574394,
          1.4274835,
          1.4499284327030182,
          1.4424946904182434,
          1.444002091884613,
          1.43922,
          1.4486758410930634,
          1.404060646891594,
          1.3708099722862244,
          1.4471087604761124,
          1.447087973356247,
          1.4449194073677063
         ],
         "marker": {
          "color": "blue",
          "size": 8
         },
         "mode": "markers",
         "text": [
          "Boutique Hotel SOCLO",
          "Aparthotel Adagio Original Toulouse Centre La Grave",
          "Sevenline Aparthotel Purpan Toulouse",
          "Sangha Toulouse",
          "La Tour Croix Baragnon",
          "Residhome Toulouse Ponts Jumeaux",
          "Hotel Arena Toulouse",
          "Ibis Styles Toulouse Capitole",
          "Hôtel Croix Baragnon",
          "Odalys City Toulouse Centre Compans Caffarelli",
          "Hotel Les Capitouls Toulouse Centre - Handwritten Collection",
          "Le Grand Balcon Hotel",
          "Grand Hotel de l'Opera - BW Premier Collection",
          "Hôtel Une Chambre en Ville",
          "Appart Hôtel Clément Ader",
          "Alezan Hôtel & Résidence",
          "Courtyard by Marriott Toulouse Airport",
          "Hôtel des Arts",
          "Hôtel Innes by HappyCulture",
          "Hotel Albert 1er"
         ],
         "textposition": "top center",
         "type": "scattermapbox",
         "visible": false
        },
        {
         "customdata": [
          9.6,
          9.4,
          9.2,
          9.1,
          9,
          9,
          9,
          8.9,
          8.9,
          8.8,
          8.7,
          8.7,
          8.6,
          8.6,
          8.6,
          8.5,
          8.5,
          8.5,
          8.4,
          8.3
         ],
         "hovertemplate": "<b>%{text}</b><br>Note : %{customdata}",
         "lat": [
          44.145711,
          44.07427183599765,
          44.0084597,
          44.0941414516172,
          43.9328946,
          44.0894414091139,
          44.020995559797,
          44.03302642136267,
          44.015742070285896,
          43.9362872066926,
          44.10089227132159,
          44.0723609,
          44.12584972088137,
          44.020542927203735,
          44.00526,
          43.82889239987879,
          44.037646556787735,
          44.01542572857878,
          43.990284,
          44.00536749728455
         ],
         "lon": [
          1.607878,
          1.6084671911085024,
          1.3405966,
          1.44704023254087,
          1.3661783,
          1.34851889310085,
          1.349240014017,
          1.5695053339004517,
          1.354912519454956,
          1.32209782791136,
          1.082528829574585,
          1.5140099,
          1.1227405071258545,
          1.3495668768882751,
          1.383153,
          1.3034677505493164,
          1.1060799658298492,
          1.354072988033295,
          1.338824,
          1.3837341964244845
         ],
         "marker": {
          "color": "blue",
          "size": 8
         },
         "mode": "markers",
         "text": [
          "Auberge de l'Hirondelle",
          "Hostellerie Restaurant Les Gorges de l'Aveyron",
          "Les Logis du Port - Port Canal - Montauban",
          "Moulin d'Albias aux portes de Montauban",
          "WonderBar (Auberge du Trinquet)",
          "Château de Loubéjac",
          "Dali Hôtel Montauban",
          "Chez Terrassier - Logis Hôtels - Hotel et Restaurant",
          "Hôtel Mercure Montauban",
          "Sure Hotel by Best Western Les Portes de Montauban",
          "L'Armateur",
          "Les bords de l'Aveyron",
          "Logis des Crêtes de Pignols",
          "Abbaye des Capucins Spa & Resort",
          "ibis Styles Montauban",
          "Logis Hotels - Hôtel et Restaurant Le Relais des Garrigues",
          "Hôtel Absolu",
          "Hôtel du Commerce",
          "Centre Louis Ormières",
          "ibis Montauban"
         ],
         "textposition": "top center",
         "type": "scattermapbox",
         "visible": false
        },
        {
         "customdata": [
          9.1,
          9.1,
          8.9,
          8.9,
          8.8,
          8.7,
          8.7,
          8.6,
          8.5,
          8.4,
          8.4,
          8.4,
          8.4,
          8.3,
          8.3,
          8.3,
          8.2,
          8.2,
          8.2,
          8.2
         ],
         "hovertemplate": "<b>%{text}</b><br>Note : %{customdata}",
         "lat": [
          48.69365160108424,
          48.620431518411,
          48.556622,
          48.59449,
          48.5529491228595,
          48.55070556650788,
          48.552910698120925,
          48.68265214273017,
          48.62333729872069,
          48.60207329368576,
          48.61949515465965,
          48.55318287083317,
          48.59706233179113,
          48.63907771680572,
          48.63568797869143,
          48.61626270451236,
          48.750602666094,
          48.61599317655586,
          48.61538141368341,
          48.6175872716489
         ],
         "lon": [
          -1.3747447729110718,
          -1.289935577615,
          -1.5112100000000002,
          -1.511429,
          -1.50805896686484,
          -1.7197036743164062,
          -1.5114837884902954,
          -1.3568463921546936,
          -1.3703244924545288,
          -1.7690777778625488,
          -1.2946781516075134,
          -1.5088670251134315,
          -1.513039469718933,
          -1.3519334794182214,
          -1.5098825097084043,
          -1.510905772447586,
          -1.55879959073786,
          -1.4882531762123108,
          -1.510709971189499,
          -1.51039615273476
         ],
         "marker": {
          "color": "blue",
          "size": 8
         },
         "mode": "markers",
         "text": [
          "La Ramade - Teritoria",
          "Ducey Appart'Hôtel - Les Rivières",
          "L'Etape du Mont, Family Hostel",
          "Ermitage - Mont-Saint-Michel",
          "Hôtel Victor Hugo",
          "Kyriad Dol-de-Bretagne",
          "Best Western Hôtel Montgomery",
          "Hôtel de La Croix d'Or",
          "Hotel Les Montois",
          "Hotel Beau Rivage",
          "Logis Hotel Restaurant Auberge De La Sélune",
          "Hôtel - Restaurant Eugenie",
          "Hotel Rose",
          "Hôtel les 13 Assiettes",
          "Auberge Saint Pierre",
          "Le Relais Du Roy",
          "Logis Auberge de Carolles",
          "Auberge de la Baie",
          "Hotel Gabriel",
          "Le Relais Saint Michel"
         ],
         "textposition": "top center",
         "type": "scattermapbox",
         "visible": false
        },
        {
         "customdata": [
          8.9,
          8.8,
          8.7,
          8.6,
          8.6,
          8.6,
          8.5,
          8.5,
          8.5,
          8.4,
          8.4,
          8.4,
          8.3,
          8.3,
          8.3,
          8.3,
          8.3,
          8.3,
          8.2,
          8.1
         ],
         "hovertemplate": "<b>%{text}</b><br>Note : %{customdata}",
         "lat": [
          49.446441,
          49.4290146,
          49.442178,
          49.43872283313267,
          49.44263508189676,
          49.45328564064136,
          49.4254701,
          49.439067,
          49.44834820937509,
          49.429988,
          49.4388505,
          49.44117284656542,
          49.44158356828401,
          49.443139221902975,
          49.439811,
          49.42498665756126,
          49.425341,
          49.4435,
          49.43783418793873,
          49.435557560716006
         ],
         "lon": [
          1.09412,
          1.0832807,
          1.088876,
          1.091351956129074,
          1.0868579149246216,
          1.09828529731665,
          1.0838855,
          1.089627,
          1.0934950411319733,
          1.072398,
          1.0899553,
          1.0951754450798037,
          1.0814445465803146,
          1.0754263401031494,
          1.093778,
          1.0686087460327045,
          1.068718,
          1.07581,
          1.0972528159618378,
          1.1037424206733704
         ],
         "marker": {
          "color": "blue",
          "size": 8
         },
         "mode": "markers",
         "text": [
          "Radisson Blu Hotel, Rouen Centre",
          "DOMITYS Les Mosaïques",
          "Hôtel de Bourgtheroulde, Autograph Collection",
          "Hôtel Paulette Rouen Centre Cathédrale",
          "Hôtel Littéraire Gustave Flaubert, BW Signature Collection",
          "Hyatt Place Rouen - Rouen Centre",
          "Les Boréales - Restaurant, Résidence & Spa",
          "Aparthotel Adagio Access Rouen Centre Cathédrale",
          "Best Western Plus Hotel de Dieppe 1880",
          "Holiday Inn Express - Rouen Centre - Rive Gauche by IHG",
          "Novotel Rouen Centre Cathédrale",
          "Mercure Rouen Centre Cathédrale",
          "Grand Hôtel De La Seine",
          "Novotel Suites Rouen Normandie",
          "Hotel cardinal",
          "Ibis Styles Rouen Centre Rive Gauche",
          "ibis budget Rouen Centre Rive Gauche",
          "ibis Rouen Centre Rive Droite Pasteur",
          "Hotel De Quebec",
          "Mercure Rouen Centre Champ de Mars"
         ],
         "textposition": "top center",
         "type": "scattermapbox",
         "visible": false
        },
        {
         "customdata": [
          9.6,
          9.6,
          9.6,
          9.6,
          9.5,
          9.5,
          9.5,
          9.5,
          9.5,
          9.4,
          9.4,
          9.4,
          9.4,
          9.4,
          9.4,
          9.4,
          9.3,
          9.3,
          9.3,
          9.3
         ],
         "hovertemplate": "<b>%{text}</b><br>Note : %{customdata}",
         "lat": [
          48.85540194602825,
          48.86875540097767,
          48.853485,
          48.8862242254587,
          48.87151630143544,
          48.8482842,
          48.86820701,
          48.8613519,
          48.84480905370051,
          48.8851169,
          48.8657684,
          48.87105524371411,
          48.8561004,
          48.8527928,
          48.8867476,
          48.8902248,
          48.886693,
          48.8701108,
          48.85329562419074,
          48.86986074734661
         ],
         "lon": [
          2.334118634462357,
          2.300887402446733,
          2.336409,
          2.3352813720703125,
          2.301112711593305,
          2.3657250999999637,
          2.301493585,
          2.3486811,
          2.3524400001329013,
          2.3250712,
          2.3508444,
          2.2932884527785973,
          2.294172099999969,
          2.3091826,
          2.2858468,
          2.3451377,
          2.3449407,
          2.3572345,
          2.345758080482483,
          2.2972708940233133
         ],
         "marker": {
          "color": "blue",
          "size": 8
         },
         "mode": "markers",
         "text": [
          "Hotel La Villa Saint Germain Des Prés",
          "Four Seasons Hotel George V Paris",
          "Villa-des-Prés",
          "Hôtel des Arts Montmartre",
          "Hôtel Barrière Fouquet's Paris",
          "Goralska Résidences Paris Bastille",
          "Bulgari Hotel Paris",
          "Nestay Les Halles",
          "Hotel Monge",
          "Hôtel Eldorado Paris",
          "Nestay Sentier",
          "The Peninsula Paris",
          "Résidence Charles Floquet",
          "1.75 Paris La Trêve",
          "Yuna Porte-Maillot - ApartHotel",
          "Yuna Montmartre - ApartHotel",
          "Edgar Suites Montmartre - Paul Albert",
          "Edgar Suites - Bouchardon",
          "Les Rives de Notre-Dame",
          "Hôtel Keppler"
         ],
         "textposition": "top center",
         "type": "scattermapbox",
         "visible": false
        },
        {
         "customdata": [
          9.1,
          8.8,
          8.5,
          8.5,
          8.5,
          8.5,
          8.5,
          8.5,
          8.3,
          8.3,
          8.3,
          8.3,
          8.2,
          8.2,
          8.2,
          8.1,
          8.1,
          8,
          8,
          8
         ],
         "hovertemplate": "<b>%{text}</b><br>Note : %{customdata}",
         "lat": [
          49.88833909912762,
          49.952529,
          49.879612824182246,
          49.89448370908586,
          49.891422,
          49.894445193999786,
          49.8921749,
          49.891249,
          49.905454,
          49.889778847078894,
          49.89571084445366,
          49.892289399306,
          49.981881760291856,
          49.891999,
          49.889307,
          49.94655957161311,
          49.89105066789695,
          49.89167619790575,
          49.885365,
          49.891591
         ],
         "lon": [
          2.3121708428661805,
          2.536644,
          2.266651015808119,
          2.276802533729551,
          2.304996,
          2.3009423911571503,
          2.2889352,
          2.30953,
          2.509432,
          2.3024994134902954,
          2.299562394618988,
          2.302585711836,
          2.0659929513931274,
          2.291969999999992,
          2.294634,
          2.312489032810845,
          2.301150932908058,
          2.30775386095047,
          2.269669,
          2.313573
         ],
         "marker": {
          "color": "blue",
          "size": 8
         },
         "mode": "markers",
         "text": [
          "La Parenthèse Envoutée",
          "L'auberge fleurie",
          "The Originals Boutique Hôtel Amiens Sud",
          "Logis Hôtel - La Chambre d'Amiens",
          "ibis Styles Amiens Centre",
          "Hotel Le Prieuré et La Résidence",
          "Nemea Appart Hotel Coliseum Amiens Centre",
          "Moxy Amiens",
          "La Caroline",
          "Le Saint Louis",
          "Mercure Amiens Cathédrale",
          "Chez Victor H",
          "LOGIS - Hôtel Restaurant Du Canard",
          "B&B HOTEL Amiens Centre Cathédrale",
          "The Nest",
          "Hôtel restaurant du Commerce",
          "Hôtel Spa Marotte",
          "Holiday Inn Express Amiens by IHG",
          "Le Vivier",
          "ibis budget Amiens Centre Gare"
         ],
         "textposition": "top center",
         "type": "scattermapbox",
         "visible": false
        },
        {
         "customdata": [
          9.7,
          9.3,
          9.2,
          8.7,
          8.7,
          8.7,
          8.6,
          8.5,
          8.5,
          8.4,
          8.4,
          8.4,
          8.3,
          8.3,
          8.3,
          8.3,
          8.3,
          8.2,
          8.2,
          8.2
         ],
         "hovertemplate": "<b>%{text}</b><br>Note : %{customdata}",
         "lat": [
          47.22941209549,
          47.1583322,
          47.1397937190975,
          47.281352,
          47.229423298549,
          47.23171766809705,
          47.2801612,
          47.03869788074751,
          47.23547525170847,
          47.10343150858914,
          47.24045605146395,
          47.23856536577556,
          47.10674143237006,
          47.246146,
          47.25904853843431,
          47.23727602649555,
          47.23986295611545,
          47.32887023321416,
          47.2422875195244,
          47.24741870976628
         ],
         "lon": [
          6.030923261484,
          5.9096987,
          5.95766735998153,
          5.986017,
          6.030929251521,
          6.027591526508331,
          5.9877459,
          6.06895923614502,
          5.9000853988113455,
          6.151388883590698,
          6.025995332734055,
          6.025325059890747,
          6.142038702964783,
          6.033186,
          6.008062362670898,
          6.02586954832077,
          6.02139884220378,
          5.97087487578392,
          6.031794548034668,
          6.023643314838409
         ],
         "marker": {
          "color": "blue",
          "size": 8
         },
         "mode": "markers",
         "text": [
          "Bali Suite",
          "Gîtes de l'Orée du Bois",
          "Hôtel Restaurant Chez Gervais",
          "Aux Ateliers",
          "Zanzibar Suite",
          "Hôtel Restaurant Spa Le Sauvage",
          "B&B HOTEL Besançon Valentin",
          "Le Champ des Lys",
          "Hôtel AKENA BESANCON",
          "La Table de Gustave",
          "ibis Besançon Centre Ville",
          "Hôtel de Paris",
          "Hôtel de La Vallée",
          "Best Western Hotel Fontaine Argent",
          "Hotel Restaurant Vesontio",
          "Hotel Du Nord",
          "Hotel Vauban",
          "Château de La Dame Blanche - Logis",
          "Mercure Besancon Parc Micaud - Hotel & Bar",
          "Logis Hôtel Victor Hugo & Spa"
         ],
         "textposition": "top center",
         "type": "scattermapbox",
         "visible": false
        },
        {
         "customdata": [
          9.7,
          9,
          8.9,
          8.8,
          8.8,
          8.8,
          8.8,
          8.8,
          8.8,
          8.7,
          8.7,
          8.7,
          8.6,
          8.6,
          8.6,
          8.5,
          8.5,
          8.4,
          8.4,
          8.4
         ],
         "hovertemplate": "<b>%{text}</b><br>Note : %{customdata}",
         "lat": [
          45.89762906594191,
          45.912613103044,
          45.90218660575059,
          45.899053,
          45.90374698623782,
          45.90249644555698,
          45.90041837042851,
          45.897015,
          45.905699,
          45.90205968292101,
          45.900678445133416,
          45.90393736458728,
          45.903201977941485,
          45.89789346662321,
          45.90010167486018,
          45.8980259989269,
          45.90034806289442,
          45.90349688035514,
          45.898238796612006,
          45.90551449345384
         ],
         "lon": [
          6.124955447470256,
          6.1170846711639,
          6.123805046081543,
          6.124137,
          6.144694089889526,
          6.126119792461395,
          6.120344504670356,
          6.131543,
          6.151953,
          6.124647259712219,
          6.127447485923767,
          6.119993627071381,
          6.122673153877258,
          6.125205159187317,
          6.124424636363983,
          6.123657524585724,
          6.1223942041397095,
          6.128477454185486,
          6.12250953912735,
          6.144128143787384
         ],
         "marker": {
          "color": "blue",
          "size": 8
         },
         "mode": "markers",
         "text": [
          "Les Jardins du Chateau",
          "Appart Hotel Neostelia",
          "Allobroges Park Hôtel",
          "Auberge du Lyonnais",
          "Impérial Palace",
          "Hôtel Le Pré Carré",
          "Hébé Hotel",
          "Le Pélican",
          "Rivage Hôtel & Spa Annecy",
          "Hôtel du Nord",
          "Le Splendid Hotel Lac D'Annecy - Handwritten Collection",
          "Hotel Les Terrasses",
          "Aparthotel Adagio Annecy Centre",
          "Hôtel du Château",
          "Apparthotel Privilodges Le Royal",
          "Les Loges Annecy Vieille Ville",
          "Best Western Plus Hotel Carlton Annecy",
          "Hôtel de Bonlieu",
          "ibis Annecy Centre Vieille Ville",
          "Hôtel Catalpa"
         ],
         "textposition": "top center",
         "type": "scattermapbox",
         "visible": false
        },
        {
         "customdata": [
          9.5,
          9.2,
          9.2,
          9.2,
          9.1,
          9.1,
          9,
          9,
          9,
          8.9,
          8.8,
          8.8,
          8.8,
          8.8,
          8.7,
          8.7,
          8.6,
          8.6,
          8.6,
          8.6
         ],
         "hovertemplate": "<b>%{text}</b><br>Note : %{customdata}",
         "lat": [
          45.7677524746546,
          45.759217144079,
          45.758649,
          45.76314438789889,
          45.774432,
          45.760402581312896,
          45.74439127455862,
          45.753675,
          45.74958763945291,
          45.75656137877833,
          45.759533,
          45.75840119999999,
          45.77493175752366,
          45.76854360086941,
          45.75972208357345,
          45.760987531674914,
          45.788608,
          45.76825733744846,
          45.7649194,
          45.79229162230092
         ],
         "lon": [
          4.844035327259917,
          4.82313535390313,
          4.836915,
          4.825807996094227,
          4.836447,
          4.85792056375427,
          4.892542362213135,
          4.826781,
          4.829766601324081,
          4.832611083984375,
          4.826597,
          4.835708199999999,
          4.847663640975952,
          4.856478720903397,
          4.831165373325348,
          4.83672559261322,
          4.814676,
          4.848283231258392,
          4.833714999999984,
          4.818694679831651
         ],
         "marker": {
          "color": "blue",
          "size": 8
         },
         "mode": "markers",
         "text": [
          "MHL - Maison Hotel Lyon",
          "Villa Maïa",
          "InterContinental Lyon - Hotel Dieu by IHG",
          "Villa Florentine",
          "Hôtel Fort St Laurent Lyon - Handwritten Collection",
          "Pullman Lyon",
          "Hôtel Maison Lacassagne Lyon",
          "Hôtel de l'Abbaye Lyon - Boutique Hôtel",
          "Hotel De Verdun 1882, BW Signature Collection",
          "Bayard Bellecour",
          "MiHotel Vieux Lyon",
          "Republik Hotel",
          "Warwick Reine Astrid - Lyon",
          "Hôtel Edmond W Lyon Part-Dieu",
          "Hôtel Des Artistes",
          "Hotel Carlton Lyon - MGallery Hotel Collection",
          "Hotel Lyon-ouest",
          "Hôtel Le Roosevelt Lyon",
          "Hôtel Le Boulevardier",
          "Hotel ParkSaône"
         ],
         "textposition": "top center",
         "type": "scattermapbox",
         "visible": false
        },
        {
         "customdata": [
          9.6,
          9.6,
          9.2,
          9.1,
          9,
          9,
          8.9,
          8.8,
          8.8,
          8.7,
          8.7,
          8.6,
          8.6,
          8.5,
          8.5,
          8.5,
          8.4,
          8.4,
          8.4,
          8.3
         ],
         "hovertemplate": "<b>%{text}</b><br>Note : %{customdata}",
         "lat": [
          49.249366,
          49.27551885808722,
          49.3324288096497,
          49.27232559999999,
          49.2812472208379,
          49.27446149480972,
          49.27647467688673,
          49.33836960745577,
          49.27899410241933,
          49.33893271385811,
          49.2791367116969,
          49.276031585766006,
          49.27627832312484,
          49.34591036405188,
          49.33578724960095,
          49.29943464050049,
          49.34048253388349,
          49.32349966028158,
          49.280242,
          49.27933593079586
         ],
         "lon": [
          -0.712469,
          -0.700964480638504,
          -0.755652040243149,
          -0.6985101000000213,
          -0.656313023651121,
          -0.7079898076568525,
          -0.7024700846557153,
          -0.6240534782409668,
          -0.7084169983863831,
          -0.6295868754386902,
          -0.7204249351343606,
          -0.7017248868942261,
          -0.6983694434165955,
          -0.7520538568496704,
          -0.7328782075279583,
          -0.7313686609268188,
          -0.6231093406677246,
          -0.6524097919464111,
          -0.71046,
          -0.7070561004303499
         ],
         "marker": {
          "color": "blue",
          "size": 8
         },
         "mode": "markers",
         "text": [
          "Château Saint Gilles - Bayeux",
          "Villa Lara Hotel",
          "Chateau La Cheneviere",
          "Domaine de Bayeux",
          "Domaine du Grand Caugy",
          "Belle Normandy",
          "La Maison de Mathilde",
          "Hôtel L'ideal le Mountbatten",
          "Hôtel d'Argouges",
          "Les Villas d'Arromanches, Teritoria",
          "Domitys Les Falaises Blanches",
          "Hotel Reine Mathilde",
          "Hotel Le Lion D'Or et Restaurant La Table Du Lion",
          "ibis Bayeux Port En Bessin",
          "Hôtel Restaurant le clos de l 'Ancien Pressoir",
          "Grand Hôtel \"Château de Sully\" - Piscine & Spa -Teritoria",
          "Hôtel De La Marine",
          "Logis Hôtel La Rosière",
          "Appart’hôtel saint patrice",
          "Le Declic"
         ],
         "textposition": "top center",
         "type": "scattermapbox",
         "visible": false
        },
        {
         "customdata": [
          9.6,
          9.4,
          9.3,
          9.3,
          9.2,
          9.1,
          9,
          9,
          8.9,
          8.8,
          8.8,
          8.8,
          8.7,
          8.6,
          8.6,
          8.5,
          8.5,
          8.5,
          8.5,
          8.4
         ],
         "hovertemplate": "<b>%{text}</b><br>Note : %{customdata}",
         "lat": [
          50.633398,
          50.63294839155726,
          50.63527,
          50.634823,
          50.6358445,
          50.635784,
          50.62602253141817,
          50.644099160264,
          50.639919,
          50.63754053523086,
          50.61475007574,
          50.635281,
          50.63734320471821,
          50.634074,
          50.6397393,
          50.6299091218236,
          50.6388119,
          50.615354,
          50.645603,
          50.63430829317451
         ],
         "lon": [
          3.0583622,
          3.0749497521842386,
          3.069822,
          3.079934,
          3.069856,
          3.070578,
          3.0625462532043457,
          2.99773545575,
          3.054229,
          3.07692289352417,
          3.041684057008,
          3.060162,
          3.0683116614818573,
          3.064229,
          3.067428100000029,
          3.04850888095098,
          3.056976899999995,
          3.043125,
          3.057067,
          3.061618208885193
         ],
         "marker": {
          "color": "blue",
          "size": 8
         },
         "mode": "markers",
         "text": [
          "Coeur de Lille- 2 Chambres Idéal famille",
          "Au 30",
          "Au Moulin d'Or",
          "Edgar Suites Lille - Shake",
          "Edgar Suites Lille - Faidherbe",
          "Le Chat Qui Dort - Lille Gare",
          "Au Cœur du Jardin",
          "Résidence Services Seniors DOMITYS - Villa Ulma",
          "Victorias House Suite",
          "Hôtel Barrière Lille",
          "Domitys L'Agapanthe",
          "Aparthotel Adagio Lille Centre Grand Place",
          "Boa Hotel - BW Signature Collection - Lille Centre Gares",
          "OKKO Hotels Lille Centre",
          "Hotel L'Arbre Voyageur - BW Premier Collection - LILLE",
          "A & V Appart'hôtel",
          "Clarance Hotel Lille",
          "B&B HOTEL Lille Lillenium Eurasanté",
          "Victoria's House",
          "Best Western Premier Why Hotel"
         ],
         "textposition": "top center",
         "type": "scattermapbox",
         "visible": false
        },
        {
         "customdata": [
          9.2,
          9.2,
          9,
          8.9,
          8.9,
          8.8,
          8.6,
          8.6,
          8.5,
          8.5,
          8.5,
          8.4,
          8.4,
          8.4,
          8.4,
          8.3,
          8.2,
          8.2,
          8.2,
          8.2
         ],
         "hovertemplate": "<b>%{text}</b><br>Note : %{customdata}",
         "lat": [
          48.07859549360517,
          48.07545713654288,
          48.07080073724868,
          48.079348023437845,
          48.07161741558895,
          48.07376803430356,
          48.07357179018292,
          48.07394456376353,
          48.11283258340826,
          48.09922,
          48.076817,
          48.08601523296444,
          48.0772062173984,
          48.07192026320514,
          48.07654046258575,
          48.11068713707552,
          48.079198,
          48.081060795303706,
          48.08745399108503,
          48.070939860424986
         ],
         "lon": [
          7.355527058243751,
          7.353532165288925,
          7.346389726389361,
          7.364479900629021,
          7.3599910552253505,
          7.358293756842613,
          7.356671690940857,
          7.358576059341431,
          7.365206480026245,
          7.362783999999999,
          7.35519899999997,
          7.357299327850342,
          7.403871864080429,
          7.360539436340332,
          7.349873632192612,
          7.362433075904846,
          7.363507,
          7.357177287340164,
          7.360686957836151,
          7.3538655640004436
         ],
         "marker": {
          "color": "blue",
          "size": 8
         },
         "mode": "markers",
         "text": [
          "Relais & Châteaux La Maison Des Têtes",
          "L'esquisse Hotel & Spa Colmar - MGallery",
          "Colmar Hotel",
          "James Boutique Hôtel Colmar centre",
          "Novotel Suites Colmar Centre",
          "Hotel Le Colombier",
          "Hotel Restaurant Le Maréchal - Teritoria",
          "Hotel Le Colombier Suites",
          "B&B HOTEL Colmar Liberté 4 étoiles",
          "Best Western Colmar Expo",
          "Ibis Styles Colmar Centre",
          "Hôtel Gustave Colmar",
          "Hotel L'Europe",
          "Hôtel Turenne",
          "PAUL & PIA - Welcome Home Hotel",
          "Ibis Styles Colmar Nord",
          "ibis Colmar Centre",
          "Mercure Colmar Centre Unterlinden",
          "Hotel Arc-En-Ciel Colmar Contact Hotel",
          "Résidence Pierre & Vacances La Petite Venise"
         ],
         "textposition": "top center",
         "type": "scattermapbox",
         "visible": false
        },
        {
         "customdata": [
          9.2,
          9.2,
          9.2,
          9,
          9,
          8.9,
          8.9,
          8.9,
          8.9,
          8.8,
          8.8,
          8.7,
          8.7,
          8.6,
          8.6,
          8.6,
          8.6,
          8.6,
          8.5,
          8.5
         ],
         "hovertemplate": "<b>%{text}</b><br>Note : %{customdata}",
         "lat": [
          48.07859549360517,
          48.07545713654288,
          48.0575458,
          48.07080073724868,
          48.08677224334395,
          48.079348023437845,
          48.07161741558895,
          48.04242042576413,
          48.0349876742797,
          48.07376803430356,
          48.04327132624498,
          48.09978391286901,
          48.0421578072359,
          48.08621904454728,
          48.07357179018292,
          48.08721748566505,
          48.07394456376353,
          48.042238408346414,
          48.09922,
          48.076817
         ],
         "lon": [
          7.355527058243751,
          7.353532165288925,
          7.3070346,
          7.346389726389361,
          7.277366816997528,
          7.364479900629021,
          7.3599910552253505,
          7.306319251656532,
          7.27613836526871,
          7.358293756842613,
          7.3041218519210815,
          7.274074405431747,
          7.30737026134227,
          7.277162969112396,
          7.356671690940857,
          7.2778818011283875,
          7.358576059341431,
          7.309167757630348,
          7.362783999999999,
          7.35519899999997
         ],
         "marker": {
          "color": "blue",
          "size": 8
         },
         "mode": "markers",
         "text": [
          "Relais & Châteaux La Maison Des Têtes",
          "L'esquisse Hotel & Spa Colmar - MGallery",
          "CHATEAU R",
          "Colmar Hotel",
          "L'Auberge du Brand",
          "James Boutique Hôtel Colmar centre",
          "Novotel Suites Colmar Centre",
          "L'Hostellerie du Château",
          "Hotel SPA Husseren Collections - Proche Colmar - Eguisheim",
          "Hotel Le Colombier",
          "Hotel Colmar Vignes Eguisheim",
          "Hôtel de l'Ange",
          "Auberge du Rempart",
          "Hôtel Berceau Du Vigneron",
          "Hotel Restaurant Le Maréchal - Teritoria",
          "Hôtel des Deux Clefs",
          "Hotel Le Colombier Suites",
          "Hôtel L'Auberge Alsacienne",
          "Best Western Colmar Expo",
          "Ibis Styles Colmar Centre"
         ],
         "textposition": "top center",
         "type": "scattermapbox",
         "visible": false
        },
        {
         "customdata": [
          9.1,
          8.9,
          8.7,
          8.7,
          8.7,
          8.7,
          8.6,
          8.5,
          8.5,
          8.5,
          8.5,
          8.5,
          8.5,
          8.4,
          8.4,
          8.3,
          8.3,
          8.3,
          8.3,
          8.2
         ],
         "hovertemplate": "<b>%{text}</b><br>Note : %{customdata}",
         "lat": [
          47.321396338634,
          47.32125147002727,
          47.319451,
          47.32360739513832,
          47.3245398,
          47.272895,
          47.2712634,
          47.322315,
          47.325526,
          47.32359832,
          47.32170511764295,
          47.32413783879986,
          47.318251,
          47.32345830632939,
          47.32558141857032,
          47.31837585355751,
          47.361115,
          47.32699910497018,
          47.3357199093968,
          47.31436158252069
         ],
         "lon": [
          5.039669955802,
          5.035691186785698,
          5.042354,
          5.030215457081795,
          5.0276148,
          5.047662,
          5.043089,
          5.034377,
          5.049480399999993,
          5.037261159,
          5.043653324246407,
          5.033770054578781,
          5.028123,
          5.043451488018036,
          5.036918297410011,
          5.038001239299774,
          5.05172,
          5.076087266206741,
          5.00223599374294,
          5.055491858878099
         ],
         "marker": {
          "color": "blue",
          "size": 8
         },
         "mode": "markers",
         "text": [
          "Alfred Suites - Appart's Hôtel - Dijon - Centre Historique",
          "Hostellerie Du Chapeau Rouge",
          "Hotel du Palais Dijon",
          "Oceania Le Jura Dijon",
          "Nomad Hotel Dijon",
          "Holiday Inn Dijon Sud - Longvic by IHG",
          "ibis Styles Dijon Sud Domaine De Beauregard 21600 Longvic",
          "Mama Shelter Dijon",
          "Aparthotel Adagio Access Dijon République",
          "Aloft Hotel Dijon By Marriott",
          "Hôtel des Ducs",
          "Grand Hotel La Cloche Dijon - MGallery",
          "Residhome Dijon Cité Des Vignes",
          "Hotel Le Jacquemart",
          "Hôtel des Halles",
          "Maison Philippe Le Bon",
          "B&B HOTEL Dijon Valmy Toison d'or",
          "Holiday Inn Express Dijon by IHG",
          "La Bonbonniere - Sure Hotel Collection by Best Western",
          "MÉDICIS HOME DIJON LES PETITES ROCHES"
         ],
         "textposition": "top center",
         "type": "scattermapbox",
         "visible": false
        },
        {
         "customdata": [
          9.1,
          9,
          9,
          8.9,
          8.9,
          8.9,
          8.8,
          8.8,
          8.8,
          8.8,
          8.7,
          8.7,
          8.7,
          8.6,
          8.6,
          8.6,
          8.5,
          8.4,
          8.4,
          8.4
         ],
         "hovertemplate": "<b>%{text}</b><br>Note : %{customdata}",
         "lat": [
          46.16282553359586,
          46.1594925,
          46.1581345696256,
          46.15483672188565,
          46.1661692,
          46.15630080488247,
          46.15365316439305,
          46.143734,
          46.16357605073282,
          46.15891332534751,
          46.1577741,
          46.15809741187169,
          46.15714244917559,
          46.1570198263049,
          46.162704781136576,
          46.15345807004079,
          46.15728365093064,
          46.15815872214761,
          46.15779643320449,
          46.161434077501134
         ],
         "lon": [
          -1.1511021852493286,
          -1.1551166,
          -1.1489127710774485,
          -1.1450564861297607,
          -1.1380326,
          -1.158108115196228,
          -1.1496511101722715,
          -1.160263,
          -1.1541599035263062,
          -1.1608233546310205,
          -1.1560836,
          -1.1503618953975092,
          -1.1563459038734436,
          -1.1541277170181274,
          -1.1606106162071228,
          -1.174386441707611,
          -1.149967610836029,
          -1.1526705457436035,
          -1.1383187770843506,
          -1.1584755778312683
         ],
         "marker": {
          "color": "blue",
          "size": 8
         },
         "mode": "markers",
         "text": [
          "Maison des Ambassadeurs",
          "CENTRAL Hôtel La Rochelle Centre",
          "Le Saint-Nicolas",
          "Le Masq Hôtel Best Western Premier",
          "Les studios du chemins vert",
          "Hôtel La Monnaie Arty & Spa",
          "Mercure La Rochelle Vieux Port",
          "Hôtel Le Transatlantique - Lycée Hôtelier La Rochelle",
          "Le Champlain",
          "Central Park Hôtel & Spa",
          "Villa Grand Voile - Christopher Coutanceau",
          "Tour de Nesle La Rochelle Vieux Port 3 etoiles",
          "Un Hôtel En Ville",
          "Hôtel de l'Océan",
          "Le Manoir Hôtel",
          "Hôtel Les Brises",
          "Hôtel Le Yachtman, The Originals Collection",
          "Hotel La Marine, Vieux Port",
          "Hôtel Kyriad La Rochelle Centre Ville",
          "Novotel La Rochelle Centre"
         ],
         "textposition": "top center",
         "type": "scattermapbox",
         "visible": false
        },
        {
         "customdata": [
          8.7,
          8.7,
          8.6,
          8.6,
          8.6,
          8.6,
          8.6,
          8.5,
          8.5,
          8.5,
          8.5,
          8.5,
          8.4,
          8.4,
          8.4,
          8.4,
          8.3,
          8.3,
          8.3,
          8.2
         ],
         "hovertemplate": "<b>%{text}</b><br>Note : %{customdata}",
         "lat": [
          49.50238471218267,
          49.493988,
          49.488378,
          49.4965388,
          49.48741929210898,
          49.4925039,
          49.49008699,
          49.49141927977486,
          49.50318944974505,
          49.488691,
          49.491908082817,
          49.49331760456112,
          49.48981027544587,
          49.4968623,
          49.49334356904791,
          49.498238,
          49.49424468286882,
          49.49308920830414,
          49.49117449151481,
          49.49493852015591
         ],
         "lon": [
          0.0859808921813964,
          0.1227326,
          0.108705,
          0.1268139999999999,
          0.1315112120937556,
          0.129779,
          0.097746957,
          0.1007075607776641,
          0.0888213515281677,
          0.1259289999999999,
          0.123161788885,
          0.125306883397684,
          0.1071086525917053,
          0.1270729,
          0.1243177056312561,
          0.128837,
          0.1428524260978747,
          0.130961537361145,
          0.1119366288185119,
          0.1055395603179931
         ],
         "marker": {
          "color": "blue",
          "size": 8
         },
         "mode": "markers",
         "text": [
          "LOGIS HOTEL - La Petite Rade",
          "JOST Hôtel Le Havre Centre Gare",
          "Hôtel Lilybloom",
          "Smart Appart Le Havre 97",
          "Aparthotel Adagio Access Le Havre Les Docks",
          "Odalys City Le Havre Centre Les Docks",
          "Hilton Garden Inn Le Havre Centre",
          "Hôtel Spa Vent d'Ouest",
          "Hotel de Charme La Bonne Adresse - Logis hotels",
          "All Suites Appart Hotel Le Havre",
          "Odalys City Le Havre Centre Gare",
          "Nomad Hotel le Havre",
          "Oscar Hôtel Le Havre Centre",
          "Smart Appart Le Havre 105",
          "Best Western Plus Le Havre Centre Gare",
          "Holiday Inn Express - Le Havre Centre",
          "Ibis Budget Le Havre Les Docks",
          "Birgit Hôtel Le Havre Centre",
          "Hotel Spa Le Pasino",
          "Hôtel Carmin"
         ],
         "textposition": "top center",
         "type": "scattermapbox",
         "visible": false
        },
        {
         "customdata": [
          9.3,
          9.3,
          9.1,
          9.1,
          9,
          9,
          8.9,
          8.9,
          8.9,
          8.9,
          8.8,
          8.8,
          8.8,
          8.8,
          8.8,
          8.8,
          8.7,
          8.7,
          8.7,
          8.7
         ],
         "hovertemplate": "<b>%{text}</b><br>Note : %{customdata}",
         "lat": [
          48.585942,
          48.57934881136194,
          48.58999292620854,
          48.58052972845092,
          48.59899457007954,
          48.577043189133,
          48.584163,
          48.5892382,
          48.58383632696426,
          48.60808508242673,
          48.5930475580478,
          48.589361332686096,
          48.57866118727526,
          48.5828931,
          48.58080122013969,
          48.58159135724165,
          48.58279610699174,
          48.58149369478856,
          48.58501891351632,
          48.58490535801912
         ],
         "lon": [
          7.747235,
          7.751557230949402,
          7.75154247879982,
          7.74373322725296,
          7.762173176616698,
          7.742526903748512,
          7.735927,
          7.78273339999998,
          7.734948992729187,
          7.800015360116959,
          7.714664146064706,
          7.773319333791733,
          7.751403003931045,
          7.74204069999996,
          7.741733640432358,
          7.741548206580092,
          7.743128389120102,
          7.75279775261879,
          7.73882545530796,
          7.737804874777794
         ],
         "marker": {
          "color": "blue",
          "size": 8
         },
         "mode": "markers",
         "text": [
          "Hôtel LÉONOR the place to live",
          "Hotel Cour du Corbeau Strasbourg - MGallery",
          "Maison LUTETIA R",
          "Hôtel & Spa Le Bouclier D'or",
          "Residence Inn by Marriott Strasbourg",
          "Hotel Les Haras",
          "Hotel Arok",
          "Boutique Hotel Des XV",
          "Hôtel Tandem - Boutique Hôtel",
          "Château de Pourtalès",
          "K Hotel",
          "Hôtel Garrigae Villa La Florangerie - SPA & Piscine",
          "Hotel Beaucour",
          "BOMA easy living hotel",
          "Hotel & Spa REGENT PETITE FRANCE",
          "Pavillon REGENT PETITE FRANCE",
          "HANNONG Hotel & Wine Bar",
          "Hotel Suisse",
          "Best Western Plus Monopole Métropole",
          "Hotel Saint Augustin"
         ],
         "textposition": "top center",
         "type": "scattermapbox",
         "visible": false
        },
        {
         "customdata": [
          9.3,
          9.2,
          9.1,
          9,
          9,
          8.9,
          8.9,
          8.8,
          8.7,
          8.7,
          8.7,
          8.7,
          8.6,
          8.5,
          8.5,
          8.5,
          8.5,
          8.4,
          8.4,
          8.3
         ],
         "hovertemplate": "<b>%{text}</b><br>Note : %{customdata}",
         "lat": [
          48.3638867496874,
          48.2316409178519,
          48.22489193155129,
          48.1883782027279,
          48.27175702879367,
          48.370512,
          48.15237297670544,
          48.15064882145038,
          48.23240406062429,
          48.2621341796983,
          48.16697452574144,
          48.23085947988415,
          48.23481955207035,
          48.1948277799426,
          48.254966,
          48.16047850363736,
          48.270222352898,
          48.18716222254064,
          48.251313,
          48.16800494001184
         ],
         "lon": [
          7.43345888582758,
          7.302220344499801,
          7.353954797553229,
          7.416152358055115,
          7.399505420901505,
          7.28776,
          7.321690320968628,
          7.320503443479538,
          7.36546665430069,
          7.498539090156555,
          7.300600111484528,
          7.302135676145554,
          7.367786765098572,
          7.319329977035522,
          7.409299,
          7.372378706932068,
          7.399667501449585,
          7.32538104057312,
          7.437626,
          7.318883389234543
         ],
         "marker": {
          "color": "blue",
          "size": 8
         },
         "mode": "markers",
         "text": [
          "Hotel Kieffer",
          "Hôtel du Haut Koenigsbourg- entre vignes et château",
          "Pêche de Vigne & Spa",
          "La Clairière",
          "Auberge Le Meisenberg",
          "Hôtel 48°Nord & Restaurant, The Originals Relais",
          "Hotel Le Mandelberg",
          "Hôtel Le Mittelwihr",
          "Logis Hotel Le Parc & Spa",
          "Les Prés D'ondine",
          "Best Western Hotel & SPA Le Schoenenbourg - Riquewihr - Proche Colmar",
          "LE CLOS DES SOURCES Hôtel & Spa",
          "Hôtel Val-Vignes Colmar Haut-Koenigsbourg, The Originals Relais",
          "Logis Hôtel de la Tour",
          "Hotel Au Parc des Cigognes",
          "Hotel Au Nid De Cigognes",
          "Hotel Restaurant Dontenville",
          "Hôtel Le Ménestrel",
          "B&B HOTEL Sélestat Centre-Alsace",
          "Hôtel Restaurant Le Schlossberg"
         ],
         "textposition": "top center",
         "type": "scattermapbox",
         "visible": false
        },
        {
         "customdata": [
          9.4,
          9.2,
          9.1,
          9,
          9,
          9,
          8.9,
          8.9,
          8.9,
          8.9,
          8.8,
          8.8,
          8.8,
          8.7,
          8.7,
          8.7,
          8.7,
          8.7,
          8.7,
          8.6
         ],
         "hovertemplate": "<b>%{text}</b><br>Note : %{customdata}",
         "lat": [
          48.650727056010815,
          48.64961099853388,
          48.63112529789551,
          48.65896059227621,
          48.65342427124905,
          48.638587743159896,
          48.64920520114247,
          48.6506405397079,
          48.61671486989162,
          48.661448567114505,
          48.6504889200334,
          48.63609920237719,
          48.65902139222791,
          48.65175688590083,
          48.647853110284245,
          48.65210596051072,
          48.6468873089038,
          48.64891,
          48.63633317297816,
          48.6478820606144
         ],
         "lon": [
          -2.0249454730163734,
          -2.024303376674652,
          -2.010825276374817,
          -1.996092011639348,
          -2.0114314556121826,
          -1.96755051612854,
          -2.024633288383484,
          -2.024753987789154,
          -1.9819942116737368,
          -1.99189692735672,
          -2.024863580356623,
          -1.9892066717147827,
          -1.9960114359855647,
          -2.018432021141052,
          -2.0283856987953186,
          -2.0171231031417847,
          -2.0270580053329468,
          -2.024916,
          -2.0205536484718323,
          -2.0085694404754584
         ],
         "marker": {
          "color": "blue",
          "size": 8
         },
         "mode": "markers",
         "text": [
          "Hôtel Le Nautilus",
          "Hôtel Bristol Union Intra Muros",
          "L'Hôtel Particulier Ascott",
          "Villa des Thermes",
          "Hôtel Le Nouveau Monde",
          "Château Hôtel Du Colombier",
          "La Maison des Armateurs",
          "Hôtel Anne de Bretagne",
          "Hôtel Oré, Saint-Malo",
          "Hôtel La Villefromoy",
          "Hotel des Abers",
          "Kyriad Prestige Saint-Malo",
          "Les Charmettes",
          "Oceania Saint Malo",
          "Hôtel La Porte Saint Pierre-Logis Hôtel Intra Muros",
          "Hôtel L'Adresse",
          "Hôtel Quic en Groigne",
          "Appartements des Marins",
          "Manoir Du Cunningham",
          "Sézam-Appart-Hôtel"
         ],
         "textposition": "top center",
         "type": "scattermapbox",
         "visible": false
        },
        {
         "customdata": [
          9.3,
          9.1,
          9.1,
          9,
          9,
          9,
          9,
          8.9,
          8.9,
          8.9,
          8.9,
          8.8,
          8.8,
          8.8,
          8.8,
          8.8,
          8.7,
          8.7,
          8.7,
          8.6
         ],
         "hovertemplate": "<b>%{text}</b><br>Note : %{customdata}",
         "lat": [
          43.144568554122,
          43.13802685924336,
          43.13918685993555,
          43.1216725713562,
          43.1553684025316,
          43.13783309306053,
          43.14893353509435,
          43.13895653693346,
          43.1435123437424,
          43.1438245,
          43.124617,
          43.139712990560646,
          43.135941589718826,
          43.14989337814016,
          43.14967316675708,
          43.152872,
          43.14988848601199,
          43.12293614361634,
          43.144686,
          43.15165354044116
         ],
         "lon": [
          6.351684182882309,
          6.369068920612335,
          6.380889415740967,
          6.26130989325407,
          6.446513012051582,
          6.373921036720276,
          6.303266286849976,
          6.370544135570526,
          6.38287854420821,
          6.383462399999985,
          6.357572,
          6.369920521974564,
          6.36702373623848,
          6.402428224682808,
          6.401575684531053,
          6.342654,
          6.402872800827026,
          6.255433650409712,
          6.335125000000062,
          6.426197290420532
         ],
         "marker": {
          "color": "blue",
          "size": 8
         },
         "mode": "markers",
         "text": [
          "Le Mirage",
          "Hotel Espadon bleu",
          "Hôtel Astria",
          "Villa L'ensoleillade",
          "Hôtel Beau Site",
          "Hôtel Baptistin",
          "Hotel Les Jardins de Bormes, sauna & jacuzzi",
          "Hotel L'Escapade",
          "Hôtel Méditerranée",
          "Roc Hotel - Hôtel 4 étoiles les pieds dans l'eau",
          "Hôtel de la Plage - HDLP",
          "Hôtel La Petite Bohème",
          "Hôtel Beau Rivage",
          "Hôtel Beau Soleil",
          "Hotel de la Plage",
          "Eden Rose Grand Hotel BW Premier Collection",
          "Hotel Le Grand Pavois",
          "Argentiere-Club",
          "Hôtel Paradis",
          "Grand Hotel Moriaz"
         ],
         "textposition": "top center",
         "type": "scattermapbox",
         "visible": false
        },
        {
         "customdata": [
          9.4,
          9.3,
          9.2,
          9.2,
          9.2,
          8.9,
          8.9,
          8.8,
          8.8,
          8.7,
          8.7,
          8.6,
          8.6,
          8.5,
          8.5,
          8.5,
          8.5,
          8.5,
          8.4,
          8.3
         ],
         "hovertemplate": "<b>%{text}</b><br>Note : %{customdata}",
         "lat": [
          43.76192795006577,
          43.83838463420725,
          43.8396228086459,
          43.84251694117047,
          43.839812401838365,
          43.6990888705541,
          43.7257167955233,
          43.758087,
          43.654366384027874,
          43.7603027,
          43.760622,
          43.77898012250287,
          43.84680371369775,
          43.815309262439015,
          43.783341230094,
          43.77239231716274,
          43.773933756175175,
          43.71600387681977,
          43.775022729379415,
          43.73272499999999
         ],
         "lon": [
          6.444082260131836,
          6.215209364891052,
          6.22201681137085,
          6.218900084495544,
          6.221834421157837,
          6.0372394323349,
          6.067579239606857,
          5.890188,
          6.169504523277283,
          5.8863289,
          5.888973999999962,
          6.341233491930325,
          6.219762414693832,
          6.091479063034058,
          6.518538997512,
          6.208481642852803,
          6.619479861193895,
          6.134069859981537,
          6.332758806390416,
          6.176503000000025
         ],
         "marker": {
          "color": "blue",
          "size": 8
         },
         "mode": "markers",
         "text": [
          "Château de Trigance",
          "La Ferme Rose-Hôtel de Charme",
          "Hotel Les Restanques De Moustiers",
          "Clos des Iris",
          "Hôtel Le Colombier",
          "Le Relais Notre Dame",
          "Hotel Le Moulin du Château",
          "Villa Castellane",
          "La Bastide du Calalou; BW Signature Collection",
          "Le Mas de l'Orangerie 3 etoiles",
          "Lou Paradou",
          "Hotel Le Provence - Restaurant Le Styx",
          "La Bastide du Paradou",
          "Hôtel Les Deux Lions",
          "Auberge du Bourguet",
          "Auberge des Salles",
          "Château et Golf De Taulane",
          "Auberge de Baudinard sur Verdon",
          "Hôtel le Panoramic - Votre Hôtel au cœur des Gorges du Verdon",
          "Auberge du Lac"
         ],
         "textposition": "top center",
         "type": "scattermapbox",
         "visible": false
        },
        {
         "customdata": [
          9.2,
          9,
          9,
          8.9,
          8.8,
          8.8,
          8.8,
          8.7,
          8.7,
          8.7,
          8.6,
          8.6,
          8.5,
          8.4,
          8.4,
          8.4,
          8.4,
          8.3,
          8.2,
          8.2
         ],
         "hovertemplate": "<b>%{text}</b><br>Note : %{customdata}",
         "lat": [
          43.216440236856805,
          43.18712580093678,
          43.18602423666496,
          43.211337,
          43.29099812814888,
          43.1768157,
          43.28391600948993,
          43.167331,
          43.216217352829,
          43.21334946052709,
          43.2145598,
          43.21330449968788,
          43.17247224722807,
          43.18653518913985,
          43.21522996680949,
          43.21622493056339,
          43.21457326278473,
          43.21403,
          43.1963472,
          43.21443437507463
         ],
         "lon": [
          5.541745724536895,
          5.622886419296265,
          5.620698643657306,
          5.529502,
          5.59404194355011,
          5.605763700000011,
          5.514111991332243,
          5.597694,
          5.53802689265,
          5.531262829899788,
          5.5336574,
          5.541915893554688,
          5.6056129932403564,
          5.621636509895325,
          5.533696934580803,
          5.542900264263153,
          5.540146976709366,
          5.53859,
          5.597570269,
          5.535294860601425
         ],
         "marker": {
          "color": "blue",
          "size": 8
         },
         "mode": "markers",
         "text": [
          "HPC Suites - Parking Gratuit & Piscine Chauffée en saison",
          "Le Rose Thé",
          "Hotel La Ciotat - A deux pas de l'eau",
          "Hôtel Les Roches Blanches Cassis",
          "Hôtel Le Relais des Brasseurs - Aubagne",
          "Villa Maredda",
          "Appart' Hotel La Girafe Marseille Est - Porte d'Aubagne",
          "La Calanque de Figuerolles",
          "LE CLOS DES ARÔMES",
          "Hotel de La Plage - Mahogany",
          "Le Jardin d'Emile",
          "Hôtel Eden Cassis - parking privé",
          "Best Western Premier Hôtel du Vieux-Port",
          "Hotel Restaurant Miramar L'orchidée",
          "Best Western Plus Hôtel la Rade",
          "Royal Cottage",
          "Best Western Hotel & SPA Coeur De Cassis",
          "Hotel Liautaud",
          "Moxy La Ciotat",
          "Hotel Le Golfe"
         ],
         "textposition": "top center",
         "type": "scattermapbox",
         "visible": false
        },
        {
         "customdata": [
          9.3,
          9.3,
          9.3,
          9.1,
          9.1,
          9,
          9,
          9,
          8.9,
          8.7,
          8.7,
          8.6,
          8.6,
          8.5,
          8.5,
          8.5,
          8.4,
          8.4,
          8.4,
          8.4
         ],
         "hovertemplate": "<b>%{text}</b><br>Note : %{customdata}",
         "lat": [
          43.52551655199661,
          43.5433646,
          43.543436200731,
          43.5435822569446,
          43.523068,
          43.52116980487331,
          43.56879,
          43.536101030690894,
          43.5320856,
          43.5247755,
          43.52356201318332,
          43.5255987,
          43.53126359885809,
          43.53336324193778,
          43.53004967137571,
          43.4964012,
          43.52332474147478,
          43.5219176232722,
          43.48142972107352,
          43.52890621393209
         ],
         "lon": [
          5.450152158737183,
          5.3736497,
          5.3736957,
          5.373438234640503,
          5.457699,
          5.496597290039063,
          5.47851,
          5.448788137561678,
          5.4515111,
          5.45022449999999,
          5.445937067270279,
          5.45172079999998,
          5.445070043206215,
          5.446056425571442,
          5.444146692752838,
          5.394397400000003,
          5.449725687503815,
          5.457871556282044,
          5.365614295005798,
          5.440869033336639
         ],
         "marker": {
          "color": "blue",
          "size": 8
         },
         "mode": "markers",
         "text": [
          "Maison Dauphine",
          "Studio Nuitée en Provence 2",
          "Sweet Home studio Aix en Provence, terrasse, piscine, resto,",
          "Studios Nuitée en Provence",
          "Villa Saint-Ange",
          "Les Lodges Sainte-Victoire Hotel & Spa",
          "Château de la Gaude",
          "Villa Gallici Hôtel & Spa",
          "Hôtel Bellegarde by Viktor",
          "Hôtel Particulier le 28",
          "Hôtel Cézanne Boutique-Hôtel",
          "Hotel Cardinal",
          "Aquabella Hôtel & Spa",
          "Hôtel Paul",
          "Hôtel Escaletto",
          "Domaine Gaogaia",
          "Grand Hôtel Roi René Aix en Provence Centre - MGallery",
          "Hôtel Le Mozart",
          "Hôtel Birdy by Happyculture",
          "Aparthotel Adagio Aix-en-Provence Centre"
         ],
         "textposition": "top center",
         "type": "scattermapbox",
         "visible": false
        },
        {
         "customdata": [
          9.5,
          9.5,
          9.5,
          9.2,
          9.1,
          9,
          8.9,
          8.9,
          8.8,
          8.8,
          8.7,
          8.7,
          8.7,
          8.7,
          8.7,
          8.7,
          8.6,
          8.6,
          8.5,
          8.5
         ],
         "hovertemplate": "<b>%{text}</b><br>Note : %{customdata}",
         "lat": [
          43.291837,
          43.2951169,
          43.2865487,
          43.2943872,
          43.239497,
          43.2923316,
          43.301265,
          43.29722248036285,
          43.2897397,
          43.29653858160117,
          43.28096531741832,
          43.29732158640983,
          43.29412372437712,
          43.2933693,
          43.3024211,
          43.302737,
          43.292048471347655,
          43.29858166724716,
          43.3101149,
          43.296695
         ],
         "lon": [
          5.3677745,
          5.376166300000023,
          5.3797922,
          5.3750415,
          5.406246499999952,
          5.3820033,
          5.370879,
          5.366535094477513,
          5.373192700000004,
          5.372706055641174,
          5.351747274398804,
          5.377538988360584,
          5.374639928340912,
          5.376677,
          5.36863370000003,
          5.365624,
          5.359777808189392,
          5.36974623799324,
          5.3703396,
          5.372832
         ],
         "marker": {
          "color": "blue",
          "size": 8
         },
         "mode": "markers",
         "text": [
          "Suite privée du balcon du vieux port Marseille",
          "Les Appartements du Vieux Port",
          "Loft 250m2 avec écran led géant de 10m2",
          "Appartement au coeur du Vieux-Port",
          "Hôtel 96",
          "Maison Juste",
          "Hôtel Ligo by HappyCulture",
          "Le Couvent Marseille",
          "Hotel C2",
          "La Résidence Du Vieux Port",
          "Le Petit Nice - Passedat",
          "Hotel Marsiho by Happyculture",
          "Maisons du Monde Hôtel & Suites - Marseille Vieux Port",
          "PARADISE Earth & Sea",
          "NH Collection Marseille",
          "Residhome Marseille",
          "New Hotel of Marseille - Vieux Port",
          "InterContinental Marseille - Hotel Dieu by IHG",
          "easyHotel Marseille Euromed",
          "LES TOITS DU VIEUX-PORT"
         ],
         "textposition": "top center",
         "type": "scattermapbox",
         "visible": false
        },
        {
         "customdata": [
          9.8,
          9.4,
          9.3,
          9,
          8.9,
          8.8,
          8.8,
          8.7,
          8.7,
          8.6,
          8.5,
          8.5,
          8.5,
          8.5,
          8.5,
          8.4,
          8.3,
          8.3,
          8.2,
          8.2
         ],
         "hovertemplate": "<b>%{text}</b><br>Note : %{customdata}",
         "lat": [
          43.9613237,
          43.943130415176,
          43.9613237,
          43.926463069619,
          43.94761833011378,
          43.95035466743478,
          43.947113,
          43.94411137230711,
          43.975483683625534,
          43.92929,
          43.94896720373931,
          43.953827,
          43.932979142652,
          43.9496377669598,
          43.95007659797408,
          43.943629463158565,
          43.94403212781474,
          43.922757658189205,
          43.92616548476504,
          43.926434777028
         ],
         "lon": [
          4.8271867,
          4.799091700562,
          4.8271867,
          4.785711458483,
          4.806803539395332,
          4.803230166435242,
          4.80333,
          4.805795570569671,
          4.827437102794647,
          4.784118000000035,
          4.805472493171692,
          4.8099,
          4.831906704755,
          4.806358963251114,
          4.807706773281097,
          4.812171310186386,
          4.80533167719841,
          4.804295003414154,
          4.844420850276947,
          4.785715099388
         ],
         "marker": {
          "color": "blue",
          "size": 8
         },
         "mode": "markers",
         "text": [
          "Gîte Les cyprès de l'ile",
          "Résidence Services Oh Activ Avignon",
          "Appartement Les Cyprès de l’Île",
          "Appart'Hotel - Gare TGV - Courtine - Confluence - 407",
          "Garlande Hôtel Avignon Centre",
          "Hotel d'Europe",
          "Hotel De Cambis Best Western Premier Collection",
          "Hôtel Le Colbert",
          "Logis Hotel la Ferme",
          "Mercure Avignon Gare TGV",
          "Hôtel de l'Horloge",
          "Bateau Hotel à quai Le Chardonnay",
          "COWOOL AVIGNON",
          "Kyriad Avignon - Palais des Papes",
          "La Mirande",
          "Hotel Le Magnan",
          "Hôtel Le Bristol",
          "Best Western Plus Le Lavarin",
          "ibis Styles Avignon Sud",
          "Appart'Hotel - Gare TGV - Courtine - Confluence - 202"
         ],
         "textposition": "top center",
         "type": "scattermapbox",
         "visible": false
        },
        {
         "customdata": [
          9.3,
          9.1,
          9,
          8.9,
          8.9,
          8.8,
          8.7,
          8.6,
          8.6,
          8.6,
          8.6,
          8.6,
          8.5,
          8.5,
          8.4,
          8.4,
          8.3,
          8.3,
          8.2,
          8.2
         ],
         "hovertemplate": "<b>%{text}</b><br>Note : %{customdata}",
         "lat": [
          42.96815793734,
          43.088176,
          42.968143122502,
          42.84528016217312,
          42.96093339833364,
          42.9681599,
          42.935725,
          42.84683098378713,
          43.0863592,
          42.968233105069,
          42.96126316302048,
          42.894548,
          42.95401185785057,
          42.84718593076998,
          42.7559606,
          42.721329,
          43.25701228026424,
          42.87471200315397,
          42.99197848633285,
          42.84719675666097
         ],
         "lon": [
          1.608351193254,
          1.875399,
          1.6083692723,
          1.7411398887634275,
          1.558712124824524,
          1.6083351,
          1.754747,
          1.6058063507080078,
          1.8749443000000383,
          1.608347115344,
          1.4363336563110352,
          1.634179,
          1.6238951683044434,
          1.6056027951065062,
          1.50413079999998,
          1.839279,
          1.6664350032806396,
          1.215839982032776,
          1.6158190369606018,
          1.6056615114212036
         ],
         "marker": {
          "color": "blue",
          "size": 8
         },
         "mode": "markers",
         "text": [
          "AUX 4 LOGIS Appart-hotel - Studio Le Flore - Petit déjeuner inclus 1ère nuit",
          "Chambres d'hôtes Relais Mira Peis",
          "AUX 4 LOGIS Appart-hotel - Studio Le Terra - Petit déjeuner inclus 1ère nuit",
          "Chalet Hotel Les Marmottes 2 étoiles NN",
          "Logis Hotel Restaurant LA BARGUILLERE",
          "AUX 4 LOGIS Appart-hotel - Studio Le Roof - Une vue splendide - Petit déjeuner inclus 1ère nuit",
          "Gite d'étape de Roquefixade",
          "Hôtel Confort 09 ou HC-09",
          "Logis Hôtel restaurant Les Minotiers",
          "AUX 4 LOGIS Appart-hotel - Studio Le City - Petit déjeuner inclus 1ère nuit",
          "Auberge Les Myrtilles",
          "Le Hameau du Comté de Foix",
          "Hôtel Pyrène",
          "Hôtel Terranostra",
          "Relais d'Endron",
          "Résidence Le Grand Tétras- SPA THERMAL INCLUS",
          "Domaine de Garabaud",
          "Hostellerie de La Poste",
          "Hotel du Lac Foix",
          "Hôtel Le Bellevue"
         ],
         "textposition": "top center",
         "type": "scattermapbox",
         "visible": false
        },
        {
         "customdata": [
          9.4,
          9.3,
          9.3,
          9.3,
          9.2,
          9.2,
          9.2,
          9.2,
          9.2,
          9.1,
          9.1,
          9,
          8.9,
          8.9,
          8.7,
          8.5,
          8.5,
          8.5,
          8.3,
          8.2
         ],
         "hovertemplate": "<b>%{text}</b><br>Note : %{customdata}",
         "lat": [
          43.4821737,
          43.4764634,
          43.462816,
          43.48643904244932,
          43.482718094375606,
          43.490592,
          43.482133269718496,
          43.47913899555496,
          43.427136,
          43.479203222687474,
          43.48106772604739,
          43.482321,
          43.47807047960731,
          43.492371,
          43.50579423022689,
          43.492311913537534,
          43.48841135250723,
          43.4954057411974,
          43.485026198989566,
          43.49534430000001
         ],
         "lon": [
          -1.5541904,
          -1.5619169,
          -1.530206,
          -1.5562176704406738,
          -1.5613406896591189,
          -1.551697,
          -1.567530557513237,
          -1.5622754395008087,
          -1.5485610000000634,
          -1.5622150897979736,
          -1.563207507133484,
          -1.468164,
          -1.5408110618591309,
          -1.472588,
          -1.456088320901472,
          -1.476609706878662,
          -1.47714337381899,
          -1.4708241820335388,
          -1.4753705263137815,
          -1.4825117999999975
         ],
         "marker": {
          "color": "blue",
          "size": 8
         },
         "mode": "markers",
         "text": [
          "Hôtel Au Bon Coin",
          "Résidence Kemaris",
          "Brindos, Lac & Château - Relais & Châteaux - Anglet Biarritz",
          "Hôtel du Palais Biarritz, in The Unbound Collection by Hyatt",
          "Hôtel Le Café de Paris",
          "Le Garage Biarritz Hôtel",
          "Hôtel de La Plage",
          "Hotel Saint Julien",
          "Hôtel INDARRA & SPA - Piscine",
          "Hotel Edouard VII",
          "Hotel de Silhouette",
          "Hôtel Villa la Renaissance",
          "Beaumanoir Small Luxury Boutique Hotel",
          "Hôtel Villa KOEGUI Bayonne",
          "Appart'Hôtel Bellevue",
          "Hôtel Mercure Bayonne Centre Le Grand Hotel",
          "Hôtel des Basses Pyrénées - Bayonne",
          "ibis Styles Bayonne",
          "Hôtel Le Bayonne",
          "Okko Hotels Bayonne Centre"
         ],
         "textposition": "top center",
         "type": "scattermapbox",
         "visible": false
        },
        {
         "customdata": [
          9.4,
          9.3,
          9.3,
          9.2,
          9.2,
          9.2,
          9.2,
          9.1,
          9.1,
          9.1,
          9.1,
          9.1,
          9,
          8.9,
          8.9,
          8.9,
          8.9,
          8.8,
          8.8,
          8.7
         ],
         "hovertemplate": "<b>%{text}</b><br>Note : %{customdata}",
         "lat": [
          43.4821737,
          43.4764634,
          43.48643904244932,
          43.490592,
          43.482718094375606,
          43.47913899555496,
          43.482133269718496,
          43.48106772604739,
          43.48072811046226,
          43.48218970895052,
          43.4809576,
          43.479203222687474,
          43.45005266180078,
          43.481774198197215,
          43.48070864819324,
          43.480133535313925,
          43.47807047960731,
          43.4804060091033,
          43.49107531104058,
          43.47436556076438
         ],
         "lon": [
          -1.5541904,
          -1.5619169,
          -1.5562176704406738,
          -1.551697,
          -1.5613406896591189,
          -1.5622754395008087,
          -1.567530557513237,
          -1.563207507133484,
          -1.5642817318439484,
          -1.5663591027259829,
          -1.558828,
          -1.5622150897979736,
          -1.5458106994628906,
          -1.5665441751480105,
          -1.5581005811691284,
          -1.560761332511902,
          -1.5408110618591309,
          -1.557961106300354,
          -1.551891267299652,
          -1.5526489913463593
         ],
         "marker": {
          "color": "blue",
          "size": 8
         },
         "mode": "markers",
         "text": [
          "Hôtel Au Bon Coin",
          "Résidence Kemaris",
          "Hôtel du Palais Biarritz, in The Unbound Collection by Hyatt",
          "Le Garage Biarritz Hôtel",
          "Hôtel Le Café de Paris",
          "Hotel Saint Julien",
          "Hôtel de La Plage",
          "Hotel de Silhouette",
          "Hôtel Barnea",
          "ALFRED HOTELS Port-Vieux",
          "Central Biarritz Appartements",
          "Hotel Edouard VII",
          "Château du Clair de Lune - Boutique Luxury Hotel",
          "Le Gamaritz",
          "Hotel Villa Koegui Biarritz",
          "Hôtel & Espace Bien-être La Maison du Lierre",
          "Beaumanoir Small Luxury Boutique Hotel",
          "Résidence Biarritz Ocean",
          "Regina Experimental Biarritz",
          "Hôtel Mirano"
         ],
         "textposition": "top center",
         "type": "scattermapbox",
         "visible": false
        },
        {
         "customdata": [
          9.5,
          9.3,
          9.2,
          9.1,
          9,
          8.9,
          8.8,
          8.7,
          8.6,
          8.5,
          8.5,
          8.5,
          8.4,
          8.4,
          8.4,
          8.3,
          8.3,
          8.3,
          8.2,
          8.2
         ],
         "hovertemplate": "<b>%{text}</b><br>Note : %{customdata}",
         "lat": [
          43.95294149642264,
          43.83470575029483,
          43.83866612768399,
          43.837117,
          43.82080551337371,
          43.845396,
          43.8338735348897,
          43.838773872288,
          43.837032,
          43.77275561038112,
          43.8343632920283,
          43.834061872209,
          43.8281614,
          43.820576747716174,
          43.83642381634261,
          43.83959475654075,
          43.83581534027453,
          43.83881509620307,
          43.78858215364223,
          43.83175754591007
         ],
         "lon": [
          4.475574244041458,
          4.36731219291687,
          4.352767914533615,
          4.357898,
          4.371253199999956,
          4.368959,
          4.361433959524561,
          4.363837569914,
          4.363037,
          4.407354891300201,
          4.365336745977402,
          4.358990652779,
          4.354790200000025,
          4.319126978516579,
          4.364745318889618,
          4.3610841035842896,
          4.359140172600746,
          4.3548184633255005,
          4.35380257666111,
          4.36697356402874
         ],
         "marker": {
          "color": "blue",
          "size": 8
         },
         "mode": "markers",
         "text": [
          "Château de Collias",
          "Jardins Secrets",
          "Maison Albar Hotels L’Imperator",
          "Margaret - Hôtel Chouleur",
          "Mas de Boudan",
          "Domitys Sophia",
          "Appart'City Collection Nîmes Arènes",
          "Oh Activ Nîmes",
          "SQUARE HOTEL",
          "Logis Hôtel Restaurant Les Aubuns",
          "Hotel Majestic",
          "Odalys City Nîmes Arènes",
          "B&B HOTEL Nîmes Centre Arènes",
          "Hôtel & Spa Vatel",
          "Hotel Des Tuileries",
          "Best Western Marquis de la Baume",
          "Hôtel De L'Amphithéâtre",
          "Royal Hôtel",
          "Hôtel Le Pré Galoffre",
          "ibis Styles Nimes Gare Centre"
         ],
         "textposition": "top center",
         "type": "scattermapbox",
         "visible": false
        },
        {
         "customdata": [
          9.8,
          9.5,
          9.5,
          9.5,
          9.2,
          9.1,
          9,
          8.9,
          8.9,
          8.9,
          8.7,
          8.7,
          8.7,
          8.6,
          8.6,
          8.6,
          8.5,
          8.4,
          8.4,
          8.3
         ],
         "hovertemplate": "<b>%{text}</b><br>Note : %{customdata}",
         "lat": [
          44.008072891557,
          44.008803,
          43.95294149642264,
          43.986524,
          43.946223,
          43.9042517,
          44.023394710582856,
          43.845396,
          43.9708845,
          44.01246437098573,
          43.838773872288,
          43.91047897739652,
          43.96063266940217,
          43.837032,
          43.95418957604745,
          44.014659,
          44.0127444719537,
          44.0461975690864,
          44.02843142473164,
          43.9516637894324
         ],
         "lon": [
          4.324984612995,
          4.570564,
          4.475574244041458,
          4.302525,
          4.548705,
          4.47074120000002,
          4.419290721416473,
          4.368959,
          4.554961300000059,
          4.421800111045059,
          4.363837569914,
          4.548895061016083,
          4.467562437057495,
          4.363037,
          4.476158916950226,
          4.4200515,
          4.42113071680069,
          4.443197781753497,
          4.420023858328932,
          4.63867562698365
         ],
         "marker": {
          "color": "blue",
          "size": 8
         },
         "mode": "markers",
         "text": [
          "Secret d'Uzès - Le Loft - Avec piscine chauffée",
          "Domaine de Panery",
          "Château de Collias",
          "Domaine de Privadière & Spa",
          "Soko Hotels-Pont du Gard",
          "L'Enclos des Lauriers Roses",
          "Hôtel Le Saint-Geniès",
          "Domitys Sophia",
          "Le Vieux Castillon",
          "Boutique Hôtel Entraigues",
          "Oh Activ Nîmes",
          "Domaine Des Escaunes",
          "Hotel Restaurant Le Gardon - Pont du Gard",
          "SQUARE HOTEL",
          "Le Castellas Hotel & SPA - TERITORIA",
          "La Taverne",
          "La Maison d'Uzès Relais & Châteaux",
          "Hotel Restaurant Le Clos De Pradines",
          "Patio De Violette",
          "greet hôtel Pont du Gard - Route d'Avignon"
         ],
         "textposition": "top center",
         "type": "scattermapbox",
         "visible": false
        },
        {
         "customdata": [
          9.4,
          9.2,
          9.1,
          9.1,
          9.1,
          9.1,
          9.1,
          9.1,
          9.1,
          8.9,
          8.9,
          8.9,
          8.9,
          8.8,
          8.8,
          8.8,
          8.7,
          8.7,
          8.7,
          8.7
         ],
         "hovertemplate": "<b>%{text}</b><br>Note : %{customdata}",
         "lat": [
          43.52074386515304,
          43.45687142239208,
          43.47030030178336,
          43.4551249427373,
          43.48437667045639,
          43.48931179659003,
          43.46575555626723,
          43.459787950427895,
          43.45705076199722,
          43.471842348919495,
          43.45831607535757,
          43.45449604194784,
          43.45656073449883,
          43.45262779808949,
          43.4682125774839,
          43.451133,
          43.48647017912312,
          43.450352,
          43.4531019227618,
          43.45033695444248
         ],
         "lon": [
          4.354786276817322,
          4.426175951957703,
          4.395303726196289,
          4.42874014377594,
          4.394996703735354,
          4.403946962333976,
          4.413934350013733,
          4.423284530639648,
          4.424649029906504,
          4.411565959453583,
          4.4252318143844604,
          4.430707544088364,
          4.426702927230849,
          4.430766552686691,
          4.395632296800613,
          4.430953,
          4.404155015945435,
          4.425047,
          4.430585503578186,
          4.426224231719971
         ],
         "marker": {
          "color": "blue",
          "size": 8
         },
         "mode": "markers",
         "text": [
          "Lou Mas Dou Juge",
          "Mas Des Salicornes",
          "Hôtel L' Estelle en Camargue",
          "Hotel Lou Marquès",
          "MAS MLS",
          "Logis Le Nid du Pont de Gau",
          "Lodge Sainte Helene Adult only",
          "Mangio Fango Hotel et Spa",
          "Hôtel du Pont Blanc",
          "L'auberge Camarguaise",
          "Le Mas de Cocagne",
          "Le Fangassier",
          "Le Maset en Camargue",
          "Hôtel Les Arcades",
          "Clamador",
          "Hôtel Casa Marina",
          "Auberge de la Fadaise",
          "Les Vagues",
          "Hôtel Le Mirage",
          "Abrivado"
         ],
         "textposition": "top center",
         "type": "scattermapbox",
         "visible": false
        },
        {
         "customdata": [
          9.3,
          9.2,
          9.1,
          9.1,
          9.1,
          8.9,
          8.9,
          8.8,
          8.8,
          8.8,
          8.7,
          8.7,
          8.7,
          8.7,
          8.7,
          8.7,
          8.6,
          8.6,
          8.6,
          8.5
         ],
         "hovertemplate": "<b>%{text}</b><br>Note : %{customdata}",
         "lat": [
          43.568035521418736,
          43.56498661964503,
          43.568057,
          43.5386584350964,
          43.5660175,
          43.557042969435685,
          43.560378380515566,
          43.5373717,
          43.5689974,
          43.56651350885335,
          43.55604969654279,
          43.531852323011925,
          43.63235489585903,
          43.572987520084624,
          43.57186625316511,
          43.56694564615619,
          43.53412549297586,
          43.511950163794005,
          43.57702546263962,
          43.5707099855187
         ],
         "lon": [
          4.190343797190508,
          4.191751956841472,
          4.102608,
          4.134977201223364,
          4.1923532,
          4.091806411743164,
          4.0921550989151,
          4.1356068,
          4.18829819999996,
          4.191158152149569,
          4.098812341690064,
          4.140072762966156,
          4.191160798072815,
          4.194824695587158,
          4.19366168974193,
          4.191873460958959,
          4.1371142864227295,
          4.137013033032417,
          4.1975390911102295,
          4.102646559476852
         ],
         "marker": {
          "color": "blue",
          "size": 8
         },
         "mode": "markers",
         "text": [
          "Boutique Hôtel des Remparts & Spa",
          "La Villa Mazarin",
          "GOLF HOTEL",
          "Hotel Les Acacias",
          "La Maison de Lyna",
          "Hôtel Saint-Clair, côté Plage",
          "Hotel Le Quetzal",
          "Villa Chiesa Maison Hôtelière",
          "Maison des Croisades",
          "Hôtel-Restaurant \"Chez Carrière\"",
          "Hôtel La Plage 5 étoiles La Grande Motte",
          "Hôtel Café Miramar",
          "Lou Garbin",
          "Les Jardins du Canal",
          "Hôtel Le Médiéval",
          "Hotel Les Templiers",
          "Hôtel Restaurant Splendid Camargue",
          "Oustau Camarguen Hôtel & Spa",
          "Hotel Des 4 Vents \"Esprit Camargue\"",
          "Novotel La Grande Motte Golf"
         ],
         "textposition": "top center",
         "type": "scattermapbox",
         "visible": false
        },
        {
         "customdata": [
          9.3,
          9.1,
          9.1,
          9.1,
          8.9,
          8.9,
          8.9,
          8.8,
          8.7,
          8.5,
          8.5,
          8.5,
          8.4,
          8.4,
          8.4,
          8.3,
          8.3,
          8.3,
          8.2,
          8.2
         ],
         "hovertemplate": "<b>%{text}</b><br>Note : %{customdata}",
         "lat": [
          43.20136837496012,
          43.191770313736136,
          43.22714696227106,
          43.206838,
          43.20568804613899,
          43.20905066342329,
          43.1677714903855,
          43.207746,
          43.205627,
          43.20835469505892,
          43.2077994786468,
          43.20758442867867,
          43.205485,
          43.20734200780554,
          43.20716410155182,
          43.21103244477474,
          43.2064642015836,
          43.21230753343293,
          43.21085,
          43.20895682545534
         ],
         "lon": [
          2.3602621257305145,
          2.334680557250977,
          2.3963995277881622,
          2.382095,
          2.367025315761566,
          2.3617976903915405,
          2.32691690325737,
          2.366914,
          2.362696000000028,
          2.3677602410316467,
          2.3673471808433533,
          2.3727142810821533,
          2.372206199999937,
          2.3665130138397217,
          2.36981213092804,
          2.3581999522190245,
          2.3636336624622345,
          2.344929277896881,
          2.357769,
          2.3684388399124146
         ],
         "marker": {
          "color": "blue",
          "size": 8
         },
         "mode": "markers",
         "text": [
          "Hôtel Le Parc - La Table de Franck Putelat",
          "Domaine d'Auriac - Relais & Châteaux",
          "Hôtel La Bastide Saint Martin",
          "Le Meez",
          "Hotel Pont Levis - Franck Putelat",
          "Hotel Du Pont Vieux",
          "Hôtel Château de Cavanac",
          "GOOD KNIGHT",
          "Hotel de la Cité & Spa MGallery",
          "Hotel Espace Cite",
          "Hôtel l'Aragon",
          "ibis Styles Carcassonne La Cité",
          "514 Appart Hotel",
          "Hôtel du Château & Spa - Teritoria",
          "Mercure Carcassonne La Cité",
          "SOWELL HOTELS Les Chevaliers",
          "Hôtel Le Donjon - Cœur de La Cité Médiévale",
          "Hotel Montsegur",
          "Hotel du Roi & Spa by SOWELL COLLECTION",
          "Hôtel De L'octroi"
         ],
         "textposition": "top center",
         "type": "scattermapbox",
         "visible": false
        },
        {
         "customdata": [
          9.3,
          9.2,
          9.2,
          9.2,
          9,
          9,
          9,
          9,
          9,
          8.9,
          8.9,
          8.8,
          8.7,
          8.7,
          8.7,
          8.6,
          8.6,
          8.4,
          8.4,
          8.3
         ],
         "hovertemplate": "<b>%{text}</b><br>Note : %{customdata}",
         "lat": [
          42.515473,
          42.565461,
          42.52534777273077,
          42.5288828,
          42.479956,
          42.54631954410807,
          42.54249672672944,
          42.52417280573015,
          42.5287646672607,
          42.486596,
          42.5261673320343,
          42.55686,
          42.6075781418119,
          42.56144006813261,
          42.5362902019105,
          42.48728681324171,
          42.534117130131065,
          42.524114491069405,
          42.52538158720205,
          42.52591431339357
         ],
         "lon": [
          3.105115,
          3.005906,
          3.0903244632682725,
          3.0793938,
          3.133433,
          3.028900623321533,
          3.009159564971924,
          3.0893106758594517,
          3.078654259443283,
          3.128405,
          3.082355707883835,
          3.043109,
          3.0395087599754333,
          3.045459395425951,
          3.0561847239732742,
          3.1268180161714554,
          3.062056750059128,
          3.0893656611442566,
          3.082563914358616,
          3.0826815962791443
         ],
         "marker": {
          "color": "blue",
          "size": 8
         },
         "mode": "markers",
         "text": [
          "Intense Boutik-Hôtel",
          "Bourquin Hotel - Lycée Hôtelier Christian Bourquin",
          "Les Roches Brunes",
          "Maison Nova - Boutique Hôtel & Spa",
          "Villa Camille Hotel & Spa",
          "Le Cottage - Hotel & Spa",
          "Auberge Du Roua",
          "Le Relais Des Trois Mas",
          "Le Madeloc Hôtel & Spa",
          "Face à la mer Résidence Les Elmes",
          "Hôtel La Casa Pairal",
          "Hôtel Les Mimosas",
          "Les Bulles de Mer - Hotel & Spa sur la Plage",
          "Résidence du Lido",
          "Le Fanal",
          "Les Elmes - Hôtel, Spa & Plage Privée",
          "Hôtel & Spa Les Mouettes",
          "Hotel Le Bon Port",
          "Le Mas des Citronniers",
          "Hôtel Princes de Catalogne"
         ],
         "textposition": "top center",
         "type": "scattermapbox",
         "visible": false
        }
       ],
       "layout": {
        "height": 600,
        "mapbox": {
         "center": {
          "lat": 45.84118360428571,
          "lon": 3.3965435055534723
         },
         "style": "carto-positron",
         "zoom": 4.5
        },
        "template": {
         "data": {
          "bar": [
           {
            "error_x": {
             "color": "#2a3f5f"
            },
            "error_y": {
             "color": "#2a3f5f"
            },
            "marker": {
             "line": {
              "color": "#E5ECF6",
              "width": 0.5
             },
             "pattern": {
              "fillmode": "overlay",
              "size": 10,
              "solidity": 0.2
             }
            },
            "type": "bar"
           }
          ],
          "barpolar": [
           {
            "marker": {
             "line": {
              "color": "#E5ECF6",
              "width": 0.5
             },
             "pattern": {
              "fillmode": "overlay",
              "size": 10,
              "solidity": 0.2
             }
            },
            "type": "barpolar"
           }
          ],
          "carpet": [
           {
            "aaxis": {
             "endlinecolor": "#2a3f5f",
             "gridcolor": "white",
             "linecolor": "white",
             "minorgridcolor": "white",
             "startlinecolor": "#2a3f5f"
            },
            "baxis": {
             "endlinecolor": "#2a3f5f",
             "gridcolor": "white",
             "linecolor": "white",
             "minorgridcolor": "white",
             "startlinecolor": "#2a3f5f"
            },
            "type": "carpet"
           }
          ],
          "choropleth": [
           {
            "colorbar": {
             "outlinewidth": 0,
             "ticks": ""
            },
            "type": "choropleth"
           }
          ],
          "contour": [
           {
            "colorbar": {
             "outlinewidth": 0,
             "ticks": ""
            },
            "colorscale": [
             [
              0,
              "#0d0887"
             ],
             [
              0.1111111111111111,
              "#46039f"
             ],
             [
              0.2222222222222222,
              "#7201a8"
             ],
             [
              0.3333333333333333,
              "#9c179e"
             ],
             [
              0.4444444444444444,
              "#bd3786"
             ],
             [
              0.5555555555555556,
              "#d8576b"
             ],
             [
              0.6666666666666666,
              "#ed7953"
             ],
             [
              0.7777777777777778,
              "#fb9f3a"
             ],
             [
              0.8888888888888888,
              "#fdca26"
             ],
             [
              1,
              "#f0f921"
             ]
            ],
            "type": "contour"
           }
          ],
          "contourcarpet": [
           {
            "colorbar": {
             "outlinewidth": 0,
             "ticks": ""
            },
            "type": "contourcarpet"
           }
          ],
          "heatmap": [
           {
            "colorbar": {
             "outlinewidth": 0,
             "ticks": ""
            },
            "colorscale": [
             [
              0,
              "#0d0887"
             ],
             [
              0.1111111111111111,
              "#46039f"
             ],
             [
              0.2222222222222222,
              "#7201a8"
             ],
             [
              0.3333333333333333,
              "#9c179e"
             ],
             [
              0.4444444444444444,
              "#bd3786"
             ],
             [
              0.5555555555555556,
              "#d8576b"
             ],
             [
              0.6666666666666666,
              "#ed7953"
             ],
             [
              0.7777777777777778,
              "#fb9f3a"
             ],
             [
              0.8888888888888888,
              "#fdca26"
             ],
             [
              1,
              "#f0f921"
             ]
            ],
            "type": "heatmap"
           }
          ],
          "heatmapgl": [
           {
            "colorbar": {
             "outlinewidth": 0,
             "ticks": ""
            },
            "colorscale": [
             [
              0,
              "#0d0887"
             ],
             [
              0.1111111111111111,
              "#46039f"
             ],
             [
              0.2222222222222222,
              "#7201a8"
             ],
             [
              0.3333333333333333,
              "#9c179e"
             ],
             [
              0.4444444444444444,
              "#bd3786"
             ],
             [
              0.5555555555555556,
              "#d8576b"
             ],
             [
              0.6666666666666666,
              "#ed7953"
             ],
             [
              0.7777777777777778,
              "#fb9f3a"
             ],
             [
              0.8888888888888888,
              "#fdca26"
             ],
             [
              1,
              "#f0f921"
             ]
            ],
            "type": "heatmapgl"
           }
          ],
          "histogram": [
           {
            "marker": {
             "pattern": {
              "fillmode": "overlay",
              "size": 10,
              "solidity": 0.2
             }
            },
            "type": "histogram"
           }
          ],
          "histogram2d": [
           {
            "colorbar": {
             "outlinewidth": 0,
             "ticks": ""
            },
            "colorscale": [
             [
              0,
              "#0d0887"
             ],
             [
              0.1111111111111111,
              "#46039f"
             ],
             [
              0.2222222222222222,
              "#7201a8"
             ],
             [
              0.3333333333333333,
              "#9c179e"
             ],
             [
              0.4444444444444444,
              "#bd3786"
             ],
             [
              0.5555555555555556,
              "#d8576b"
             ],
             [
              0.6666666666666666,
              "#ed7953"
             ],
             [
              0.7777777777777778,
              "#fb9f3a"
             ],
             [
              0.8888888888888888,
              "#fdca26"
             ],
             [
              1,
              "#f0f921"
             ]
            ],
            "type": "histogram2d"
           }
          ],
          "histogram2dcontour": [
           {
            "colorbar": {
             "outlinewidth": 0,
             "ticks": ""
            },
            "colorscale": [
             [
              0,
              "#0d0887"
             ],
             [
              0.1111111111111111,
              "#46039f"
             ],
             [
              0.2222222222222222,
              "#7201a8"
             ],
             [
              0.3333333333333333,
              "#9c179e"
             ],
             [
              0.4444444444444444,
              "#bd3786"
             ],
             [
              0.5555555555555556,
              "#d8576b"
             ],
             [
              0.6666666666666666,
              "#ed7953"
             ],
             [
              0.7777777777777778,
              "#fb9f3a"
             ],
             [
              0.8888888888888888,
              "#fdca26"
             ],
             [
              1,
              "#f0f921"
             ]
            ],
            "type": "histogram2dcontour"
           }
          ],
          "mesh3d": [
           {
            "colorbar": {
             "outlinewidth": 0,
             "ticks": ""
            },
            "type": "mesh3d"
           }
          ],
          "parcoords": [
           {
            "line": {
             "colorbar": {
              "outlinewidth": 0,
              "ticks": ""
             }
            },
            "type": "parcoords"
           }
          ],
          "pie": [
           {
            "automargin": true,
            "type": "pie"
           }
          ],
          "scatter": [
           {
            "fillpattern": {
             "fillmode": "overlay",
             "size": 10,
             "solidity": 0.2
            },
            "type": "scatter"
           }
          ],
          "scatter3d": [
           {
            "line": {
             "colorbar": {
              "outlinewidth": 0,
              "ticks": ""
             }
            },
            "marker": {
             "colorbar": {
              "outlinewidth": 0,
              "ticks": ""
             }
            },
            "type": "scatter3d"
           }
          ],
          "scattercarpet": [
           {
            "marker": {
             "colorbar": {
              "outlinewidth": 0,
              "ticks": ""
             }
            },
            "type": "scattercarpet"
           }
          ],
          "scattergeo": [
           {
            "marker": {
             "colorbar": {
              "outlinewidth": 0,
              "ticks": ""
             }
            },
            "type": "scattergeo"
           }
          ],
          "scattergl": [
           {
            "marker": {
             "colorbar": {
              "outlinewidth": 0,
              "ticks": ""
             }
            },
            "type": "scattergl"
           }
          ],
          "scattermapbox": [
           {
            "marker": {
             "colorbar": {
              "outlinewidth": 0,
              "ticks": ""
             }
            },
            "type": "scattermapbox"
           }
          ],
          "scatterpolar": [
           {
            "marker": {
             "colorbar": {
              "outlinewidth": 0,
              "ticks": ""
             }
            },
            "type": "scatterpolar"
           }
          ],
          "scatterpolargl": [
           {
            "marker": {
             "colorbar": {
              "outlinewidth": 0,
              "ticks": ""
             }
            },
            "type": "scatterpolargl"
           }
          ],
          "scatterternary": [
           {
            "marker": {
             "colorbar": {
              "outlinewidth": 0,
              "ticks": ""
             }
            },
            "type": "scatterternary"
           }
          ],
          "surface": [
           {
            "colorbar": {
             "outlinewidth": 0,
             "ticks": ""
            },
            "colorscale": [
             [
              0,
              "#0d0887"
             ],
             [
              0.1111111111111111,
              "#46039f"
             ],
             [
              0.2222222222222222,
              "#7201a8"
             ],
             [
              0.3333333333333333,
              "#9c179e"
             ],
             [
              0.4444444444444444,
              "#bd3786"
             ],
             [
              0.5555555555555556,
              "#d8576b"
             ],
             [
              0.6666666666666666,
              "#ed7953"
             ],
             [
              0.7777777777777778,
              "#fb9f3a"
             ],
             [
              0.8888888888888888,
              "#fdca26"
             ],
             [
              1,
              "#f0f921"
             ]
            ],
            "type": "surface"
           }
          ],
          "table": [
           {
            "cells": {
             "fill": {
              "color": "#EBF0F8"
             },
             "line": {
              "color": "white"
             }
            },
            "header": {
             "fill": {
              "color": "#C8D4E3"
             },
             "line": {
              "color": "white"
             }
            },
            "type": "table"
           }
          ]
         },
         "layout": {
          "annotationdefaults": {
           "arrowcolor": "#2a3f5f",
           "arrowhead": 0,
           "arrowwidth": 1
          },
          "autotypenumbers": "strict",
          "coloraxis": {
           "colorbar": {
            "outlinewidth": 0,
            "ticks": ""
           }
          },
          "colorscale": {
           "diverging": [
            [
             0,
             "#8e0152"
            ],
            [
             0.1,
             "#c51b7d"
            ],
            [
             0.2,
             "#de77ae"
            ],
            [
             0.3,
             "#f1b6da"
            ],
            [
             0.4,
             "#fde0ef"
            ],
            [
             0.5,
             "#f7f7f7"
            ],
            [
             0.6,
             "#e6f5d0"
            ],
            [
             0.7,
             "#b8e186"
            ],
            [
             0.8,
             "#7fbc41"
            ],
            [
             0.9,
             "#4d9221"
            ],
            [
             1,
             "#276419"
            ]
           ],
           "sequential": [
            [
             0,
             "#0d0887"
            ],
            [
             0.1111111111111111,
             "#46039f"
            ],
            [
             0.2222222222222222,
             "#7201a8"
            ],
            [
             0.3333333333333333,
             "#9c179e"
            ],
            [
             0.4444444444444444,
             "#bd3786"
            ],
            [
             0.5555555555555556,
             "#d8576b"
            ],
            [
             0.6666666666666666,
             "#ed7953"
            ],
            [
             0.7777777777777778,
             "#fb9f3a"
            ],
            [
             0.8888888888888888,
             "#fdca26"
            ],
            [
             1,
             "#f0f921"
            ]
           ],
           "sequentialminus": [
            [
             0,
             "#0d0887"
            ],
            [
             0.1111111111111111,
             "#46039f"
            ],
            [
             0.2222222222222222,
             "#7201a8"
            ],
            [
             0.3333333333333333,
             "#9c179e"
            ],
            [
             0.4444444444444444,
             "#bd3786"
            ],
            [
             0.5555555555555556,
             "#d8576b"
            ],
            [
             0.6666666666666666,
             "#ed7953"
            ],
            [
             0.7777777777777778,
             "#fb9f3a"
            ],
            [
             0.8888888888888888,
             "#fdca26"
            ],
            [
             1,
             "#f0f921"
            ]
           ]
          },
          "colorway": [
           "#636efa",
           "#EF553B",
           "#00cc96",
           "#ab63fa",
           "#FFA15A",
           "#19d3f3",
           "#FF6692",
           "#B6E880",
           "#FF97FF",
           "#FECB52"
          ],
          "font": {
           "color": "#2a3f5f"
          },
          "geo": {
           "bgcolor": "white",
           "lakecolor": "white",
           "landcolor": "#E5ECF6",
           "showlakes": true,
           "showland": true,
           "subunitcolor": "white"
          },
          "hoverlabel": {
           "align": "left"
          },
          "hovermode": "closest",
          "mapbox": {
           "style": "light"
          },
          "paper_bgcolor": "white",
          "plot_bgcolor": "#E5ECF6",
          "polar": {
           "angularaxis": {
            "gridcolor": "white",
            "linecolor": "white",
            "ticks": ""
           },
           "bgcolor": "#E5ECF6",
           "radialaxis": {
            "gridcolor": "white",
            "linecolor": "white",
            "ticks": ""
           }
          },
          "scene": {
           "xaxis": {
            "backgroundcolor": "#E5ECF6",
            "gridcolor": "white",
            "gridwidth": 2,
            "linecolor": "white",
            "showbackground": true,
            "ticks": "",
            "zerolinecolor": "white"
           },
           "yaxis": {
            "backgroundcolor": "#E5ECF6",
            "gridcolor": "white",
            "gridwidth": 2,
            "linecolor": "white",
            "showbackground": true,
            "ticks": "",
            "zerolinecolor": "white"
           },
           "zaxis": {
            "backgroundcolor": "#E5ECF6",
            "gridcolor": "white",
            "gridwidth": 2,
            "linecolor": "white",
            "showbackground": true,
            "ticks": "",
            "zerolinecolor": "white"
           }
          },
          "shapedefaults": {
           "line": {
            "color": "#2a3f5f"
           }
          },
          "ternary": {
           "aaxis": {
            "gridcolor": "white",
            "linecolor": "white",
            "ticks": ""
           },
           "baxis": {
            "gridcolor": "white",
            "linecolor": "white",
            "ticks": ""
           },
           "bgcolor": "#E5ECF6",
           "caxis": {
            "gridcolor": "white",
            "linecolor": "white",
            "ticks": ""
           }
          },
          "title": {
           "x": 0.05
          },
          "xaxis": {
           "automargin": true,
           "gridcolor": "white",
           "linecolor": "white",
           "ticks": "",
           "title": {
            "standoff": 15
           },
           "zerolinecolor": "white",
           "zerolinewidth": 2
          },
          "yaxis": {
           "automargin": true,
           "gridcolor": "white",
           "linecolor": "white",
           "ticks": "",
           "title": {
            "standoff": 15
           },
           "zerolinecolor": "white",
           "zerolinewidth": 2
          }
         }
        },
        "title": {
         "text": "Meilleures Destinations et Hôtels Recommandés"
        },
        "updatemenus": [
         {
          "active": 0,
          "buttons": [
           {
            "args": [
             {
              "visible": [
               true,
               false,
               false,
               false,
               false,
               false,
               false,
               false,
               false,
               false,
               false,
               false,
               false,
               false,
               false,
               false,
               false,
               false,
               false,
               false,
               false,
               false,
               false,
               false,
               false,
               false,
               false,
               false,
               false,
               false,
               false,
               false,
               false,
               false,
               false,
               false
              ]
             },
             {
              "mapbox.center": {
               "lat": 45.84118360428571,
               "lon": 3.3965435055534723
              },
              "mapbox.zoom": 4.5
             }
            ],
            "label": "Meilleures destinations",
            "method": "update"
           },
           {
            "args": [
             {
              "visible": [
               false,
               true,
               false,
               false,
               false,
               false,
               false,
               false,
               false,
               false,
               false,
               false,
               false,
               false,
               false,
               false,
               false,
               false,
               false,
               false,
               false,
               false,
               false,
               false,
               false,
               false,
               false,
               false,
               false,
               false,
               false,
               false,
               false,
               false,
               false,
               false
              ]
             },
             {
              "mapbox.center": {
               "lat": 45.1875602,
               "lon": 5.7357819
              },
              "mapbox.zoom": 11,
              "title.text": "Carte des meilleurs hôtels à Grenoble"
             }
            ],
            "label": "1: Grenoble",
            "method": "update"
           },
           {
            "args": [
             {
              "visible": [
               false,
               false,
               true,
               false,
               false,
               false,
               false,
               false,
               false,
               false,
               false,
               false,
               false,
               false,
               false,
               false,
               false,
               false,
               false,
               false,
               false,
               false,
               false,
               false,
               false,
               false,
               false,
               false,
               false,
               false,
               false,
               false,
               false,
               false,
               false,
               false
              ]
             },
             {
              "mapbox.center": {
               "lat": 43.6044622,
               "lon": 1.4442469
              },
              "mapbox.zoom": 11,
              "title.text": "Carte des meilleurs hôtels à Toulouse"
             }
            ],
            "label": "2: Toulouse",
            "method": "update"
           },
           {
            "args": [
             {
              "visible": [
               false,
               false,
               false,
               true,
               false,
               false,
               false,
               false,
               false,
               false,
               false,
               false,
               false,
               false,
               false,
               false,
               false,
               false,
               false,
               false,
               false,
               false,
               false,
               false,
               false,
               false,
               false,
               false,
               false,
               false,
               false,
               false,
               false,
               false,
               false,
               false
              ]
             },
             {
              "mapbox.center": {
               "lat": 44.0175835,
               "lon": 1.3549991
              },
              "mapbox.zoom": 11,
              "title.text": "Carte des meilleurs hôtels à Montauban"
             }
            ],
            "label": "3: Montauban",
            "method": "update"
           },
           {
            "args": [
             {
              "visible": [
               false,
               false,
               false,
               false,
               true,
               false,
               false,
               false,
               false,
               false,
               false,
               false,
               false,
               false,
               false,
               false,
               false,
               false,
               false,
               false,
               false,
               false,
               false,
               false,
               false,
               false,
               false,
               false,
               false,
               false,
               false,
               false,
               false,
               false,
               false,
               false
              ]
             },
             {
              "mapbox.center": {
               "lat": 48.6359541,
               "lon": -1.511459954959514
              },
              "mapbox.zoom": 11,
              "title.text": "Carte des meilleurs hôtels à Mont Saint Michel"
             }
            ],
            "label": "4: Mont Saint Michel",
            "method": "update"
           },
           {
            "args": [
             {
              "visible": [
               false,
               false,
               false,
               false,
               false,
               true,
               false,
               false,
               false,
               false,
               false,
               false,
               false,
               false,
               false,
               false,
               false,
               false,
               false,
               false,
               false,
               false,
               false,
               false,
               false,
               false,
               false,
               false,
               false,
               false,
               false,
               false,
               false,
               false,
               false,
               false
              ]
             },
             {
              "mapbox.center": {
               "lat": 49.4404591,
               "lon": 1.0939658
              },
              "mapbox.zoom": 11,
              "title.text": "Carte des meilleurs hôtels à Rouen"
             }
            ],
            "label": "5: Rouen",
            "method": "update"
           }
          ]
         }
        ],
        "width": 800
       }
      }
     },
     "metadata": {},
     "output_type": "display_data"
    }
   ],
   "source": [
    "fig = go.Figure()\n",
    "\n",
    "# Meilleures destinations\n",
    "fig.add_trace(\n",
    "    go.Scattermapbox(\n",
    "        lat=meteo_top.head()[\"Latitude\"],\n",
    "        lon=meteo_top.head()[\"Longitude\"],\n",
    "        text=meteo_top.head()[\"Destination\"],\n",
    "        mode=\"markers+text\",\n",
    "        textfont=dict(color=\"blue\", size=12), \n",
    "        marker=go.scattermapbox.Marker(size=10, \n",
    "                                       color=\"blue\"),\n",
    "        textposition=\"middle right\",\n",
    "        hovertemplate=\"<b>%{text}</b> <br>Latitude: %{lat}<br>Longitude: %{lon}\",\n",
    "        visible=True\n",
    "    )\n",
    ")\n",
    "\n",
    "visibility_list = [True]\n",
    "trace_count = 1\n",
    "\n",
    "# Meilleurs hôtels\n",
    "for i in meteo_top[\"Id\"]:\n",
    "    hotel_subset = hotels[hotels[\"id_destination\"] == i]\n",
    "\n",
    "    fig.add_trace(\n",
    "        go.Scattermapbox(\n",
    "            lat=hotel_subset[\"latitude\"],\n",
    "            lon=hotel_subset[\"longitude\"],\n",
    "            mode=\"markers\",\n",
    "            marker=go.scattermapbox.Marker(size=8, \n",
    "                                           color=\"blue\"),\n",
    "            text=hotel_subset[\"nom\"],\n",
    "            textposition=\"top center\",\n",
    "            customdata=hotel_subset[\"score\"],\n",
    "            hovertemplate=\"<b>%{text}</b><br>Note : %{customdata}\",\n",
    "            visible=False\n",
    "        )\n",
    "    )\n",
    "    visibility_list.append(False)\n",
    "    trace_count += 1\n",
    "\n",
    "# Création des boutons pour la mise à jour\n",
    "buttons = [\n",
    "    go.layout.updatemenu.Button(\n",
    "        label=\"Meilleures destinations\",\n",
    "        method=\"update\",\n",
    "        args=[{\"visible\": visibility_list},\n",
    "              {\"mapbox.center\": {\"lat\": meteo_top[\"Latitude\"].mean(), \"lon\": meteo_top[\"Longitude\"].mean()},\n",
    "               \"mapbox.zoom\": 4.5}]\n",
    "    )\n",
    "]\n",
    "\n",
    "for i in range(5):\n",
    "    vis = [False] * trace_count\n",
    "    vis[i + 1] = True\n",
    "    buttons.append(\n",
    "        go.layout.updatemenu.Button(\n",
    "            label=f\"{i+1}: \" + meteo_top.loc[i, \"Destination\"],\n",
    "            method=\"update\",\n",
    "            args=[{\"visible\": vis},\n",
    "                  {\"mapbox.center\": {\"lat\": meteo_top.loc[i, \"Latitude\"], \"lon\": meteo_top.loc[i, \"Longitude\"]},\n",
    "                   \"mapbox.zoom\": 11,\n",
    "                   \"title.text\": f\"Carte des meilleurs hôtels à {meteo_top.loc[i, 'Destination']}\"},\n",
    "                  ]\n",
    "        )\n",
    "    )\n",
    "\n",
    "# Mise à jour de la disposition avec le centre initial\n",
    "fig.update_layout(\n",
    "    mapbox=dict(\n",
    "        style=\"carto-positron\",\n",
    "        center=dict(\n",
    "            lat=meteo_top[\"Latitude\"].mean(),\n",
    "            lon=meteo_top[\"Longitude\"].mean()\n",
    "        ),\n",
    "        zoom=4.5\n",
    "    ),\n",
    "    updatemenus=[\n",
    "        go.layout.Updatemenu(\n",
    "            active=0,\n",
    "            buttons=buttons\n",
    "        )\n",
    "    ],\n",
    "    title=\"Meilleures Destinations et Hôtels Recommandés\",\n",
    "    width=800,  \n",
    "    height=600\n",
    ")\n",
    "\n",
    "fig.show()\n"
   ]
  }
 ],
 "metadata": {
  "kernelspec": {
   "display_name": "Python 3",
   "language": "python",
   "name": "python3"
  },
  "language_info": {
   "codemirror_mode": {
    "name": "ipython",
    "version": 3
   },
   "file_extension": ".py",
   "mimetype": "text/x-python",
   "name": "python",
   "nbconvert_exporter": "python",
   "pygments_lexer": "ipython3",
   "version": "3.12.6"
  }
 },
 "nbformat": 4,
 "nbformat_minor": 2
}
